{
 "cells": [
  {
   "cell_type": "markdown",
   "metadata": {},
   "source": [
    "<h2>Repayment of Loan:</h2>\n",
    "<p>This file contains the code for finding the Multivariate Outliers and various techniques which are used to compute those multivariate outliers. Further, data modelling is also present where we train the data on various Machine Learning Algorithms and predict whether a customer who has taken loan from the Bannk can repay it or not on time. We have also use used SMOTE (Synthetic Minority Oversampling Technique) in order to deal with the unbalanced data.</p>"
   ]
  },
  {
   "cell_type": "code",
   "execution_count": 1,
   "metadata": {},
   "outputs": [],
   "source": [
    "# Importing numpy, pandas, matplotlib and seaborn :\n",
    "import numpy as np\n",
    "import pandas as pd\n",
    "import matplotlib.pyplot as plt\n",
    "import seaborn as sns\n",
    "\n",
    "# for handling the warnings:\n",
    "import sys\n",
    "import warnings\n",
    "\n",
    "if not sys.warnoptions:\n",
    "    warnings.simplefilter(\"ignore\")"
   ]
  },
  {
   "cell_type": "code",
   "execution_count": 2,
   "metadata": {},
   "outputs": [
    {
     "data": {
      "text/html": [
       "<div>\n",
       "<style scoped>\n",
       "    .dataframe tbody tr th:only-of-type {\n",
       "        vertical-align: middle;\n",
       "    }\n",
       "\n",
       "    .dataframe tbody tr th {\n",
       "        vertical-align: top;\n",
       "    }\n",
       "\n",
       "    .dataframe thead th {\n",
       "        text-align: right;\n",
       "    }\n",
       "</style>\n",
       "<table border=\"1\" class=\"dataframe\">\n",
       "  <thead>\n",
       "    <tr style=\"text-align: right;\">\n",
       "      <th></th>\n",
       "      <th>Unnamed: 0</th>\n",
       "      <th>log.installment</th>\n",
       "      <th>fico</th>\n",
       "      <th>purpose_credit_card</th>\n",
       "      <th>revol.util</th>\n",
       "      <th>log.days.with.cr.line</th>\n",
       "      <th>poss.getting.loan</th>\n",
       "      <th>loan.info</th>\n",
       "      <th>purpose_educational</th>\n",
       "      <th>log.annual.inc</th>\n",
       "      <th>...</th>\n",
       "      <th>dti</th>\n",
       "      <th>fico.to.delinq.2yrs</th>\n",
       "      <th>pub.rec_0</th>\n",
       "      <th>purpose_major_purchase</th>\n",
       "      <th>inq.last.6mths</th>\n",
       "      <th>revol.bal.to.annual.income</th>\n",
       "      <th>purpose_small_business</th>\n",
       "      <th>pub.rec_1</th>\n",
       "      <th>credit.value</th>\n",
       "      <th>target</th>\n",
       "    </tr>\n",
       "  </thead>\n",
       "  <tbody>\n",
       "    <tr>\n",
       "      <th>0</th>\n",
       "      <td>0</td>\n",
       "      <td>0.964137</td>\n",
       "      <td>0.581395</td>\n",
       "      <td>0</td>\n",
       "      <td>0.437815</td>\n",
       "      <td>0.657017</td>\n",
       "      <td>0.000000</td>\n",
       "      <td>0.344562</td>\n",
       "      <td>0</td>\n",
       "      <td>0.613398</td>\n",
       "      <td>...</td>\n",
       "      <td>0.650200</td>\n",
       "      <td>0.214168</td>\n",
       "      <td>1</td>\n",
       "      <td>0</td>\n",
       "      <td>0.000000</td>\n",
       "      <td>0.092885</td>\n",
       "      <td>0</td>\n",
       "      <td>0</td>\n",
       "      <td>0.311832</td>\n",
       "      <td>1</td>\n",
       "    </tr>\n",
       "    <tr>\n",
       "      <th>1</th>\n",
       "      <td>1</td>\n",
       "      <td>0.596533</td>\n",
       "      <td>0.441860</td>\n",
       "      <td>1</td>\n",
       "      <td>0.644538</td>\n",
       "      <td>0.442095</td>\n",
       "      <td>0.000000</td>\n",
       "      <td>0.121045</td>\n",
       "      <td>0</td>\n",
       "      <td>0.540672</td>\n",
       "      <td>...</td>\n",
       "      <td>0.476969</td>\n",
       "      <td>0.155318</td>\n",
       "      <td>1</td>\n",
       "      <td>0</td>\n",
       "      <td>0.000000</td>\n",
       "      <td>0.141540</td>\n",
       "      <td>0</td>\n",
       "      <td>0</td>\n",
       "      <td>0.146674</td>\n",
       "      <td>1</td>\n",
       "    </tr>\n",
       "    <tr>\n",
       "      <th>2</th>\n",
       "      <td>2</td>\n",
       "      <td>0.731655</td>\n",
       "      <td>0.325581</td>\n",
       "      <td>0</td>\n",
       "      <td>0.215126</td>\n",
       "      <td>0.602824</td>\n",
       "      <td>0.007038</td>\n",
       "      <td>0.412307</td>\n",
       "      <td>0</td>\n",
       "      <td>0.348557</td>\n",
       "      <td>...</td>\n",
       "      <td>0.388184</td>\n",
       "      <td>0.070230</td>\n",
       "      <td>1</td>\n",
       "      <td>0</td>\n",
       "      <td>0.030303</td>\n",
       "      <td>0.030022</td>\n",
       "      <td>0</td>\n",
       "      <td>0</td>\n",
       "      <td>0.258501</td>\n",
       "      <td>1</td>\n",
       "    </tr>\n",
       "    <tr>\n",
       "      <th>3</th>\n",
       "      <td>3</td>\n",
       "      <td>0.499738</td>\n",
       "      <td>0.465116</td>\n",
       "      <td>0</td>\n",
       "      <td>0.615126</td>\n",
       "      <td>0.435482</td>\n",
       "      <td>0.009768</td>\n",
       "      <td>0.064113</td>\n",
       "      <td>0</td>\n",
       "      <td>0.613398</td>\n",
       "      <td>...</td>\n",
       "      <td>0.270360</td>\n",
       "      <td>0.206675</td>\n",
       "      <td>1</td>\n",
       "      <td>0</td>\n",
       "      <td>0.030303</td>\n",
       "      <td>0.108378</td>\n",
       "      <td>0</td>\n",
       "      <td>0</td>\n",
       "      <td>0.143231</td>\n",
       "      <td>1</td>\n",
       "    </tr>\n",
       "    <tr>\n",
       "      <th>4</th>\n",
       "      <td>4</td>\n",
       "      <td>0.370560</td>\n",
       "      <td>0.255814</td>\n",
       "      <td>1</td>\n",
       "      <td>0.331933</td>\n",
       "      <td>0.558606</td>\n",
       "      <td>0.000000</td>\n",
       "      <td>0.043559</td>\n",
       "      <td>0</td>\n",
       "      <td>0.599660</td>\n",
       "      <td>...</td>\n",
       "      <td>0.499666</td>\n",
       "      <td>0.088294</td>\n",
       "      <td>1</td>\n",
       "      <td>0</td>\n",
       "      <td>0.000000</td>\n",
       "      <td>0.016052</td>\n",
       "      <td>0</td>\n",
       "      <td>0</td>\n",
       "      <td>0.104954</td>\n",
       "      <td>1</td>\n",
       "    </tr>\n",
       "  </tbody>\n",
       "</table>\n",
       "<p>5 rows × 22 columns</p>\n",
       "</div>"
      ],
      "text/plain": [
       "   Unnamed: 0  log.installment      fico  purpose_credit_card  revol.util  \\\n",
       "0           0         0.964137  0.581395                    0    0.437815   \n",
       "1           1         0.596533  0.441860                    1    0.644538   \n",
       "2           2         0.731655  0.325581                    0    0.215126   \n",
       "3           3         0.499738  0.465116                    0    0.615126   \n",
       "4           4         0.370560  0.255814                    1    0.331933   \n",
       "\n",
       "   log.days.with.cr.line  poss.getting.loan  loan.info  purpose_educational  \\\n",
       "0               0.657017           0.000000   0.344562                    0   \n",
       "1               0.442095           0.000000   0.121045                    0   \n",
       "2               0.602824           0.007038   0.412307                    0   \n",
       "3               0.435482           0.009768   0.064113                    0   \n",
       "4               0.558606           0.000000   0.043559                    0   \n",
       "\n",
       "   log.annual.inc  ...       dti  fico.to.delinq.2yrs  pub.rec_0  \\\n",
       "0        0.613398  ...  0.650200             0.214168          1   \n",
       "1        0.540672  ...  0.476969             0.155318          1   \n",
       "2        0.348557  ...  0.388184             0.070230          1   \n",
       "3        0.613398  ...  0.270360             0.206675          1   \n",
       "4        0.599660  ...  0.499666             0.088294          1   \n",
       "\n",
       "   purpose_major_purchase  inq.last.6mths  revol.bal.to.annual.income  \\\n",
       "0                       0        0.000000                    0.092885   \n",
       "1                       0        0.000000                    0.141540   \n",
       "2                       0        0.030303                    0.030022   \n",
       "3                       0        0.030303                    0.108378   \n",
       "4                       0        0.000000                    0.016052   \n",
       "\n",
       "   purpose_small_business  pub.rec_1  credit.value  target  \n",
       "0                       0          0      0.311832       1  \n",
       "1                       0          0      0.146674       1  \n",
       "2                       0          0      0.258501       1  \n",
       "3                       0          0      0.143231       1  \n",
       "4                       0          0      0.104954       1  \n",
       "\n",
       "[5 rows x 22 columns]"
      ]
     },
     "execution_count": 2,
     "metadata": {},
     "output_type": "execute_result"
    }
   ],
   "source": [
    "# importing data:\n",
    "orig_data = pd.read_csv('Final Data for Modelling.csv')\n",
    "orig_data.head()"
   ]
  },
  {
   "cell_type": "code",
   "execution_count": 3,
   "metadata": {},
   "outputs": [],
   "source": [
    "# creating the independent and dependent features:\n",
    "orig_data_copy = orig_data.copy() # creating a copy of the data\n",
    "y_target = orig_data_copy['target']\n",
    "x_encoded = orig_data_copy.drop(['target', 'Unnamed: 0'], axis=1)"
   ]
  },
  {
   "cell_type": "code",
   "execution_count": 4,
   "metadata": {},
   "outputs": [
    {
     "data": {
      "text/html": [
       "<div>\n",
       "<style scoped>\n",
       "    .dataframe tbody tr th:only-of-type {\n",
       "        vertical-align: middle;\n",
       "    }\n",
       "\n",
       "    .dataframe tbody tr th {\n",
       "        vertical-align: top;\n",
       "    }\n",
       "\n",
       "    .dataframe thead th {\n",
       "        text-align: right;\n",
       "    }\n",
       "</style>\n",
       "<table border=\"1\" class=\"dataframe\">\n",
       "  <thead>\n",
       "    <tr style=\"text-align: right;\">\n",
       "      <th></th>\n",
       "      <th>log.installment</th>\n",
       "      <th>fico</th>\n",
       "      <th>purpose_credit_card</th>\n",
       "      <th>revol.util</th>\n",
       "      <th>log.days.with.cr.line</th>\n",
       "      <th>poss.getting.loan</th>\n",
       "      <th>loan.info</th>\n",
       "      <th>purpose_educational</th>\n",
       "      <th>log.annual.inc</th>\n",
       "      <th>credit.policy</th>\n",
       "      <th>log.int.rate</th>\n",
       "      <th>dti</th>\n",
       "      <th>fico.to.delinq.2yrs</th>\n",
       "      <th>pub.rec_0</th>\n",
       "      <th>purpose_major_purchase</th>\n",
       "      <th>inq.last.6mths</th>\n",
       "      <th>revol.bal.to.annual.income</th>\n",
       "      <th>purpose_small_business</th>\n",
       "      <th>pub.rec_1</th>\n",
       "      <th>credit.value</th>\n",
       "    </tr>\n",
       "  </thead>\n",
       "  <tbody>\n",
       "    <tr>\n",
       "      <th>0</th>\n",
       "      <td>0.964137</td>\n",
       "      <td>0.581395</td>\n",
       "      <td>0</td>\n",
       "      <td>0.437815</td>\n",
       "      <td>0.657017</td>\n",
       "      <td>0.000000</td>\n",
       "      <td>0.344562</td>\n",
       "      <td>0</td>\n",
       "      <td>0.613398</td>\n",
       "      <td>1</td>\n",
       "      <td>0.419943</td>\n",
       "      <td>0.650200</td>\n",
       "      <td>0.214168</td>\n",
       "      <td>1</td>\n",
       "      <td>0</td>\n",
       "      <td>0.000000</td>\n",
       "      <td>0.092885</td>\n",
       "      <td>0</td>\n",
       "      <td>0</td>\n",
       "      <td>0.311832</td>\n",
       "    </tr>\n",
       "    <tr>\n",
       "      <th>1</th>\n",
       "      <td>0.596533</td>\n",
       "      <td>0.441860</td>\n",
       "      <td>1</td>\n",
       "      <td>0.644538</td>\n",
       "      <td>0.442095</td>\n",
       "      <td>0.000000</td>\n",
       "      <td>0.121045</td>\n",
       "      <td>0</td>\n",
       "      <td>0.540672</td>\n",
       "      <td>1</td>\n",
       "      <td>0.337611</td>\n",
       "      <td>0.476969</td>\n",
       "      <td>0.155318</td>\n",
       "      <td>1</td>\n",
       "      <td>0</td>\n",
       "      <td>0.000000</td>\n",
       "      <td>0.141540</td>\n",
       "      <td>0</td>\n",
       "      <td>0</td>\n",
       "      <td>0.146674</td>\n",
       "    </tr>\n",
       "    <tr>\n",
       "      <th>2</th>\n",
       "      <td>0.731655</td>\n",
       "      <td>0.325581</td>\n",
       "      <td>0</td>\n",
       "      <td>0.215126</td>\n",
       "      <td>0.602824</td>\n",
       "      <td>0.007038</td>\n",
       "      <td>0.412307</td>\n",
       "      <td>0</td>\n",
       "      <td>0.348557</td>\n",
       "      <td>1</td>\n",
       "      <td>0.535675</td>\n",
       "      <td>0.388184</td>\n",
       "      <td>0.070230</td>\n",
       "      <td>1</td>\n",
       "      <td>0</td>\n",
       "      <td>0.030303</td>\n",
       "      <td>0.030022</td>\n",
       "      <td>0</td>\n",
       "      <td>0</td>\n",
       "      <td>0.258501</td>\n",
       "    </tr>\n",
       "    <tr>\n",
       "      <th>3</th>\n",
       "      <td>0.499738</td>\n",
       "      <td>0.465116</td>\n",
       "      <td>0</td>\n",
       "      <td>0.615126</td>\n",
       "      <td>0.435482</td>\n",
       "      <td>0.009768</td>\n",
       "      <td>0.064113</td>\n",
       "      <td>0</td>\n",
       "      <td>0.613398</td>\n",
       "      <td>1</td>\n",
       "      <td>0.293294</td>\n",
       "      <td>0.270360</td>\n",
       "      <td>0.206675</td>\n",
       "      <td>1</td>\n",
       "      <td>0</td>\n",
       "      <td>0.030303</td>\n",
       "      <td>0.108378</td>\n",
       "      <td>0</td>\n",
       "      <td>0</td>\n",
       "      <td>0.143231</td>\n",
       "    </tr>\n",
       "    <tr>\n",
       "      <th>4</th>\n",
       "      <td>0.370560</td>\n",
       "      <td>0.255814</td>\n",
       "      <td>1</td>\n",
       "      <td>0.331933</td>\n",
       "      <td>0.558606</td>\n",
       "      <td>0.000000</td>\n",
       "      <td>0.043559</td>\n",
       "      <td>0</td>\n",
       "      <td>0.599660</td>\n",
       "      <td>1</td>\n",
       "      <td>0.582712</td>\n",
       "      <td>0.499666</td>\n",
       "      <td>0.088294</td>\n",
       "      <td>1</td>\n",
       "      <td>0</td>\n",
       "      <td>0.000000</td>\n",
       "      <td>0.016052</td>\n",
       "      <td>0</td>\n",
       "      <td>0</td>\n",
       "      <td>0.104954</td>\n",
       "    </tr>\n",
       "  </tbody>\n",
       "</table>\n",
       "</div>"
      ],
      "text/plain": [
       "   log.installment      fico  purpose_credit_card  revol.util  \\\n",
       "0         0.964137  0.581395                    0    0.437815   \n",
       "1         0.596533  0.441860                    1    0.644538   \n",
       "2         0.731655  0.325581                    0    0.215126   \n",
       "3         0.499738  0.465116                    0    0.615126   \n",
       "4         0.370560  0.255814                    1    0.331933   \n",
       "\n",
       "   log.days.with.cr.line  poss.getting.loan  loan.info  purpose_educational  \\\n",
       "0               0.657017           0.000000   0.344562                    0   \n",
       "1               0.442095           0.000000   0.121045                    0   \n",
       "2               0.602824           0.007038   0.412307                    0   \n",
       "3               0.435482           0.009768   0.064113                    0   \n",
       "4               0.558606           0.000000   0.043559                    0   \n",
       "\n",
       "   log.annual.inc  credit.policy  log.int.rate       dti  fico.to.delinq.2yrs  \\\n",
       "0        0.613398              1      0.419943  0.650200             0.214168   \n",
       "1        0.540672              1      0.337611  0.476969             0.155318   \n",
       "2        0.348557              1      0.535675  0.388184             0.070230   \n",
       "3        0.613398              1      0.293294  0.270360             0.206675   \n",
       "4        0.599660              1      0.582712  0.499666             0.088294   \n",
       "\n",
       "   pub.rec_0  purpose_major_purchase  inq.last.6mths  \\\n",
       "0          1                       0        0.000000   \n",
       "1          1                       0        0.000000   \n",
       "2          1                       0        0.030303   \n",
       "3          1                       0        0.030303   \n",
       "4          1                       0        0.000000   \n",
       "\n",
       "   revol.bal.to.annual.income  purpose_small_business  pub.rec_1  credit.value  \n",
       "0                    0.092885                       0          0      0.311832  \n",
       "1                    0.141540                       0          0      0.146674  \n",
       "2                    0.030022                       0          0      0.258501  \n",
       "3                    0.108378                       0          0      0.143231  \n",
       "4                    0.016052                       0          0      0.104954  "
      ]
     },
     "execution_count": 4,
     "metadata": {},
     "output_type": "execute_result"
    }
   ],
   "source": [
    "x_encoded.head()"
   ]
  },
  {
   "cell_type": "markdown",
   "metadata": {},
   "source": [
    "<h3>Checking for Correlated Features among the best chosen Features:</h3>"
   ]
  },
  {
   "cell_type": "code",
   "execution_count": 5,
   "metadata": {},
   "outputs": [
    {
     "data": {
      "text/html": [
       "<div>\n",
       "<style scoped>\n",
       "    .dataframe tbody tr th:only-of-type {\n",
       "        vertical-align: middle;\n",
       "    }\n",
       "\n",
       "    .dataframe tbody tr th {\n",
       "        vertical-align: top;\n",
       "    }\n",
       "\n",
       "    .dataframe thead th {\n",
       "        text-align: right;\n",
       "    }\n",
       "</style>\n",
       "<table border=\"1\" class=\"dataframe\">\n",
       "  <thead>\n",
       "    <tr style=\"text-align: right;\">\n",
       "      <th></th>\n",
       "      <th>Feature-1</th>\n",
       "      <th>Feature-2</th>\n",
       "      <th>Correlation</th>\n",
       "    </tr>\n",
       "  </thead>\n",
       "  <tbody>\n",
       "    <tr>\n",
       "      <th>0</th>\n",
       "      <td>log.days.with.cr.line</td>\n",
       "      <td>credit.value</td>\n",
       "      <td>0.841143</td>\n",
       "    </tr>\n",
       "    <tr>\n",
       "      <th>1</th>\n",
       "      <td>log.annual.inc</td>\n",
       "      <td>fico.to.delinq.2yrs</td>\n",
       "      <td>0.836255</td>\n",
       "    </tr>\n",
       "    <tr>\n",
       "      <th>2</th>\n",
       "      <td>fico.to.delinq.2yrs</td>\n",
       "      <td>log.annual.inc</td>\n",
       "      <td>0.836255</td>\n",
       "    </tr>\n",
       "    <tr>\n",
       "      <th>3</th>\n",
       "      <td>credit.value</td>\n",
       "      <td>log.days.with.cr.line</td>\n",
       "      <td>0.841143</td>\n",
       "    </tr>\n",
       "  </tbody>\n",
       "</table>\n",
       "</div>"
      ],
      "text/plain": [
       "               Feature-1              Feature-2  Correlation\n",
       "0  log.days.with.cr.line           credit.value     0.841143\n",
       "1         log.annual.inc    fico.to.delinq.2yrs     0.836255\n",
       "2    fico.to.delinq.2yrs         log.annual.inc     0.836255\n",
       "3           credit.value  log.days.with.cr.line     0.841143"
      ]
     },
     "execution_count": 5,
     "metadata": {},
     "output_type": "execute_result"
    }
   ],
   "source": [
    "# highly correlated independent features with thresholded correlation>0.6:\n",
    "correlation_table = x_encoded.corr()\n",
    "highly_correlated_feats = []\n",
    "all_feats = list(correlation_table.columns)\n",
    "for idx_row in range(len(correlation_table)):\n",
    "    for idx_column in range(len(correlation_table)):\n",
    "        if (idx_row != idx_column):\n",
    "            corr_value = correlation_table.iloc[idx_row, idx_column] \n",
    "            if (corr_value > 0.6):\n",
    "                info_to_add = (all_feats[idx_row], all_feats[idx_column], corr_value)\n",
    "                highly_correlated_feats.append(info_to_add)\n",
    "            else:\n",
    "                continue\n",
    "        else:\n",
    "            continue\n",
    "\n",
    "# Creating a table for features whose correlation is relly high:\n",
    "corr_feats_table = pd.DataFrame(highly_correlated_feats, columns=['Feature-1', 'Feature-2', 'Correlation'])\n",
    "corr_feats_table"
   ]
  },
  {
   "cell_type": "code",
   "execution_count": 6,
   "metadata": {},
   "outputs": [
    {
     "data": {
      "text/plain": [
       "['log.installment',\n",
       " 'fico',\n",
       " 'purpose_credit_card',\n",
       " 'revol.util',\n",
       " 'poss.getting.loan',\n",
       " 'loan.info',\n",
       " 'purpose_educational',\n",
       " 'credit.policy',\n",
       " 'log.int.rate',\n",
       " 'dti',\n",
       " 'fico.to.delinq.2yrs',\n",
       " 'pub.rec_0',\n",
       " 'purpose_major_purchase',\n",
       " 'inq.last.6mths',\n",
       " 'revol.bal.to.annual.income',\n",
       " 'purpose_small_business',\n",
       " 'pub.rec_1',\n",
       " 'credit.value']"
      ]
     },
     "execution_count": 6,
     "metadata": {},
     "output_type": "execute_result"
    }
   ],
   "source": [
    "# to drop feats:\n",
    "current_feats = list(x_encoded.columns)\n",
    "to_drop_feats = ['log.annual.inc', 'log.days.with.cr.line']\n",
    "for feat in to_drop_feats:\n",
    "    current_feats.remove(feat)\n",
    "current_feats"
   ]
  },
  {
   "cell_type": "code",
   "execution_count": 7,
   "metadata": {},
   "outputs": [
    {
     "data": {
      "text/html": [
       "<div>\n",
       "<style scoped>\n",
       "    .dataframe tbody tr th:only-of-type {\n",
       "        vertical-align: middle;\n",
       "    }\n",
       "\n",
       "    .dataframe tbody tr th {\n",
       "        vertical-align: top;\n",
       "    }\n",
       "\n",
       "    .dataframe thead th {\n",
       "        text-align: right;\n",
       "    }\n",
       "</style>\n",
       "<table border=\"1\" class=\"dataframe\">\n",
       "  <thead>\n",
       "    <tr style=\"text-align: right;\">\n",
       "      <th></th>\n",
       "      <th>log.installment</th>\n",
       "      <th>fico</th>\n",
       "      <th>purpose_credit_card</th>\n",
       "      <th>revol.util</th>\n",
       "      <th>poss.getting.loan</th>\n",
       "      <th>loan.info</th>\n",
       "      <th>purpose_educational</th>\n",
       "      <th>credit.policy</th>\n",
       "      <th>log.int.rate</th>\n",
       "      <th>dti</th>\n",
       "      <th>fico.to.delinq.2yrs</th>\n",
       "      <th>pub.rec_0</th>\n",
       "      <th>purpose_major_purchase</th>\n",
       "      <th>inq.last.6mths</th>\n",
       "      <th>revol.bal.to.annual.income</th>\n",
       "      <th>purpose_small_business</th>\n",
       "      <th>pub.rec_1</th>\n",
       "      <th>credit.value</th>\n",
       "    </tr>\n",
       "  </thead>\n",
       "  <tbody>\n",
       "    <tr>\n",
       "      <th>0</th>\n",
       "      <td>0.964137</td>\n",
       "      <td>0.581395</td>\n",
       "      <td>0</td>\n",
       "      <td>0.437815</td>\n",
       "      <td>0.000000</td>\n",
       "      <td>0.344562</td>\n",
       "      <td>0</td>\n",
       "      <td>1</td>\n",
       "      <td>0.419943</td>\n",
       "      <td>0.650200</td>\n",
       "      <td>0.214168</td>\n",
       "      <td>1</td>\n",
       "      <td>0</td>\n",
       "      <td>0.000000</td>\n",
       "      <td>0.092885</td>\n",
       "      <td>0</td>\n",
       "      <td>0</td>\n",
       "      <td>0.311832</td>\n",
       "    </tr>\n",
       "    <tr>\n",
       "      <th>1</th>\n",
       "      <td>0.596533</td>\n",
       "      <td>0.441860</td>\n",
       "      <td>1</td>\n",
       "      <td>0.644538</td>\n",
       "      <td>0.000000</td>\n",
       "      <td>0.121045</td>\n",
       "      <td>0</td>\n",
       "      <td>1</td>\n",
       "      <td>0.337611</td>\n",
       "      <td>0.476969</td>\n",
       "      <td>0.155318</td>\n",
       "      <td>1</td>\n",
       "      <td>0</td>\n",
       "      <td>0.000000</td>\n",
       "      <td>0.141540</td>\n",
       "      <td>0</td>\n",
       "      <td>0</td>\n",
       "      <td>0.146674</td>\n",
       "    </tr>\n",
       "    <tr>\n",
       "      <th>2</th>\n",
       "      <td>0.731655</td>\n",
       "      <td>0.325581</td>\n",
       "      <td>0</td>\n",
       "      <td>0.215126</td>\n",
       "      <td>0.007038</td>\n",
       "      <td>0.412307</td>\n",
       "      <td>0</td>\n",
       "      <td>1</td>\n",
       "      <td>0.535675</td>\n",
       "      <td>0.388184</td>\n",
       "      <td>0.070230</td>\n",
       "      <td>1</td>\n",
       "      <td>0</td>\n",
       "      <td>0.030303</td>\n",
       "      <td>0.030022</td>\n",
       "      <td>0</td>\n",
       "      <td>0</td>\n",
       "      <td>0.258501</td>\n",
       "    </tr>\n",
       "    <tr>\n",
       "      <th>3</th>\n",
       "      <td>0.499738</td>\n",
       "      <td>0.465116</td>\n",
       "      <td>0</td>\n",
       "      <td>0.615126</td>\n",
       "      <td>0.009768</td>\n",
       "      <td>0.064113</td>\n",
       "      <td>0</td>\n",
       "      <td>1</td>\n",
       "      <td>0.293294</td>\n",
       "      <td>0.270360</td>\n",
       "      <td>0.206675</td>\n",
       "      <td>1</td>\n",
       "      <td>0</td>\n",
       "      <td>0.030303</td>\n",
       "      <td>0.108378</td>\n",
       "      <td>0</td>\n",
       "      <td>0</td>\n",
       "      <td>0.143231</td>\n",
       "    </tr>\n",
       "    <tr>\n",
       "      <th>4</th>\n",
       "      <td>0.370560</td>\n",
       "      <td>0.255814</td>\n",
       "      <td>1</td>\n",
       "      <td>0.331933</td>\n",
       "      <td>0.000000</td>\n",
       "      <td>0.043559</td>\n",
       "      <td>0</td>\n",
       "      <td>1</td>\n",
       "      <td>0.582712</td>\n",
       "      <td>0.499666</td>\n",
       "      <td>0.088294</td>\n",
       "      <td>1</td>\n",
       "      <td>0</td>\n",
       "      <td>0.000000</td>\n",
       "      <td>0.016052</td>\n",
       "      <td>0</td>\n",
       "      <td>0</td>\n",
       "      <td>0.104954</td>\n",
       "    </tr>\n",
       "    <tr>\n",
       "      <th>...</th>\n",
       "      <td>...</td>\n",
       "      <td>...</td>\n",
       "      <td>...</td>\n",
       "      <td>...</td>\n",
       "      <td>...</td>\n",
       "      <td>...</td>\n",
       "      <td>...</td>\n",
       "      <td>...</td>\n",
       "      <td>...</td>\n",
       "      <td>...</td>\n",
       "      <td>...</td>\n",
       "      <td>...</td>\n",
       "      <td>...</td>\n",
       "      <td>...</td>\n",
       "      <td>...</td>\n",
       "      <td>...</td>\n",
       "      <td>...</td>\n",
       "      <td>...</td>\n",
       "    </tr>\n",
       "    <tr>\n",
       "      <th>9573</th>\n",
       "      <td>0.713957</td>\n",
       "      <td>0.279070</td>\n",
       "      <td>0</td>\n",
       "      <td>0.689916</td>\n",
       "      <td>0.015608</td>\n",
       "      <td>0.061466</td>\n",
       "      <td>0</td>\n",
       "      <td>0</td>\n",
       "      <td>0.606463</td>\n",
       "      <td>0.346796</td>\n",
       "      <td>0.455333</td>\n",
       "      <td>1</td>\n",
       "      <td>0</td>\n",
       "      <td>0.060606</td>\n",
       "      <td>0.302212</td>\n",
       "      <td>0</td>\n",
       "      <td>0</td>\n",
       "      <td>0.589051</td>\n",
       "    </tr>\n",
       "    <tr>\n",
       "      <th>9574</th>\n",
       "      <td>0.631094</td>\n",
       "      <td>0.511628</td>\n",
       "      <td>0</td>\n",
       "      <td>0.009244</td>\n",
       "      <td>0.367309</td>\n",
       "      <td>0.131067</td>\n",
       "      <td>0</td>\n",
       "      <td>0</td>\n",
       "      <td>0.464235</td>\n",
       "      <td>0.007009</td>\n",
       "      <td>0.168939</td>\n",
       "      <td>1</td>\n",
       "      <td>0</td>\n",
       "      <td>0.151515</td>\n",
       "      <td>0.000730</td>\n",
       "      <td>0</td>\n",
       "      <td>0</td>\n",
       "      <td>0.239577</td>\n",
       "    </tr>\n",
       "    <tr>\n",
       "      <th>9575</th>\n",
       "      <td>0.356156</td>\n",
       "      <td>0.348837</td>\n",
       "      <td>0</td>\n",
       "      <td>0.696639</td>\n",
       "      <td>0.050469</td>\n",
       "      <td>0.083828</td>\n",
       "      <td>0</td>\n",
       "      <td>0</td>\n",
       "      <td>0.337611</td>\n",
       "      <td>0.436916</td>\n",
       "      <td>0.090174</td>\n",
       "      <td>1</td>\n",
       "      <td>0</td>\n",
       "      <td>0.242424</td>\n",
       "      <td>0.068653</td>\n",
       "      <td>0</td>\n",
       "      <td>0</td>\n",
       "      <td>0.186246</td>\n",
       "    </tr>\n",
       "    <tr>\n",
       "      <th>9576</th>\n",
       "      <td>0.719536</td>\n",
       "      <td>0.372093</td>\n",
       "      <td>0</td>\n",
       "      <td>0.026891</td>\n",
       "      <td>0.022024</td>\n",
       "      <td>0.257127</td>\n",
       "      <td>0</td>\n",
       "      <td>0</td>\n",
       "      <td>0.700079</td>\n",
       "      <td>0.640187</td>\n",
       "      <td>0.115279</td>\n",
       "      <td>1</td>\n",
       "      <td>0</td>\n",
       "      <td>0.151515</td>\n",
       "      <td>0.000000</td>\n",
       "      <td>0</td>\n",
       "      <td>0</td>\n",
       "      <td>0.091621</td>\n",
       "    </tr>\n",
       "    <tr>\n",
       "      <th>9577</th>\n",
       "      <td>0.972389</td>\n",
       "      <td>0.558140</td>\n",
       "      <td>0</td>\n",
       "      <td>0.478992</td>\n",
       "      <td>0.030864</td>\n",
       "      <td>0.393958</td>\n",
       "      <td>0</td>\n",
       "      <td>0</td>\n",
       "      <td>0.559570</td>\n",
       "      <td>0.543391</td>\n",
       "      <td>0.194602</td>\n",
       "      <td>1</td>\n",
       "      <td>0</td>\n",
       "      <td>0.181818</td>\n",
       "      <td>0.132880</td>\n",
       "      <td>0</td>\n",
       "      <td>0</td>\n",
       "      <td>0.260222</td>\n",
       "    </tr>\n",
       "  </tbody>\n",
       "</table>\n",
       "<p>9578 rows × 18 columns</p>\n",
       "</div>"
      ],
      "text/plain": [
       "      log.installment      fico  purpose_credit_card  revol.util  \\\n",
       "0            0.964137  0.581395                    0    0.437815   \n",
       "1            0.596533  0.441860                    1    0.644538   \n",
       "2            0.731655  0.325581                    0    0.215126   \n",
       "3            0.499738  0.465116                    0    0.615126   \n",
       "4            0.370560  0.255814                    1    0.331933   \n",
       "...               ...       ...                  ...         ...   \n",
       "9573         0.713957  0.279070                    0    0.689916   \n",
       "9574         0.631094  0.511628                    0    0.009244   \n",
       "9575         0.356156  0.348837                    0    0.696639   \n",
       "9576         0.719536  0.372093                    0    0.026891   \n",
       "9577         0.972389  0.558140                    0    0.478992   \n",
       "\n",
       "      poss.getting.loan  loan.info  purpose_educational  credit.policy  \\\n",
       "0              0.000000   0.344562                    0              1   \n",
       "1              0.000000   0.121045                    0              1   \n",
       "2              0.007038   0.412307                    0              1   \n",
       "3              0.009768   0.064113                    0              1   \n",
       "4              0.000000   0.043559                    0              1   \n",
       "...                 ...        ...                  ...            ...   \n",
       "9573           0.015608   0.061466                    0              0   \n",
       "9574           0.367309   0.131067                    0              0   \n",
       "9575           0.050469   0.083828                    0              0   \n",
       "9576           0.022024   0.257127                    0              0   \n",
       "9577           0.030864   0.393958                    0              0   \n",
       "\n",
       "      log.int.rate       dti  fico.to.delinq.2yrs  pub.rec_0  \\\n",
       "0         0.419943  0.650200             0.214168          1   \n",
       "1         0.337611  0.476969             0.155318          1   \n",
       "2         0.535675  0.388184             0.070230          1   \n",
       "3         0.293294  0.270360             0.206675          1   \n",
       "4         0.582712  0.499666             0.088294          1   \n",
       "...            ...       ...                  ...        ...   \n",
       "9573      0.606463  0.346796             0.455333          1   \n",
       "9574      0.464235  0.007009             0.168939          1   \n",
       "9575      0.337611  0.436916             0.090174          1   \n",
       "9576      0.700079  0.640187             0.115279          1   \n",
       "9577      0.559570  0.543391             0.194602          1   \n",
       "\n",
       "      purpose_major_purchase  inq.last.6mths  revol.bal.to.annual.income  \\\n",
       "0                          0        0.000000                    0.092885   \n",
       "1                          0        0.000000                    0.141540   \n",
       "2                          0        0.030303                    0.030022   \n",
       "3                          0        0.030303                    0.108378   \n",
       "4                          0        0.000000                    0.016052   \n",
       "...                      ...             ...                         ...   \n",
       "9573                       0        0.060606                    0.302212   \n",
       "9574                       0        0.151515                    0.000730   \n",
       "9575                       0        0.242424                    0.068653   \n",
       "9576                       0        0.151515                    0.000000   \n",
       "9577                       0        0.181818                    0.132880   \n",
       "\n",
       "      purpose_small_business  pub.rec_1  credit.value  \n",
       "0                          0          0      0.311832  \n",
       "1                          0          0      0.146674  \n",
       "2                          0          0      0.258501  \n",
       "3                          0          0      0.143231  \n",
       "4                          0          0      0.104954  \n",
       "...                      ...        ...           ...  \n",
       "9573                       0          0      0.589051  \n",
       "9574                       0          0      0.239577  \n",
       "9575                       0          0      0.186246  \n",
       "9576                       0          0      0.091621  \n",
       "9577                       0          0      0.260222  \n",
       "\n",
       "[9578 rows x 18 columns]"
      ]
     },
     "execution_count": 7,
     "metadata": {},
     "output_type": "execute_result"
    }
   ],
   "source": [
    "# updating the important features:\n",
    "x_encoded = x_encoded[current_feats]\n",
    "x_encoded"
   ]
  },
  {
   "cell_type": "markdown",
   "metadata": {},
   "source": [
    "<h2>Multivariate Outliers:</h2>"
   ]
  },
  {
   "cell_type": "code",
   "execution_count": 8,
   "metadata": {},
   "outputs": [
    {
     "data": {
      "text/plain": [
       "array([0.2194255 , 0.15000172, 0.13380983, 0.11069751, 0.08315571])"
      ]
     },
     "execution_count": 8,
     "metadata": {},
     "output_type": "execute_result"
    }
   ],
   "source": [
    "# for visualizing outliers in 2D graph:\n",
    "from sklearn.decomposition import PCA\n",
    "pca = PCA(n_components=5)\n",
    "red_x_encoded = pca.fit_transform(x_encoded)\n",
    "\n",
    "# Variance explained by each principal component:\n",
    "pca.explained_variance_ratio_"
   ]
  },
  {
   "cell_type": "markdown",
   "metadata": {},
   "source": [
    "<h3>1) Mahalanobis Distance:</h3>"
   ]
  },
  {
   "cell_type": "code",
   "execution_count": 9,
   "metadata": {},
   "outputs": [],
   "source": [
    "# function which computes the mahalanobis distance for each data point:\n",
    "def mahalanobis_distance(data):\n",
    "    \n",
    "    # computing the mean of each feature and aligning the features in the right way:\n",
    "    x = np.transpose(data.values) # to get all the feature's value in each vector.\n",
    "    means = np.mean(x, axis=1).reshape(len(data.columns), 1) # compute mean of each of the feature and reshape it\n",
    "    \n",
    "    # computing the terms required:\n",
    "    x_minus_mu = x-means\n",
    "    inv_cov_mat = np.linalg.inv(np.cov(x))\n",
    "    left_side = np.dot(np.transpose(x_minus_mu), inv_cov_mat)\n",
    "    maha_dist_matrix = np.dot(left_side, x_minus_mu)\n",
    "    return maha_dist_matrix.diagonal()"
   ]
  },
  {
   "cell_type": "code",
   "execution_count": 10,
   "metadata": {},
   "outputs": [
    {
     "data": {
      "text/plain": [
       "array([ 5.31880917, 10.46783059,  8.19603234, ..., 17.78211512,\n",
       "       15.13765279, 13.55987945])"
      ]
     },
     "execution_count": 10,
     "metadata": {},
     "output_type": "execute_result"
    }
   ],
   "source": [
    "# mahalanobis distance for each data point:\n",
    "maha_distance = mahalanobis_distance(x_encoded)\n",
    "maha_distance"
   ]
  },
  {
   "cell_type": "code",
   "execution_count": 11,
   "metadata": {},
   "outputs": [
    {
     "data": {
      "text/plain": [
       "Text(0.5, 1.0, 'Distribution of Log of Mahalanobis Distance')"
      ]
     },
     "execution_count": 11,
     "metadata": {},
     "output_type": "execute_result"
    },
    {
     "data": {
      "image/png": "[encoded data removed]",
      "text/plain": [
       "<Figure size 1080x432 with 2 Axes>"
      ]
     },
     "metadata": {
      "needs_background": "light"
     },
     "output_type": "display_data"
    }
   ],
   "source": [
    "# distribution of maha_distance:\n",
    "fig, (ax1, ax2) = plt.subplots(1, 2, figsize=(15, 6))\n",
    "\n",
    "# First plot:\n",
    "sns.distplot(maha_distance, ax=ax1)\n",
    "ax1.grid(True, alpha=0.3)\n",
    "ax1.set_title('Distribution of Mahalanobis Distance', fontsize=15)\n",
    "\n",
    "# First plot:\n",
    "sns.distplot(np.log(maha_distance), ax=ax2)\n",
    "ax2.grid(True, alpha=0.3)\n",
    "ax2.set_title('Distribution of Log of Mahalanobis Distance', fontsize=15)"
   ]
  },
  {
   "cell_type": "markdown",
   "metadata": {},
   "source": [
    "<h3>Observations from Mahalanobis Distance:</h3>\n",
    "<p>\n",
    "<ol>\n",
    "    <li>Most of the data points have mahalanobis distance less than 50. These points are the inliers.</li>\n",
    "    <li>The distribution seems to be that of Chi-Square Distribution.</li>\n",
    "    <li>Log of Mahalanobis Distance is plotted to have a look at whether it is Gaussian Distribution or not and then we can raise the outliers based upon the mechanism of Gaussian Distribution.</li>\n",
    "    <li><strong>Since, Chi-sqaure test is only used when the population is normally distributed, thus we won't be using this technique. Further, we would be moving ahead with the <code>log-of-mahalanobis-distance</code></strong></li>\n",
    " </ol>\n",
    "</p>"
   ]
  },
  {
   "cell_type": "code",
   "execution_count": 12,
   "metadata": {},
   "outputs": [],
   "source": [
    "# log of maha distance is approximately normally distributed, thus outliers can easily be rasied:\n",
    "log_maha_distance = np.log(maha_distance)"
   ]
  },
  {
   "cell_type": "code",
   "execution_count": 13,
   "metadata": {},
   "outputs": [],
   "source": [
    "# graphical interpretation of log-maha-distance:\n",
    "def graphical_inter_num_feature(data, num_feature, upper_thresh, lower_thresh, max_height):\n",
    "    fig, (ax1, ax2) = plt.subplots(1, 2, figsize=(12, 5))\n",
    "    \n",
    "    # probability distribution of numerical feature:\n",
    "    sns.distplot(data[num_feature], ax=ax1, color='darkred')\n",
    "    ax1.vlines(upper_thresh, ymax=max_height, ymin=0, color='black', linewidth=2)\n",
    "    ax1.vlines(lower_thresh, ymax=max_height, ymin=0, color='black', linewidth=2)\n",
    "    ax1.fill_betweenx(y= np.linspace(0, max_height, len(data[num_feature])), x1=lower_thresh, x2=upper_thresh, color='yellow', alpha=0.3)\n",
    "    ax1.set_title('PDF of '+num_feature)\n",
    "    ax1.grid(True, alpha=0.4)\n",
    "    \n",
    "    # boxplots to investigate outliers:\n",
    "    sns.boxplot(y=num_feature, data=data, ax=ax2)\n",
    "    ax2.set_title('Boxplot of '+num_feature)\n",
    "    ax2.grid(True, alpha=0.4)\n",
    "    \n",
    "# outliers based upon mahalanobis distance:\n",
    "def outliers_zscore(data, num_feature, max_height=0.7):\n",
    "    mean = np.mean(data[num_feature])\n",
    "    std_dev = np.std(data[num_feature])\n",
    "    data['z_score'+num_feature] = (data[num_feature]-mean)/std_dev\n",
    "    print('Mean --> ', mean)\n",
    "    print('Median --> ', np.percentile(data[num_feature], 50))\n",
    "    print('Standard Deviation --> ', std_dev)\n",
    "    \n",
    "    # computing those indexes whose z_score > 3:\n",
    "    right_outliers_data = data[data['z_score'+num_feature] > 3]\n",
    "    left_outliers_data = data[data['z_score'+num_feature] < -3]\n",
    "    \n",
    "    # assigning the mahalanobis outliers:\n",
    "    data['maha_outliers'] = np.where(data['z_score'+num_feature] > 3, -1, 1)\n",
    "    data['maha_outliers'] = np.where(data['z_score'+num_feature] < -3, -1, data['maha_outliers'])\n",
    "    \n",
    "    # combining the outliers:\n",
    "    final_outliers_data = pd.concat([right_outliers_data, left_outliers_data])\n",
    "    print('Proportion of Outlier Data: ', (len(final_outliers_data)/len(data))*100, '%')\n",
    "    index_pos = list(final_outliers_data.index)\n",
    "    \n",
    "    # threshold value i.e. value at 3rd standard deviation:\n",
    "    left_stddev_3 = -3*std_dev + mean\n",
    "    right_stddev_3 = 3*std_dev + mean\n",
    "    graphical_inter_num_feature(data, num_feature, right_stddev_3, left_stddev_3, max_height)\n",
    "    return index_pos"
   ]
  },
  {
   "cell_type": "code",
   "execution_count": 14,
   "metadata": {
    "scrolled": false
   },
   "outputs": [
    {
     "data": {
      "text/html": [
       "<div>\n",
       "<style scoped>\n",
       "    .dataframe tbody tr th:only-of-type {\n",
       "        vertical-align: middle;\n",
       "    }\n",
       "\n",
       "    .dataframe tbody tr th {\n",
       "        vertical-align: top;\n",
       "    }\n",
       "\n",
       "    .dataframe thead th {\n",
       "        text-align: right;\n",
       "    }\n",
       "</style>\n",
       "<table border=\"1\" class=\"dataframe\">\n",
       "  <thead>\n",
       "    <tr style=\"text-align: right;\">\n",
       "      <th></th>\n",
       "      <th>Unnamed: 0</th>\n",
       "      <th>log.installment</th>\n",
       "      <th>fico</th>\n",
       "      <th>purpose_credit_card</th>\n",
       "      <th>revol.util</th>\n",
       "      <th>log.days.with.cr.line</th>\n",
       "      <th>poss.getting.loan</th>\n",
       "      <th>loan.info</th>\n",
       "      <th>purpose_educational</th>\n",
       "      <th>log.annual.inc</th>\n",
       "      <th>...</th>\n",
       "      <th>fico.to.delinq.2yrs</th>\n",
       "      <th>pub.rec_0</th>\n",
       "      <th>purpose_major_purchase</th>\n",
       "      <th>inq.last.6mths</th>\n",
       "      <th>revol.bal.to.annual.income</th>\n",
       "      <th>purpose_small_business</th>\n",
       "      <th>pub.rec_1</th>\n",
       "      <th>credit.value</th>\n",
       "      <th>target</th>\n",
       "      <th>log_maha_distance</th>\n",
       "    </tr>\n",
       "  </thead>\n",
       "  <tbody>\n",
       "    <tr>\n",
       "      <th>0</th>\n",
       "      <td>0</td>\n",
       "      <td>0.964137</td>\n",
       "      <td>0.581395</td>\n",
       "      <td>0</td>\n",
       "      <td>0.437815</td>\n",
       "      <td>0.657017</td>\n",
       "      <td>0.000000</td>\n",
       "      <td>0.344562</td>\n",
       "      <td>0</td>\n",
       "      <td>0.613398</td>\n",
       "      <td>...</td>\n",
       "      <td>0.214168</td>\n",
       "      <td>1</td>\n",
       "      <td>0</td>\n",
       "      <td>0.000000</td>\n",
       "      <td>0.092885</td>\n",
       "      <td>0</td>\n",
       "      <td>0</td>\n",
       "      <td>0.311832</td>\n",
       "      <td>1</td>\n",
       "      <td>1.671249</td>\n",
       "    </tr>\n",
       "    <tr>\n",
       "      <th>1</th>\n",
       "      <td>1</td>\n",
       "      <td>0.596533</td>\n",
       "      <td>0.441860</td>\n",
       "      <td>1</td>\n",
       "      <td>0.644538</td>\n",
       "      <td>0.442095</td>\n",
       "      <td>0.000000</td>\n",
       "      <td>0.121045</td>\n",
       "      <td>0</td>\n",
       "      <td>0.540672</td>\n",
       "      <td>...</td>\n",
       "      <td>0.155318</td>\n",
       "      <td>1</td>\n",
       "      <td>0</td>\n",
       "      <td>0.000000</td>\n",
       "      <td>0.141540</td>\n",
       "      <td>0</td>\n",
       "      <td>0</td>\n",
       "      <td>0.146674</td>\n",
       "      <td>1</td>\n",
       "      <td>2.348307</td>\n",
       "    </tr>\n",
       "    <tr>\n",
       "      <th>2</th>\n",
       "      <td>2</td>\n",
       "      <td>0.731655</td>\n",
       "      <td>0.325581</td>\n",
       "      <td>0</td>\n",
       "      <td>0.215126</td>\n",
       "      <td>0.602824</td>\n",
       "      <td>0.007038</td>\n",
       "      <td>0.412307</td>\n",
       "      <td>0</td>\n",
       "      <td>0.348557</td>\n",
       "      <td>...</td>\n",
       "      <td>0.070230</td>\n",
       "      <td>1</td>\n",
       "      <td>0</td>\n",
       "      <td>0.030303</td>\n",
       "      <td>0.030022</td>\n",
       "      <td>0</td>\n",
       "      <td>0</td>\n",
       "      <td>0.258501</td>\n",
       "      <td>1</td>\n",
       "      <td>2.103650</td>\n",
       "    </tr>\n",
       "    <tr>\n",
       "      <th>3</th>\n",
       "      <td>3</td>\n",
       "      <td>0.499738</td>\n",
       "      <td>0.465116</td>\n",
       "      <td>0</td>\n",
       "      <td>0.615126</td>\n",
       "      <td>0.435482</td>\n",
       "      <td>0.009768</td>\n",
       "      <td>0.064113</td>\n",
       "      <td>0</td>\n",
       "      <td>0.613398</td>\n",
       "      <td>...</td>\n",
       "      <td>0.206675</td>\n",
       "      <td>1</td>\n",
       "      <td>0</td>\n",
       "      <td>0.030303</td>\n",
       "      <td>0.108378</td>\n",
       "      <td>0</td>\n",
       "      <td>0</td>\n",
       "      <td>0.143231</td>\n",
       "      <td>1</td>\n",
       "      <td>1.887298</td>\n",
       "    </tr>\n",
       "    <tr>\n",
       "      <th>4</th>\n",
       "      <td>4</td>\n",
       "      <td>0.370560</td>\n",
       "      <td>0.255814</td>\n",
       "      <td>1</td>\n",
       "      <td>0.331933</td>\n",
       "      <td>0.558606</td>\n",
       "      <td>0.000000</td>\n",
       "      <td>0.043559</td>\n",
       "      <td>0</td>\n",
       "      <td>0.599660</td>\n",
       "      <td>...</td>\n",
       "      <td>0.088294</td>\n",
       "      <td>1</td>\n",
       "      <td>0</td>\n",
       "      <td>0.000000</td>\n",
       "      <td>0.016052</td>\n",
       "      <td>0</td>\n",
       "      <td>0</td>\n",
       "      <td>0.104954</td>\n",
       "      <td>1</td>\n",
       "      <td>2.632186</td>\n",
       "    </tr>\n",
       "  </tbody>\n",
       "</table>\n",
       "<p>5 rows × 23 columns</p>\n",
       "</div>"
      ],
      "text/plain": [
       "   Unnamed: 0  log.installment      fico  purpose_credit_card  revol.util  \\\n",
       "0           0         0.964137  0.581395                    0    0.437815   \n",
       "1           1         0.596533  0.441860                    1    0.644538   \n",
       "2           2         0.731655  0.325581                    0    0.215126   \n",
       "3           3         0.499738  0.465116                    0    0.615126   \n",
       "4           4         0.370560  0.255814                    1    0.331933   \n",
       "\n",
       "   log.days.with.cr.line  poss.getting.loan  loan.info  purpose_educational  \\\n",
       "0               0.657017           0.000000   0.344562                    0   \n",
       "1               0.442095           0.000000   0.121045                    0   \n",
       "2               0.602824           0.007038   0.412307                    0   \n",
       "3               0.435482           0.009768   0.064113                    0   \n",
       "4               0.558606           0.000000   0.043559                    0   \n",
       "\n",
       "   log.annual.inc  ...  fico.to.delinq.2yrs  pub.rec_0  \\\n",
       "0        0.613398  ...             0.214168          1   \n",
       "1        0.540672  ...             0.155318          1   \n",
       "2        0.348557  ...             0.070230          1   \n",
       "3        0.613398  ...             0.206675          1   \n",
       "4        0.599660  ...             0.088294          1   \n",
       "\n",
       "   purpose_major_purchase  inq.last.6mths  revol.bal.to.annual.income  \\\n",
       "0                       0        0.000000                    0.092885   \n",
       "1                       0        0.000000                    0.141540   \n",
       "2                       0        0.030303                    0.030022   \n",
       "3                       0        0.030303                    0.108378   \n",
       "4                       0        0.000000                    0.016052   \n",
       "\n",
       "   purpose_small_business  pub.rec_1  credit.value  target  log_maha_distance  \n",
       "0                       0          0      0.311832       1           1.671249  \n",
       "1                       0          0      0.146674       1           2.348307  \n",
       "2                       0          0      0.258501       1           2.103650  \n",
       "3                       0          0      0.143231       1           1.887298  \n",
       "4                       0          0      0.104954       1           2.632186  \n",
       "\n",
       "[5 rows x 23 columns]"
      ]
     },
     "execution_count": 14,
     "metadata": {},
     "output_type": "execute_result"
    }
   ],
   "source": [
    "# creating the feature of log_maha_distance:\n",
    "# orig_data_copy = orig_data_copy.drop(['Unnamed: 0'], axis=1)\n",
    "orig_data_copy['log_maha_distance'] = log_maha_distance\n",
    "orig_data_copy.head()"
   ]
  },
  {
   "cell_type": "code",
   "execution_count": 15,
   "metadata": {},
   "outputs": [
    {
     "name": "stdout",
     "output_type": "stream",
     "text": [
      "Mean -->  2.5362537756252443\n",
      "Median -->  2.4662855877320125\n",
      "Standard Deviation -->  0.7643783283088079\n",
      "Proportion of Outlier Data:  0.6473167675923992 %\n",
      "Number of Outliers based upon Mahalanobis Distance --> 62\n"
     ]
    },
    {
     "data": {
      "image/png": "[encoded data removed]",
      "text/plain": [
       "<Figure size 864x360 with 2 Axes>"
      ]
     },
     "metadata": {
      "needs_background": "light"
     },
     "output_type": "display_data"
    }
   ],
   "source": [
    "# finding the outliers based upon z-score:\n",
    "index_outliers_maha = outliers_zscore(orig_data_copy, 'log_maha_distance', 0.6)\n",
    "print('Number of Outliers based upon Mahalanobis Distance -->', len(index_outliers_maha))"
   ]
  },
  {
   "cell_type": "code",
   "execution_count": 16,
   "metadata": {},
   "outputs": [
    {
     "data": {
      "text/plain": [
       "Text(0.5, 1.0, 'Mahalanobis Outliers')"
      ]
     },
     "execution_count": 16,
     "metadata": {},
     "output_type": "execute_result"
    },
    {
     "data": {
      "image/png": "[encoded data removed]",
      "text/plain": [
       "<Figure size 864x432 with 1 Axes>"
      ]
     },
     "metadata": {
      "needs_background": "light"
     },
     "output_type": "display_data"
    }
   ],
   "source": [
    "# plotting the mahalanobis outliers:\n",
    "plt.figure(figsize=(12, 6))\n",
    "plt.scatter(red_x_encoded[:, 0], red_x_encoded[:, 1], c=orig_data_copy['maha_outliers'], cmap='rainbow')\n",
    "plt.grid(True, alpha=0.3)\n",
    "plt.title('Mahalanobis Outliers', fontsize=15)"
   ]
  },
  {
   "cell_type": "markdown",
   "metadata": {},
   "source": [
    "<h3>Observation:</h3>\n",
    "<p>\n",
    "<ol>\n",
    "    <li>Since mean and median remains almost the same, hence we can say the data is normally distributed.</li>\n",
    "    <li>There are 62 number of data points which have been raised as Multivariate Outliers.</li>\n",
    "    <li>The data point's index positions are stored in <code>index_outliers_maha</code> which have been flagged as outliers.</li>\n",
    "  </ol>\n",
    "</p>"
   ]
  },
  {
   "cell_type": "markdown",
   "metadata": {},
   "source": [
    "<h3>2) Isolation Forest:</h3>\n",
    "<p>Over here, several trees are grown where in each tree, a feature is randomly chosen alon with a randome split-value. Then, after the creation of trees, one by one the data points are passed through each of the trees and outliers tend to have shorter path length from the root node. Hence, in this way, a data point is flagged as an outlier.</p>"
   ]
  },
  {
   "cell_type": "code",
   "execution_count": 17,
   "metadata": {},
   "outputs": [],
   "source": [
    "from sklearn.ensemble import IsolationForest"
   ]
  },
  {
   "cell_type": "code",
   "execution_count": 18,
   "metadata": {},
   "outputs": [],
   "source": [
    "# flagging an outlier based upon the Isolation Forest Algorithm\n",
    "iso_forest = IsolationForest(random_state=42, n_estimators=1000, contamination=0.05).fit(x_encoded)\n",
    "iso_forest_pred = iso_forest.predict(x_encoded)\n",
    "orig_data_copy['iso_forest_outlier'] = iso_forest_pred"
   ]
  },
  {
   "cell_type": "code",
   "execution_count": 19,
   "metadata": {},
   "outputs": [
    {
     "name": "stdout",
     "output_type": "stream",
     "text": [
      "Number of Outliers flagged by Isolation forest --> 479\n",
      "Proportion of Outliers flagged by Isolation forest --> 5.0010440593025685 %\n"
     ]
    }
   ],
   "source": [
    "index_outliers_iso_forest = orig_data_copy[orig_data_copy['iso_forest_outlier']==-1].index\n",
    "print('Number of Outliers flagged by Isolation forest -->', len(index_outliers_iso_forest))\n",
    "print('Proportion of Outliers flagged by Isolation forest -->', (len(index_outliers_iso_forest)/len(x_encoded))*100, '%')"
   ]
  },
  {
   "cell_type": "markdown",
   "metadata": {},
   "source": [
    "<li><strong>A lot of data points are being flagged as outliers by Isolation Forest. Thus, we can keep these outliers data in a separate dataframe and remove them from the original training data i.e. <code>x_encoded</code>. Further, while training the model, we would try to model on both the data and see if the addition of these outliers data point results in deprication of the performance of model.</strong></li> "
   ]
  },
  {
   "cell_type": "code",
   "execution_count": 20,
   "metadata": {},
   "outputs": [
    {
     "data": {
      "text/plain": [
       "Text(0.5, 1.0, 'Isolation Forest Outliers')"
      ]
     },
     "execution_count": 20,
     "metadata": {},
     "output_type": "execute_result"
    },
    {
     "data": {
      "image/png": "[encoded data removed]",
      "text/plain": [
       "<Figure size 864x432 with 1 Axes>"
      ]
     },
     "metadata": {
      "needs_background": "light"
     },
     "output_type": "display_data"
    }
   ],
   "source": [
    "# plotting the isolation forest outliers:\n",
    "plt.figure(figsize=(12, 6))\n",
    "plt.scatter(red_x_encoded[:, 0], red_x_encoded[:, 1], c=orig_data_copy['iso_forest_outlier'], cmap='rainbow')\n",
    "plt.grid(True, alpha=0.3)\n",
    "plt.title('Isolation Forest Outliers', fontsize=15)"
   ]
  },
  {
   "cell_type": "markdown",
   "metadata": {},
   "source": [
    "<h3>3) Local Outlier Factor:</h3>\n",
    "<p>It computes Relative Density of a data point with respect to its k-neighbors. If the relative density is large, then the data point is situated well inside a concentrated region where as if relative density is less, then it means the data point is situated in a region far away from the concentrated region of data points.</p>"
   ]
  },
  {
   "cell_type": "code",
   "execution_count": 21,
   "metadata": {},
   "outputs": [],
   "source": [
    "from sklearn.neighbors import LocalOutlierFactor"
   ]
  },
  {
   "cell_type": "code",
   "execution_count": 22,
   "metadata": {},
   "outputs": [],
   "source": [
    "loc_outlier_fact_pred = LocalOutlierFactor().fit_predict(x_encoded)\n",
    "orig_data_copy['loc_outlier_fact'] = loc_outlier_fact_pred"
   ]
  },
  {
   "cell_type": "code",
   "execution_count": 23,
   "metadata": {
    "scrolled": true
   },
   "outputs": [
    {
     "data": {
      "text/plain": [
       "Int64Index([  99,  113,  187,  232,  312,  347,  453,  462,  533,  832,\n",
       "            ...\n",
       "            9348, 9362, 9369, 9386, 9404, 9458, 9462, 9492, 9493, 9529],\n",
       "           dtype='int64', length=176)"
      ]
     },
     "execution_count": 23,
     "metadata": {},
     "output_type": "execute_result"
    }
   ],
   "source": [
    "index_outliers_loc_outlier_fact = orig_data_copy[orig_data_copy['loc_outlier_fact']==-1].index\n",
    "index_outliers_loc_outlier_fact"
   ]
  },
  {
   "cell_type": "code",
   "execution_count": 24,
   "metadata": {},
   "outputs": [
    {
     "data": {
      "text/plain": [
       "Text(0.5, 1.0, 'Local Outlier Factor Outliers')"
      ]
     },
     "execution_count": 24,
     "metadata": {},
     "output_type": "execute_result"
    },
    {
     "data": {
      "image/png": "[encoded data removed]",
      "text/plain": [
       "<Figure size 864x432 with 1 Axes>"
      ]
     },
     "metadata": {
      "needs_background": "light"
     },
     "output_type": "display_data"
    }
   ],
   "source": [
    "# plotting the local outlier factor outliers:\n",
    "plt.figure(figsize=(12, 6))\n",
    "plt.scatter(red_x_encoded[:, 0], red_x_encoded[:, 1], c=orig_data_copy['loc_outlier_fact'], cmap='rainbow')\n",
    "plt.grid(True, alpha=0.3)\n",
    "plt.title('Local Outlier Factor Outliers', fontsize=15)"
   ]
  },
  {
   "cell_type": "markdown",
   "metadata": {},
   "source": [
    "<h3>Union of Outliers defined by the above 3 techniqes:</h3>"
   ]
  },
  {
   "cell_type": "code",
   "execution_count": 25,
   "metadata": {},
   "outputs": [
    {
     "name": "stdout",
     "output_type": "stream",
     "text": [
      "Total Number of Outliers --> 561\n"
     ]
    }
   ],
   "source": [
    "index_outliers_all = list(set(index_outliers_iso_forest).union(set(index_outliers_maha).union(set(index_outliers_loc_outlier_fact))))\n",
    "print('Total Number of Outliers -->', len(index_outliers_all))"
   ]
  },
  {
   "cell_type": "markdown",
   "metadata": {},
   "source": [
    "<h3>Outliers Data:</h3>"
   ]
  },
  {
   "cell_type": "code",
   "execution_count": 26,
   "metadata": {},
   "outputs": [],
   "source": [
    "# separating the outliers data and storing them in a separate variable:\n",
    "outliers_indep_feats = x_encoded.iloc[index_outliers_all, :]\n",
    "outliers_target_feat = y_target.iloc[index_outliers_all]"
   ]
  },
  {
   "cell_type": "code",
   "execution_count": 27,
   "metadata": {},
   "outputs": [],
   "source": [
    "# removing the data points raised as outliers:\n",
    "x_encoded = x_encoded.drop(index=index_outliers_all)\n",
    "y_target = y_target.drop(index=index_outliers_all)"
   ]
  },
  {
   "cell_type": "code",
   "execution_count": 28,
   "metadata": {},
   "outputs": [
    {
     "data": {
      "text/plain": [
       "Text(0.5, 1.0, 'Distribution of Target Feature')"
      ]
     },
     "execution_count": 28,
     "metadata": {},
     "output_type": "execute_result"
    },
    {
     "data": {
      "image/png": "[encoded data removed]",
      "text/plain": [
       "<Figure size 720x360 with 1 Axes>"
      ]
     },
     "metadata": {
      "needs_background": "light"
     },
     "output_type": "display_data"
    }
   ],
   "source": [
    "# distribution of data for target class:\n",
    "plt.figure(figsize=(10, 5))\n",
    "sns.countplot(x='target', data=orig_data_copy)\n",
    "plt.grid(True, alpha=0.3)\n",
    "plt.title('Distribution of Target Feature', fontsize=15)"
   ]
  },
  {
   "cell_type": "markdown",
   "metadata": {},
   "source": [
    "<li><strong>The distribution of Target feature seems to be unsymmetric and hence, we can use SMOTE-NC for oversampling the minority class.</strong></li>"
   ]
  },
  {
   "cell_type": "markdown",
   "metadata": {},
   "source": [
    "<h3>Training SVC Model without Oversampling:</h3>"
   ]
  },
  {
   "cell_type": "code",
   "execution_count": 29,
   "metadata": {},
   "outputs": [],
   "source": [
    "# adding 'target' to the final set of feats:\n",
    "current_feats.append('target')\n",
    "data_to_split = orig_data_copy[current_feats].copy()"
   ]
  },
  {
   "cell_type": "code",
   "execution_count": 30,
   "metadata": {},
   "outputs": [],
   "source": [
    "# function for dividing the data into training and validation data:\n",
    "def get_train_val_data(data, fraction):\n",
    "    # computing indexes till which we want to consider data for training and validation:\n",
    "    data_sampled = data.sample(frac=1)\n",
    "    idx_total_data = int(fraction*len(data_sampled))\n",
    "    idx_pos_class = int(fraction*len(data_sampled[data_sampled['target']==1]))\n",
    "    idx_neg_class = idx_total_data - idx_pos_class\n",
    "\n",
    "    # creating data for both positive and negative classes:\n",
    "    data_pos_class = data_sampled[data_sampled['target']==1]\n",
    "    data_neg_class = data_sampled[data_sampled['target']==0]\n",
    "\n",
    "    # creating training data:\n",
    "    neg_class_train = data_neg_class[:idx_neg_class]\n",
    "    pos_class_train = data_pos_class[:idx_pos_class]\n",
    "    training_data = pd.concat([neg_class_train, pos_class_train]).sample(frac=1)\n",
    "\n",
    "    # creating validation data:\n",
    "    neg_class_val = data_neg_class[idx_neg_class:]\n",
    "    pos_class_val = data_pos_class[idx_pos_class:]\n",
    "    val_data = pd.concat([neg_class_val, pos_class_val]).sample(frac=1)\n",
    "\n",
    "    # creating labels for training data:\n",
    "    y_train = training_data['target']\n",
    "    x_train = training_data.drop(['target'], axis=1)\n",
    "\n",
    "    # creating labels for validation data:\n",
    "    y_val = val_data['target']\n",
    "    x_val = val_data.drop(['target'], axis=1)\n",
    "    return x_train, y_train, x_val, y_val"
   ]
  },
  {
   "cell_type": "code",
   "execution_count": 31,
   "metadata": {},
   "outputs": [],
   "source": [
    "# dividing the data into training and validation data:\n",
    "x_train, y_train, x_val, y_val = get_train_val_data(data_to_split, 0.9)"
   ]
  },
  {
   "cell_type": "code",
   "execution_count": 32,
   "metadata": {},
   "outputs": [
    {
     "name": "stdout",
     "output_type": "stream",
     "text": [
      "Training Data:\n",
      "Shape of x_train: (8620, 18)\n",
      "Shape of y_train: (8620,)\n",
      "Instances of Target==1 --> 7240\n",
      "Instances of Target==0 --> 1380\n",
      "==========================================\n",
      "Validation Data:\n",
      "Shape of x_val: (958, 18)\n",
      "Shape of y_val: (958,)\n",
      "Instances of Target==1 --> 805\n",
      "Instances of Target==0 --> 153\n"
     ]
    }
   ],
   "source": [
    "# Shapes of Training and Validation Data:\n",
    "print('Training Data:')\n",
    "print('Shape of x_train: {}'.format(x_train.shape))\n",
    "print('Shape of y_train: {}'.format(y_train.shape))\n",
    "print('Instances of Target==1 --> {}'.format(len(y_train[y_train==1])))\n",
    "print('Instances of Target==0 --> {}'.format(len(y_train[y_train==0])))\n",
    "\n",
    "print('==========================================')\n",
    "\n",
    "print('Validation Data:')\n",
    "print('Shape of x_val: {}'.format(x_val.shape))\n",
    "print('Shape of y_val: {}'.format(y_val.shape))\n",
    "print('Instances of Target==1 --> {}'.format(len(y_val[y_val==1])))\n",
    "print('Instances of Target==0 --> {}'.format(len(y_val[y_val==0])))"
   ]
  },
  {
   "cell_type": "code",
   "execution_count": 33,
   "metadata": {},
   "outputs": [],
   "source": [
    "# evaluation cell:\n",
    "from sklearn.metrics import accuracy_score, precision_score, recall_score, f1_score, roc_auc_score, roc_curve, precision_recall_curve, log_loss, confusion_matrix\n",
    "\n",
    "# plot representing overfitting of the model and how it learns with each new data added:\n",
    "def learning_overfitting_curves(model, train_data, train_target, val_data, val_target):\n",
    "    training_error = [] # stores the training error of each step:\n",
    "    validation_error = [] # stores the validation error of each step:\n",
    "    for step in range(10, len(train_data)):\n",
    "        \n",
    "        # increasing the training data by 1 at each step:\n",
    "        model.fit(train_data[:step], train_target[:step])\n",
    "        \n",
    "        # predictions on training and validation data:\n",
    "        train_pred = model.predict(train_data[:step])\n",
    "        val_pred = model.predict(val_data)\n",
    "        \n",
    "        # current training and validation error:\n",
    "        cur_train_error = log_loss(train_target[:step], train_pred)\n",
    "        cur_val_error = log_loss(val_target, val_pred)\n",
    "        \n",
    "        # adding it to list:\n",
    "        training_error.append(cur_train_error)\n",
    "        validation_error.append(cur_val_error)\n",
    "        \n",
    "    return (training_error, validation_error)\n",
    "    \n",
    "# plotting Precision-Recall-Curve and ROC Curve:\n",
    "def evaluation_plots(model, train_target, train_pred, val_pred_proba, val_target, val_pred,  title, save, learning_curves):\n",
    "    global models\n",
    "    global precisions\n",
    "    global recalls\n",
    "    global fprs\n",
    "    global tprs\n",
    "    global training_errors\n",
    "    global validation_errors\n",
    "    global auc_scores\n",
    "    \n",
    "    prec_, recall_, threshold_ = precision_recall_curve(val_target, val_pred_proba)\n",
    "    fpr_, tpr_, thresh_ = roc_curve(val_target, val_pred_proba)\n",
    "#     training_error, validation_error = learning_overfitting_curves(model, x_train, train_target, x_val, val_pred)\n",
    "    cur_auc_score = roc_auc_score(val_target, val_pred)\n",
    "    \n",
    "    if (save==False):\n",
    "        # plotting Precision Recall Curve::\n",
    "        fig, (ax1, ax2, ax3) = plt.subplots(1, 3, figsize=(18, 6))\n",
    "        ax1.plot(prec_, recall_, 'b-o', label=title)\n",
    "        ax1.set_xlabel('Precision', fontsize=12)\n",
    "        ax1.set_ylabel('Recall', fontsize=12)\n",
    "        ax1.set_title('Precision-Recall-Curve', fontsize=15)\n",
    "        ax1.grid(True, alpha=0.4)\n",
    "        ax1.legend()\n",
    "\n",
    "        # plotting ROC Curve:\n",
    "        ax2.plot(fpr_, tpr_, label=title)\n",
    "        ax2.set_xlabel('False Positive Rate', fontsize=12)\n",
    "        ax2.set_ylabel('True Positive Rate', fontsize=12)\n",
    "        ax2.set_title('ROC Curve', fontsize=15)\n",
    "        ax2.grid(True, alpha=0.4)\n",
    "        ax2.text(0.3, 0.1, 'ROC Score --> '+ str(cur_auc_score), fontsize=10, bbox=dict(facecolor='blue', alpha=0.1))\n",
    "        ax2.legend()\n",
    "\n",
    "        # plotting learning curves:\n",
    "#         ax3.plot(np.arange(len(training_error)), training_error, 'b-o', label='Training Error')\n",
    "#         ax3.plot(np.arange(len(validation_error)), validation_error, 'r-o',  label='Validation Error')\n",
    "#         ax3.set_xlabel('Number of Steps', fontsize=12)\n",
    "#         ax3.set_ylabel('Log Loss', fontsize=12)\n",
    "#         ax3.set_title('Learning Curves', fontsize=15)\n",
    "#         ax3.grid(True, alpha=0.4)\n",
    "#         ax3.legend()\n",
    "    \n",
    "    else:        \n",
    "        # saving the data to the globally assigned lists:\n",
    "        models.append(title)\n",
    "        precisions.append(tuple(prec_))\n",
    "        recalls.append(tuple(recall_))\n",
    "        fprs.append(tuple(fpr_))\n",
    "        tprs.append(tuple(tpr_))\n",
    "#         training_errors.append(tuple(training_error))\n",
    "#         validation_errors.append(tuple(validation_error))\n",
    "        auc_scores.append(cur_auc_score)\n",
    "        \n",
    "        fig, (ax1, ax2, ax3) = plt.subplots(1, 3, figsize=(15, 6))\n",
    "        colors = ['orange', 'red', 'green', 'pink', 'blue', 'yellow', 'black']\n",
    "        current_color = 'none'\n",
    "        \n",
    "        # plotting Precision Recall Curve::\n",
    "        for idx in range(len(models)):\n",
    "            ax1.plot(precisions[idx], recalls[idx], label=models[idx])\n",
    "            current_color = colors[:idx+1]\n",
    "        \n",
    "        ax1.set_xlabel('Precision', fontsize=12)\n",
    "        ax1.set_ylabel('Recall', fontsize=12)\n",
    "        ax1.set_title('Precision-Recall-Curve', fontsize=15)\n",
    "        ax1.grid(True, alpha=0.4)\n",
    "        ax1.legend()\n",
    "\n",
    "        # plotting ROC Curve:\n",
    "        for idx in range(len(models)):\n",
    "            ax2.plot(fprs[idx], tprs[idx], label=models[idx])\n",
    "        \n",
    "        ax2.set_xlabel('False Positive Rate', fontsize=12)\n",
    "        ax2.set_ylabel('True Positive Rate', fontsize=12)\n",
    "        ax2.set_title('ROC Curve', fontsize=15)\n",
    "        ax2.grid(True, alpha=0.4)\n",
    "        ax2.legend()\n",
    "        \n",
    "        # plotting roc-auc bar chart:\n",
    "        ax3.bar(models, auc_scores, color=current_color)\n",
    "        ax3.set_xlabel('Classification Algo', fontsize=12)\n",
    "        ax3.set_ylabel('AUC Score', fontsize=12)\n",
    "        ax3.set_title('AUC Bar Chart', fontsize=15)\n",
    "        ax3.grid(True, alpha=0.4)\n",
    "        \n",
    "    if learning_curves:\n",
    "        plt.figure(figsize=(20, 10))\n",
    "        k = 1\n",
    "        for idx in range(len(models)):\n",
    "            plt.subplot(1, len(models), k)\n",
    "            plt.plot(np.arange(len(training_errors[idx])), training_errors[idx], 'b--', label='Train Error')\n",
    "            plt.plot(np.arange(len(validation_errors[idx])), validation_errors[idx], 'r--',  label='Val Error')\n",
    "            plt.xlabel('Number of Steps', fontsize=10)\n",
    "            plt.ylabel('Log Loss', fontsize=10)\n",
    "            plt.title(models[idx], fontsize=12)\n",
    "            plt.grid(True, alpha=0.4)\n",
    "            plt.legend()\n",
    "            k +=1\n",
    "\n",
    "\n",
    "# evaluation table returns the table comparision between the training and validation metrics:  \n",
    "def evaluation_table(y_train, y_train_pred, y_val, y_val_pred):\n",
    "    # training performance metrics:\n",
    "    accuracy_train = accuracy_score(y_train, y_train_pred)\n",
    "    prec_train = precision_score(y_train, y_train_pred)\n",
    "    recall_train = recall_score(y_train, y_train_pred)\n",
    "    f1_train = f1_score(y_train, y_train_pred)\n",
    "    roc_train = roc_auc_score(y_train, y_train_pred)\n",
    "    train_perf = [accuracy_train, prec_train, recall_train, f1_train, roc_train]\n",
    "    \n",
    "    # validation performance metrics:\n",
    "    accuracy_val = accuracy_score(y_val, y_val_pred)\n",
    "    prec_val = precision_score(y_val, y_val_pred)\n",
    "    recall_val = recall_score(y_val, y_val_pred)\n",
    "    f1_val = f1_score(y_val, y_val_pred)\n",
    "    roc_val = roc_auc_score(y_val, y_val_pred)\n",
    "    val_perf = [accuracy_val, prec_val, recall_val, f1_val, roc_val]\n",
    "    \n",
    "    # forming a table:\n",
    "    result = []\n",
    "    for train_p, val_p in zip(train_perf, val_perf):\n",
    "        result.append((train_p, val_p))\n",
    "        \n",
    "    result_table = pd.DataFrame(result, columns=['Training Metrics', 'Validation Metrics'], index=['Accuracy', 'Precision', 'Recall', 'F1-Score', 'AUC Score'])\n",
    "    return result_table\n",
    "\n",
    "# combining the above functions:\n",
    "def evaluating_model(best_model, title, save=False, learning_curves=False, show_plots=False):\n",
    "    \n",
    "    # predicting probabilities of validation data:\n",
    "    y_val_pred_proba = np.array(best_model.predict_proba(x_val))[:, 1]\n",
    "    \n",
    "    # predicting output:\n",
    "    y_train_pred = best_model.predict(x_train)\n",
    "    y_val_pred = best_model.predict(x_val)\n",
    "\n",
    "    # printing the Evaluation Table:\n",
    "    eval_result_table = evaluation_table(y_train, y_train_pred, y_val, y_val_pred)\n",
    "    print('Evaluation Table for '+title)\n",
    "    print(eval_result_table)\n",
    "    \n",
    "    # plotting the ROC and Precision-Recall-Curve:\n",
    "    if show_plots == True:\n",
    "        evaluation_plots(best_model, y_train, y_train_pred, y_val_pred_proba, y_val, y_val_pred, title, save, learning_curves)\n",
    "    \n",
    "    return True\n"
   ]
  },
  {
   "cell_type": "code",
   "execution_count": 34,
   "metadata": {},
   "outputs": [],
   "source": [
    "from sklearn.model_selection import GridSearchCV, RandomizedSearchCV\n",
    "from sklearn.metrics import make_scorer, accuracy_score \n",
    "\n",
    "# defining a function which returns the best model:\n",
    "def search_best_model(estimator, params, search='random'):\n",
    "    accuracy_scorer = make_scorer(accuracy_score) # making the roc_auc_score as the scoring function\n",
    "    if search == 'random':\n",
    "        rand_cv = RandomizedSearchCV(estimator, param_distributions=params, scoring=accuracy_scorer, cv=5, n_jobs=-1)\n",
    "        rand_cv_search = rand_cv.fit(x_train, y_train)\n",
    "        best_model_rand = rand_cv_search.best_estimator_\n",
    "        return best_model_rand\n",
    "    else:\n",
    "        grid_cv = GridSearchCV(estimator, param_grid=params, scoring=accuracy_scorer, cv=5, n_jobs=-1)\n",
    "        grid_cv_search = grid_cv.fit(x_train, y_train)\n",
    "        best_model_grid = grid_cv_search.best_estimator_\n",
    "        return best_model_grid"
   ]
  },
  {
   "cell_type": "code",
   "execution_count": 149,
   "metadata": {},
   "outputs": [
    {
     "name": "stdout",
     "output_type": "stream",
     "text": [
      "Model is perfectly fitted\n"
     ]
    },
    {
     "data": {
      "text/plain": [
       "SVC(C=100, class_weight={0: 0.84, 1: 0.16}, gamma=400, probability=True)"
      ]
     },
     "execution_count": 149,
     "metadata": {},
     "output_type": "execute_result"
    }
   ],
   "source": [
    "# Hyperparameter Search for Support Vector Machines:\n",
    "from sklearn.svm import SVC\n",
    "\n",
    "# instance of Support Vector Classifier:\n",
    "svc_clf = SVC(probability=True, kernel='rbf', class_weight={0: 0.84, 1: 0.16})\n",
    "\n",
    "# 1st Grid Search: \n",
    "# params = {'C': [0.01, 0.1, 1, 100],\n",
    "#          'gamma': [0.01, 0.1, 1, 100]}\n",
    "# Result of 1st Grid Search: SVC(C=100, gamma=0.1, probability=True)\n",
    "\n",
    "# # 2nd Grid Search:\n",
    "# params = {'C': [200, 500, 1000],\n",
    "#          'gamma': [200, 500, 1000]}\n",
    "\n",
    "# 3rd Grid Search:\n",
    "params = {'C': [100, 150, 200],\n",
    "         'gamma': [400, 600, 800]}\n",
    "\n",
    "best_svc_clf = search_best_model(svc_clf, params, search='random')\n",
    "fit_status = best_svc_clf.fit_status_\n",
    "\n",
    "# Checking if the model is perfectly fitted:\n",
    "if (fit_status == 0):\n",
    "    print('Model is perfectly fitted')\n",
    "else:\n",
    "    print('Invalid Fit')\n",
    "\n",
    "best_svc_clf"
   ]
  },
  {
   "cell_type": "code",
   "execution_count": 150,
   "metadata": {},
   "outputs": [
    {
     "name": "stdout",
     "output_type": "stream",
     "text": [
      "Evaluation Table for SVC\n",
      "           Training Metrics  Validation Metrics\n",
      "Accuracy                1.0            0.840292\n",
      "Precision               1.0            0.840292\n",
      "Recall                  1.0            1.000000\n",
      "F1-Score                1.0            0.913216\n",
      "AUC Score               1.0            0.500000\n"
     ]
    },
    {
     "data": {
      "text/plain": [
       "True"
      ]
     },
     "execution_count": 150,
     "metadata": {},
     "output_type": "execute_result"
    }
   ],
   "source": [
    "# evaluating model of SVC:\n",
    "evaluating_model(best_svc_clf, 'SVC')"
   ]
  },
  {
   "cell_type": "code",
   "execution_count": 156,
   "metadata": {},
   "outputs": [],
   "source": [
    "test_data = [[-1.46624759e-01,  1.2242e-01,  0.00000000e+00,  8.40336134e-02,   1.64507506e-01, -3.17262703e-03,  0.00000000e+00,  1.00000000e+00,  -5.33564114e+01,  5.07676903e-01,  3.70853209e-02,  0.00000000e+00,   0.00000000e+00,  9.09090909e-01,  2.21340068e-03,  1.00000000e+00,   1.00000000e+00, -8.02998501e-03]]"
   ]
  },
  {
   "cell_type": "code",
   "execution_count": 147,
   "metadata": {},
   "outputs": [
    {
     "data": {
      "text/plain": [
       "array([[0.16042749, 0.83957251]])"
      ]
     },
     "execution_count": 147,
     "metadata": {},
     "output_type": "execute_result"
    }
   ],
   "source": [
    "best_svc_clf.predict_proba(test_data)"
   ]
  },
  {
   "cell_type": "code",
   "execution_count": 140,
   "metadata": {},
   "outputs": [
    {
     "data": {
      "text/plain": [
       "1533"
      ]
     },
     "execution_count": 140,
     "metadata": {},
     "output_type": "execute_result"
    }
   ],
   "source": [
    "# proportion of target==1:\n",
    "len(data_to_split[data_to_split['target']==0])"
   ]
  },
  {
   "cell_type": "code",
   "execution_count": 138,
   "metadata": {},
   "outputs": [
    {
     "data": {
      "text/plain": [
       "9578"
      ]
     },
     "execution_count": 138,
     "metadata": {},
     "output_type": "execute_result"
    }
   ],
   "source": [
    "len(data_to_split)"
   ]
  },
  {
   "cell_type": "code",
   "execution_count": 151,
   "metadata": {},
   "outputs": [],
   "source": [
    "# saving this model of SVC:\n",
    "import pickle\n",
    "file_handle = open('svc_model_lr_without_oversampling.pkl', 'wb')\n",
    "pickle.dump(best_svc_clf, file_handle)"
   ]
  },
  {
   "cell_type": "code",
   "execution_count": 153,
   "metadata": {},
   "outputs": [],
   "source": [
    "fh = open('svc_model_lr_without_oversampling.pkl', 'rb')\n",
    "svc_model = pickle.load(fh)\n",
    "fh.close()"
   ]
  },
  {
   "cell_type": "code",
   "execution_count": 157,
   "metadata": {},
   "outputs": [
    {
     "data": {
      "text/plain": [
       "array([[0.16037409, 0.83962591]])"
      ]
     },
     "execution_count": 157,
     "metadata": {},
     "output_type": "execute_result"
    }
   ],
   "source": [
    "svc_model.predict_proba(test_data)"
   ]
  },
  {
   "cell_type": "code",
   "execution_count": 161,
   "metadata": {},
   "outputs": [
    {
     "data": {
      "text/plain": [
       "array([[0.16030466, 0.83969534],\n",
       "       [0.16026441, 0.83973559],\n",
       "       [0.15716431, 0.84283569],\n",
       "       [0.15801683, 0.84198317],\n",
       "       [0.16092345, 0.83907655],\n",
       "       [0.15355527, 0.84644473],\n",
       "       [0.16024089, 0.83975911],\n",
       "       [0.16037409, 0.83962591],\n",
       "       [0.16037409, 0.83962591],\n",
       "       [0.16037407, 0.83962593],\n",
       "       [0.1603723 , 0.8396277 ],\n",
       "       [0.16037409, 0.83962591],\n",
       "       [0.16025787, 0.83974213],\n",
       "       [0.15883098, 0.84116902],\n",
       "       [0.16037407, 0.83962593],\n",
       "       [0.1572469 , 0.8427531 ],\n",
       "       [0.16037408, 0.83962592],\n",
       "       [0.16038222, 0.83961778],\n",
       "       [0.16037409, 0.83962591],\n",
       "       [0.15084849, 0.84915151]])"
      ]
     },
     "execution_count": 161,
     "metadata": {},
     "output_type": "execute_result"
    }
   ],
   "source": [
    "svc_model.predict_proba(x_val[50:70])"
   ]
  },
  {
   "cell_type": "code",
   "execution_count": 162,
   "metadata": {},
   "outputs": [
    {
     "data": {
      "text/plain": [
       "8827    1\n",
       "1887    1\n",
       "2095    0\n",
       "5731    1\n",
       "3231    1\n",
       "676     0\n",
       "7450    1\n",
       "6512    1\n",
       "4340    1\n",
       "717     1\n",
       "4640    0\n",
       "9071    0\n",
       "1855    0\n",
       "203     1\n",
       "1194    1\n",
       "1276    1\n",
       "7295    1\n",
       "10      1\n",
       "8887    1\n",
       "1866    1\n",
       "Name: target, dtype: int64"
      ]
     },
     "execution_count": 162,
     "metadata": {},
     "output_type": "execute_result"
    }
   ],
   "source": [
    "y_val[50:70]"
   ]
  },
  {
   "cell_type": "code",
   "execution_count": null,
   "metadata": {},
   "outputs": [],
   "source": []
  },
  {
   "cell_type": "code",
   "execution_count": null,
   "metadata": {},
   "outputs": [],
   "source": []
  },
  {
   "cell_type": "code",
   "execution_count": null,
   "metadata": {},
   "outputs": [],
   "source": []
  },
  {
   "cell_type": "code",
   "execution_count": null,
   "metadata": {},
   "outputs": [],
   "source": []
  },
  {
   "cell_type": "markdown",
   "metadata": {},
   "source": [
    "<h2>Dealing with Minority Class -> SMOTE-NC:</h2>"
   ]
  },
  {
   "cell_type": "code",
   "execution_count": 35,
   "metadata": {
    "scrolled": false
   },
   "outputs": [
    {
     "name": "stdout",
     "output_type": "stream",
     "text": [
      "2 --> purpose_credit_card -----> 2\n",
      "6 --> purpose_educational -----> 2\n",
      "7 --> credit.policy -----> 2\n",
      "11 --> pub.rec_0 -----> 2\n",
      "12 --> purpose_major_purchase -----> 2\n",
      "15 --> purpose_small_business -----> 2\n",
      "16 --> pub.rec_1 -----> 2\n",
      "[2, 6, 7, 11, 12, 15, 16]\n"
     ]
    }
   ],
   "source": [
    "# getting the index of Categorical features since we would be using SMOTE-NC:\n",
    "index_categorical_feats = []\n",
    "for feature_idx in range(len(x_encoded.columns)):\n",
    "    if x_encoded[current_feats[feature_idx]].nunique()<3:\n",
    "        index_categorical_feats.append(feature_idx)\n",
    "        print(feature_idx, '-->', current_feats[feature_idx], '----->', x_encoded[current_feats[feature_idx]].nunique())\n",
    "    else:\n",
    "        continue\n",
    "\n",
    "print(index_categorical_feats)"
   ]
  },
  {
   "cell_type": "code",
   "execution_count": 36,
   "metadata": {},
   "outputs": [],
   "source": [
    "# importing SMOTENC:\n",
    "from imblearn.over_sampling import SMOTENC"
   ]
  },
  {
   "cell_type": "code",
   "execution_count": 37,
   "metadata": {},
   "outputs": [
    {
     "name": "stdout",
     "output_type": "stream",
     "text": [
      "Resampling Done....\n"
     ]
    }
   ],
   "source": [
    "# creating more instances of Minority Class and then resampling data: \n",
    "sm = SMOTENC(random_state=42, categorical_features=index_categorical_feats)\n",
    "x_final_res, y_final_res = sm.fit_resample(x_encoded, y_target)\n",
    "print('Resampling Done....')"
   ]
  },
  {
   "cell_type": "code",
   "execution_count": 38,
   "metadata": {},
   "outputs": [
    {
     "name": "stdout",
     "output_type": "stream",
     "text": [
      "Before Over-Sampling:\n",
      "Shape of Training Data: (9017, 18)\n",
      "Shape of Target Data: (9017,)\n",
      "Number of Class-0 labels: 1377 and Class-1 labels: 7640\n",
      "===========================================\n",
      "After Over-Sampling:\n",
      "Shape of Training Data: (15280, 18)\n",
      "Shape of Target Data: (15280,)\n",
      "Number of Class-0 labels: 7640 and Class-1 labels: 7640\n"
     ]
    }
   ],
   "source": [
    "# Printing Result of Over-Sampling:\n",
    "print('Before Over-Sampling:')\n",
    "print('Shape of Training Data: {}'.format(x_encoded.shape))\n",
    "print('Shape of Target Data: {}'.format(y_target.shape))\n",
    "print('Number of Class-0 labels: {} and Class-1 labels: {}'.format(len(y_target[y_target==0]), len(y_target[y_target==1])))\n",
    "\n",
    "print('===========================================')\n",
    "print('After Over-Sampling:')\n",
    "print('Shape of Training Data: {}'.format(x_final_res.shape))\n",
    "print('Shape of Target Data: {}'.format(y_final_res.shape))\n",
    "print('Number of Class-0 labels: {} and Class-1 labels: {}'.format(len(y_final_res[y_final_res==0]), len(y_final_res[y_final_res==1])))"
   ]
  },
  {
   "cell_type": "code",
   "execution_count": 39,
   "metadata": {},
   "outputs": [
    {
     "data": {
      "text/plain": [
       "Text(0.5, 1.0, 'Distribution of Target Feature after Over-Sampling Data')"
      ]
     },
     "execution_count": 39,
     "metadata": {},
     "output_type": "execute_result"
    },
    {
     "data": {
      "image/png": "[encoded data removed]",
      "text/plain": [
       "<Figure size 720x360 with 1 Axes>"
      ]
     },
     "metadata": {
      "needs_background": "light"
     },
     "output_type": "display_data"
    }
   ],
   "source": [
    "# Countplot of Target Feature of the full data:\n",
    "plt.figure(figsize=(10, 5))\n",
    "sns.countplot(y_final_res)\n",
    "plt.grid(True, alpha=0.3)\n",
    "plt.title('Distribution of Target Feature after Over-Sampling Data', fontsize=15)"
   ]
  },
  {
   "cell_type": "markdown",
   "metadata": {},
   "source": [
    "<h3>Creating Training and Validation Data using Stratified Sampling:</h3>\n",
    "<p>Since, now we have equal number of instances for both the classes, thus we should be focussing on Stratified Sampling of Training and Validation Data.</p>"
   ]
  },
  {
   "cell_type": "code",
   "execution_count": 40,
   "metadata": {},
   "outputs": [],
   "source": [
    "# creating a function which returns Stratified Sampled Data for training and Validation:\n",
    "def stratified_sampling_train_val(prop_train_data, full_data, target_feat_data):\n",
    "    \"\"\"We know that the target class is binary and the number of instances for both the class are equal, hence perform stratified Sampling\"\"\"\n",
    "    \n",
    "    full_data['target'] = target_feat_data\n",
    "    class_0_data = full_data[full_data['target']==0]\n",
    "    class_1_data = full_data[full_data['target']==1]\n",
    "    \n",
    "    total_train_idx = int(prop_train_data*len(full_data)) # total count of train data:\n",
    "    class_idx = total_train_idx//2 # since we want equal data from both the classes:\n",
    "    \n",
    "    # creating train data:\n",
    "    train_0_data = class_0_data[:class_idx]\n",
    "    train_1_data = class_1_data[:class_idx]\n",
    "    full_train_data = pd.concat([train_0_data, train_1_data], axis=0).sample(frac=1) # shuffling the data as well\n",
    "    train_target = full_train_data['target'] \n",
    "    train_data = full_train_data.drop(['target'], axis=1)\n",
    "    \n",
    "    # creating val data:\n",
    "    val_0_data = class_0_data[class_idx:]\n",
    "    val_1_data = class_1_data[class_idx:]\n",
    "    full_val_data = pd.concat([val_0_data, val_1_data], axis=0).sample(frac=1) # shuffling the data as well\n",
    "    val_target = full_val_data['target']\n",
    "    val_data = full_val_data.drop(['target'], axis=1)\n",
    "    \n",
    "    return (train_data, train_target, val_data, val_target)"
   ]
  },
  {
   "cell_type": "code",
   "execution_count": 41,
   "metadata": {},
   "outputs": [],
   "source": [
    "# Creating Copy of Data:\n",
    "x_final_res_copy = x_final_res.copy()\n",
    "y_final_res_copy = y_final_res.copy()\n",
    "\n",
    "# training and validation data with training data to be 90% of the total data:\n",
    "x_train, y_train, x_val, y_val = stratified_sampling_train_val(0.90, x_final_res_copy, y_final_res_copy)"
   ]
  },
  {
   "cell_type": "code",
   "execution_count": 42,
   "metadata": {},
   "outputs": [
    {
     "name": "stdout",
     "output_type": "stream",
     "text": [
      "Training Data:\n",
      "Shape of x_train: (13752, 18)\n",
      "Shape of y_train: (13752,)\n",
      "==========================================\n",
      "Validation Data:\n",
      "Shape of x_val: (1528, 18)\n",
      "Shape of y_val: (1528,)\n"
     ]
    }
   ],
   "source": [
    "# Shapes of Training and Validation Data:\n",
    "print('Training Data:')\n",
    "print('Shape of x_train: {}'.format(x_train.shape))\n",
    "print('Shape of y_train: {}'.format(y_train.shape))\n",
    "\n",
    "print('==========================================')\n",
    "\n",
    "print('Validation Data:')\n",
    "print('Shape of x_val: {}'.format(x_val.shape))\n",
    "print('Shape of y_val: {}'.format(y_val.shape))"
   ]
  },
  {
   "cell_type": "code",
   "execution_count": 43,
   "metadata": {},
   "outputs": [
    {
     "data": {
      "text/plain": [
       "Text(0.5, 1.0, 'Target Class for Validation Data')"
      ]
     },
     "execution_count": 43,
     "metadata": {},
     "output_type": "execute_result"
    },
    {
     "data": {
      "image/png": "[encoded data removed]",
      "text/plain": [
       "<Figure size 720x360 with 2 Axes>"
      ]
     },
     "metadata": {
      "needs_background": "light"
     },
     "output_type": "display_data"
    }
   ],
   "source": [
    "# Countplot to see the distribution of Target Data is equal for both Training and Validation Data:\n",
    "\n",
    "# For Training Data:\n",
    "fig, (ax1, ax2) = plt.subplots(1, 2, figsize=(10, 5)) \n",
    "sns.countplot(y_train, ax=ax1)\n",
    "ax1.grid(True, alpha=0.3)\n",
    "ax1.set_title('Target Class for Training Data')\n",
    "\n",
    "# For Validation Data:\n",
    "sns.countplot(y_val, ax=ax2)\n",
    "ax2.grid(True, alpha=0.3)\n",
    "ax2.set_title('Target Class for Validation Data')"
   ]
  },
  {
   "cell_type": "code",
   "execution_count": 39,
   "metadata": {},
   "outputs": [
    {
     "ename": "NameError",
     "evalue": "name 'honey_singh' is not defined",
     "output_type": "error",
     "traceback": [
      "\u001b[1;31m---------------------------------------------------------------------------\u001b[0m",
      "\u001b[1;31mNameError\u001b[0m                                 Traceback (most recent call last)",
      "\u001b[1;32m<ipython-input-39-9db1495a8d93>\u001b[0m in \u001b[0;36m<module>\u001b[1;34m\u001b[0m\n\u001b[1;32m----> 1\u001b[1;33m \u001b[0mhoney_singh\u001b[0m\u001b[1;33m\u001b[0m\u001b[1;33m\u001b[0m\u001b[0m\n\u001b[0m",
      "\u001b[1;31mNameError\u001b[0m: name 'honey_singh' is not defined"
     ]
    }
   ],
   "source": [
    "honey_singh"
   ]
  },
  {
   "cell_type": "markdown",
   "metadata": {},
   "source": [
    "<h2>Training Machine Learning Models and Evaluating them:</h2>"
   ]
  },
  {
   "cell_type": "code",
   "execution_count": 44,
   "metadata": {},
   "outputs": [],
   "source": [
    "# globally initializing variables for storing relevant data:\n",
    "models = []\n",
    "precisions = []\n",
    "recalls = []\n",
    "fprs = []\n",
    "tprs = []\n",
    "training_errors = []\n",
    "validation_errors = []\n",
    "auc_scores = []"
   ]
  },
  {
   "cell_type": "code",
   "execution_count": 45,
   "metadata": {},
   "outputs": [],
   "source": [
    "# evaluation cell:\n",
    "from sklearn.metrics import accuracy_score, precision_score, recall_score, f1_score, roc_auc_score, roc_curve, precision_recall_curve, log_loss, confusion_matrix\n",
    "\n",
    "# plot representing overfitting of the model and how it learns with each new data added:\n",
    "def learning_overfitting_curves(model, train_data, train_target, val_data, val_target):\n",
    "    training_error = [] # stores the training error of each step:\n",
    "    validation_error = [] # stores the validation error of each step:\n",
    "    for step in range(10, len(train_data)):\n",
    "        \n",
    "        # increasing the training data by 1 at each step:\n",
    "        model.fit(train_data[:step], train_target[:step])\n",
    "        \n",
    "        # predictions on training and validation data:\n",
    "        train_pred = model.predict(train_data[:step])\n",
    "        val_pred = model.predict(val_data)\n",
    "        \n",
    "        # current training and validation error:\n",
    "        cur_train_error = log_loss(train_target[:step], train_pred)\n",
    "        cur_val_error = log_loss(val_target, val_pred)\n",
    "        \n",
    "        # adding it to list:\n",
    "        training_error.append(cur_train_error)\n",
    "        validation_error.append(cur_val_error)\n",
    "        \n",
    "    return (training_error, validation_error)\n",
    "    \n",
    "# plotting Precision-Recall-Curve and ROC Curve:\n",
    "def evaluation_plots(model, train_target, train_pred, val_pred_proba, val_target, val_pred,  title, save, learning_curves):\n",
    "    global models\n",
    "    global precisions\n",
    "    global recalls\n",
    "    global fprs\n",
    "    global tprs\n",
    "    global training_errors\n",
    "    global validation_errors\n",
    "    global auc_scores\n",
    "    \n",
    "    prec_, recall_, threshold_ = precision_recall_curve(val_target, val_pred_proba)\n",
    "    fpr_, tpr_, thresh_ = roc_curve(val_target, val_pred_proba)\n",
    "#     training_error, validation_error = learning_overfitting_curves(model, x_train, train_target, x_val, val_pred)\n",
    "    cur_auc_score = roc_auc_score(val_target, val_pred)\n",
    "    \n",
    "    if (save==False):\n",
    "        # plotting Precision Recall Curve::\n",
    "        fig, (ax1, ax2, ax3) = plt.subplots(1, 3, figsize=(18, 6))\n",
    "        ax1.plot(prec_, recall_, 'b-o', label=title)\n",
    "        ax1.set_xlabel('Precision', fontsize=12)\n",
    "        ax1.set_ylabel('Recall', fontsize=12)\n",
    "        ax1.set_title('Precision-Recall-Curve', fontsize=15)\n",
    "        ax1.grid(True, alpha=0.4)\n",
    "        ax1.legend()\n",
    "\n",
    "        # plotting ROC Curve:\n",
    "        ax2.plot(fpr_, tpr_, label=title)\n",
    "        ax2.set_xlabel('False Positive Rate', fontsize=12)\n",
    "        ax2.set_ylabel('True Positive Rate', fontsize=12)\n",
    "        ax2.set_title('ROC Curve', fontsize=15)\n",
    "        ax2.grid(True, alpha=0.4)\n",
    "        ax2.text(0.3, 0.1, 'ROC Score --> '+ str(cur_auc_score), fontsize=10, bbox=dict(facecolor='blue', alpha=0.1))\n",
    "        ax2.legend()\n",
    "\n",
    "        # plotting learning curves:\n",
    "#         ax3.plot(np.arange(len(training_error)), training_error, 'b-o', label='Training Error')\n",
    "#         ax3.plot(np.arange(len(validation_error)), validation_error, 'r-o',  label='Validation Error')\n",
    "#         ax3.set_xlabel('Number of Steps', fontsize=12)\n",
    "#         ax3.set_ylabel('Log Loss', fontsize=12)\n",
    "#         ax3.set_title('Learning Curves', fontsize=15)\n",
    "#         ax3.grid(True, alpha=0.4)\n",
    "#         ax3.legend()\n",
    "    \n",
    "    else:        \n",
    "        # saving the data to the globally assigned lists:\n",
    "        models.append(title)\n",
    "        precisions.append(tuple(prec_))\n",
    "        recalls.append(tuple(recall_))\n",
    "        fprs.append(tuple(fpr_))\n",
    "        tprs.append(tuple(tpr_))\n",
    "#         training_errors.append(tuple(training_error))\n",
    "#         validation_errors.append(tuple(validation_error))\n",
    "        auc_scores.append(cur_auc_score)\n",
    "        \n",
    "        fig, (ax1, ax2, ax3) = plt.subplots(1, 3, figsize=(15, 6))\n",
    "        colors = ['orange', 'red', 'green', 'pink', 'blue', 'yellow', 'black']\n",
    "        current_color = 'none'\n",
    "        \n",
    "        # plotting Precision Recall Curve::\n",
    "        for idx in range(len(models)):\n",
    "            ax1.plot(precisions[idx], recalls[idx], label=models[idx])\n",
    "            current_color = colors[:idx+1]\n",
    "        \n",
    "        ax1.set_xlabel('Precision', fontsize=12)\n",
    "        ax1.set_ylabel('Recall', fontsize=12)\n",
    "        ax1.set_title('Precision-Recall-Curve', fontsize=15)\n",
    "        ax1.grid(True, alpha=0.4)\n",
    "        ax1.legend()\n",
    "\n",
    "        # plotting ROC Curve:\n",
    "        for idx in range(len(models)):\n",
    "            ax2.plot(fprs[idx], tprs[idx], label=models[idx])\n",
    "        \n",
    "        ax2.set_xlabel('False Positive Rate', fontsize=12)\n",
    "        ax2.set_ylabel('True Positive Rate', fontsize=12)\n",
    "        ax2.set_title('ROC Curve', fontsize=15)\n",
    "        ax2.grid(True, alpha=0.4)\n",
    "        ax2.legend()\n",
    "        \n",
    "        # plotting roc-auc bar chart:\n",
    "        ax3.bar(models, auc_scores, color=current_color)\n",
    "        ax3.set_xlabel('Classification Algo', fontsize=12)\n",
    "        ax3.set_ylabel('AUC Score', fontsize=12)\n",
    "        ax3.set_title('AUC Bar Chart', fontsize=15)\n",
    "        ax3.grid(True, alpha=0.4)\n",
    "        \n",
    "    if learning_curves:\n",
    "        plt.figure(figsize=(20, 10))\n",
    "        k = 1\n",
    "        for idx in range(len(models)):\n",
    "            plt.subplot(1, len(models), k)\n",
    "            plt.plot(np.arange(len(training_errors[idx])), training_errors[idx], 'b--', label='Train Error')\n",
    "            plt.plot(np.arange(len(validation_errors[idx])), validation_errors[idx], 'r--',  label='Val Error')\n",
    "            plt.xlabel('Number of Steps', fontsize=10)\n",
    "            plt.ylabel('Log Loss', fontsize=10)\n",
    "            plt.title(models[idx], fontsize=12)\n",
    "            plt.grid(True, alpha=0.4)\n",
    "            plt.legend()\n",
    "            k +=1\n",
    "\n",
    "\n",
    "# evaluation table returns the table comparision between the training and validation metrics:  \n",
    "def evaluation_table(y_train, y_train_pred, y_val, y_val_pred):\n",
    "    # training performance metrics:\n",
    "    accuracy_train = accuracy_score(y_train, y_train_pred)\n",
    "    prec_train = precision_score(y_train, y_train_pred)\n",
    "    recall_train = recall_score(y_train, y_train_pred)\n",
    "    f1_train = f1_score(y_train, y_train_pred)\n",
    "    roc_train = roc_auc_score(y_train, y_train_pred)\n",
    "    train_perf = [accuracy_train, prec_train, recall_train, f1_train, roc_train]\n",
    "    \n",
    "    # validation performance metrics:\n",
    "    accuracy_val = accuracy_score(y_val, y_val_pred)\n",
    "    prec_val = precision_score(y_val, y_val_pred)\n",
    "    recall_val = recall_score(y_val, y_val_pred)\n",
    "    f1_val = f1_score(y_val, y_val_pred)\n",
    "    roc_val = roc_auc_score(y_val, y_val_pred)\n",
    "    val_perf = [accuracy_val, prec_val, recall_val, f1_val, roc_val]\n",
    "    \n",
    "    # forming a table:\n",
    "    result = []\n",
    "    for train_p, val_p in zip(train_perf, val_perf):\n",
    "        result.append((train_p, val_p))\n",
    "        \n",
    "    result_table = pd.DataFrame(result, columns=['Training Metrics', 'Validation Metrics'], index=['Accuracy', 'Precision', 'Recall', 'F1-Score', 'AUC Score'])\n",
    "    return result_table\n",
    "\n",
    "# combining the above functions:\n",
    "def evaluating_model(best_model, title, save=False, learning_curves=False, show_plots=False):\n",
    "    \n",
    "    # predicting probabilities of validation data:\n",
    "    y_val_pred_proba = np.array(best_model.predict_proba(x_val))[:, 1]\n",
    "    \n",
    "    # predicting output:\n",
    "    y_train_pred = best_model.predict(x_train)\n",
    "    y_val_pred = best_model.predict(x_val)\n",
    "\n",
    "    # printing the Evaluation Table:\n",
    "    eval_result_table = evaluation_table(y_train, y_train_pred, y_val, y_val_pred)\n",
    "    print('Evaluation Table for '+title)\n",
    "    print(eval_result_table)\n",
    "    \n",
    "    # plotting the ROC and Precision-Recall-Curve:\n",
    "    if show_plots == True:\n",
    "        evaluation_plots(best_model, y_train, y_train_pred, y_val_pred_proba, y_val, y_val_pred, title, save, learning_curves)\n",
    "    \n",
    "    return True\n"
   ]
  },
  {
   "cell_type": "markdown",
   "metadata": {},
   "source": [
    "<h3>1) Logistic Regression:</h3>\n",
    "<p> Hyper-Parameters to control: \n",
    "<ol>\n",
    "    <li>Regularization Parameter - <code>C</code></li>\n",
    "    </ol>\n",
    "</p>"
   ]
  },
  {
   "cell_type": "code",
   "execution_count": 39,
   "metadata": {},
   "outputs": [],
   "source": [
    "from sklearn.linear_model import LogisticRegression\n",
    "from sklearn.model_selection import GridSearchCV, RandomizedSearchCV\n",
    "from sklearn.metrics import make_scorer, accuracy_score"
   ]
  },
  {
   "cell_type": "code",
   "execution_count": 41,
   "metadata": {},
   "outputs": [],
   "source": [
    "# defining a function which returns the best model:\n",
    "def search_best_model(estimator, params, search='random'):\n",
    "    accuracy_scorer = make_scorer(accuracy_score) # making the roc_auc_score as the scoring function\n",
    "    if search == 'random':\n",
    "        rand_cv = RandomizedSearchCV(estimator, param_distributions=params, scoring=accuracy_scorer, cv=5, n_jobs=-1)\n",
    "        rand_cv_search = rand_cv.fit(x_train, y_train)\n",
    "        best_model_rand = rand_cv_search.best_estimator_\n",
    "        return best_model_rand\n",
    "    else:\n",
    "        grid_cv = GridSearchCV(estimator, param_grid=params, scoring=f1_scorer, cv=5, n_jobs=-1)\n",
    "        grid_cv_search = grid_cv.fit(x_train, y_train)\n",
    "        best_model_grid = grid_cv_search.best_estimator_\n",
    "        return best_model_grid"
   ]
  },
  {
   "cell_type": "code",
   "execution_count": 42,
   "metadata": {},
   "outputs": [
    {
     "data": {
      "text/plain": [
       "LogisticRegression(C=1.5, random_state=42)"
      ]
     },
     "execution_count": 42,
     "metadata": {},
     "output_type": "execute_result"
    }
   ],
   "source": [
    "# training various Logistic Regression Models:\n",
    "log_reg = LogisticRegression(random_state=42)\n",
    "# First Search:\n",
    "# values_c = {'C': [1, 10, 100, 1000, 10000, 100000]}\n",
    "\n",
    "# Second Search:\n",
    "# values_c = {'C':[0.5, 1, 1.5, 2, 4, 6]}\n",
    "\n",
    "# Second Search:\n",
    "values_c = {'C':[1.1, 1.2, 1.3, 1.4, 1.5, 1.6, 1.7, 1.8]}\n",
    "\n",
    "log_reg_best = search_best_model(log_reg, values_c)\n",
    "log_reg_best"
   ]
  },
  {
   "cell_type": "code",
   "execution_count": 43,
   "metadata": {},
   "outputs": [
    {
     "name": "stdout",
     "output_type": "stream",
     "text": [
      "Evaluation Table for Log Reg\n",
      "           Training Metrics  Validation Metrics\n",
      "Accuracy           0.679538            0.462042\n",
      "Precision          0.693041            0.403974\n",
      "Recall             0.644561            0.159686\n",
      "F1-Score           0.667923            0.228893\n",
      "AUC Score          0.679538            0.462042\n"
     ]
    },
    {
     "data": {
      "text/plain": [
       "True"
      ]
     },
     "execution_count": 43,
     "metadata": {},
     "output_type": "execute_result"
    }
   ],
   "source": [
    "# evaluating the best Logistic Regression Model:\n",
    "evaluating_model(log_reg_best, 'Log Reg')"
   ]
  },
  {
   "cell_type": "code",
   "execution_count": 44,
   "metadata": {},
   "outputs": [
    {
     "name": "stdout",
     "output_type": "stream",
     "text": [
      "Evaluation Table for Log Reg\n",
      "           Training Metrics  Validation Metrics\n",
      "Accuracy           0.678374            0.461387\n",
      "Precision          0.689773            0.403909\n",
      "Recall             0.648342            0.162304\n",
      "F1-Score           0.668416            0.231559\n",
      "AUC Score          0.678374            0.461387\n"
     ]
    },
    {
     "data": {
      "text/plain": [
       "True"
      ]
     },
     "execution_count": 44,
     "metadata": {},
     "output_type": "execute_result"
    }
   ],
   "source": [
    "# increasing regularization:\n",
    "log_reg_clf = LogisticRegression(random_state=42, C=1000).fit(x_train, y_train)\n",
    "\n",
    "# evaluating the best Logistic Regression Model:\n",
    "evaluating_model(log_reg_clf, 'Log Reg')"
   ]
  },
  {
   "cell_type": "markdown",
   "metadata": {},
   "source": [
    "<li><strong>Even after increasing Regularization didn't, none of the metrics improved. This means, we should ideally rely on the model whose hyperparameters have been tuned.</li>"
   ]
  },
  {
   "cell_type": "code",
   "execution_count": 45,
   "metadata": {},
   "outputs": [
    {
     "name": "stdout",
     "output_type": "stream",
     "text": [
      "Evaluation Table for Log Reg\n",
      "           Training Metrics  Validation Metrics\n",
      "Accuracy           0.679538            0.462042\n",
      "Precision          0.693041            0.403974\n",
      "Recall             0.644561            0.159686\n",
      "F1-Score           0.667923            0.228893\n",
      "AUC Score          0.679538            0.462042\n"
     ]
    },
    {
     "data": {
      "text/plain": [
       "True"
      ]
     },
     "execution_count": 45,
     "metadata": {},
     "output_type": "execute_result"
    },
    {
     "data": {
      "image/png": "[encoded data removed]",
      "text/plain": [
       "<Figure size 1080x432 with 3 Axes>"
      ]
     },
     "metadata": {
      "needs_background": "light"
     },
     "output_type": "display_data"
    }
   ],
   "source": [
    "# evaluating the best Logistic Regression Model:\n",
    "evaluating_model(log_reg_best, 'Log Reg', save=True, show_plots=True)"
   ]
  },
  {
   "cell_type": "markdown",
   "metadata": {},
   "source": [
    "<h3>2) Decision Tress Classifier:</h3>\n",
    "<p>Hyperparameters to control:\n",
    "<ol>\n",
    "    <li><code>criterion</code> - Keep it default i.e. <code>gini</code></li>\n",
    "    <li><code>max_depth</code> - Maximum Depth of the tree.</li>\n",
    "    <li><code>min_samples_split</code> - Minimum number of samples required to split the internal node.</li>\n",
    "    <li><code>min_samples_leaf</code> - Minimum number of samples required to be present at the leaf node.</li>\n",
    "    <li><code>max_features</code> - Maximum number of features considered during the best feature for splitting the data.</li>\n",
    "    <li><code>max_leaf_nodes</code> - Maximum number of leaf nodes to be present</li>\n",
    "    <li><code>class_weight</code> - Keep it <code>'balanced'</code>.</li>\n",
    "    <li><code>sklearn.tree.plot_tree(dec_clf)</code> - Used to plot the tree's logic about how the tree is constructed.</li>\n",
    "     </ol>\n",
    "</p>"
   ]
  },
  {
   "cell_type": "code",
   "execution_count": 46,
   "metadata": {},
   "outputs": [],
   "source": [
    "from sklearn.tree import DecisionTreeClassifier"
   ]
  },
  {
   "cell_type": "code",
   "execution_count": 47,
   "metadata": {},
   "outputs": [
    {
     "data": {
      "text/plain": [
       "DecisionTreeClassifier(max_depth=22, max_features=8, max_leaf_nodes=45,\n",
       "                       min_samples_leaf=44, min_samples_split=100,\n",
       "                       random_state=42)"
      ]
     },
     "execution_count": 47,
     "metadata": {},
     "output_type": "execute_result"
    }
   ],
   "source": [
    "# Hyperparameter Tuning of Decision Trees Classifier:\n",
    "\n",
    "dec_tree_clf = DecisionTreeClassifier(random_state=42)\n",
    "\n",
    "# First Grid Search:\n",
    "# params = {'max_depth': [5, 20, 50, 60, 70],\n",
    "#          'min_samples_split': [5, 20, 50, 70, 100, 200],\n",
    "#          'min_samples_leaf': [5, 20, 50, 70, 100, 200],\n",
    "#          'max_features': [5, 20, 50, 70, 100, 200],\n",
    "#          'max_leaf_nodes': [5, 20, 50, 70, 100, 200]}\n",
    "\n",
    "# 2nd Grid Search:\n",
    "# params = {'max_depth': [10, 15, 20, 25],\n",
    "#          'min_samples_split': [40, 50, 60, 70, 80, 90],\n",
    "#          'min_samples_leaf': [10, 20, 30 ,40],\n",
    "#          'max_features': [3, 5, 8],\n",
    "#          'max_leaf_nodes': [10, 20, 30, 40]}\n",
    "\n",
    "# 3rd Grid Search:\n",
    "params = {'max_depth': [18, 19, 20, 22, 24, 26, 28],\n",
    "         'min_samples_split': [85, 88, 90, 92, 95, 100],\n",
    "         'min_samples_leaf': [38, 39, 40, 41, 42, 43, 44, 45, 48, 50],\n",
    "         'max_features': [6, 7, 8],\n",
    "         'max_leaf_nodes': [38, 39, 40, 41, 42, 43, 44, 45]}\n",
    "\n",
    "\n",
    "dec_tree_best = search_best_model(dec_tree_clf, params)\n",
    "dec_tree_best"
   ]
  },
  {
   "cell_type": "code",
   "execution_count": 48,
   "metadata": {},
   "outputs": [
    {
     "name": "stdout",
     "output_type": "stream",
     "text": [
      "Evaluation Table for Dec Tree\n",
      "           Training Metrics  Validation Metrics\n",
      "Accuracy           0.825771            0.527487\n",
      "Precision          0.776339            0.558333\n",
      "Recall             0.915212            0.263089\n",
      "F1-Score           0.840075            0.357651\n",
      "AUC Score          0.825771            0.527487\n"
     ]
    },
    {
     "data": {
      "text/plain": [
       "True"
      ]
     },
     "execution_count": 48,
     "metadata": {},
     "output_type": "execute_result"
    }
   ],
   "source": [
    "# evaluating the best Decision Trees Classifier Model:\n",
    "evaluating_model(dec_tree_best, 'Dec Tree')"
   ]
  },
  {
   "cell_type": "markdown",
   "metadata": {},
   "source": [
    "<li>Insight: <strong>Even after applying regularization, the performance on validation data is not improving. This is the best performance we got for Decision Trees.</strong></li>"
   ]
  },
  {
   "cell_type": "code",
   "execution_count": 49,
   "metadata": {
    "scrolled": false
   },
   "outputs": [
    {
     "name": "stdout",
     "output_type": "stream",
     "text": [
      "Evaluation Table for Dec Tree\n",
      "           Training Metrics  Validation Metrics\n",
      "Accuracy           0.825771            0.527487\n",
      "Precision          0.776339            0.558333\n",
      "Recall             0.915212            0.263089\n",
      "F1-Score           0.840075            0.357651\n",
      "AUC Score          0.825771            0.527487\n"
     ]
    },
    {
     "data": {
      "text/plain": [
       "True"
      ]
     },
     "execution_count": 49,
     "metadata": {},
     "output_type": "execute_result"
    },
    {
     "data": {
      "image/png": "[encoded data removed]",
      "text/plain": [
       "<Figure size 1080x432 with 3 Axes>"
      ]
     },
     "metadata": {
      "needs_background": "light"
     },
     "output_type": "display_data"
    }
   ],
   "source": [
    "# evaluating the best Decision Trees Classifier Model:\n",
    "evaluating_model(dec_tree_best, 'Dec Tree', save=True, show_plots=True)"
   ]
  },
  {
   "cell_type": "markdown",
   "metadata": {},
   "source": [
    "<h3>3) Random Forest Classifier:</h3>\n",
    "<p>Hyperparameters to control:\n",
    "<ol>\n",
    "    <li><code>n_estimators:</code>Number of Decision Trees to train. It also resembles the number of bootstrapped samples to be created since each Decision Tree is trained on 1 bootstrapped sample.</li>\n",
    "    <li><code>criterion:</code>Keep it to default i.e. 'gini'.</li>\n",
    "    <li><code>max_depth:</code>It refers to the maximum depth of the trees/stumps.</li>\n",
    "    <li><code>min_samples_split:</code>It refers to the minimum number of samples required to split an internal node.</li>\n",
    "    <li><code>min_samples_leaf:</code>Minimum number of samples required to be at the leaf node.</li>\n",
    "    <li><code>max_features:</code>Maximum number of features required to be considered while splitting the data based upon a Feature (information gain).</li>\n",
    "    <li><code>max_leaf_nodes:</code>Maximum Leaf Nodes required to be present in each tree.</li>\n",
    "    <li><code>bootstrap:</code>Keep it default i.e. True.</li>\n",
    "    <li><code>oob_score:</code>Can be kept as True to evaluate the model.</li>\n",
    "     </ol>\n",
    "</p>"
   ]
  },
  {
   "cell_type": "code",
   "execution_count": 50,
   "metadata": {},
   "outputs": [
    {
     "name": "stdout",
     "output_type": "stream",
     "text": [
      "Out of Bag Evaluation Score for currently trained Random Forest Model--> 0.8064281559045957\n"
     ]
    },
    {
     "data": {
      "text/plain": [
       "RandomForestClassifier(max_depth=10, max_features=15, max_leaf_nodes=12,\n",
       "                       min_samples_leaf=2, min_samples_split=8,\n",
       "                       n_estimators=150, oob_score=True, random_state=42)"
      ]
     },
     "execution_count": 50,
     "metadata": {},
     "output_type": "execute_result"
    }
   ],
   "source": [
    "# Hyperparameter Search for Random Forest Model:\n",
    "from sklearn.ensemble import RandomForestClassifier\n",
    "rand_forest_clf = RandomForestClassifier(criterion='gini', bootstrap=True, oob_score=True, random_state=42)\n",
    "\n",
    "# 1st Grid Search:\n",
    "# params = {'n_estimators': [20, 50, 80, 100, 150, 200, 300],\n",
    "#           'max_depth':[1, 5, 10, 15, 20, 30, 50],\n",
    "#           'min_samples_split': [1, 5, 10, 15, 20],\n",
    "#           'min_samples_leaf': [1, 5, 10, 15, 20],\n",
    "#           'max_features': [1, 5, 10, 15, 20],\n",
    "#           'max_leaf_nodes': [1, 5, 10, 15, 20]}\n",
    "\n",
    "# 2nd Grid Search:\n",
    "# params = {'n_estimators': [160, 180, 200, 220, 240],\n",
    "#           'max_depth':[5, 10, 15, 18, 20],\n",
    "#           'min_samples_split': [3, 5, 8, 10],\n",
    "#           'min_samples_leaf': [2, 5, 8, 10],\n",
    "#           'max_features': [5, 10, 15],\n",
    "#           'max_leaf_nodes': [7, 8, 9, 10, 12, 14]}\n",
    "\n",
    "# 3rd Grid Search:\n",
    "params = {'n_estimators': [150, 155, 160, 165, 170],\n",
    "          'max_depth':[10],\n",
    "          'min_samples_split': [8, 10, 15, 20, 30],\n",
    "          'min_samples_leaf': [2, 5],\n",
    "          'max_features': [15],\n",
    "          'max_leaf_nodes': [9, 10, 12]}\n",
    "\n",
    "\n",
    "best_rand_forest_clf = search_best_model(rand_forest_clf, params)\n",
    "print('Out of Bag Evaluation Score for currently trained Random Forest Model-->', best_rand_forest_clf.oob_score_)\n",
    "best_rand_forest_clf"
   ]
  },
  {
   "cell_type": "code",
   "execution_count": 51,
   "metadata": {},
   "outputs": [],
   "source": [
    "# Out of Bag Evaluation Score for Random Forest trained:\n",
    "#  2nd Random Forest Model OOB Score--> 0.8053374054682956\n",
    "#  3rd Random Forest Model OOB Score--> 0.8065735892961023"
   ]
  },
  {
   "cell_type": "code",
   "execution_count": 52,
   "metadata": {},
   "outputs": [
    {
     "name": "stdout",
     "output_type": "stream",
     "text": [
      "Evaluation Table for Rand Forest\n",
      "           Training Metrics  Validation Metrics\n",
      "Accuracy           0.807155            0.522251\n",
      "Precision          0.735032            0.537611\n",
      "Recall             0.960588            0.318063\n",
      "F1-Score           0.832808            0.399671\n",
      "AUC Score          0.807155            0.522251\n"
     ]
    },
    {
     "data": {
      "text/plain": [
       "True"
      ]
     },
     "execution_count": 52,
     "metadata": {},
     "output_type": "execute_result"
    }
   ],
   "source": [
    "# evaluating Best Random Forest Model:\n",
    "evaluating_model(best_rand_forest_clf, 'Rand Forest')"
   ]
  },
  {
   "cell_type": "code",
   "execution_count": 53,
   "metadata": {},
   "outputs": [
    {
     "name": "stdout",
     "output_type": "stream",
     "text": [
      "Evaluation Table for Rand Forest\n",
      "           Training Metrics  Validation Metrics\n",
      "Accuracy           0.807155            0.522251\n",
      "Precision          0.735032            0.537611\n",
      "Recall             0.960588            0.318063\n",
      "F1-Score           0.832808            0.399671\n",
      "AUC Score          0.807155            0.522251\n"
     ]
    },
    {
     "data": {
      "text/plain": [
       "True"
      ]
     },
     "execution_count": 53,
     "metadata": {},
     "output_type": "execute_result"
    },
    {
     "data": {
      "image/png": "[encoded data removed]",
      "text/plain": [
       "<Figure size 1080x432 with 3 Axes>"
      ]
     },
     "metadata": {
      "needs_background": "light"
     },
     "output_type": "display_data"
    }
   ],
   "source": [
    "# evaluating and saving Best Random Forest Model:\n",
    "evaluating_model(best_rand_forest_clf, 'Rand Forest', save=True, show_plots=True)"
   ]
  },
  {
   "cell_type": "markdown",
   "metadata": {},
   "source": [
    "<h3>Investiagting the Misclassified Instances:</h3>"
   ]
  },
  {
   "cell_type": "code",
   "execution_count": 54,
   "metadata": {},
   "outputs": [
    {
     "data": {
      "text/html": [
       "<div>\n",
       "<style scoped>\n",
       "    .dataframe tbody tr th:only-of-type {\n",
       "        vertical-align: middle;\n",
       "    }\n",
       "\n",
       "    .dataframe tbody tr th {\n",
       "        vertical-align: top;\n",
       "    }\n",
       "\n",
       "    .dataframe thead th {\n",
       "        text-align: right;\n",
       "    }\n",
       "</style>\n",
       "<table border=\"1\" class=\"dataframe\">\n",
       "  <thead>\n",
       "    <tr style=\"text-align: right;\">\n",
       "      <th></th>\n",
       "      <th>log.installment</th>\n",
       "      <th>fico</th>\n",
       "      <th>purpose_credit_card</th>\n",
       "      <th>revol.util</th>\n",
       "      <th>poss.getting.loan</th>\n",
       "      <th>loan.info</th>\n",
       "      <th>purpose_educational</th>\n",
       "      <th>credit.policy</th>\n",
       "      <th>log.int.rate</th>\n",
       "      <th>dti</th>\n",
       "      <th>fico.to.delinq.2yrs</th>\n",
       "      <th>pub.rec_0</th>\n",
       "      <th>purpose_major_purchase</th>\n",
       "      <th>inq.last.6mths</th>\n",
       "      <th>revol.bal.to.annual.income</th>\n",
       "      <th>purpose_small_business</th>\n",
       "      <th>pub.rec_1</th>\n",
       "      <th>credit.value</th>\n",
       "      <th>target</th>\n",
       "      <th>rf_pred</th>\n",
       "    </tr>\n",
       "  </thead>\n",
       "  <tbody>\n",
       "    <tr>\n",
       "      <th>8071</th>\n",
       "      <td>0.442753</td>\n",
       "      <td>0.302326</td>\n",
       "      <td>0</td>\n",
       "      <td>0.528571</td>\n",
       "      <td>0.040496</td>\n",
       "      <td>0.115992</td>\n",
       "      <td>0</td>\n",
       "      <td>0</td>\n",
       "      <td>0.425493</td>\n",
       "      <td>0.113151</td>\n",
       "      <td>0.088763</td>\n",
       "      <td>1</td>\n",
       "      <td>0</td>\n",
       "      <td>0.060606</td>\n",
       "      <td>0.028402</td>\n",
       "      <td>0</td>\n",
       "      <td>0</td>\n",
       "      <td>0.024756</td>\n",
       "      <td>1</td>\n",
       "      <td>1</td>\n",
       "    </tr>\n",
       "    <tr>\n",
       "      <th>15128</th>\n",
       "      <td>0.909645</td>\n",
       "      <td>0.731001</td>\n",
       "      <td>0</td>\n",
       "      <td>0.094780</td>\n",
       "      <td>0.003961</td>\n",
       "      <td>0.302758</td>\n",
       "      <td>0</td>\n",
       "      <td>1</td>\n",
       "      <td>0.371934</td>\n",
       "      <td>0.553030</td>\n",
       "      <td>0.208859</td>\n",
       "      <td>1</td>\n",
       "      <td>0</td>\n",
       "      <td>0.024576</td>\n",
       "      <td>0.031678</td>\n",
       "      <td>0</td>\n",
       "      <td>0</td>\n",
       "      <td>0.177019</td>\n",
       "      <td>0</td>\n",
       "      <td>0</td>\n",
       "    </tr>\n",
       "    <tr>\n",
       "      <th>14904</th>\n",
       "      <td>0.691505</td>\n",
       "      <td>0.512133</td>\n",
       "      <td>0</td>\n",
       "      <td>0.372496</td>\n",
       "      <td>0.008810</td>\n",
       "      <td>0.163644</td>\n",
       "      <td>0</td>\n",
       "      <td>1</td>\n",
       "      <td>0.420718</td>\n",
       "      <td>0.641566</td>\n",
       "      <td>0.167801</td>\n",
       "      <td>1</td>\n",
       "      <td>0</td>\n",
       "      <td>0.060606</td>\n",
       "      <td>0.099911</td>\n",
       "      <td>0</td>\n",
       "      <td>0</td>\n",
       "      <td>0.232268</td>\n",
       "      <td>0</td>\n",
       "      <td>1</td>\n",
       "    </tr>\n",
       "    <tr>\n",
       "      <th>8900</th>\n",
       "      <td>0.051153</td>\n",
       "      <td>0.558140</td>\n",
       "      <td>0</td>\n",
       "      <td>0.160504</td>\n",
       "      <td>0.008269</td>\n",
       "      <td>0.010194</td>\n",
       "      <td>0</td>\n",
       "      <td>0</td>\n",
       "      <td>0.391435</td>\n",
       "      <td>0.684246</td>\n",
       "      <td>0.225317</td>\n",
       "      <td>1</td>\n",
       "      <td>0</td>\n",
       "      <td>0.060606</td>\n",
       "      <td>0.364333</td>\n",
       "      <td>0</td>\n",
       "      <td>0</td>\n",
       "      <td>0.251622</td>\n",
       "      <td>1</td>\n",
       "      <td>1</td>\n",
       "    </tr>\n",
       "    <tr>\n",
       "      <th>15241</th>\n",
       "      <td>0.940737</td>\n",
       "      <td>0.461363</td>\n",
       "      <td>0</td>\n",
       "      <td>0.706643</td>\n",
       "      <td>0.000000</td>\n",
       "      <td>0.313671</td>\n",
       "      <td>0</td>\n",
       "      <td>1</td>\n",
       "      <td>0.682665</td>\n",
       "      <td>0.604106</td>\n",
       "      <td>0.232712</td>\n",
       "      <td>1</td>\n",
       "      <td>0</td>\n",
       "      <td>0.000000</td>\n",
       "      <td>0.087696</td>\n",
       "      <td>0</td>\n",
       "      <td>0</td>\n",
       "      <td>0.577665</td>\n",
       "      <td>0</td>\n",
       "      <td>1</td>\n",
       "    </tr>\n",
       "  </tbody>\n",
       "</table>\n",
       "</div>"
      ],
      "text/plain": [
       "       log.installment      fico  purpose_credit_card  revol.util  \\\n",
       "8071          0.442753  0.302326                    0    0.528571   \n",
       "15128         0.909645  0.731001                    0    0.094780   \n",
       "14904         0.691505  0.512133                    0    0.372496   \n",
       "8900          0.051153  0.558140                    0    0.160504   \n",
       "15241         0.940737  0.461363                    0    0.706643   \n",
       "\n",
       "       poss.getting.loan  loan.info  purpose_educational  credit.policy  \\\n",
       "8071            0.040496   0.115992                    0              0   \n",
       "15128           0.003961   0.302758                    0              1   \n",
       "14904           0.008810   0.163644                    0              1   \n",
       "8900            0.008269   0.010194                    0              0   \n",
       "15241           0.000000   0.313671                    0              1   \n",
       "\n",
       "       log.int.rate       dti  fico.to.delinq.2yrs  pub.rec_0  \\\n",
       "8071       0.425493  0.113151             0.088763          1   \n",
       "15128      0.371934  0.553030             0.208859          1   \n",
       "14904      0.420718  0.641566             0.167801          1   \n",
       "8900       0.391435  0.684246             0.225317          1   \n",
       "15241      0.682665  0.604106             0.232712          1   \n",
       "\n",
       "       purpose_major_purchase  inq.last.6mths  revol.bal.to.annual.income  \\\n",
       "8071                        0        0.060606                    0.028402   \n",
       "15128                       0        0.024576                    0.031678   \n",
       "14904                       0        0.060606                    0.099911   \n",
       "8900                        0        0.060606                    0.364333   \n",
       "15241                       0        0.000000                    0.087696   \n",
       "\n",
       "       purpose_small_business  pub.rec_1  credit.value  target  rf_pred  \n",
       "8071                        0          0      0.024756       1        1  \n",
       "15128                       0          0      0.177019       0        0  \n",
       "14904                       0          0      0.232268       0        1  \n",
       "8900                        0          0      0.251622       1        1  \n",
       "15241                       0          0      0.577665       0        1  "
      ]
     },
     "execution_count": 54,
     "metadata": {},
     "output_type": "execute_result"
    }
   ],
   "source": [
    "# making predictions and creating data:\n",
    "rf_pred = best_rand_forest_clf.predict(x_val)\n",
    "data_inspect = x_val.copy()\n",
    "data_inspect['target'] = y_val\n",
    "data_inspect['rf_pred'] = rf_pred\n",
    "data_inspect.head()"
   ]
  },
  {
   "cell_type": "code",
   "execution_count": 55,
   "metadata": {},
   "outputs": [],
   "source": [
    "# creating data for positive and negative class of the target feature:\n",
    "pos_class_data = data_inspect[data_inspect['target']==1]\n",
    "neg_class_data = data_inspect[data_inspect['target']==0]"
   ]
  },
  {
   "cell_type": "code",
   "execution_count": 56,
   "metadata": {},
   "outputs": [],
   "source": [
    "# misclassified data for both the classes:\n",
    "mis_pos_data = pos_class_data[pos_class_data['rf_pred']==0]\n",
    "mis_neg_data = neg_class_data[neg_class_data['rf_pred']==1]"
   ]
  },
  {
   "cell_type": "code",
   "execution_count": 57,
   "metadata": {},
   "outputs": [
    {
     "name": "stdout",
     "output_type": "stream",
     "text": [
      "Confusion Matrix for Random Forest Model on Validation Data:\n"
     ]
    },
    {
     "data": {
      "text/html": [
       "<div>\n",
       "<style scoped>\n",
       "    .dataframe tbody tr th:only-of-type {\n",
       "        vertical-align: middle;\n",
       "    }\n",
       "\n",
       "    .dataframe tbody tr th {\n",
       "        vertical-align: top;\n",
       "    }\n",
       "\n",
       "    .dataframe thead th {\n",
       "        text-align: right;\n",
       "    }\n",
       "</style>\n",
       "<table border=\"1\" class=\"dataframe\">\n",
       "  <thead>\n",
       "    <tr style=\"text-align: right;\">\n",
       "      <th></th>\n",
       "      <th>Predicted-0</th>\n",
       "      <th>Predicted-1</th>\n",
       "    </tr>\n",
       "  </thead>\n",
       "  <tbody>\n",
       "    <tr>\n",
       "      <th>Actual-0</th>\n",
       "      <td>555</td>\n",
       "      <td>209</td>\n",
       "    </tr>\n",
       "    <tr>\n",
       "      <th>Actual-1</th>\n",
       "      <td>521</td>\n",
       "      <td>243</td>\n",
       "    </tr>\n",
       "  </tbody>\n",
       "</table>\n",
       "</div>"
      ],
      "text/plain": [
       "          Predicted-0  Predicted-1\n",
       "Actual-0          555          209\n",
       "Actual-1          521          243"
      ]
     },
     "execution_count": 57,
     "metadata": {},
     "output_type": "execute_result"
    }
   ],
   "source": [
    "# confusion matrix for understanding the number of correctly classified and misclassified instances:\n",
    "from sklearn.metrics import confusion_matrix\n",
    "conf_matrix = confusion_matrix(data_inspect['target'], data_inspect['rf_pred'])\n",
    "conf_mat = pd.DataFrame(conf_matrix, columns=['Predicted-0', 'Predicted-1'], index=['Actual-0', 'Actual-1'])\n",
    "print('Confusion Matrix for Random Forest Model on Validation Data:')\n",
    "conf_mat"
   ]
  },
  {
   "cell_type": "code",
   "execution_count": 58,
   "metadata": {},
   "outputs": [
    {
     "name": "stdout",
     "output_type": "stream",
     "text": [
      "Number of Numerical Features --> 11 \n",
      "\n",
      "Numerical Features ['log.installment', 'fico', 'revol.util', 'poss.getting.loan', 'loan.info', 'log.int.rate', 'dti', 'fico.to.delinq.2yrs', 'inq.last.6mths', 'revol.bal.to.annual.income', 'credit.value']\n"
     ]
    }
   ],
   "source": [
    "# num feats to be analysed for actual target==1 and for misclassified instances:\n",
    "num_feats = []\n",
    "target_1_data = orig_data_copy[orig_data_copy['target']==1][x_val.columns]\n",
    "for feat in target_1_data.columns:\n",
    "    if target_1_data[feat].nunique()>3:\n",
    "        num_feats.append(feat)\n",
    "        \n",
    "print('Number of Numerical Features -->', len(num_feats), '\\n')\n",
    "print('Numerical Features', num_feats)"
   ]
  },
  {
   "cell_type": "code",
   "execution_count": 59,
   "metadata": {},
   "outputs": [],
   "source": [
    "# function which plots the distribution of numerical data:\n",
    "def distribution_num_feats(data, num_feats):\n",
    "    plt.figure(figsize=(18, 10))\n",
    "    k = 1\n",
    "    for feat in num_feats:\n",
    "        plt.subplot(2, 6, k)\n",
    "        sns.distplot(data[feat], color='darkred')\n",
    "        plt.grid(True, alpha=0.3)\n",
    "        k +=1"
   ]
  },
  {
   "cell_type": "code",
   "execution_count": 60,
   "metadata": {},
   "outputs": [
    {
     "data": {
      "image/png": "[encoded data removed]",
      "text/plain": [
       "<Figure size 1296x720 with 11 Axes>"
      ]
     },
     "metadata": {
      "needs_background": "light"
     },
     "output_type": "display_data"
    }
   ],
   "source": [
    "# distribution of actual target==1 data:\n",
    "distribution_num_feats(target_1_data, num_feats)"
   ]
  },
  {
   "cell_type": "code",
   "execution_count": 61,
   "metadata": {},
   "outputs": [
    {
     "data": {
      "image/png": "[encoded data removed]",
      "text/plain": [
       "<Figure size 1296x720 with 11 Axes>"
      ]
     },
     "metadata": {
      "needs_background": "light"
     },
     "output_type": "display_data"
    }
   ],
   "source": [
    "# distribution of misclassified data which is actually 1 but predicted as 0:\n",
    "distribution_num_feats(mis_pos_data, num_feats)"
   ]
  },
  {
   "cell_type": "markdown",
   "metadata": {},
   "source": [
    "<strong>For now, I would be training Support Vector CLassifier and see how the data is modelled using this algorithm. Further, later on, I would continue with the inspection of this misclassified data.</strong>"
   ]
  },
  {
   "cell_type": "code",
   "execution_count": null,
   "metadata": {},
   "outputs": [],
   "source": []
  },
  {
   "cell_type": "code",
   "execution_count": null,
   "metadata": {},
   "outputs": [],
   "source": []
  },
  {
   "cell_type": "code",
   "execution_count": null,
   "metadata": {},
   "outputs": [],
   "source": []
  },
  {
   "cell_type": "code",
   "execution_count": 62,
   "metadata": {},
   "outputs": [
    {
     "ename": "SyntaxError",
     "evalue": "invalid syntax (<ipython-input-62-265c40fa938c>, line 1)",
     "output_type": "error",
     "traceback": [
      "\u001b[1;36m  File \u001b[1;32m\"<ipython-input-62-265c40fa938c>\"\u001b[1;36m, line \u001b[1;32m1\u001b[0m\n\u001b[1;33m    honey singh\u001b[0m\n\u001b[1;37m              ^\u001b[0m\n\u001b[1;31mSyntaxError\u001b[0m\u001b[1;31m:\u001b[0m invalid syntax\n"
     ]
    }
   ],
   "source": []
  },
  {
   "cell_type": "markdown",
   "metadata": {},
   "source": [
    "<h3>4) Support Vector Classifier:</h3>\n",
    "<p>Hyperparameters to control:\n",
    "<ol>\n",
    "    <li><code>C</code>: This is the regularization parameter i.e. if 'C' is large, then regularization is less and vice versa.</li>\n",
    "    <li><code>kernel</code>: The kernel or mapping function which is used to transform the original data to new space in order to find the linear decision boundary in that new space.</li>\n",
    "    <li><code>gamma</code>: This is specifically used in 'rbf' kernel where gamma=1/(2*(variance)). Thus, if gamma is high, variance or standard deviation of the Gaussian Function is less and vice versa. Th gaussian function is used to describe extent of each data point while converting it to the new space. </li>\n",
    "    <li><code>probability</code>: Keep it True.</li>\n",
    "   </ol>\n",
    "</p>"
   ]
  },
  {
   "cell_type": "code",
   "execution_count": null,
   "metadata": {},
   "outputs": [],
   "source": [
    "# Hyperparameter Search for Support Vector Machines:\n",
    "from sklearn.svm import SVC\n",
    "# 1st Grid Search:\n",
    "svc_clf = SVC(probability=True, kernel='rbf')\n",
    "\n",
    "# 1st Grid Search:\n",
    "# params = {'C': [0.001, 0.01, 0.1, 1, 100],\n",
    "#          'gamma': [0.001, 0.01, 0.1, 1, 100]}\n",
    "# After 1st Grid Search, selected params: {'C'=100, 'gamma'=1}\n",
    "\n",
    "# 2nd Grid Search:\n",
    "# params = {'C': [100, 1000, 5000],\n",
    "#          'gamma': [1, 20, 50]}\n",
    "# Result for 2nd Random Search: SVC(C=100, gamma=50, probability=True) \n",
    "\n",
    "# # 3rd Grid Search:\n",
    "# params = {'C': [100, 200, 300],\n",
    "#          'gamma': [50, 80, 90]}\n",
    "# After 3rd Grid Search, the model chosen is: SVC(C=100, gamma=90, probability=True)\n",
    "\n",
    "# Still a bit of improvement is required:\n",
    "# 4th Grid Search:\n",
    "params = {'C': [100],\n",
    "         'gamma': [85, 90, 95, 99]}\n",
    "\n",
    "best_svc_clf = search_best_model(svc_clf, params, search='random')\n",
    "fit_status = best_svc_clf.fit_status_\n",
    "\n",
    "# Checking if the model is perfectly fitted:\n",
    "if (fit_status == 0):\n",
    "    print('Model is perfectly fitted')\n",
    "else:\n",
    "    print('Invalid Fit')\n",
    "\n",
    "best_svc_clf"
   ]
  },
  {
   "cell_type": "code",
   "execution_count": 46,
   "metadata": {},
   "outputs": [
    {
     "data": {
      "text/plain": [
       "SVC(C=100, gamma=99, probability=True)"
      ]
     },
     "execution_count": 46,
     "metadata": {},
     "output_type": "execute_result"
    }
   ],
   "source": [
    "from sklearn.svm import SVC\n",
    "best_svc_model = SVC(C=100, gamma=99, probability=True)\n",
    "best_svc_model.fit(x_train, y_train)"
   ]
  },
  {
   "cell_type": "code",
   "execution_count": 49,
   "metadata": {
    "scrolled": true
   },
   "outputs": [
    {
     "data": {
      "text/plain": [
       "array([0, 1, 0, 1, 1, 1, 1, 0, 1, 1], dtype=int64)"
      ]
     },
     "execution_count": 49,
     "metadata": {},
     "output_type": "execute_result"
    }
   ],
   "source": [
    "# making predictions:\n",
    "best_svc_model.predict(x_val[:10])"
   ]
  },
  {
   "cell_type": "code",
   "execution_count": 48,
   "metadata": {},
   "outputs": [
    {
     "data": {
      "text/plain": [
       "['joblib_svc_lr_model.pkl']"
      ]
     },
     "execution_count": 48,
     "metadata": {},
     "output_type": "execute_result"
    }
   ],
   "source": [
    "# saving the model using joblib:\n",
    "import joblib\n",
    "\n",
    "# saving the file in the current directory:\n",
    "joblib_file = \"joblib_svc_lr_model.pkl\"\n",
    "joblib.dump(best_svc_model, joblib_file)"
   ]
  },
  {
   "cell_type": "code",
   "execution_count": 49,
   "metadata": {},
   "outputs": [
    {
     "data": {
      "text/plain": [
       "SVC(C=100, gamma=99, probability=True)"
      ]
     },
     "execution_count": 49,
     "metadata": {},
     "output_type": "execute_result"
    }
   ],
   "source": [
    "# loading the model:\n",
    "joblib_svc_model = joblib.load(\"joblib_svc_lr_model.pkl\")\n",
    "joblib_svc_model"
   ]
  },
  {
   "cell_type": "code",
   "execution_count": 50,
   "metadata": {},
   "outputs": [
    {
     "data": {
      "text/plain": [
       "array([[9.86545811e-01, 1.34541893e-02],\n",
       "       [1.86757230e-01, 8.13242770e-01],\n",
       "       [1.04094758e-01, 8.95905242e-01],\n",
       "       [1.86881382e-01, 8.13118618e-01],\n",
       "       [2.13152081e-01, 7.86847919e-01],\n",
       "       [1.27381893e-01, 8.72618107e-01],\n",
       "       [1.08263905e-01, 8.91736095e-01],\n",
       "       [1.04177812e-01, 8.95822188e-01],\n",
       "       [1.22214218e-01, 8.77785782e-01],\n",
       "       [9.17913209e-01, 8.20867908e-02],\n",
       "       [1.06673657e-01, 8.93326343e-01],\n",
       "       [1.04384021e-01, 8.95615979e-01],\n",
       "       [9.72433917e-01, 2.75660827e-02],\n",
       "       [1.11736805e-01, 8.88263195e-01],\n",
       "       [9.99536299e-01, 4.63700665e-04],\n",
       "       [9.98571692e-01, 1.42830823e-03],\n",
       "       [1.18053993e-01, 8.81946007e-01],\n",
       "       [9.52450133e-01, 4.75498672e-02],\n",
       "       [9.96494522e-01, 3.50547798e-03],\n",
       "       [1.08436378e-01, 8.91563622e-01]])"
      ]
     },
     "execution_count": 50,
     "metadata": {},
     "output_type": "execute_result"
    }
   ],
   "source": [
    "joblib_svc_model.predict_proba(x_val[:20])"
   ]
  },
  {
   "cell_type": "code",
   "execution_count": null,
   "metadata": {
    "collapsed": true
   },
   "outputs": [],
   "source": [
    "# evaluating Best Support Vector Classifier:\n",
    "evaluating_model(best_svc_clf, 'SVC')"
   ]
  },
  {
   "cell_type": "code",
   "execution_count": null,
   "metadata": {},
   "outputs": [],
   "source": []
  },
  {
   "cell_type": "code",
   "execution_count": null,
   "metadata": {
    "scrolled": false
   },
   "outputs": [],
   "source": [
    "# evaluating Best Support Vector Classifier:\n",
    "evaluating_model(best_svc_clf, 'SVC', save=True, show_plots=True)"
   ]
  },
  {
   "cell_type": "code",
   "execution_count": 66,
   "metadata": {},
   "outputs": [
    {
     "name": "stdout",
     "output_type": "stream",
     "text": [
      "Evaluation Table for SVC\n",
      "           Training Metrics  Validation Metrics\n",
      "Accuracy                1.0            0.948298\n",
      "Precision               1.0            0.925466\n",
      "Recall                  1.0            0.975131\n",
      "F1-Score                1.0            0.949649\n",
      "AUC Score               1.0            0.948298\n"
     ]
    },
    {
     "data": {
      "text/plain": [
       "True"
      ]
     },
     "execution_count": 66,
     "metadata": {},
     "output_type": "execute_result"
    },
    {
     "data": {
      "image/png": "[encoded data removed]",
      "text/plain": [
       "<Figure size 1080x432 with 3 Axes>"
      ]
     },
     "metadata": {
      "needs_background": "light"
     },
     "output_type": "display_data"
    }
   ],
   "source": [
    "# evaluating Best Support Vector Classifier:\n",
    "evaluating_model(svc_model, 'SVC', save=True, show_plots=True)"
   ]
  },
  {
   "cell_type": "markdown",
   "metadata": {},
   "source": [
    "<h3>Planning and Building the Logic for Backend Processing:</h3>"
   ]
  },
  {
   "cell_type": "code",
   "execution_count": 71,
   "metadata": {
    "scrolled": true
   },
   "outputs": [
    {
     "data": {
      "text/plain": [
       "Index(['log.installment', 'fico', 'purpose_credit_card', 'revol.util',\n",
       "       'poss.getting.loan', 'loan.info', 'purpose_educational',\n",
       "       'credit.policy', 'log.int.rate', 'dti', 'fico.to.delinq.2yrs',\n",
       "       'pub.rec_0', 'purpose_major_purchase', 'inq.last.6mths',\n",
       "       'revol.bal.to.annual.income', 'purpose_small_business', 'pub.rec_1',\n",
       "       'credit.value'],\n",
       "      dtype='object')"
      ]
     },
     "execution_count": 71,
     "metadata": {},
     "output_type": "execute_result"
    }
   ],
   "source": [
    "x_val.columns"
   ]
  },
  {
   "cell_type": "code",
   "execution_count": 68,
   "metadata": {},
   "outputs": [
    {
     "data": {
      "text/plain": [
       "log.installment               0.909645\n",
       "fico                          0.731001\n",
       "purpose_credit_card           0.000000\n",
       "revol.util                    0.094780\n",
       "poss.getting.loan             0.003961\n",
       "loan.info                     0.302758\n",
       "purpose_educational           0.000000\n",
       "credit.policy                 1.000000\n",
       "log.int.rate                  0.371934\n",
       "dti                           0.553030\n",
       "fico.to.delinq.2yrs           0.208859\n",
       "pub.rec_0                     1.000000\n",
       "purpose_major_purchase        0.000000\n",
       "inq.last.6mths                0.024576\n",
       "revol.bal.to.annual.income    0.031678\n",
       "purpose_small_business        0.000000\n",
       "pub.rec_1                     0.000000\n",
       "credit.value                  0.177019\n",
       "Name: 15128, dtype: float64"
      ]
     },
     "execution_count": 68,
     "metadata": {},
     "output_type": "execute_result"
    }
   ],
   "source": [
    "x_val.iloc[1, :]"
   ]
  },
  {
   "cell_type": "code",
   "execution_count": 53,
   "metadata": {},
   "outputs": [],
   "source": [
    "# imp num features and categorical features for the final data:\n",
    "imp_cat_feats = imp_cat_feats = ['purpose_credit_card', 'purpose_educational', 'credit.policy', 'pub.rec_0', 'purpose_major_purchase', 'purpose_small_business', 'pub.rec_1']\n",
    "imp_num_feats = ['log.installment',\n",
    " 'fico',\n",
    " 'revol.util',\n",
    " 'poss.getting.loan',\n",
    " 'loan.info',\n",
    " 'log.int.rate',\n",
    " 'dti',\n",
    " 'fico.to.delinq.2yrs',\n",
    " 'inq.last.6mths',\n",
    " 'revol.bal.to.annual.income',\n",
    " 'credit.value']"
   ]
  },
  {
   "cell_type": "code",
   "execution_count": 54,
   "metadata": {},
   "outputs": [],
   "source": [
    "# function for preprocessing data:\n",
    "# data will be inputted in json format from Front End and would be sent through API as POST request:\n",
    "\n",
    "def engineer_new_feats(data):\n",
    "    # engineering features in realtime:\n",
    "    data['int.rate'] = data['int.rate']/100\n",
    "    data['log.int.rate'] = np.log(data['int.rate']+1)\n",
    "    data['log.installment'] = np.log(data['installment']+1)\n",
    "    data['poss.getting.loan'] = (data['inq.last.6mths'])/(data['dti']+1)\n",
    "    data['loan.info'] = (data['installment']*data['int.rate'])/data['annual.inc']\n",
    "    data['fico.to.delinq.2yrs'] = (data['fico']*data['annual.inc'])/(data['delinq.2yrs']+1)\n",
    "    data['credit.value'] = data['days.with.cr.line']/(data['delinq.2yrs']+1)\n",
    "    data['revol.bal.to.annual.inc'] = data['revol.bal']/data['annual.inc']\n",
    "    return data"
   ]
  },
  {
   "cell_type": "code",
   "execution_count": 55,
   "metadata": {},
   "outputs": [],
   "source": [
    "# now, we also need to preprocess the data based upon Min-Max Scaling so that all the features \n",
    "# have same scale:\n",
    "\n",
    "def scaling_num_data(data, imp_num_feats):\n",
    "    min_val_feats = [3.3464, 612.0, 0.0, 0.0, 0.00010, 0.05826, 0.0, 1906560.00, 0.0, 203.357, 0.0]\n",
    "    range_feats = [3.500, 215, 119, 11.25, 0.0314199, 0.12877, 29.96, 283602058.065, 33, 17437.60, 3.65463]\n",
    "    min_max_data = {}\n",
    "\n",
    "    for num_feat, min_val_feat, range_feat in zip(imp_num_feats, min_val_feats, range_feats):\n",
    "        min_max_data[num_feat] = {'min_val': min_val_feat, 'range_val': range_feat}\n",
    "        \n",
    "    # preprocessing numerical data:\n",
    "    for feat in imp_num_feats:\n",
    "        data[feat] = (data[feat] - min_max_data[feat]['min_val'])/min_max_data[feat]['range_val']\n",
    "        \n",
    "    return data"
   ]
  },
  {
   "cell_type": "code",
   "execution_count": 56,
   "metadata": {},
   "outputs": [],
   "source": [
    "# preprocessing Categorical Features:\n",
    "# initially we start with assigning each feature's value == 0\n",
    "def encoding_cat_feats(data, imp_cat_feats):\n",
    "    feats_updated = []\n",
    "\n",
    "    # assigning values for purchase related categorical feats:\n",
    "    if (data['purpose'] == 'Credit Card'):\n",
    "        data['purpose_credit_card'] = 1\n",
    "        feats_updated.append('purpose_credit_card')\n",
    "        \n",
    "    elif (data['purpose'] == 'Educational'):\n",
    "        data['purpose_educational'] = 1\n",
    "        feats_updated.append('purpose_educational')\n",
    "        \n",
    "    elif (data['purpose'] == 'Major Purchase'):\n",
    "        data['purpose_major_purchase'] = 1\n",
    "        feats_updated.append('purpose_major_purchase')\n",
    "        \n",
    "    elif (data['purpose'] == 'Small Business'):\n",
    "        data['purpose_small_business'] = 1\n",
    "        feats_updated.append('purpose_small_business')\n",
    "    else:\n",
    "        pass\n",
    "\n",
    "    # assigning values for pub.rec related categorical feats:\n",
    "    if (data['pub.rec'] == 0):\n",
    "        data['pub.rec_0'] = 1\n",
    "        feats_updated.append('pub.rec_0')\n",
    "        \n",
    "    elif (data['pub.rec'] == 1):\n",
    "        data['pub.rec_1'] = 1\n",
    "        feats_updated.append('pub.rec_1')\n",
    "        \n",
    "    else:\n",
    "        pass\n",
    "\n",
    "    # assigning values for credit.policy:\n",
    "    if (data['credit.policy'] == 'Yes'):\n",
    "        data['credit.policy'] = 1\n",
    "        feats_updated.append('credit.policy')\n",
    "    else:\n",
    "        data['credit.policy'] = 0\n",
    "     \n",
    "    # non-updated feats:\n",
    "    non_updated_feats = list(set(imp_cat_feats).symmetric_difference(set(feats_updated)))\n",
    "    \n",
    "    # assigning the non-updated feats to 0:\n",
    "    for feat in non_updated_feats:\n",
    "        data[feat] = 0.0\n",
    "        \n",
    "    return data"
   ]
  },
  {
   "cell_type": "code",
   "execution_count": 57,
   "metadata": {},
   "outputs": [
    {
     "data": {
      "text/plain": [
       "{'purpose': 'Major Purchase',\n",
       " 'pub.rec': 0,\n",
       " 'credit.policy': 1,\n",
       " 'purpose_major_purchase': 1,\n",
       " 'pub.rec_0': 1,\n",
       " 'purpose_credit_card': 0.0,\n",
       " 'pub.rec_1': 0.0,\n",
       " 'purpose_educational': 0.0,\n",
       " 'purpose_small_business': 0.0}"
      ]
     },
     "execution_count": 57,
     "metadata": {},
     "output_type": "execute_result"
    }
   ],
   "source": [
    "# testing the encoding_cat_feats():\n",
    "test_data = {'purpose': 'Major Purchase', \n",
    "            'pub.rec': 0,\n",
    "            'credit.policy': 'Yes'}\n",
    "\n",
    "encoding_cat_feats(test_data, imp_cat_feats)"
   ]
  },
  {
   "cell_type": "code",
   "execution_count": 58,
   "metadata": {},
   "outputs": [],
   "source": [
    "# bringing the data in the form such that it can be passed to the model:\n",
    "\n",
    "def final_data_to_pass(data):\n",
    "    final_data_pass = np.array([data['log.installment'],\n",
    "                              data['fico'],\n",
    "                              data['purpose_credit_card'],\n",
    "                              data['revol.util'],\n",
    "                              data['poss.getting.loan'],\n",
    "                              data['loan.info'],\n",
    "                              data['purpose_educational'],\n",
    "                              data['credit.policy'],\n",
    "                              data['log.int.rate'],\n",
    "                              data['dti'],\n",
    "                              data['fico.to.delinq.2yrs'],\n",
    "                              data['pub.rec_0'],\n",
    "                              data['purpose_major_purchase'],\n",
    "                              data['inq.last.6mths'],\n",
    "                              data['revol.bal.to.annual.inc'],\n",
    "                              data['purpose_small_business'],\n",
    "                              data['pub.rec_1'],\n",
    "                              data['credit.value']])\n",
    "    return final_data_pass"
   ]
  },
  {
   "cell_type": "code",
   "execution_count": 18,
   "metadata": {},
   "outputs": [],
   "source": [
    "# Finally combining everything:\n",
    "\n",
    "# create dummy data and pass through engineer_new_features(data):\n",
    "# then scale data (MinMaxScaling) through scaling_num_data(data, imp_num_feats):\n",
    "# the make the categorical features one hot encoded using encoding_cat_feats(data, imp_cat_feats):\n",
    "# finally create the data which needs to be passed though the model by passing it through final_data_to_pass(data):"
   ]
  },
  {
   "cell_type": "markdown",
   "metadata": {},
   "source": [
    "<h2>How data is passed and preprocessed in real time:</h2>"
   ]
  },
  {
   "cell_type": "code",
   "execution_count": 76,
   "metadata": {},
   "outputs": [
    {
     "data": {
      "text/plain": [
       "SVC(C=100, gamma=99, probability=True)"
      ]
     },
     "execution_count": 76,
     "metadata": {},
     "output_type": "execute_result"
    }
   ],
   "source": [
    "# loading the model:\n",
    "joblib_svc_model = joblib.load(\"joblib_svc_lr_model.pkl\")\n",
    "joblib_svc_model"
   ]
  },
  {
   "cell_type": "code",
   "execution_count": 59,
   "metadata": {
    "scrolled": false
   },
   "outputs": [
    {
     "data": {
      "text/html": [
       "<div>\n",
       "<style scoped>\n",
       "    .dataframe tbody tr th:only-of-type {\n",
       "        vertical-align: middle;\n",
       "    }\n",
       "\n",
       "    .dataframe tbody tr th {\n",
       "        vertical-align: top;\n",
       "    }\n",
       "\n",
       "    .dataframe thead th {\n",
       "        text-align: right;\n",
       "    }\n",
       "</style>\n",
       "<table border=\"1\" class=\"dataframe\">\n",
       "  <thead>\n",
       "    <tr style=\"text-align: right;\">\n",
       "      <th></th>\n",
       "      <th>log.installment</th>\n",
       "      <th>fico</th>\n",
       "      <th>purpose_credit_card</th>\n",
       "      <th>revol.util</th>\n",
       "      <th>poss.getting.loan</th>\n",
       "      <th>loan.info</th>\n",
       "      <th>purpose_educational</th>\n",
       "      <th>credit.policy</th>\n",
       "      <th>log.int.rate</th>\n",
       "      <th>dti</th>\n",
       "      <th>fico.to.delinq.2yrs</th>\n",
       "      <th>pub.rec_0</th>\n",
       "      <th>purpose_major_purchase</th>\n",
       "      <th>inq.last.6mths</th>\n",
       "      <th>revol.bal.to.annual.income</th>\n",
       "      <th>purpose_small_business</th>\n",
       "      <th>pub.rec_1</th>\n",
       "      <th>credit.value</th>\n",
       "    </tr>\n",
       "  </thead>\n",
       "  <tbody>\n",
       "    <tr>\n",
       "      <th>8380</th>\n",
       "      <td>0.549335</td>\n",
       "      <td>0.302326</td>\n",
       "      <td>0</td>\n",
       "      <td>0.361345</td>\n",
       "      <td>0.026673</td>\n",
       "      <td>0.067806</td>\n",
       "      <td>0</td>\n",
       "      <td>0</td>\n",
       "      <td>0.464925</td>\n",
       "      <td>0.411549</td>\n",
       "      <td>0.227218</td>\n",
       "      <td>1</td>\n",
       "      <td>0</td>\n",
       "      <td>0.121212</td>\n",
       "      <td>0.073683</td>\n",
       "      <td>0</td>\n",
       "      <td>0</td>\n",
       "      <td>0.332477</td>\n",
       "    </tr>\n",
       "    <tr>\n",
       "      <th>15146</th>\n",
       "      <td>0.592953</td>\n",
       "      <td>0.302326</td>\n",
       "      <td>0</td>\n",
       "      <td>0.806301</td>\n",
       "      <td>0.005208</td>\n",
       "      <td>0.199244</td>\n",
       "      <td>0</td>\n",
       "      <td>1</td>\n",
       "      <td>0.603110</td>\n",
       "      <td>0.490677</td>\n",
       "      <td>0.091257</td>\n",
       "      <td>1</td>\n",
       "      <td>0</td>\n",
       "      <td>0.026634</td>\n",
       "      <td>0.150496</td>\n",
       "      <td>0</td>\n",
       "      <td>0</td>\n",
       "      <td>0.181601</td>\n",
       "    </tr>\n",
       "    <tr>\n",
       "      <th>14718</th>\n",
       "      <td>0.266174</td>\n",
       "      <td>0.240527</td>\n",
       "      <td>0</td>\n",
       "      <td>0.838176</td>\n",
       "      <td>0.002928</td>\n",
       "      <td>0.040432</td>\n",
       "      <td>0</td>\n",
       "      <td>1</td>\n",
       "      <td>0.603994</td>\n",
       "      <td>0.791483</td>\n",
       "      <td>0.141765</td>\n",
       "      <td>0</td>\n",
       "      <td>0</td>\n",
       "      <td>0.025111</td>\n",
       "      <td>0.039869</td>\n",
       "      <td>0</td>\n",
       "      <td>1</td>\n",
       "      <td>0.297235</td>\n",
       "    </tr>\n",
       "    <tr>\n",
       "      <th>14878</th>\n",
       "      <td>0.435076</td>\n",
       "      <td>0.203396</td>\n",
       "      <td>0</td>\n",
       "      <td>0.754500</td>\n",
       "      <td>0.000000</td>\n",
       "      <td>0.327683</td>\n",
       "      <td>0</td>\n",
       "      <td>0</td>\n",
       "      <td>0.583675</td>\n",
       "      <td>0.488915</td>\n",
       "      <td>0.026562</td>\n",
       "      <td>1</td>\n",
       "      <td>0</td>\n",
       "      <td>0.000000</td>\n",
       "      <td>0.117205</td>\n",
       "      <td>0</td>\n",
       "      <td>0</td>\n",
       "      <td>0.138854</td>\n",
       "    </tr>\n",
       "    <tr>\n",
       "      <th>8230</th>\n",
       "      <td>0.231956</td>\n",
       "      <td>0.534884</td>\n",
       "      <td>0</td>\n",
       "      <td>0.067227</td>\n",
       "      <td>0.137812</td>\n",
       "      <td>0.049296</td>\n",
       "      <td>0</td>\n",
       "      <td>0</td>\n",
       "      <td>0.168131</td>\n",
       "      <td>0.009680</td>\n",
       "      <td>0.100942</td>\n",
       "      <td>1</td>\n",
       "      <td>0</td>\n",
       "      <td>0.060606</td>\n",
       "      <td>0.001987</td>\n",
       "      <td>0</td>\n",
       "      <td>0</td>\n",
       "      <td>0.024756</td>\n",
       "    </tr>\n",
       "    <tr>\n",
       "      <th>15130</th>\n",
       "      <td>0.839738</td>\n",
       "      <td>0.140317</td>\n",
       "      <td>0</td>\n",
       "      <td>0.638648</td>\n",
       "      <td>0.007507</td>\n",
       "      <td>0.196850</td>\n",
       "      <td>0</td>\n",
       "      <td>0</td>\n",
       "      <td>0.768308</td>\n",
       "      <td>0.361852</td>\n",
       "      <td>0.070063</td>\n",
       "      <td>1</td>\n",
       "      <td>0</td>\n",
       "      <td>0.030303</td>\n",
       "      <td>0.042980</td>\n",
       "      <td>0</td>\n",
       "      <td>0</td>\n",
       "      <td>0.067119</td>\n",
       "    </tr>\n",
       "    <tr>\n",
       "      <th>15000</th>\n",
       "      <td>0.894541</td>\n",
       "      <td>0.375357</td>\n",
       "      <td>0</td>\n",
       "      <td>0.788295</td>\n",
       "      <td>0.004562</td>\n",
       "      <td>0.326396</td>\n",
       "      <td>0</td>\n",
       "      <td>1</td>\n",
       "      <td>0.632082</td>\n",
       "      <td>0.522563</td>\n",
       "      <td>0.170041</td>\n",
       "      <td>1</td>\n",
       "      <td>0</td>\n",
       "      <td>0.026050</td>\n",
       "      <td>0.090745</td>\n",
       "      <td>0</td>\n",
       "      <td>0</td>\n",
       "      <td>0.225270</td>\n",
       "    </tr>\n",
       "    <tr>\n",
       "      <th>15258</th>\n",
       "      <td>0.696068</td>\n",
       "      <td>0.398509</td>\n",
       "      <td>0</td>\n",
       "      <td>0.101932</td>\n",
       "      <td>0.027379</td>\n",
       "      <td>0.219969</td>\n",
       "      <td>0</td>\n",
       "      <td>1</td>\n",
       "      <td>0.331000</td>\n",
       "      <td>0.464678</td>\n",
       "      <td>0.120048</td>\n",
       "      <td>1</td>\n",
       "      <td>0</td>\n",
       "      <td>0.139162</td>\n",
       "      <td>0.022364</td>\n",
       "      <td>0</td>\n",
       "      <td>0</td>\n",
       "      <td>0.334604</td>\n",
       "    </tr>\n",
       "    <tr>\n",
       "      <th>15191</th>\n",
       "      <td>0.113643</td>\n",
       "      <td>0.285025</td>\n",
       "      <td>0</td>\n",
       "      <td>0.045064</td>\n",
       "      <td>0.010486</td>\n",
       "      <td>0.139838</td>\n",
       "      <td>0</td>\n",
       "      <td>0</td>\n",
       "      <td>0.566216</td>\n",
       "      <td>0.258440</td>\n",
       "      <td>0.009594</td>\n",
       "      <td>1</td>\n",
       "      <td>0</td>\n",
       "      <td>0.030303</td>\n",
       "      <td>0.021297</td>\n",
       "      <td>0</td>\n",
       "      <td>0</td>\n",
       "      <td>0.042656</td>\n",
       "    </tr>\n",
       "    <tr>\n",
       "      <th>8034</th>\n",
       "      <td>0.423684</td>\n",
       "      <td>0.162791</td>\n",
       "      <td>1</td>\n",
       "      <td>0.240336</td>\n",
       "      <td>0.020165</td>\n",
       "      <td>0.210097</td>\n",
       "      <td>0</td>\n",
       "      <td>0</td>\n",
       "      <td>0.641617</td>\n",
       "      <td>0.702270</td>\n",
       "      <td>0.017802</td>\n",
       "      <td>1</td>\n",
       "      <td>0</td>\n",
       "      <td>0.151515</td>\n",
       "      <td>0.027235</td>\n",
       "      <td>0</td>\n",
       "      <td>0</td>\n",
       "      <td>0.025328</td>\n",
       "    </tr>\n",
       "  </tbody>\n",
       "</table>\n",
       "</div>"
      ],
      "text/plain": [
       "       log.installment      fico  purpose_credit_card  revol.util  \\\n",
       "8380          0.549335  0.302326                    0    0.361345   \n",
       "15146         0.592953  0.302326                    0    0.806301   \n",
       "14718         0.266174  0.240527                    0    0.838176   \n",
       "14878         0.435076  0.203396                    0    0.754500   \n",
       "8230          0.231956  0.534884                    0    0.067227   \n",
       "15130         0.839738  0.140317                    0    0.638648   \n",
       "15000         0.894541  0.375357                    0    0.788295   \n",
       "15258         0.696068  0.398509                    0    0.101932   \n",
       "15191         0.113643  0.285025                    0    0.045064   \n",
       "8034          0.423684  0.162791                    1    0.240336   \n",
       "\n",
       "       poss.getting.loan  loan.info  purpose_educational  credit.policy  \\\n",
       "8380            0.026673   0.067806                    0              0   \n",
       "15146           0.005208   0.199244                    0              1   \n",
       "14718           0.002928   0.040432                    0              1   \n",
       "14878           0.000000   0.327683                    0              0   \n",
       "8230            0.137812   0.049296                    0              0   \n",
       "15130           0.007507   0.196850                    0              0   \n",
       "15000           0.004562   0.326396                    0              1   \n",
       "15258           0.027379   0.219969                    0              1   \n",
       "15191           0.010486   0.139838                    0              0   \n",
       "8034            0.020165   0.210097                    0              0   \n",
       "\n",
       "       log.int.rate       dti  fico.to.delinq.2yrs  pub.rec_0  \\\n",
       "8380       0.464925  0.411549             0.227218          1   \n",
       "15146      0.603110  0.490677             0.091257          1   \n",
       "14718      0.603994  0.791483             0.141765          0   \n",
       "14878      0.583675  0.488915             0.026562          1   \n",
       "8230       0.168131  0.009680             0.100942          1   \n",
       "15130      0.768308  0.361852             0.070063          1   \n",
       "15000      0.632082  0.522563             0.170041          1   \n",
       "15258      0.331000  0.464678             0.120048          1   \n",
       "15191      0.566216  0.258440             0.009594          1   \n",
       "8034       0.641617  0.702270             0.017802          1   \n",
       "\n",
       "       purpose_major_purchase  inq.last.6mths  revol.bal.to.annual.income  \\\n",
       "8380                        0        0.121212                    0.073683   \n",
       "15146                       0        0.026634                    0.150496   \n",
       "14718                       0        0.025111                    0.039869   \n",
       "14878                       0        0.000000                    0.117205   \n",
       "8230                        0        0.060606                    0.001987   \n",
       "15130                       0        0.030303                    0.042980   \n",
       "15000                       0        0.026050                    0.090745   \n",
       "15258                       0        0.139162                    0.022364   \n",
       "15191                       0        0.030303                    0.021297   \n",
       "8034                        0        0.151515                    0.027235   \n",
       "\n",
       "       purpose_small_business  pub.rec_1  credit.value  \n",
       "8380                        0          0      0.332477  \n",
       "15146                       0          0      0.181601  \n",
       "14718                       0          1      0.297235  \n",
       "14878                       0          0      0.138854  \n",
       "8230                        0          0      0.024756  \n",
       "15130                       0          0      0.067119  \n",
       "15000                       0          0      0.225270  \n",
       "15258                       0          0      0.334604  \n",
       "15191                       0          0      0.042656  \n",
       "8034                        0          0      0.025328  "
      ]
     },
     "execution_count": 59,
     "metadata": {},
     "output_type": "execute_result"
    }
   ],
   "source": [
    "x_val[20:30]"
   ]
  },
  {
   "cell_type": "code",
   "execution_count": 72,
   "metadata": {},
   "outputs": [],
   "source": [
    "# dummy data on which we are testing:\n",
    "# test_data = {'installment': 150.2,\n",
    "#        'fico': 602,\n",
    "#        'revol.util': 54.1,\n",
    "#        'annual.inc': 128172.21,\n",
    "#        'int.rate': 11,\n",
    "#        'dti': 12.23,\n",
    "#        'inq.last.6mths': 4,\n",
    "#        'days.with.cr.line': 5263.0,\n",
    "#        'delinq.2yrs': 2,\n",
    "#        'revol.bal': 33623,\n",
    "#        'credit.policy': 1,\n",
    "#        'purpose': 'Marriage',\n",
    "#        'pub.rec': 1}\n",
    "\n",
    "test_data = {'credit.policy': 'Yes', 'purpose': 'Debt Consolidation', 'int.rate': 10.39, 'installment': 194.71, 'dti': 7.5, 'fico': 692, 'days.with.cr.line': 1920.0, 'revol.bal': 4524, 'revol.util': 94.2, 'inq.last.6mths': 1, 'delinq.2yrs': 0, 'pub.rec': 0, 'not.fully.paid': 0, 'annual.inc': 45667.134700240094}"
   ]
  },
  {
   "cell_type": "code",
   "execution_count": 73,
   "metadata": {
    "scrolled": true
   },
   "outputs": [
    {
     "name": "stdout",
     "output_type": "stream",
     "text": [
      "[[0.5515, 0.3721, 0.0, 0.7916, 0.0105, 0.0109, 0.0, 1.0, 0.3152, 0.2503, 0.1047, 1.0, 0.0, 0.0303, 0.0271, 0.0, 0.0, 0.0984]]\n"
     ]
    }
   ],
   "source": [
    "imp_num_feats = ['log.installment', 'fico', 'revol.util', 'poss.getting.loan', 'loan.info', 'log.int.rate', 'dti', 'fico.to.delinq.2yrs', 'inq.last.6mths', 'credit.value', 'revol.bal.to.annual.inc']\n",
    "imp_cat_feats = ['purpose_credit_card', 'purpose_educational', 'credit.policy', 'pub.rec_0', 'purpose_major_purchase', 'purpose_small_business', 'pub.rec_1']\n",
    "\n",
    "\n",
    "new_data = engineer_new_feats(test_data)\n",
    "num_scaled_data = scaling_num_data(new_data, imp_num_feats)\n",
    "cat_scaled_data = encoding_cat_feats(num_scaled_data, imp_cat_feats)\n",
    "final_data = final_data_to_pass(cat_scaled_data).reshape(1, 18)\n",
    "final_data_rounded = [[round(data_point, 4) for data_point in final_data[0]]]\n",
    "print(final_data_rounded)"
   ]
  },
  {
   "cell_type": "code",
   "execution_count": 74,
   "metadata": {},
   "outputs": [
    {
     "name": "stdout",
     "output_type": "stream",
     "text": [
      "Final DataFrame -->    log.installment  fico  purpose_credit_card  revol.util  poss.getting.loan  \\\n",
      "0             0.55  0.37                  0.0        0.79               0.01   \n",
      "\n",
      "   loan.info  purpose_educational  credit.policy  log.int.rate   dti  \\\n",
      "0       0.01                  0.0            1.0          0.32  0.25   \n",
      "\n",
      "   fico.to.delinq.2yrs  pub.rec_0  purpose_major_purchase  inq.last.6mths  \\\n",
      "0                  0.1        1.0                     0.0            0.03   \n",
      "\n",
      "   revol.bal.to.annual.income  purpose_small_business  pub.rec_1  credit.value  \n",
      "0                        0.03                     0.0        0.0           0.1  \n"
     ]
    }
   ],
   "source": [
    "final_data = np.round(np.array(final_data_rounded).reshape(1, 18), 2)\n",
    "final_dataframe = pd.DataFrame(final_data, columns=['log.installment', 'fico', 'purpose_credit_card', 'revol.util', 'poss.getting.loan', 'loan.info', 'purpose_educational','credit.policy', 'log.int.rate', 'dti', 'fico.to.delinq.2yrs',\n",
    "       'pub.rec_0', 'purpose_major_purchase', 'inq.last.6mths','revol.bal.to.annual.income', 'purpose_small_business', 'pub.rec_1', 'credit.value'])\n",
    "print(\"Final DataFrame -->\", final_dataframe)"
   ]
  },
  {
   "cell_type": "code",
   "execution_count": 75,
   "metadata": {},
   "outputs": [
    {
     "data": {
      "text/plain": [
       "array([[0.1401733, 0.8598267]])"
      ]
     },
     "execution_count": 75,
     "metadata": {},
     "output_type": "execute_result"
    }
   ],
   "source": [
    "joblib_svc_model.predict_proba(final_dataframe)"
   ]
  },
  {
   "cell_type": "code",
   "execution_count": 111,
   "metadata": {
    "scrolled": true
   },
   "outputs": [
    {
     "data": {
      "text/plain": [
       "array([[0.99760345, 0.00239655],\n",
       "       [0.9825916 , 0.0174084 ],\n",
       "       [0.04199035, 0.95800965],\n",
       "       [0.04204345, 0.95795655],\n",
       "       [0.16037412, 0.83962588],\n",
       "       [0.91713118, 0.08286882],\n",
       "       [0.04205564, 0.95794436],\n",
       "       [0.04199498, 0.95800502],\n",
       "       [0.0421072 , 0.9578928 ],\n",
       "       [0.0419997 , 0.9580003 ]])"
      ]
     },
     "execution_count": 111,
     "metadata": {},
     "output_type": "execute_result"
    }
   ],
   "source": [
    "svc.predict_proba(x_val[10:20])"
   ]
  },
  {
   "cell_type": "code",
   "execution_count": 112,
   "metadata": {
    "scrolled": true
   },
   "outputs": [
    {
     "data": {
      "text/plain": [
       "array([[0.16036766, 0.83963234],\n",
       "       [0.9976078 , 0.0023922 ],\n",
       "       [0.17399121, 0.82600879],\n",
       "       [0.99592188, 0.00407812],\n",
       "       [0.16242465, 0.83757535],\n",
       "       [0.04208036, 0.95791964],\n",
       "       [0.04205765, 0.95794235],\n",
       "       [0.04214154, 0.95785846],\n",
       "       [0.9976025 , 0.0023975 ],\n",
       "       [0.04213001, 0.95786999],\n",
       "       [0.04197794, 0.95802206],\n",
       "       [0.04202301, 0.95797699],\n",
       "       [0.99760379, 0.00239621],\n",
       "       [0.16014761, 0.83985239],\n",
       "       [0.04200884, 0.95799116],\n",
       "       [0.15803404, 0.84196596],\n",
       "       [0.99760004, 0.00239996],\n",
       "       [0.89352522, 0.10647478],\n",
       "       [0.27063772, 0.72936228],\n",
       "       [0.04201127, 0.95798873]])"
      ]
     },
     "execution_count": 112,
     "metadata": {},
     "output_type": "execute_result"
    }
   ],
   "source": [
    "svc.predict_proba(x_train[:20])"
   ]
  },
  {
   "cell_type": "markdown",
   "metadata": {},
   "source": [
    "<h3>Observation:</h3>\n",
    "<p>\n",
    "<ol>\n",
    "    <li></li>\n",
    "    <li></li>\n",
    "    <li></li>\n",
    "    <li></li>\n",
    "    <li></li>\n",
    "    <li></li>\n",
    "    </ol>\n",
    "</p>"
   ]
  },
  {
   "cell_type": "code",
   "execution_count": null,
   "metadata": {
    "scrolled": true
   },
   "outputs": [],
   "source": []
  },
  {
   "cell_type": "code",
   "execution_count": 1,
   "metadata": {},
   "outputs": [],
   "source": [
    "# Testing Model:\n",
    "import pickle\n",
    "fh = open('best_svc_model.pkl', 'rb')\n",
    "svc = pickle.load(fh)\n",
    "fh.close()"
   ]
  },
  {
   "cell_type": "code",
   "execution_count": 54,
   "metadata": {},
   "outputs": [
    {
     "data": {
      "text/plain": [
       "array([[0.99322399, 0.00677601],\n",
       "       [0.11419233, 0.88580767],\n",
       "       [0.99452386, 0.00547614],\n",
       "       [0.22041404, 0.77958596],\n",
       "       [0.50506188, 0.49493812],\n",
       "       [0.98961744, 0.01038256],\n",
       "       [0.691588  , 0.308412  ],\n",
       "       [0.99720771, 0.00279229],\n",
       "       [0.99659442, 0.00340558],\n",
       "       [0.14327473, 0.85672527],\n",
       "       [0.10788074, 0.89211926],\n",
       "       [0.99698694, 0.00301306],\n",
       "       [0.99482178, 0.00517822],\n",
       "       [0.10788165, 0.89211835],\n",
       "       [0.11636699, 0.88363301],\n",
       "       [0.18184733, 0.81815267],\n",
       "       [0.10789663, 0.89210337],\n",
       "       [0.9988284 , 0.0011716 ],\n",
       "       [0.99740694, 0.00259306],\n",
       "       [0.23553398, 0.76446602]])"
      ]
     },
     "execution_count": 54,
     "metadata": {},
     "output_type": "execute_result"
    }
   ],
   "source": [
    "svc.predict_proba(x_val[:20])"
   ]
  },
  {
   "cell_type": "code",
   "execution_count": 55,
   "metadata": {},
   "outputs": [],
   "source": [
    "data = [[-1.46624759e-01,  2.69767442e-01,  0.00000000e+00,  8.40336134e-02,   1.64507506e-01, -3.17262703e-03,  0.00000000e+00,  1.00000000e+00,  -5.33564114e+01,  5.07676903e-01,  3.70853209e-02,  0.00000000e+00,   0.00000000e+00,  9.09090909e-01,  2.21340068e-03,  1.00000000e+00,   1.00000000e+00, -8.02998501e-03]]"
   ]
  },
  {
   "cell_type": "code",
   "execution_count": 57,
   "metadata": {},
   "outputs": [
    {
     "data": {
      "text/plain": [
       "array([[0.10788169, 0.89211831]])"
      ]
     },
     "execution_count": 57,
     "metadata": {},
     "output_type": "execute_result"
    }
   ],
   "source": [
    "svc.predict_proba(data)"
   ]
  },
  {
   "cell_type": "code",
   "execution_count": 62,
   "metadata": {},
   "outputs": [
    {
     "data": {
      "text/plain": [
       "array([[0.11419233, 0.88580767]])"
      ]
     },
     "execution_count": 62,
     "metadata": {},
     "output_type": "execute_result"
    }
   ],
   "source": [
    "data = x_val.iloc[1].values.reshape(1, 18)\n",
    "svc.predict_proba(data)"
   ]
  },
  {
   "cell_type": "code",
   "execution_count": null,
   "metadata": {},
   "outputs": [],
   "source": []
  }
 ],
 "metadata": {
  "kernelspec": {
   "display_name": "Python 3",
   "language": "python",
   "name": "python3"
  },
  "language_info": {
   "codemirror_mode": {
    "name": "ipython",
    "version": 3
   },
   "file_extension": ".py",
   "mimetype": "text/x-python",
   "name": "python",
   "nbconvert_exporter": "python",
   "pygments_lexer": "ipython3",
   "version": "3.7.7"
  }
 },
 "nbformat": 4,
 "nbformat_minor": 4
}
