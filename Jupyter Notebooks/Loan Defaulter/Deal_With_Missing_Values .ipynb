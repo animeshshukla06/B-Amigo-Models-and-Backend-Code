{
 "cells": [
  {
   "cell_type": "markdown",
   "metadata": {},
   "source": [
    "<h2>Loan Defaulter Project (Dealing with Missing Values):</h2>\n",
    "<p>In this Data Science Project, I would be <strong>predicting whether a customer should be approved for the loan or not. </strong> We would be simply deploying this model on Heroku and then creating a Web and Mobile Application for Bank Managers so that they can have a look at those people who should be approved for loan.</p>"
   ]
  },
  {
   "cell_type": "code",
   "execution_count": 1,
   "metadata": {},
   "outputs": [],
   "source": [
    "# Importing numpy, pandas, matplotlib and seaborn :\n",
    "import numpy as np\n",
    "import pandas as pd\n",
    "import matplotlib.pyplot as plt\n",
    "import seaborn as sns\n",
    "\n",
    "# for handling the warnings:\n",
    "import sys\n",
    "import warnings\n",
    "\n",
    "if not sys.warnoptions:\n",
    "    warnings.simplefilter(\"ignore\")"
   ]
  },
  {
   "cell_type": "code",
   "execution_count": 2,
   "metadata": {},
   "outputs": [
    {
     "data": {
      "text/html": [
       "<div>\n",
       "<style scoped>\n",
       "    .dataframe tbody tr th:only-of-type {\n",
       "        vertical-align: middle;\n",
       "    }\n",
       "\n",
       "    .dataframe tbody tr th {\n",
       "        vertical-align: top;\n",
       "    }\n",
       "\n",
       "    .dataframe thead th {\n",
       "        text-align: right;\n",
       "    }\n",
       "</style>\n",
       "<table border=\"1\" class=\"dataframe\">\n",
       "  <thead>\n",
       "    <tr style=\"text-align: right;\">\n",
       "      <th></th>\n",
       "      <th>Gender</th>\n",
       "      <th>Married</th>\n",
       "      <th>Dependents</th>\n",
       "      <th>Education</th>\n",
       "      <th>Self_Employed</th>\n",
       "      <th>ApplicantIncome</th>\n",
       "      <th>CoapplicantIncome</th>\n",
       "      <th>LoanAmount</th>\n",
       "      <th>Loan_Amount_Term</th>\n",
       "      <th>Credit_History</th>\n",
       "      <th>Property_Area</th>\n",
       "      <th>Loan_Status</th>\n",
       "    </tr>\n",
       "  </thead>\n",
       "  <tbody>\n",
       "    <tr>\n",
       "      <th>0</th>\n",
       "      <td>Male</td>\n",
       "      <td>No</td>\n",
       "      <td>0</td>\n",
       "      <td>Graduate</td>\n",
       "      <td>No</td>\n",
       "      <td>5849</td>\n",
       "      <td>0.0</td>\n",
       "      <td>NaN</td>\n",
       "      <td>360.0</td>\n",
       "      <td>1.0</td>\n",
       "      <td>Urban</td>\n",
       "      <td>Y</td>\n",
       "    </tr>\n",
       "    <tr>\n",
       "      <th>1</th>\n",
       "      <td>Male</td>\n",
       "      <td>Yes</td>\n",
       "      <td>1</td>\n",
       "      <td>Graduate</td>\n",
       "      <td>No</td>\n",
       "      <td>4583</td>\n",
       "      <td>1508.0</td>\n",
       "      <td>128.0</td>\n",
       "      <td>360.0</td>\n",
       "      <td>1.0</td>\n",
       "      <td>Rural</td>\n",
       "      <td>N</td>\n",
       "    </tr>\n",
       "    <tr>\n",
       "      <th>2</th>\n",
       "      <td>Male</td>\n",
       "      <td>Yes</td>\n",
       "      <td>0</td>\n",
       "      <td>Graduate</td>\n",
       "      <td>Yes</td>\n",
       "      <td>3000</td>\n",
       "      <td>0.0</td>\n",
       "      <td>66.0</td>\n",
       "      <td>360.0</td>\n",
       "      <td>1.0</td>\n",
       "      <td>Urban</td>\n",
       "      <td>Y</td>\n",
       "    </tr>\n",
       "    <tr>\n",
       "      <th>3</th>\n",
       "      <td>Male</td>\n",
       "      <td>Yes</td>\n",
       "      <td>0</td>\n",
       "      <td>Not Graduate</td>\n",
       "      <td>No</td>\n",
       "      <td>2583</td>\n",
       "      <td>2358.0</td>\n",
       "      <td>120.0</td>\n",
       "      <td>360.0</td>\n",
       "      <td>1.0</td>\n",
       "      <td>Urban</td>\n",
       "      <td>Y</td>\n",
       "    </tr>\n",
       "    <tr>\n",
       "      <th>4</th>\n",
       "      <td>Male</td>\n",
       "      <td>No</td>\n",
       "      <td>0</td>\n",
       "      <td>Graduate</td>\n",
       "      <td>No</td>\n",
       "      <td>6000</td>\n",
       "      <td>0.0</td>\n",
       "      <td>141.0</td>\n",
       "      <td>360.0</td>\n",
       "      <td>1.0</td>\n",
       "      <td>Urban</td>\n",
       "      <td>Y</td>\n",
       "    </tr>\n",
       "  </tbody>\n",
       "</table>\n",
       "</div>"
      ],
      "text/plain": [
       "  Gender Married Dependents     Education Self_Employed  ApplicantIncome  \\\n",
       "0   Male      No          0      Graduate            No             5849   \n",
       "1   Male     Yes          1      Graduate            No             4583   \n",
       "2   Male     Yes          0      Graduate           Yes             3000   \n",
       "3   Male     Yes          0  Not Graduate            No             2583   \n",
       "4   Male      No          0      Graduate            No             6000   \n",
       "\n",
       "   CoapplicantIncome  LoanAmount  Loan_Amount_Term  Credit_History  \\\n",
       "0                0.0         NaN             360.0             1.0   \n",
       "1             1508.0       128.0             360.0             1.0   \n",
       "2                0.0        66.0             360.0             1.0   \n",
       "3             2358.0       120.0             360.0             1.0   \n",
       "4                0.0       141.0             360.0             1.0   \n",
       "\n",
       "  Property_Area Loan_Status  \n",
       "0         Urban           Y  \n",
       "1         Rural           N  \n",
       "2         Urban           Y  \n",
       "3         Urban           Y  \n",
       "4         Urban           Y  "
      ]
     },
     "execution_count": 2,
     "metadata": {},
     "output_type": "execute_result"
    }
   ],
   "source": [
    "# reading original data:\n",
    "orig_data = pd.read_csv('loan_train.csv')\n",
    "orig_data = orig_data.drop('Loan_ID', axis=1)\n",
    "orig_data.head()"
   ]
  },
  {
   "cell_type": "code",
   "execution_count": 3,
   "metadata": {},
   "outputs": [
    {
     "name": "stdout",
     "output_type": "stream",
     "text": [
      "Categorical Feature:  ['Gender', 'Married', 'Dependents', 'Education', 'Self_Employed', 'Loan_Amount_Term', 'Credit_History', 'Property_Area', 'Loan_Status']\n",
      "\n",
      "Numerical Features:  ['ApplicantIncome', 'CoapplicantIncome', 'LoanAmount']\n"
     ]
    }
   ],
   "source": [
    "# columns name of orig_data:\n",
    "feats_orig = list(orig_data.columns)\n",
    "cat_feats_orig = []\n",
    "num_feats_orig = []\n",
    "\n",
    "# distincting features:\n",
    "for feature in feats_orig:\n",
    "    if orig_data[feature].nunique() > 10:\n",
    "        num_feats_orig.append(feature)\n",
    "    else:\n",
    "        cat_feats_orig.append(feature)\n",
    "\n",
    "print('Categorical Feature: ', cat_feats_orig, end='\\n\\n')\n",
    "print('Numerical Features: ', num_feats_orig)"
   ]
  },
  {
   "cell_type": "code",
   "execution_count": 4,
   "metadata": {},
   "outputs": [
    {
     "data": {
      "text/html": [
       "<div>\n",
       "<style scoped>\n",
       "    .dataframe tbody tr th:only-of-type {\n",
       "        vertical-align: middle;\n",
       "    }\n",
       "\n",
       "    .dataframe tbody tr th {\n",
       "        vertical-align: top;\n",
       "    }\n",
       "\n",
       "    .dataframe thead th {\n",
       "        text-align: right;\n",
       "    }\n",
       "</style>\n",
       "<table border=\"1\" class=\"dataframe\">\n",
       "  <thead>\n",
       "    <tr style=\"text-align: right;\">\n",
       "      <th></th>\n",
       "      <th>ApplicantIncome</th>\n",
       "      <th>CoapplicantIncome</th>\n",
       "      <th>LoanAmount</th>\n",
       "    </tr>\n",
       "  </thead>\n",
       "  <tbody>\n",
       "    <tr>\n",
       "      <th>0</th>\n",
       "      <td>5849</td>\n",
       "      <td>0.0</td>\n",
       "      <td>NaN</td>\n",
       "    </tr>\n",
       "    <tr>\n",
       "      <th>1</th>\n",
       "      <td>4583</td>\n",
       "      <td>1508.0</td>\n",
       "      <td>128.0</td>\n",
       "    </tr>\n",
       "    <tr>\n",
       "      <th>2</th>\n",
       "      <td>3000</td>\n",
       "      <td>0.0</td>\n",
       "      <td>66.0</td>\n",
       "    </tr>\n",
       "    <tr>\n",
       "      <th>3</th>\n",
       "      <td>2583</td>\n",
       "      <td>2358.0</td>\n",
       "      <td>120.0</td>\n",
       "    </tr>\n",
       "    <tr>\n",
       "      <th>4</th>\n",
       "      <td>6000</td>\n",
       "      <td>0.0</td>\n",
       "      <td>141.0</td>\n",
       "    </tr>\n",
       "  </tbody>\n",
       "</table>\n",
       "</div>"
      ],
      "text/plain": [
       "   ApplicantIncome  CoapplicantIncome  LoanAmount\n",
       "0             5849                0.0         NaN\n",
       "1             4583             1508.0       128.0\n",
       "2             3000                0.0        66.0\n",
       "3             2583             2358.0       120.0\n",
       "4             6000                0.0       141.0"
      ]
     },
     "execution_count": 4,
     "metadata": {},
     "output_type": "execute_result"
    }
   ],
   "source": [
    "# numerical data:\n",
    "orig_data[num_feats_orig].head()"
   ]
  },
  {
   "cell_type": "code",
   "execution_count": 5,
   "metadata": {},
   "outputs": [
    {
     "data": {
      "text/html": [
       "<div>\n",
       "<style scoped>\n",
       "    .dataframe tbody tr th:only-of-type {\n",
       "        vertical-align: middle;\n",
       "    }\n",
       "\n",
       "    .dataframe tbody tr th {\n",
       "        vertical-align: top;\n",
       "    }\n",
       "\n",
       "    .dataframe thead th {\n",
       "        text-align: right;\n",
       "    }\n",
       "</style>\n",
       "<table border=\"1\" class=\"dataframe\">\n",
       "  <thead>\n",
       "    <tr style=\"text-align: right;\">\n",
       "      <th></th>\n",
       "      <th>Gender</th>\n",
       "      <th>Married</th>\n",
       "      <th>Dependents</th>\n",
       "      <th>Education</th>\n",
       "      <th>Self_Employed</th>\n",
       "      <th>Loan_Amount_Term</th>\n",
       "      <th>Credit_History</th>\n",
       "      <th>Property_Area</th>\n",
       "      <th>Loan_Status</th>\n",
       "    </tr>\n",
       "  </thead>\n",
       "  <tbody>\n",
       "    <tr>\n",
       "      <th>0</th>\n",
       "      <td>Male</td>\n",
       "      <td>No</td>\n",
       "      <td>0</td>\n",
       "      <td>Graduate</td>\n",
       "      <td>No</td>\n",
       "      <td>360.0</td>\n",
       "      <td>1.0</td>\n",
       "      <td>Urban</td>\n",
       "      <td>Y</td>\n",
       "    </tr>\n",
       "    <tr>\n",
       "      <th>1</th>\n",
       "      <td>Male</td>\n",
       "      <td>Yes</td>\n",
       "      <td>1</td>\n",
       "      <td>Graduate</td>\n",
       "      <td>No</td>\n",
       "      <td>360.0</td>\n",
       "      <td>1.0</td>\n",
       "      <td>Rural</td>\n",
       "      <td>N</td>\n",
       "    </tr>\n",
       "    <tr>\n",
       "      <th>2</th>\n",
       "      <td>Male</td>\n",
       "      <td>Yes</td>\n",
       "      <td>0</td>\n",
       "      <td>Graduate</td>\n",
       "      <td>Yes</td>\n",
       "      <td>360.0</td>\n",
       "      <td>1.0</td>\n",
       "      <td>Urban</td>\n",
       "      <td>Y</td>\n",
       "    </tr>\n",
       "    <tr>\n",
       "      <th>3</th>\n",
       "      <td>Male</td>\n",
       "      <td>Yes</td>\n",
       "      <td>0</td>\n",
       "      <td>Not Graduate</td>\n",
       "      <td>No</td>\n",
       "      <td>360.0</td>\n",
       "      <td>1.0</td>\n",
       "      <td>Urban</td>\n",
       "      <td>Y</td>\n",
       "    </tr>\n",
       "    <tr>\n",
       "      <th>4</th>\n",
       "      <td>Male</td>\n",
       "      <td>No</td>\n",
       "      <td>0</td>\n",
       "      <td>Graduate</td>\n",
       "      <td>No</td>\n",
       "      <td>360.0</td>\n",
       "      <td>1.0</td>\n",
       "      <td>Urban</td>\n",
       "      <td>Y</td>\n",
       "    </tr>\n",
       "  </tbody>\n",
       "</table>\n",
       "</div>"
      ],
      "text/plain": [
       "  Gender Married Dependents     Education Self_Employed  Loan_Amount_Term  \\\n",
       "0   Male      No          0      Graduate            No             360.0   \n",
       "1   Male     Yes          1      Graduate            No             360.0   \n",
       "2   Male     Yes          0      Graduate           Yes             360.0   \n",
       "3   Male     Yes          0  Not Graduate            No             360.0   \n",
       "4   Male      No          0      Graduate            No             360.0   \n",
       "\n",
       "   Credit_History Property_Area Loan_Status  \n",
       "0             1.0         Urban           Y  \n",
       "1             1.0         Rural           N  \n",
       "2             1.0         Urban           Y  \n",
       "3             1.0         Urban           Y  \n",
       "4             1.0         Urban           Y  "
      ]
     },
     "execution_count": 5,
     "metadata": {},
     "output_type": "execute_result"
    }
   ],
   "source": [
    "# categotical data:\n",
    "orig_data[cat_feats_orig].head()"
   ]
  },
  {
   "cell_type": "markdown",
   "metadata": {},
   "source": [
    "<h2>Inspecting Missing Values:</h2>"
   ]
  },
  {
   "cell_type": "code",
   "execution_count": 6,
   "metadata": {},
   "outputs": [
    {
     "data": {
      "text/plain": [
       "Gender               13\n",
       "Married               3\n",
       "Dependents           15\n",
       "Education             0\n",
       "Self_Employed        32\n",
       "ApplicantIncome       0\n",
       "CoapplicantIncome     0\n",
       "LoanAmount           22\n",
       "Loan_Amount_Term     14\n",
       "Credit_History       50\n",
       "Property_Area         0\n",
       "Loan_Status           0\n",
       "dtype: int64"
      ]
     },
     "execution_count": 6,
     "metadata": {},
     "output_type": "execute_result"
    }
   ],
   "source": [
    "# Number of missing values in each of the feature:\n",
    "temp_data = orig_data.copy() # creating a copy of original data\n",
    "temp_data.isnull().sum() # creates a Pandas Series"
   ]
  },
  {
   "cell_type": "code",
   "execution_count": 7,
   "metadata": {},
   "outputs": [
    {
     "name": "stdout",
     "output_type": "stream",
     "text": [
      "Observations in no_null_data --> 480\n"
     ]
    }
   ],
   "source": [
    "# creating data which does not contain any null values:\n",
    "no_null_data = temp_data.dropna()\n",
    "print('Observations in no_null_data -->', len(no_null_data))"
   ]
  },
  {
   "cell_type": "code",
   "execution_count": 8,
   "metadata": {},
   "outputs": [
    {
     "name": "stdout",
     "output_type": "stream",
     "text": [
      "Percentage of data removed:  21.824104234527685 %\n"
     ]
    }
   ],
   "source": [
    "# percentage of data removed from temp_data to create no_null_data:\n",
    "print('Percentage of data removed: ', (1-(len(no_null_data)/len(temp_data)))*100, '%')"
   ]
  },
  {
   "cell_type": "code",
   "execution_count": 26,
   "metadata": {
    "scrolled": false
   },
   "outputs": [
    {
     "data": {
      "text/plain": [
       "Gender               0\n",
       "Married              0\n",
       "Dependents           0\n",
       "Education            0\n",
       "Self_Employed        0\n",
       "ApplicantIncome      0\n",
       "CoapplicantIncome    0\n",
       "LoanAmount           0\n",
       "Loan_Amount_Term     0\n",
       "Credit_History       0\n",
       "Property_Area        0\n",
       "Loan_Status          0\n",
       "dtype: int64"
      ]
     },
     "execution_count": 26,
     "metadata": {},
     "output_type": "execute_result"
    }
   ],
   "source": [
    "no_null_data.isnull().sum()"
   ]
  },
  {
   "cell_type": "code",
   "execution_count": 28,
   "metadata": {},
   "outputs": [
    {
     "name": "stdout",
     "output_type": "stream",
     "text": [
      "total number of rows in Original Data --> 614\n"
     ]
    }
   ],
   "source": [
    "print('total number of rows in Original Data -->', len(orig_data))"
   ]
  },
  {
   "cell_type": "code",
   "execution_count": 29,
   "metadata": {},
   "outputs": [
    {
     "name": "stdout",
     "output_type": "stream",
     "text": [
      "total number of rows in reference Data --> 480\n"
     ]
    }
   ],
   "source": [
    "print('total number of rows in reference Data -->', len(no_null_data))"
   ]
  },
  {
   "cell_type": "markdown",
   "metadata": {},
   "source": [
    "<h3>Inspection of Missing Values:</h3>\n",
    "<p>\n",
    "<ol>\n",
    "    <li>Most of the features seems to have missing values but the number of missing values is not that high.</li>\n",
    "    <li>We would be using <code>no_null_data</code> for extracting insights and relationship among different features. These relationships among different features could be used for dealing with the missing values in a proper manner.</li>\n",
    "    <li>Only 5 features are there which do not have any missing values within them.</li>\n",
    "    <li>The aim to deal with missing values is start with the feature which has the least number of missing values and then go till the feature which has the highest number of missing values.</li>\n",
    "      </ol>\n",
    "</p>"
   ]
  },
  {
   "cell_type": "code",
   "execution_count": 14,
   "metadata": {},
   "outputs": [
    {
     "data": {
      "text/plain": [
       "['ApplicantIncome', 'CoapplicantIncome', 'LoanAmount']"
      ]
     },
     "execution_count": 14,
     "metadata": {},
     "output_type": "execute_result"
    }
   ],
   "source": [
    "num_feats_orig"
   ]
  },
  {
   "cell_type": "code",
   "execution_count": 17,
   "metadata": {
    "scrolled": true
   },
   "outputs": [
    {
     "data": {
      "image/png": "[encoded data removed]",
      "text/plain": [
       "<Figure size 432x288 with 1 Axes>"
      ]
     },
     "metadata": {
      "needs_background": "light"
     },
     "output_type": "display_data"
    }
   ],
   "source": [
    "# inspect boxplot of a numerical feat:\n",
    "sns.boxplot(y=\"ApplicantIncome\", data=no_null_data)\n",
    "plt.grid(True, alpha=0.3)"
   ]
  },
  {
   "cell_type": "code",
   "execution_count": 18,
   "metadata": {},
   "outputs": [
    {
     "data": {
      "image/png": "[encoded data removed]",
      "text/plain": [
       "<Figure size 864x504 with 3 Axes>"
      ]
     },
     "metadata": {
      "needs_background": "light"
     },
     "output_type": "display_data"
    }
   ],
   "source": [
    "# distribution of numerical features:\n",
    "plt.figure(figsize=(12, 7))\n",
    "k = 1\n",
    "for num_feat in num_feats_orig:\n",
    "    plt.subplot(2, 2, k);\n",
    "    sns.distplot(no_null_data[num_feat]+1, color='blue')\n",
    "    plt.grid(True, alpha=0.4)\n",
    "    k +=1"
   ]
  },
  {
   "cell_type": "code",
   "execution_count": 19,
   "metadata": {},
   "outputs": [
    {
     "data": {
      "image/png": "[encoded data removed]",
      "text/plain": [
       "<Figure size 864x504 with 3 Axes>"
      ]
     },
     "metadata": {
      "needs_background": "light"
     },
     "output_type": "display_data"
    }
   ],
   "source": [
    "# log transformation of numerical features:\n",
    "plt.figure(figsize=(12, 7))\n",
    "k = 1\n",
    "for num_feat in num_feats_orig:\n",
    "    plt.subplot(2, 2, k);\n",
    "    sns.distplot(np.log(no_null_data[num_feat]+1), color='green')\n",
    "    plt.grid(True, alpha=0.4)\n",
    "    k +=1"
   ]
  },
  {
   "cell_type": "markdown",
   "metadata": {},
   "source": [
    "<h3>Chi-Square Test of Independence and One-Way ANOVA Test:</h3>"
   ]
  },
  {
   "cell_type": "code",
   "execution_count": 11,
   "metadata": {
    "scrolled": true
   },
   "outputs": [],
   "source": [
    "from scipy.stats import chi2_contingency\n",
    "from scipy.stats import f_oneway\n",
    "\n",
    "# one-way anova test which finds the significant numerical features wrt a categorical feature:\n",
    "def one_way_anova(data, cur_cat_feat, numerical_feats):\n",
    "    categories = list(data[cur_cat_feat].unique())\n",
    "    anova_result = []\n",
    "    \n",
    "    for each_num_feat in numerical_feats:\n",
    "        list_data_categories = [data[data[cur_cat_feat]==category][each_num_feat] for category in categories]\n",
    "        p_value = f_oneway(*list_data_categories)[1]\n",
    "        \n",
    "        # significant feature only:\n",
    "        if p_value<0.05:\n",
    "            anova_result.append((each_num_feat, p_value))\n",
    "        \n",
    "    result_df = pd.DataFrame(anova_result, columns=['Significant Features', 'P-Values'])\n",
    "    return result_df\n",
    "\n",
    "# computes the features depending significantly on a particular feature:\n",
    "def chi2_test_of_indep(correct_data, feat_wrt, all_cat_feats, all_num_feats):\n",
    "    results_ = []\n",
    "    num_categories = correct_data[feat_wrt].nunique()\n",
    "    print('Chi-square Test of Independence is computed for --> ', feat_wrt)\n",
    "    for categorical_feat in all_cat_feats:\n",
    "        if categorical_feat != feat_wrt:\n",
    "            cont_table = pd.pivot_table(correct_data, \n",
    "                                    columns=[feat_wrt], \n",
    "                                    index=[categorical_feat], \n",
    "                                    aggfunc=len)\n",
    "            \n",
    "            final_cont_table = cont_table.iloc[:, :num_categories]\n",
    "            p_value = chi2_contingency(final_cont_table)[1]\n",
    "            \n",
    "            # significant features dependence:\n",
    "            if p_value<=0.05:\n",
    "                results_.append((categorical_feat, p_value))\n",
    "                \n",
    "        else:\n",
    "            continue\n",
    "            \n",
    "    anova_result_table = one_way_anova(correct_data, feat_wrt, all_num_feats)\n",
    "    test_of_indep_df = pd.DataFrame(results_, columns=['Significant Features', 'P-Values'])\n",
    "    stats_test_table = pd.concat([anova_result_table, test_of_indep_df], axis=0)\n",
    "    return stats_test_table\n",
    "\n",
    "# looking missing values of a particular feature:\n",
    "def look_up_missing_values_data(test_of_indep_table, feat_wrt):\n",
    "    significant_feats = list(test_of_indep_table['Significant Features'])\n",
    "    missing_values_data = temp_data[temp_data[feat_wrt].isnull()][significant_feats]\n",
    "    return missing_values_data\n",
    "\n",
    "# ratio of categories of a particular categprical feature:\n",
    "def ratio_of_categories(data, feat_wrt):\n",
    "    print('Analysis of: ', feat_wrt)\n",
    "    categories = list(data[feat_wrt].unique())\n",
    "    for category in categories:\n",
    "        print('Proportion of {} --> {}%'.format(category, (len(data[data[feat_wrt]==category])/len(data))*100))\n",
    "    sns.countplot(feat_wrt, data=data)\n",
    "    plt.show()"
   ]
  },
  {
   "cell_type": "code",
   "execution_count": 12,
   "metadata": {},
   "outputs": [],
   "source": [
    "from sklearn.linear_model import LogisticRegression\n",
    "from sklearn.metrics import log_loss\n",
    "from sklearn.metrics import precision_score\n",
    "from sklearn.metrics import recall_score\n",
    "from sklearn.metrics import f1_score\n",
    "from sklearn.metrics import accuracy_score\n",
    "\n",
    "# creating the Logistic Regression or Softmax Regression model to deal with the missing values\n",
    "# of the categorical feature:\n",
    "\n",
    "# remember data = copy of no_null_data:\n",
    "def encoding_categorical_features(train_data, test_data, test_of_indep_table, to_drop_list_features=None):\n",
    "    final_significant_feats = list(test_of_indep_table['Significant Features'])\n",
    "    \n",
    "    if len(to_drop_list_features)>0:\n",
    "        final_significant_feats = list(set(final_significant_feats).symmetric_difference(set(to_drop_list_features)))\n",
    "    \n",
    "    inter_data_train = train_data[final_significant_feats] # interested training data\n",
    "    inter_data_test = test_data[final_significant_feats] # interested test data\n",
    "    \n",
    "    # iterating over the categories of each categorical feature:\n",
    "    for sig_feat in final_significant_feats:\n",
    "        if inter_data_train[sig_feat].nunique() > 5:\n",
    "            # a numerical feature:\n",
    "            # scale the numerical features to the same range using standardization(mean=0 and std_dev=1):\n",
    "            mean = np.mean(inter_data_train[sig_feat])\n",
    "            median = np.mean(inter_data_train[sig_feat])\n",
    "            std_dev = np.std(inter_data_train[sig_feat])\n",
    "            \n",
    "            # if any missing value is present for a numerical feature:\n",
    "            inter_data_train[sig_feat] = np.where(inter_data_train[sig_feat].isnull(), median, inter_data_train[sig_feat])\n",
    "            inter_data_test[sig_feat] = np.where(inter_data_test[sig_feat].isnull(), median, inter_data_test[sig_feat])\n",
    "            \n",
    "            # standardization:\n",
    "            inter_data_train[sig_feat] = (inter_data_train[sig_feat]-mean)/std_dev\n",
    "            inter_data_test[sig_feat] = (inter_data_test[sig_feat]-mean)/std_dev\n",
    "            \n",
    "        else:\n",
    "            # a categorical feature:\n",
    "            # iterate over each category of the significant categorical feature:\n",
    "            for sig_cat_category in inter_data_train[sig_feat].unique():\n",
    "                inter_data_train[sig_feat + '_' + sig_cat_category] = np.where(inter_data_train[sig_feat]==sig_cat_category, 1, 0)\n",
    "                inter_data_test[sig_feat + '_' + sig_cat_category] = np.where(inter_data_test[sig_feat]==sig_cat_category, 1, 0)\n",
    "                \n",
    "            # removing the categorical feature once encoded:\n",
    "            inter_data_train = inter_data_train.drop([sig_feat], axis=1)\n",
    "            inter_data_test = inter_data_test.drop([sig_feat], axis=1)\n",
    "            \n",
    "#     print('Final Training Data: \\n', inter_data_train)\n",
    "#     print('Final Test Data: \\n', inter_data_test)\n",
    "    return inter_data_train, inter_data_test \n",
    "\n",
    "# modelling the data to deal with the missing values:\n",
    "def split_data(full_training_data, encoded_target_data):\n",
    "     # creating training and validation data:\n",
    "    x_train = full_training_data[:450]\n",
    "    y_train = encoded_target_data[:450]\n",
    "    \n",
    "    x_val = full_training_data[450:]\n",
    "    y_val = encoded_target_data[450:]\n",
    "    return x_train, y_train, x_val, y_val\n",
    "\n",
    "# full_data = copy of no_null_data:\n",
    "def predicting_missing_values(full_training_data, target_feature, full_data, test_data, reg_param):\n",
    "    if full_data[target_feature].nunique()<5:\n",
    "        # a categorical dependent feature\n",
    "        \n",
    "        categories = list(full_data[target_feature].unique())\n",
    "        encoded_target_data = full_data[target_feature].map({categories[i]:i for i in range(len(categories))}) # dict comprehension\n",
    "        x_train, y_train, x_val, y_val = split_data(full_training_data, encoded_target_data)\n",
    "        \n",
    "        # training model:\n",
    "        if len(categories) == 2:\n",
    "            # train logistic regression\n",
    "            log_reg_clf = LogisticRegression(C=reg_param)\n",
    "            final_model = evaluating_model_perf_clf(x_train, y_train, x_val, y_val, log_reg_clf)\n",
    "            missing_values = final_model.predict(test_data)\n",
    "            return missing_values, categories\n",
    "\n",
    "        else:\n",
    "            # train softmax regression\n",
    "            softmax_reg_clf = LogisticRegression(C=reg_param, multi_class='multinomial')\n",
    "            final_model = evaluating_model_perf_clf(x_train, y_train, x_val, y_val, softmax_reg_clf)\n",
    "            missing_values = final_model.predict(test_data)\n",
    "            return missing_values, categories\n",
    "        \n",
    "    else:\n",
    "        # a numerical dependent feature: no need to standardize it:\n",
    "        encoded_target_data = full_data[target_feature]\n",
    "        x_train, y_train, x_val, y_val = split_data(full_training_data, encoded_target_data)\n",
    "        final_model = train_linear_regression_model(x_train, y_train, x_val, y_val)\n",
    "        missing_values = final_model.predict(test_data)\n",
    "        return missing_values\n",
    "\n",
    "# evaluating model's performance as well:\n",
    "def evaluating_model_perf_clf(x_train, y_train, x_val, y_val, model):\n",
    "#     training_error = []\n",
    "#     validation_error = []\n",
    "    \n",
    "    # training the model on data which increases by 1 factor:\n",
    "#     for row_number in range(100, len(x_train)+1):\n",
    "#         model.fit(x_train[:row_number], y_train[:row_number])\n",
    "        \n",
    "#         # make predictions on training data:\n",
    "#         train_pred = model.predict(x_train[:row_number])\n",
    "#         cur_train_error = log_loss(y_train[:row_number], train_pred)\n",
    "#         training_error.append(cur_train_error)\n",
    "        \n",
    "#         # make predictions on validation data:\n",
    "#         val_pred = model.predict(x_val)\n",
    "#         cur_val_error = log_loss(y_val, val_pred)\n",
    "#         validation_error.append(cur_val_error)\n",
    "        \n",
    "    model.fit(x_train, y_train)\n",
    "    train_pred = model.predict(x_train)\n",
    "    val_pred = model.predict(x_val)\n",
    "    \n",
    "    # evaluation metrics for training\n",
    "    train_prec = precision_score(y_train, train_pred, average=None)\n",
    "    train_recall = recall_score(y_train, train_pred,  average=None)\n",
    "    train_f1 = f1_score(y_train, train_pred,  average=None)\n",
    "    train_acc = accuracy_score(y_train, train_pred)\n",
    "    \n",
    "    # evaluation metrics for validation:\n",
    "    val_prec = precision_score(y_val, val_pred,  average=None)\n",
    "    val_recall = recall_score(y_val, val_pred,  average=None)\n",
    "    val_f1 = f1_score(y_val, val_pred,  average=None)\n",
    "    val_acc = accuracy_score(y_val, val_pred)\n",
    "    \n",
    "    table_data = [(train_prec, val_prec), (train_recall, val_recall), (train_f1, val_f1), (train_acc, val_acc)]\n",
    "    results_table = pd.DataFrame(table_data, \n",
    "                 columns=['Training Eval Metrics', 'Validation Eval Metrics'], \n",
    "                 index=['Precision', 'Recall', 'F1-Score', 'Accuracy'])\n",
    "    \n",
    "    print('\\n Evaluation Table: \\n')\n",
    "    print(results_table)\n",
    "    \n",
    "#     # plotting the training and validation error:\n",
    "#     plt.figure(figsize=(12, 8))\n",
    "#     plt.plot(np.arange(len(training_error)), training_error, 'r-o', label='Training Error')\n",
    "#     plt.plot(np.arange(len(validation_error)), validation_error, 'g-^', label='Validation Error')\n",
    "#     plt.xlabel('Number of Iterations', fontsize=13)\n",
    "#     plt.ylabel('Cost function', fontsize=13)\n",
    "#     plt.title('Evaluating Model', fontsize=15)\n",
    "#     plt.legend()\n",
    "#     plt.grid(True, alpha=0.4)\n",
    "    \n",
    "    return model    "
   ]
  },
  {
   "cell_type": "code",
   "execution_count": 13,
   "metadata": {},
   "outputs": [],
   "source": [
    "# adding the missing values to the data:\n",
    "def attach_missing_values(target_feature, missing_values_to_add, temp_data, categories=None):\n",
    "    test_data = temp_data[temp_data[target_feature].isnull()]\n",
    "    temp_new_data = temp_data.drop(index=list(test_data.index), axis=0)\n",
    "    test_data[target_feature] = missing_values_to_add\n",
    "    if categories:\n",
    "        test_data[target_feature] = test_data[target_feature].map({i:categories[i] for i in range(len(categories))})\n",
    "    \n",
    "    print('\\nData after dealing with Missing Values: \\n', test_data[target_feature])\n",
    "    final_temp_data = pd.concat([temp_new_data, test_data], axis=0)\n",
    "    return final_temp_data\n",
    "\n",
    "# combining all of the above functions in a single function:\n",
    "def analysis_and_predicting_missing_values(data, target_feature, cat_feats_orig, data_to_add_missing_values_pred, reg_param=1.0):\n",
    "    # analysis of target feature:\n",
    "    ratio_of_categories(data, target_feature)\n",
    "    \n",
    "    # chi2 test of independece:\n",
    "    test_of_indep_table = chi2_test_of_indep(data, target_feature, cat_feats_orig, num_feats_orig)\n",
    "    print('Result of Chisquare Test of independence', end='\\n\\n')\n",
    "    print(test_of_indep_table)\n",
    "    \n",
    "    # loooking up data for which target feature has missing value:\n",
    "    init_test_data = look_up_missing_values_data(test_of_indep_table, target_feature)\n",
    "    print('Result of Test Data:', end='\\n\\n')\n",
    "    print(init_test_data, end='\\n\\n')\n",
    "    \n",
    "    # encoding categorical data:\n",
    "    to_drop_feats = input('Enter the feature or features to drop: ').split()\n",
    "    print('Feature to Remove: ', to_drop_feats)\n",
    "    (final_train_data, final_test_data) = encoding_categorical_features(data, init_test_data, test_of_indep_table, to_drop_list_features=to_drop_feats)\n",
    "    \n",
    "    # predicting missing values by creating a model:\n",
    "    missing_values, categories = predicting_missing_values(final_train_data, target_feature, data, final_test_data, reg_param=reg_param)\n",
    "    miss_val_dealt_data = attach_missing_values(target_feature, list(missing_values), categories=categories, temp_data=data_to_add_missing_values_pred)\n",
    "    return miss_val_dealt_data"
   ]
  },
  {
   "cell_type": "markdown",
   "metadata": {},
   "source": [
    "<h3>How can we use above functions?</h3>\n",
    "<p>\n",
    "<ol>\n",
    "    <li>Start with analyzing the ratio of categories using: <code>ratio_of_categories()</code></li>\n",
    "    <li>Use <code>chi2_test_of_indep()</code> to compute the features which are significantly dependent on the the feature whose missing value is to be computed.</li>\n",
    "    <li>Use <code>look_up_missing_value()</code> to have a look at what other features have missing values along with the feature whose missing value is to be computed. Result of this function will be used in choosing the final features to create a model.</li>\n",
    "    <li>We can generate test data for a feature whose missing value is to be computed using <code>generate_test_data_for_feature()</code> function.</li>\n",
    "    <li>Now, we encode the categorical features of train and test data using <code>encoding_categorical_features()</code> function.</li>\n",
    "    <li>Finally we use <code>predicting_missing_values()</code> function to predict the missing value based upon the trained model. This function in turn calls <code>evaluating_model_perf()</code> which helps us to have a look at the training an validation errors.</li>\n",
    "    <li><code>analysing_and_predicting_missing_values()</code> function combines all of the functions above and shows result for each of the categorical feature's analysis</li>\n",
    "    <li><code>attach_missing_values()</code> is a function which adds the predicted values by the model to the data and concatenates the data. </li>    \n",
    "    </ol>\n",
    "</p>"
   ]
  },
  {
   "cell_type": "markdown",
   "metadata": {},
   "source": [
    "<h4>Missing Values for \"Loan_Amount_Term\":</h4>"
   ]
  },
  {
   "cell_type": "code",
   "execution_count": 14,
   "metadata": {},
   "outputs": [
    {
     "name": "stdout",
     "output_type": "stream",
     "text": [
      "Analysis of:  Loan_Amount_Term\n",
      "Proportion of 360.0 --> 85.625%\n",
      "Proportion of 120.0 --> 0.625%\n",
      "Proportion of 180.0 --> 7.5%\n",
      "Proportion of 60.0 --> 0.4166666666666667%\n",
      "Proportion of 300.0 --> 1.875%\n",
      "Proportion of 480.0 --> 2.5%\n",
      "Proportion of 240.0 --> 0.4166666666666667%\n",
      "Proportion of 36.0 --> 0.4166666666666667%\n",
      "Proportion of 84.0 --> 0.625%\n"
     ]
    },
    {
     "data": {
      "image/png": "[encoded data removed]",
      "text/plain": [
       "<Figure size 432x288 with 1 Axes>"
      ]
     },
     "metadata": {
      "needs_background": "light"
     },
     "output_type": "display_data"
    },
    {
     "name": "stdout",
     "output_type": "stream",
     "text": [
      "\n",
      "Data after dealing with Missing Values: \n",
      " 19     360.0\n",
      "36     360.0\n",
      "44     360.0\n",
      "45     360.0\n",
      "73     360.0\n",
      "112    360.0\n",
      "165    360.0\n",
      "197    360.0\n",
      "223    360.0\n",
      "232    360.0\n",
      "335    360.0\n",
      "367    360.0\n",
      "421    360.0\n",
      "423    360.0\n",
      "Name: Loan_Amount_Term, dtype: float64\n"
     ]
    }
   ],
   "source": [
    "no_null_copy_data = no_null_data.copy()\n",
    "ratio_of_categories(no_null_copy_data, 'Loan_Amount_Term')\n",
    "num_missing_values = temp_data['Loan_Amount_Term'].isnull().sum()\n",
    "\n",
    "# Since most of the 86% of \"Loan_Amount_Term\" contains 360.0, thus replace 360.0 for all of its missing values.\n",
    "missing_values = [360.0]*num_missing_values\n",
    "temp_data = attach_missing_values(\"Loan_Amount_Term\", missing_values, temp_data)"
   ]
  },
  {
   "cell_type": "code",
   "execution_count": 15,
   "metadata": {},
   "outputs": [
    {
     "data": {
      "text/plain": [
       "Gender               13\n",
       "Married               3\n",
       "Dependents           15\n",
       "Education             0\n",
       "Self_Employed        32\n",
       "ApplicantIncome       0\n",
       "CoapplicantIncome     0\n",
       "LoanAmount           22\n",
       "Loan_Amount_Term      0\n",
       "Credit_History       50\n",
       "Property_Area         0\n",
       "Loan_Status           0\n",
       "dtype: int64"
      ]
     },
     "execution_count": 15,
     "metadata": {},
     "output_type": "execute_result"
    }
   ],
   "source": [
    "temp_data.isnull().sum()"
   ]
  },
  {
   "cell_type": "markdown",
   "metadata": {},
   "source": [
    "<h4>Missing Values of 'Married':</h4>"
   ]
  },
  {
   "cell_type": "code",
   "execution_count": 16,
   "metadata": {
    "scrolled": false
   },
   "outputs": [
    {
     "name": "stdout",
     "output_type": "stream",
     "text": [
      "Analysis of:  Married\n",
      "Proportion of Yes --> 64.79166666666667%\n",
      "Proportion of No --> 35.208333333333336%\n"
     ]
    },
    {
     "data": {
      "image/png": "[encoded data removed]",
      "text/plain": [
       "<Figure size 432x288 with 1 Axes>"
      ]
     },
     "metadata": {
      "needs_background": "light"
     },
     "output_type": "display_data"
    },
    {
     "name": "stdout",
     "output_type": "stream",
     "text": [
      "Chi-square Test of Independence is computed for -->  Married\n",
      "Result of Chisquare Test of independence\n",
      "\n",
      "  Significant Features      P-Values\n",
      "0    CoapplicantIncome  2.409273e-02\n",
      "1           LoanAmount  5.279412e-05\n",
      "0               Gender  5.038824e-14\n",
      "1           Dependents  7.368576e-18\n",
      "2          Loan_Status  1.840546e-02\n",
      "Result of Test Data:\n",
      "\n",
      "     CoapplicantIncome  LoanAmount  Gender Dependents Loan_Status\n",
      "104              754.0       160.0    Male        NaN           Y\n",
      "228                0.0       158.0    Male        NaN           Y\n",
      "435                0.0         NaN  Female        NaN           Y\n",
      "\n",
      "Enter the feature or features to drop: Dependents\n",
      "Feature to Remove:  ['Dependents']\n",
      "\n",
      " Evaluation Table: \n",
      "\n",
      "                               Training Eval Metrics  \\\n",
      "Precision   [0.7181571815718157, 0.7160493827160493]   \n",
      "Recall     [0.9201388888888888, 0.35802469135802467]   \n",
      "F1-Score    [0.8066971080669711, 0.4773662551440329]   \n",
      "Accuracy                                    0.717778   \n",
      "\n",
      "                             Validation Eval Metrics  \n",
      "Precision                 [0.8461538461538461, 0.75]  \n",
      "Recall     [0.9565217391304348, 0.42857142857142855]  \n",
      "F1-Score    [0.8979591836734695, 0.5454545454545454]  \n",
      "Accuracy                                    0.833333  \n",
      "\n",
      "Data after dealing with Missing Values: \n",
      " 104    Yes\n",
      "228    Yes\n",
      "435     No\n",
      "Name: Married, dtype: object\n"
     ]
    }
   ],
   "source": [
    "# dealing with the missing values of Married:\n",
    "temp_data = analysis_and_predicting_missing_values(no_null_copy_data, 'Married', cat_feats_orig, temp_data)"
   ]
  },
  {
   "cell_type": "code",
   "execution_count": 17,
   "metadata": {},
   "outputs": [
    {
     "data": {
      "text/plain": [
       "0"
      ]
     },
     "execution_count": 17,
     "metadata": {},
     "output_type": "execute_result"
    }
   ],
   "source": [
    "# no missing values for Married:\n",
    "temp_data['Married'].isnull().sum()"
   ]
  },
  {
   "cell_type": "markdown",
   "metadata": {},
   "source": [
    "<h4>Missing Values of Dependents:</h4>"
   ]
  },
  {
   "cell_type": "code",
   "execution_count": 18,
   "metadata": {
    "scrolled": false
   },
   "outputs": [
    {
     "name": "stdout",
     "output_type": "stream",
     "text": [
      "Analysis of:  Dependents\n",
      "Proportion of 1 --> 16.666666666666664%\n",
      "Proportion of 0 --> 57.08333333333333%\n",
      "Proportion of 2 --> 17.708333333333336%\n",
      "Proportion of 3+ --> 8.541666666666666%\n"
     ]
    },
    {
     "data": {
      "image/png": "[encoded data removed]",
      "text/plain": [
       "<Figure size 432x288 with 1 Axes>"
      ]
     },
     "metadata": {
      "needs_background": "light"
     },
     "output_type": "display_data"
    },
    {
     "name": "stdout",
     "output_type": "stream",
     "text": [
      "Chi-square Test of Independence is computed for -->  Dependents\n",
      "Result of Chisquare Test of independence\n",
      "\n",
      "  Significant Features      P-Values\n",
      "0      ApplicantIncome  2.453255e-03\n",
      "1           LoanAmount  6.568302e-04\n",
      "0               Gender  2.623355e-05\n",
      "1              Married  7.368576e-18\n",
      "Result of Test Data:\n",
      "\n",
      "     ApplicantIncome  LoanAmount  Gender Married\n",
      "102            13650         NaN    Male     Yes\n",
      "120             5667       180.0    Male     Yes\n",
      "226             4735       138.0    Male     Yes\n",
      "293             5417       143.0  Female      No\n",
      "301             2875       105.0    Male     Yes\n",
      "332             2833        71.0    Male      No\n",
      "346             3523       152.0    Male     Yes\n",
      "355             3813       116.0  Female      No\n",
      "517             3074       123.0    Male     Yes\n",
      "571             5116       165.0    Male     Yes\n",
      "597             2987        88.0    Male      No\n",
      "335             5503        70.0    Male     Yes\n",
      "104             3816       160.0    Male     Yes\n",
      "228             4758       158.0    Male     Yes\n",
      "435            10047         NaN  Female      No\n",
      "\n",
      "Enter the feature or features to drop: \n",
      "Feature to Remove:  []\n",
      "\n",
      " Evaluation Table: \n",
      "\n",
      "                                       Training Eval Metrics  \\\n",
      "Precision  [0.6666666666666666, 0.5854214123006833, 0.333...   \n",
      "Recall     [0.02702702702702703, 0.9884615384615385, 0.01...   \n",
      "F1-Score   [0.051948051948051945, 0.7353361945636624, 0.0...   \n",
      "Accuracy                                            0.582222   \n",
      "\n",
      "                                     Validation Eval Metrics  \n",
      "Precision                [1.0, 0.4827586206896552, 0.0, 0.0]  \n",
      "Recall                  [0.16666666666666666, 1.0, 0.0, 0.0]  \n",
      "F1-Score   [0.2857142857142857, 0.6511627906976745, 0.0, ...  \n",
      "Accuracy                                                 0.5  \n",
      "\n",
      "Data after dealing with Missing Values: \n",
      " 102    0\n",
      "120    0\n",
      "226    0\n",
      "293    0\n",
      "301    0\n",
      "332    0\n",
      "346    0\n",
      "355    0\n",
      "517    0\n",
      "571    0\n",
      "597    0\n",
      "335    0\n",
      "104    0\n",
      "228    0\n",
      "435    0\n",
      "Name: Dependents, dtype: object\n"
     ]
    }
   ],
   "source": [
    "# dealing with the missing values of Dependents:\n",
    "temp_data = analysis_and_predicting_missing_values(no_null_copy_data, 'Dependents', cat_feats_orig, temp_data)"
   ]
  },
  {
   "cell_type": "code",
   "execution_count": 19,
   "metadata": {},
   "outputs": [
    {
     "data": {
      "text/plain": [
       "0"
      ]
     },
     "execution_count": 19,
     "metadata": {},
     "output_type": "execute_result"
    }
   ],
   "source": [
    "# no missing values for \"Dependets\":\n",
    "temp_data['Dependents'].isnull().sum()"
   ]
  },
  {
   "cell_type": "markdown",
   "metadata": {},
   "source": [
    "<h4>Missing Values of 'Gender':</h4>"
   ]
  },
  {
   "cell_type": "code",
   "execution_count": 20,
   "metadata": {
    "scrolled": false
   },
   "outputs": [
    {
     "name": "stdout",
     "output_type": "stream",
     "text": [
      "Analysis of:  Gender\n",
      "Proportion of Male --> 82.08333333333333%\n",
      "Proportion of Female --> 17.916666666666668%\n"
     ]
    },
    {
     "data": {
      "image/png": "[encoded data removed]",
      "text/plain": [
       "<Figure size 432x288 with 1 Axes>"
      ]
     },
     "metadata": {
      "needs_background": "light"
     },
     "output_type": "display_data"
    },
    {
     "name": "stdout",
     "output_type": "stream",
     "text": [
      "Chi-square Test of Independence is computed for -->  Gender\n",
      "Result of Chisquare Test of independence\n",
      "\n",
      "  Significant Features      P-Values\n",
      "0    CoapplicantIncome  5.954139e-04\n",
      "1           LoanAmount  3.015042e-02\n",
      "0              Married  5.038824e-14\n",
      "1           Dependents  2.623355e-05\n",
      "Result of Test Data:\n",
      "\n",
      "     CoapplicantIncome  LoanAmount Married Dependents\n",
      "23              1917.0       112.0     Yes          2\n",
      "126                0.0       370.0     Yes         3+\n",
      "171                0.0       700.0     Yes         3+\n",
      "188             5296.0       168.0     Yes          0\n",
      "314             1843.0       159.0     Yes          0\n",
      "334             1833.0       182.0     Yes          1\n",
      "460             4083.0       160.0     Yes          0\n",
      "467                0.0       110.0     Yes          0\n",
      "477             1872.0       132.0     Yes          2\n",
      "507                0.0        96.0      No          0\n",
      "576             2210.0       136.0     Yes          0\n",
      "588                0.0        94.0      No          0\n",
      "592                0.0       292.0      No         3+\n",
      "\n",
      "Enter the feature or features to drop: \n",
      "Feature to Remove:  []\n",
      "\n",
      " Evaluation Table: \n",
      "\n",
      "               Training Eval Metrics    Validation Eval Metrics\n",
      "Precision                [0.82, 0.0]  [0.8333333333333334, 0.0]\n",
      "Recall                    [1.0, 0.0]                 [1.0, 0.0]\n",
      "F1-Score   [0.9010989010989011, 0.0]  [0.9090909090909091, 0.0]\n",
      "Accuracy                        0.82                   0.833333\n",
      "\n",
      "Data after dealing with Missing Values: \n",
      " 23     Male\n",
      "126    Male\n",
      "171    Male\n",
      "188    Male\n",
      "314    Male\n",
      "334    Male\n",
      "460    Male\n",
      "467    Male\n",
      "477    Male\n",
      "507    Male\n",
      "576    Male\n",
      "588    Male\n",
      "592    Male\n",
      "Name: Gender, dtype: object\n"
     ]
    }
   ],
   "source": [
    "# missing values of Gender:\n",
    "temp_data = analysis_and_predicting_missing_values(no_null_copy_data, 'Gender', cat_feats_orig, temp_data)"
   ]
  },
  {
   "cell_type": "code",
   "execution_count": 21,
   "metadata": {},
   "outputs": [
    {
     "data": {
      "text/plain": [
       "Gender                0\n",
       "Married               0\n",
       "Dependents            0\n",
       "Education             0\n",
       "Self_Employed        32\n",
       "ApplicantIncome       0\n",
       "CoapplicantIncome     0\n",
       "LoanAmount           22\n",
       "Loan_Amount_Term      0\n",
       "Credit_History       50\n",
       "Property_Area         0\n",
       "Loan_Status           0\n",
       "dtype: int64"
      ]
     },
     "execution_count": 21,
     "metadata": {},
     "output_type": "execute_result"
    }
   ],
   "source": [
    "# no missing values for \"Gender\":\n",
    "temp_data.isnull().sum()"
   ]
  },
  {
   "cell_type": "markdown",
   "metadata": {},
   "source": [
    "<h4>Missing Values of \"Self-Employed\":</h4>"
   ]
  },
  {
   "cell_type": "code",
   "execution_count": 22,
   "metadata": {
    "scrolled": false
   },
   "outputs": [
    {
     "name": "stdout",
     "output_type": "stream",
     "text": [
      "Analysis of:  Self_Employed\n",
      "Proportion of No --> 86.25%\n",
      "Proportion of Yes --> 13.750000000000002%\n"
     ]
    },
    {
     "data": {
      "image/png": "[encoded data removed]",
      "text/plain": [
       "<Figure size 432x288 with 1 Axes>"
      ]
     },
     "metadata": {
      "needs_background": "light"
     },
     "output_type": "display_data"
    },
    {
     "name": "stdout",
     "output_type": "stream",
     "text": [
      "Chi-square Test of Independence is computed for -->  Self_Employed\n",
      "Result of Chisquare Test of independence\n",
      "\n",
      "  Significant Features  P-Values\n",
      "0      ApplicantIncome  0.000170\n",
      "1           LoanAmount  0.008283\n",
      "Result of Test Data:\n",
      "\n",
      "     ApplicantIncome  LoanAmount\n",
      "11              2500       109.0\n",
      "24              3717       151.0\n",
      "29              3750       120.0\n",
      "30              4166       201.0\n",
      "95              6782         NaN\n",
      "107             7333       120.0\n",
      "111             2929       139.0\n",
      "114             5050       118.0\n",
      "158             2980       120.0\n",
      "170             1820        95.0\n",
      "218             5000        72.0\n",
      "231             3716        42.0\n",
      "236             5746       255.0\n",
      "268             3418       135.0\n",
      "295             4416       110.0\n",
      "333            63337       490.0\n",
      "336             5250       160.0\n",
      "344             2583       125.0\n",
      "374             2764       110.0\n",
      "380             3333       128.0\n",
      "385             3667       113.0\n",
      "411             6256       160.0\n",
      "432            12876       405.0\n",
      "447             3539        55.0\n",
      "463             5191       132.0\n",
      "468              210        98.0\n",
      "535             2550       126.0\n",
      "542             3652        95.0\n",
      "579             3182       161.0\n",
      "600              416       350.0\n",
      "601             2894       155.0\n",
      "19              2600       115.0\n",
      "\n",
      "Enter the feature or features to drop: \n",
      "Feature to Remove:  []\n",
      "\n",
      " Evaluation Table: \n",
      "\n",
      "               Training Eval Metrics   Validation Eval Metrics\n",
      "Precision  [0.8660714285714286, 0.0]                [0.8, 0.0]\n",
      "Recall     [0.9948717948717949, 0.0]                [1.0, 0.0]\n",
      "F1-Score   [0.9260143198090692, 0.0]  [0.888888888888889, 0.0]\n",
      "Accuracy                    0.862222                       0.8\n",
      "\n",
      "Data after dealing with Missing Values: \n",
      " 11      No\n",
      "24      No\n",
      "29      No\n",
      "30      No\n",
      "95      No\n",
      "107     No\n",
      "111     No\n",
      "114     No\n",
      "158     No\n",
      "170     No\n",
      "218     No\n",
      "231     No\n",
      "236     No\n",
      "268     No\n",
      "295     No\n",
      "333    Yes\n",
      "336     No\n",
      "344     No\n",
      "374     No\n",
      "380     No\n",
      "385     No\n",
      "411     No\n",
      "432     No\n",
      "447     No\n",
      "463     No\n",
      "468     No\n",
      "535     No\n",
      "542     No\n",
      "579     No\n",
      "600     No\n",
      "601     No\n",
      "19      No\n",
      "Name: Self_Employed, dtype: object\n"
     ]
    }
   ],
   "source": [
    "# missing values of self-employed:\n",
    "temp_data = analysis_and_predicting_missing_values(no_null_copy_data, 'Self_Employed', cat_feats_orig, temp_data)"
   ]
  },
  {
   "cell_type": "code",
   "execution_count": 23,
   "metadata": {},
   "outputs": [
    {
     "data": {
      "text/plain": [
       "Gender                0\n",
       "Married               0\n",
       "Dependents            0\n",
       "Education             0\n",
       "Self_Employed         0\n",
       "ApplicantIncome       0\n",
       "CoapplicantIncome     0\n",
       "LoanAmount           22\n",
       "Loan_Amount_Term      0\n",
       "Credit_History       50\n",
       "Property_Area         0\n",
       "Loan_Status           0\n",
       "dtype: int64"
      ]
     },
     "execution_count": 23,
     "metadata": {},
     "output_type": "execute_result"
    }
   ],
   "source": [
    "# no missing values for \"self-employed\":\n",
    "temp_data.isnull().sum()"
   ]
  },
  {
   "cell_type": "markdown",
   "metadata": {},
   "source": [
    "<h4>Missing Values of \"Credit-History\":</h4>"
   ]
  },
  {
   "cell_type": "code",
   "execution_count": 24,
   "metadata": {
    "scrolled": false
   },
   "outputs": [
    {
     "name": "stdout",
     "output_type": "stream",
     "text": [
      "Analysis of:  Credit_History\n",
      "Proportion of 1.0 --> 85.41666666666666%\n",
      "Proportion of 0.0 --> 14.583333333333334%\n"
     ]
    },
    {
     "data": {
      "image/png": "[encoded data removed]",
      "text/plain": [
       "<Figure size 432x288 with 1 Axes>"
      ]
     },
     "metadata": {
      "needs_background": "light"
     },
     "output_type": "display_data"
    },
    {
     "name": "stdout",
     "output_type": "stream",
     "text": [
      "Chi-square Test of Independence is computed for -->  Credit_History\n",
      "Result of Chisquare Test of independence\n",
      "\n",
      "  Significant Features      P-Values\n",
      "0          Loan_Status  2.135982e-30\n",
      "Result of Test Data:\n",
      "\n",
      "    Loan_Status\n",
      "16            Y\n",
      "42            Y\n",
      "79            Y\n",
      "83            N\n",
      "86            Y\n",
      "117           Y\n",
      "125           Y\n",
      "129           N\n",
      "130           Y\n",
      "156           Y\n",
      "181           N\n",
      "187           Y\n",
      "198           Y\n",
      "219           Y\n",
      "237           Y\n",
      "259           N\n",
      "260           Y\n",
      "279           Y\n",
      "309           Y\n",
      "313           Y\n",
      "317           Y\n",
      "318           Y\n",
      "323           Y\n",
      "348           Y\n",
      "363           Y\n",
      "377           Y\n",
      "392           Y\n",
      "395           Y\n",
      "444           Y\n",
      "449           N\n",
      "451           Y\n",
      "473           Y\n",
      "490           Y\n",
      "491           Y\n",
      "497           Y\n",
      "503           N\n",
      "506           Y\n",
      "530           Y\n",
      "533           N\n",
      "544           Y\n",
      "556           Y\n",
      "565           Y\n",
      "583           N\n",
      "460           Y\n",
      "24            N\n",
      "30            N\n",
      "95            N\n",
      "236           N\n",
      "411           Y\n",
      "600           N\n",
      "\n",
      "Enter the feature or features to drop: \n",
      "Feature to Remove:  []\n",
      "\n",
      " Evaluation Table: \n",
      "\n",
      "               Training Eval Metrics    Validation Eval Metrics\n",
      "Precision  [0.8511111111111112, 0.0]                 [0.9, 0.0]\n",
      "Recall                    [1.0, 0.0]                 [1.0, 0.0]\n",
      "F1-Score   [0.9195678271308524, 0.0]  [0.9473684210526316, 0.0]\n",
      "Accuracy                    0.851111                        0.9\n",
      "\n",
      "Data after dealing with Missing Values: \n",
      " 16     1.0\n",
      "42     1.0\n",
      "79     1.0\n",
      "83     1.0\n",
      "86     1.0\n",
      "117    1.0\n",
      "125    1.0\n",
      "129    1.0\n",
      "130    1.0\n",
      "156    1.0\n",
      "181    1.0\n",
      "187    1.0\n",
      "198    1.0\n",
      "219    1.0\n",
      "237    1.0\n",
      "259    1.0\n",
      "260    1.0\n",
      "279    1.0\n",
      "309    1.0\n",
      "313    1.0\n",
      "317    1.0\n",
      "318    1.0\n",
      "323    1.0\n",
      "348    1.0\n",
      "363    1.0\n",
      "377    1.0\n",
      "392    1.0\n",
      "395    1.0\n",
      "444    1.0\n",
      "449    1.0\n",
      "451    1.0\n",
      "473    1.0\n",
      "490    1.0\n",
      "491    1.0\n",
      "497    1.0\n",
      "503    1.0\n",
      "506    1.0\n",
      "530    1.0\n",
      "533    1.0\n",
      "544    1.0\n",
      "556    1.0\n",
      "565    1.0\n",
      "583    1.0\n",
      "460    1.0\n",
      "24     1.0\n",
      "30     1.0\n",
      "95     1.0\n",
      "236    1.0\n",
      "411    1.0\n",
      "600    1.0\n",
      "Name: Credit_History, dtype: float64\n"
     ]
    }
   ],
   "source": [
    "# missing values of credit-history:\n",
    "temp_data = analysis_and_predicting_missing_values(no_null_copy_data, 'Credit_History', cat_feats_orig, temp_data)"
   ]
  },
  {
   "cell_type": "code",
   "execution_count": 25,
   "metadata": {},
   "outputs": [
    {
     "data": {
      "text/plain": [
       "Gender                0\n",
       "Married               0\n",
       "Dependents            0\n",
       "Education             0\n",
       "Self_Employed         0\n",
       "ApplicantIncome       0\n",
       "CoapplicantIncome     0\n",
       "LoanAmount           22\n",
       "Loan_Amount_Term      0\n",
       "Credit_History        0\n",
       "Property_Area         0\n",
       "Loan_Status           0\n",
       "dtype: int64"
      ]
     },
     "execution_count": 25,
     "metadata": {},
     "output_type": "execute_result"
    }
   ],
   "source": [
    "# no missing values for 'Credit History':\n",
    "temp_data.isnull().sum()"
   ]
  },
  {
   "cell_type": "code",
   "execution_count": 26,
   "metadata": {},
   "outputs": [
    {
     "data": {
      "text/plain": [
       "['Gender',\n",
       " 'Married',\n",
       " 'Dependents',\n",
       " 'Education',\n",
       " 'Self_Employed',\n",
       " 'Loan_Amount_Term',\n",
       " 'Credit_History',\n",
       " 'Property_Area',\n",
       " 'Loan_Status']"
      ]
     },
     "execution_count": 26,
     "metadata": {},
     "output_type": "execute_result"
    }
   ],
   "source": [
    "cat_feats_orig"
   ]
  },
  {
   "cell_type": "markdown",
   "metadata": {},
   "source": [
    "<h3>Dealing With Missing Values of Numerical Feature:</h3>"
   ]
  },
  {
   "cell_type": "code",
   "execution_count": 20,
   "metadata": {},
   "outputs": [],
   "source": [
    "# used for finding the significant features which explain the variance of the numerical features:\n",
    "def one_way_anova_num(data, cur_num_feat, categorical_feats):\n",
    "    anova_result = []\n",
    "    \n",
    "    for cur_cat_feat in categorical_feats:\n",
    "        categories = list(data[cur_cat_feat].unique())\n",
    "        list_data_categories = [data[data[cur_cat_feat]==category][cur_num_feat] for category in categories]\n",
    "        p_value = f_oneway(*list_data_categories)[1]\n",
    "        \n",
    "        # significant feature only:\n",
    "        if p_value<0.05:\n",
    "            anova_result.append((cur_cat_feat, p_value))\n",
    "        \n",
    "    result_df = pd.DataFrame(anova_result, columns=['Significant Features', 'P-Values'])\n",
    "    return result_df\n",
    "\n",
    "# Scatter Plots to understand the relationship between 2 numerical feats:\n",
    "def scatter_plots(data, num_feature, num_feats=num_feats_orig):\n",
    "    plt.figure(figsize=(14, 5))\n",
    "    k=1\n",
    "    for num_feat in num_feats_orig:\n",
    "        if (num_feat!=num_feature):\n",
    "            plt.subplot(1, 3, k);\n",
    "            plt.scatter(data[num_feature], data[num_feat])\n",
    "            plt.xlabel(num_feature)\n",
    "            plt.ylabel(num_feat)\n",
    "            plt.grid(True, alpha=0.4)\n",
    "            k +=1\n",
    "        else:\n",
    "            continue"
   ]
  },
  {
   "cell_type": "code",
   "execution_count": 21,
   "metadata": {},
   "outputs": [],
   "source": [
    "import statsmodels.api as sm\n",
    "from statsmodels.graphics.tsaplots import plot_acf\n",
    "\n",
    "def encoding_feats(train_data, test_data, test_of_indep_table, num_feature):\n",
    "    significant_feats = list(test_of_indep_table['Significant Features'])\n",
    "#     print(significant_feats)\n",
    "    corr_num_feats = train_data.corr()\n",
    "    feats = list(corr_num_feats.index)\n",
    "    arr_ = list(corr_num_feats[num_feature].values)\n",
    "    feats_to_add = []\n",
    "    \n",
    "    for idx in range(len(feats)):\n",
    "        if (arr_[idx]>0.1):\n",
    "            if (arr_[idx]!=1):\n",
    "                feats_to_add.append(feats[idx])\n",
    "            else: \n",
    "                print('The feature is nothin but a target feature itself')\n",
    "#     print(feats_to_add)\n",
    "    final_significant_feats = significant_feats+feats_to_add\n",
    "    print('Final Selected Important Features: ', final_significant_feats)\n",
    " \n",
    "    inter_data_train = train_data[final_significant_feats] # interested training data\n",
    "    inter_data_test = test_data[final_significant_feats] # interested test data\n",
    "    \n",
    "    # iterating over the categories of each categorical feature:\n",
    "    for sig_feat in final_significant_feats:\n",
    "        if inter_data_train[sig_feat].nunique() > 5:\n",
    "            # a numerical feature:\n",
    "            # scale the numerical features to the same range using standardization(mean=0 and std_dev=1):\n",
    "            mean = np.mean(inter_data_train[sig_feat])\n",
    "            median = np.mean(inter_data_train[sig_feat])\n",
    "            std_dev = np.std(inter_data_train[sig_feat])\n",
    "            \n",
    "            # if any missing value is present for a numerical feature:\n",
    "            inter_data_train[sig_feat] = np.where(inter_data_train[sig_feat].isnull(), median, inter_data_train[sig_feat])\n",
    "            inter_data_test[sig_feat] = np.where(inter_data_test[sig_feat].isnull(), median, inter_data_test[sig_feat])\n",
    "            \n",
    "            # standardization:\n",
    "            inter_data_train[sig_feat] = (inter_data_train[sig_feat]-mean)/std_dev\n",
    "            inter_data_test[sig_feat] = (inter_data_test[sig_feat]-mean)/std_dev\n",
    "            \n",
    "        else:\n",
    "            # a categorical feature:\n",
    "            # iterate over each category of the significant categorical feature:\n",
    "            for sig_cat_category in inter_data_train[sig_feat].unique():\n",
    "                inter_data_train[sig_feat + '_' + sig_cat_category] = np.where(inter_data_train[sig_feat]==sig_cat_category, 1, 0)\n",
    "                inter_data_test[sig_feat + '_' + sig_cat_category] = np.where(inter_data_test[sig_feat]==sig_cat_category, 1, 0)\n",
    "                \n",
    "            # removing the categorical feature once encoded:\n",
    "            inter_data_train = inter_data_train.drop([sig_feat], axis=1)\n",
    "            inter_data_test = inter_data_test.drop([sig_feat], axis=1)\n",
    "            \n",
    "#     print('Final Training Data: \\n', inter_data_train)\n",
    "#     print('Final Test Data: \\n', inter_data_test)\n",
    "    return inter_data_train, inter_data_test \n",
    "\n",
    "# compute rmse on training and validation data:\n",
    "def rmse_error(actual_val, pred_val):\n",
    "    rmse = np.sqrt(np.sum((actual_val-pred_val)**2)/len(actual_val))\n",
    "    return rmse\n",
    "    \n",
    "# evaluating regression model by checking the assumptions:\n",
    "def evaluating_reg_model(actual_val, pred_val):\n",
    "    residuals = actual_val-pred_val # vectorization\n",
    "    fig, ((ax1, ax2), (ax3, ax4)) = plt.subplots(2, 2, figsize=(12, 12))\n",
    "    \n",
    "    # assumptions of Linear Regression:\n",
    "    # Linearity:\n",
    "    ax1.scatter(actual_val, pred_val, color='darkred')\n",
    "    ax1.plot([min(actual_val), max(actual_val)], [min(pred_val), max(pred_val)], 'b-')\n",
    "    ax1.grid(True, alpha=0.4)\n",
    "    ax1.set_xlabel('Actual Target Values', fontsize=10)\n",
    "    ax1.set_ylabel('Predicted Target Values', fontsize=10)\n",
    "    ax1.set_title('Linearity Property', fontsize=12)\n",
    "    \n",
    "    # Homoscedasticity:\n",
    "    ax2.scatter(pred_val,  residuals, color='darkred')\n",
    "    ax2.hlines(y=0, xmin=min(pred_val), xmax=max(pred_val), linewidth=2, color='blue')\n",
    "    ax2.grid(True, alpha=0.4)\n",
    "    ax2.set_xlabel('Predicted Values', fontsize=10)\n",
    "    ax2.set_ylabel('Residuals', fontsize=10)\n",
    "    ax2.set_title('Homoscedasticity', fontsize=12)\n",
    "    \n",
    "    # Standardized Residuals:\n",
    "    sns.distplot(residuals, color='darkred', ax=ax3)\n",
    "    ax3.grid(True, alpha=0.4)\n",
    "    ax3.set_xlabel('Residuals', fontsize=10)\n",
    "    ax3.set_title('Standardized Residuals', fontsize=12)\n",
    "    \n",
    "    # Autocorrelation Function:\n",
    "    plot_acf(residuals, ax=ax4, color='red')\n",
    "    ax4.grid(True, alpha=0.4)\n",
    "    ax4.set_xlabel('Residuals', fontsize=10)\n",
    "    ax4.set_title('Autocorrelation Function', fontsize=12)\n",
    "\n",
    "# training a linear regression model:\n",
    "def train_linear_regression_model(x_train, y_train, x_val, y_val):\n",
    "    model = sm.OLS(y_train, x_train)\n",
    "    result = model.fit()\n",
    "    print(result.summary())\n",
    "    \n",
    "    train_pred = result.predict(x_train)\n",
    "    val_pred = result.predict(x_val)\n",
    "    \n",
    "    # trained model evaluation:\n",
    "    print('Evaluating The Regression Model on Training Data:')\n",
    "    evaluating_reg_model(y_train, train_pred)\n",
    "    \n",
    "#     # evaluating validation model:\n",
    "#     evaluating_reg_model(y_val, val_pred)\n",
    "    \n",
    "    train_rmse = rmse_error(y_train, train_pred)\n",
    "    val_rmse = rmse_error(y_val, val_pred)\n",
    "    \n",
    "    print('Performance of Model: \\n',)\n",
    "    print('Training RMSE -->', train_rmse)\n",
    "    print('Validation RMSE -->', val_rmse)\n",
    "    return result\n",
    "    \n",
    "# process of training regression model for Numerical Feature missing values:\n",
    "def analysing_and_predicting_missing_num_values(no_null_copy_data, target_num_feature, data_to_add_missing_values, reg_params=1):\n",
    "    anova_result = one_way_anova_num(no_null_copy_data, target_num_feature, cat_feats_orig)\n",
    "    init_test_data = temp_data[temp_data[target_num_feature].isnull()]\n",
    "    train_data, test_data = encoding_feats(no_null_copy_data, init_test_data, anova_result, target_num_feature)\n",
    "    missing_values_to_add = predicting_missing_values(train_data, target_num_feature, no_null_copy_data, test_data, reg_param=reg_params)\n",
    "    final_data = attach_missing_values(target_num_feature, missing_values_to_add, temp_data=data_to_add_missing_values)    \n",
    "    return final_data"
   ]
  },
  {
   "cell_type": "markdown",
   "metadata": {},
   "source": [
    "<h4>Missing Values of \"LoanAmount\":</h4>"
   ]
  },
  {
   "cell_type": "code",
   "execution_count": 22,
   "metadata": {},
   "outputs": [
    {
     "data": {
      "image/png": "[encoded data removed]",
      "text/plain": [
       "<Figure size 864x504 with 3 Axes>"
      ]
     },
     "metadata": {
      "needs_background": "light"
     },
     "output_type": "display_data"
    }
   ],
   "source": [
    "# distribution of numerical features:\n",
    "plt.figure(figsize=(12, 7))\n",
    "k = 1\n",
    "for num_feat in num_feats_orig:\n",
    "    plt.subplot(2, 2, k);\n",
    "    sns.distplot(no_null_data[num_feat]+1, color='blue')\n",
    "    plt.grid(True, alpha=0.4)\n",
    "    k +=1"
   ]
  },
  {
   "cell_type": "code",
   "execution_count": 23,
   "metadata": {},
   "outputs": [
    {
     "data": {
      "image/png": "[encoded data removed]",
      "text/plain": [
       "<Figure size 864x504 with 3 Axes>"
      ]
     },
     "metadata": {
      "needs_background": "light"
     },
     "output_type": "display_data"
    }
   ],
   "source": [
    "# logarithmic transformation of numerical features:\n",
    "plt.figure(figsize=(12, 7))\n",
    "k = 1\n",
    "for num_feat in num_feats_orig:\n",
    "    plt.subplot(2, 2, k);\n",
    "    sns.distplot(np.log(no_null_data[num_feat]+1), color='darkred')\n",
    "    plt.grid(True, alpha=0.4)\n",
    "    k +=1"
   ]
  },
  {
   "cell_type": "markdown",
   "metadata": {},
   "source": [
    "<p>Logarithmic Transformation works really well with <strong>'ApplicantIncome' and 'LoanAmount'.</strong></p>"
   ]
  },
  {
   "cell_type": "code",
   "execution_count": 25,
   "metadata": {
    "scrolled": true
   },
   "outputs": [
    {
     "ename": "NameError",
     "evalue": "name 'f_oneway' is not defined",
     "output_type": "error",
     "traceback": [
      "\u001b[1;31m---------------------------------------------------------------------------\u001b[0m",
      "\u001b[1;31mNameError\u001b[0m                                 Traceback (most recent call last)",
      "\u001b[1;32m<ipython-input-25-f4bbf3b331cc>\u001b[0m in \u001b[0;36m<module>\u001b[1;34m\u001b[0m\n\u001b[0;32m      1\u001b[0m \u001b[1;31m# significant categorical features which explain the variance of 'LoanAmount':\u001b[0m\u001b[1;33m\u001b[0m\u001b[1;33m\u001b[0m\u001b[1;33m\u001b[0m\u001b[0m\n\u001b[1;32m----> 2\u001b[1;33m \u001b[0mloan_amount_1way_table\u001b[0m \u001b[1;33m=\u001b[0m \u001b[0mone_way_anova_num\u001b[0m\u001b[1;33m(\u001b[0m\u001b[0mno_null_data\u001b[0m\u001b[1;33m,\u001b[0m \u001b[1;34m'LoanAmount'\u001b[0m\u001b[1;33m,\u001b[0m \u001b[0mcat_feats_orig\u001b[0m\u001b[1;33m)\u001b[0m\u001b[1;33m\u001b[0m\u001b[1;33m\u001b[0m\u001b[0m\n\u001b[0m\u001b[0;32m      3\u001b[0m \u001b[0mloan_amount_1way_table\u001b[0m\u001b[1;33m\u001b[0m\u001b[1;33m\u001b[0m\u001b[0m\n",
      "\u001b[1;32m<ipython-input-20-498eab25c012>\u001b[0m in \u001b[0;36mone_way_anova_num\u001b[1;34m(data, cur_num_feat, categorical_feats)\u001b[0m\n\u001b[0;32m      6\u001b[0m         \u001b[0mcategories\u001b[0m \u001b[1;33m=\u001b[0m \u001b[0mlist\u001b[0m\u001b[1;33m(\u001b[0m\u001b[0mdata\u001b[0m\u001b[1;33m[\u001b[0m\u001b[0mcur_cat_feat\u001b[0m\u001b[1;33m]\u001b[0m\u001b[1;33m.\u001b[0m\u001b[0munique\u001b[0m\u001b[1;33m(\u001b[0m\u001b[1;33m)\u001b[0m\u001b[1;33m)\u001b[0m\u001b[1;33m\u001b[0m\u001b[1;33m\u001b[0m\u001b[0m\n\u001b[0;32m      7\u001b[0m         \u001b[0mlist_data_categories\u001b[0m \u001b[1;33m=\u001b[0m \u001b[1;33m[\u001b[0m\u001b[0mdata\u001b[0m\u001b[1;33m[\u001b[0m\u001b[0mdata\u001b[0m\u001b[1;33m[\u001b[0m\u001b[0mcur_cat_feat\u001b[0m\u001b[1;33m]\u001b[0m\u001b[1;33m==\u001b[0m\u001b[0mcategory\u001b[0m\u001b[1;33m]\u001b[0m\u001b[1;33m[\u001b[0m\u001b[0mcur_num_feat\u001b[0m\u001b[1;33m]\u001b[0m \u001b[1;32mfor\u001b[0m \u001b[0mcategory\u001b[0m \u001b[1;32min\u001b[0m \u001b[0mcategories\u001b[0m\u001b[1;33m]\u001b[0m\u001b[1;33m\u001b[0m\u001b[1;33m\u001b[0m\u001b[0m\n\u001b[1;32m----> 8\u001b[1;33m         \u001b[0mp_value\u001b[0m \u001b[1;33m=\u001b[0m \u001b[0mf_oneway\u001b[0m\u001b[1;33m(\u001b[0m\u001b[1;33m*\u001b[0m\u001b[0mlist_data_categories\u001b[0m\u001b[1;33m)\u001b[0m\u001b[1;33m[\u001b[0m\u001b[1;36m1\u001b[0m\u001b[1;33m]\u001b[0m\u001b[1;33m\u001b[0m\u001b[1;33m\u001b[0m\u001b[0m\n\u001b[0m\u001b[0;32m      9\u001b[0m \u001b[1;33m\u001b[0m\u001b[0m\n\u001b[0;32m     10\u001b[0m         \u001b[1;31m# significant feature only:\u001b[0m\u001b[1;33m\u001b[0m\u001b[1;33m\u001b[0m\u001b[1;33m\u001b[0m\u001b[0m\n",
      "\u001b[1;31mNameError\u001b[0m: name 'f_oneway' is not defined"
     ]
    }
   ],
   "source": [
    "# significant categorical features which explain the variance of 'LoanAmount':\n",
    "loan_amount_1way_table = one_way_anova_num(no_null_data, 'LoanAmount', cat_feats_orig)\n",
    "loan_amount_1way_table"
   ]
  },
  {
   "cell_type": "code",
   "execution_count": 32,
   "metadata": {},
   "outputs": [
    {
     "data": {
      "text/plain": [
       "<matplotlib.axes._subplots.AxesSubplot at 0x19e416b6288>"
      ]
     },
     "execution_count": 32,
     "metadata": {},
     "output_type": "execute_result"
    },
    {
     "data": {
      "image/png": "[encoded data removed]",
      "text/plain": [
       "<Figure size 720x360 with 2 Axes>"
      ]
     },
     "metadata": {
      "needs_background": "light"
     },
     "output_type": "display_data"
    }
   ],
   "source": [
    "# features having high correlation with \"LoanAmount\":\n",
    "plt.figure(figsize=(10, 5))\n",
    "corr_ = no_null_copy_data.corr()\n",
    "sns.heatmap(corr_, annot=True)"
   ]
  },
  {
   "cell_type": "code",
   "execution_count": 33,
   "metadata": {},
   "outputs": [
    {
     "data": {
      "image/png": "[encoded data removed]",
      "text/plain": [
       "<Figure size 1008x360 with 2 Axes>"
      ]
     },
     "metadata": {
      "needs_background": "light"
     },
     "output_type": "display_data"
    }
   ],
   "source": [
    "# Scatter Plots to understand the relationship between the 'LoanAmount' and other num feats:\n",
    "scatter_plots(no_null_copy_data, 'LoanAmount')"
   ]
  },
  {
   "cell_type": "code",
   "execution_count": 34,
   "metadata": {},
   "outputs": [
    {
     "data": {
      "image/png": "[encoded data removed]",
      "text/plain": [
       "<Figure size 432x288 with 1 Axes>"
      ]
     },
     "metadata": {
      "needs_background": "light"
     },
     "output_type": "display_data"
    }
   ],
   "source": [
    "# from this plot, we can see that there exists high correlation:\n",
    "plt.scatter(np.log(no_null_copy_data['LoanAmount']), np.log(no_null_copy_data['ApplicantIncome']))\n",
    "plt.xlabel('Log_Loan_Amount', fontsize=10)\n",
    "plt.ylabel('Log_Applicant_Income', fontsize=10)\n",
    "plt.title('log_loan_amount vs log_applicant_income', fontsize=12)\n",
    "plt.grid(True, alpha=0.4)"
   ]
  },
  {
   "cell_type": "markdown",
   "metadata": {},
   "source": [
    "<p>Since, high correlation could be observed from the above plot, we can draw a<strong> Linear Regression Model </strong>with just one feature i.e. 'log_applicant_income'.</p>"
   ]
  },
  {
   "cell_type": "code",
   "execution_count": 35,
   "metadata": {
    "scrolled": false
   },
   "outputs": [
    {
     "name": "stdout",
     "output_type": "stream",
     "text": [
      "                                 OLS Regression Results                                \n",
      "=======================================================================================\n",
      "Dep. Variable:        log_loan_amount   R-squared (uncentered):                   0.991\n",
      "Model:                            OLS   Adj. R-squared (uncentered):              0.991\n",
      "Method:                 Least Squares   F-statistic:                          5.023e+04\n",
      "Date:                Tue, 05 Oct 2021   Prob (F-statistic):                        0.00\n",
      "Time:                        15:07:26   Log-Likelihood:                         -287.81\n",
      "No. Observations:                 450   AIC:                                      577.6\n",
      "Df Residuals:                     449   BIC:                                      581.7\n",
      "Df Model:                           1                                                  \n",
      "Covariance Type:            nonrobust                                                  \n",
      "========================================================================================\n",
      "                           coef    std err          t      P>|t|      [0.025      0.975]\n",
      "----------------------------------------------------------------------------------------\n",
      "log_applicant_income     0.5791      0.003    224.125      0.000       0.574       0.584\n",
      "==============================================================================\n",
      "Omnibus:                       82.096   Durbin-Watson:                   2.037\n",
      "Prob(Omnibus):                  0.000   Jarque-Bera (JB):              273.754\n",
      "Skew:                          -0.811   Prob(JB):                     3.59e-60\n",
      "Kurtosis:                       6.460   Cond. No.                         1.00\n",
      "==============================================================================\n",
      "\n",
      "Notes:\n",
      "[1] R² is computed without centering (uncentered) since the model does not contain a constant.\n",
      "[2] Standard Errors assume that the covariance matrix of the errors is correctly specified.\n",
      "Evaluating The Regression Model on Training Data:\n",
      "Performance of Model: \n",
      "\n",
      "Training RMSE --> 0.45870283669656503\n",
      "Validation RMSE --> 0.4008141601403398\n",
      "\n",
      "Data after dealing with Missing Values: \n",
      " 0      151.929559\n",
      "35      87.930511\n",
      "63     137.852481\n",
      "81      90.587492\n",
      "103    133.061421\n",
      "113    174.794700\n",
      "127    119.519178\n",
      "202    121.778110\n",
      "284    315.588166\n",
      "305     81.608666\n",
      "322    114.721002\n",
      "338     77.516463\n",
      "387    103.407865\n",
      "437     86.534643\n",
      "479    102.148841\n",
      "524    133.524654\n",
      "550    163.410285\n",
      "551     92.694497\n",
      "605     90.696968\n",
      "102    248.194910\n",
      "435    207.831995\n",
      "95     165.526199\n",
      "Name: LoanAmount, dtype: float64\n"
     ]
    },
    {
     "data": {
      "image/png": "[encoded data removed]",
      "text/plain": [
       "<Figure size 864x864 with 4 Axes>"
      ]
     },
     "metadata": {
      "needs_background": "light"
     },
     "output_type": "display_data"
    }
   ],
   "source": [
    "# modelling Linear Regression to predict 'log_loan_ampunt';\n",
    "data_to_model = no_null_copy_data[['LoanAmount', 'ApplicantIncome']]\n",
    "data_to_model['log_loan_amount'] = np.log(data_to_model['LoanAmount'])\n",
    "data_to_model['log_applicant_income'] = np.log(data_to_model['ApplicantIncome'])\n",
    "data_to_model = data_to_model.drop(['LoanAmount', 'ApplicantIncome'], axis=1)\n",
    "\n",
    "# Creating Training and Validation Data:\n",
    "x_train = data_to_model['log_applicant_income'][:450]\n",
    "y_train = data_to_model['log_loan_amount'][:450]\n",
    "\n",
    "# Validation Data:\n",
    "x_val = data_to_model['log_applicant_income'][450:]\n",
    "y_val = data_to_model['log_loan_amount'][450:]\n",
    "\n",
    "# test data:\n",
    "test_data = np.log(temp_data[temp_data['LoanAmount'].isnull()]['ApplicantIncome'])\n",
    "\n",
    "final_model = train_linear_regression_model(x_train, y_train, x_val, y_val)\n",
    "missing_values = np.exp(final_model.predict(test_data))\n",
    "temp_data = attach_missing_values('LoanAmount', missing_values, temp_data=temp_data)"
   ]
  },
  {
   "cell_type": "markdown",
   "metadata": {},
   "source": [
    "<h3>Observations of Model Constructed using Log-Applicant-Income:</h3>\n",
    "<p>\n",
    "<ol>\n",
    "    <li>R-Squared is very good i.e.0.99. Model is significant, independent feature is also significant and Durbin Watson Test value also lies within the expected range i.e. 1.6 to 2.3.</li>\n",
    "    <li>Residuals are normally distributed, autocorrelation function of residuals also seems to be significat i.e. errors are not correlated and to a larger extent, homoscedasticity also exists.</li>\n",
    "    <li>Overall the assumptions of Linear Regression are verified and thus, we would predict the values of 'LoanAmount' using 'log_applicant_income'.</li>\n",
    "    <li>Linearity can also be observed.</li>\n",
    "   </ol>\n",
    "</p>"
   ]
  },
  {
   "cell_type": "code",
   "execution_count": 37,
   "metadata": {
    "scrolled": false
   },
   "outputs": [
    {
     "name": "stdout",
     "output_type": "stream",
     "text": [
      "The feature is nothin but a target feature itself\n",
      "Final Selected Important Features:  ['Gender', 'Married', 'Dependents', 'Education', 'Self_Employed', 'ApplicantIncome', 'CoapplicantIncome']\n",
      "                            OLS Regression Results                            \n",
      "==============================================================================\n",
      "Dep. Variable:             LoanAmount   R-squared:                       0.372\n",
      "Model:                            OLS   Adj. R-squared:                  0.359\n",
      "Method:                 Least Squares   F-statistic:                     28.97\n",
      "Date:                Tue, 05 Oct 2021   Prob (F-statistic):           1.58e-39\n",
      "Time:                        15:07:27   Log-Likelihood:                -2506.1\n",
      "No. Observations:                 450   AIC:                             5032.\n",
      "Df Residuals:                     440   BIC:                             5073.\n",
      "Df Model:                           9                                         \n",
      "Covariance Type:            nonrobust                                         \n",
      "==========================================================================================\n",
      "                             coef    std err          t      P>|t|      [0.025      0.975]\n",
      "------------------------------------------------------------------------------------------\n",
      "ApplicantIncome           38.7443      3.104     12.481      0.000      32.643      44.845\n",
      "CoapplicantIncome         28.8104      3.734      7.715      0.000      21.471      36.150\n",
      "Gender_Male               32.3528      3.874      8.351      0.000      24.739      39.966\n",
      "Gender_Female             31.1152      5.045      6.168      0.000      21.200      41.030\n",
      "Married_Yes               38.7037      3.695     10.475      0.000      31.442      45.965\n",
      "Married_No                24.7643      4.112      6.023      0.000      16.683      32.845\n",
      "Dependents_1              14.3752      6.539      2.198      0.028       1.523      27.228\n",
      "Dependents_0               7.8432      4.959      1.582      0.114      -1.903      17.589\n",
      "Dependents_2              15.4449      6.580      2.347      0.019       2.513      28.377\n",
      "Dependents_3+             25.8047      8.593      3.003      0.003       8.917      42.693\n",
      "Education_Graduate        40.8958      3.553     11.512      0.000      33.914      47.878\n",
      "Education_Not Graduate    22.5721      4.508      5.007      0.000      13.712      31.432\n",
      "Self_Employed_No          29.2105      4.042      7.227      0.000      21.267      37.154\n",
      "Self_Employed_Yes         34.2575      5.377      6.371      0.000      23.690      44.825\n",
      "==============================================================================\n",
      "Omnibus:                      118.733   Durbin-Watson:                   1.994\n",
      "Prob(Omnibus):                  0.000   Jarque-Bera (JB):             1055.235\n",
      "Skew:                           0.857   Prob(JB):                    7.22e-230\n",
      "Kurtosis:                      10.304   Cond. No.                     2.06e+16\n",
      "==============================================================================\n",
      "\n",
      "Notes:\n",
      "[1] Standard Errors assume that the covariance matrix of the errors is correctly specified.\n",
      "[2] The smallest eigenvalue is 3.37e-30. This might indicate that there are\n",
      "strong multicollinearity problems or that the design matrix is singular.\n",
      "Evaluating The Regression Model on Training Data:\n",
      "Performance of Model: \n",
      "\n",
      "Training RMSE --> 63.44547191533568\n",
      "Validation RMSE --> 99.54283689434197\n",
      "\n",
      "Data after dealing with Missing Values: \n",
      " Series([], Name: LoanAmount, dtype: float64)\n"
     ]
    },
    {
     "data": {
      "text/html": [
       "<div>\n",
       "<style scoped>\n",
       "    .dataframe tbody tr th:only-of-type {\n",
       "        vertical-align: middle;\n",
       "    }\n",
       "\n",
       "    .dataframe tbody tr th {\n",
       "        vertical-align: top;\n",
       "    }\n",
       "\n",
       "    .dataframe thead th {\n",
       "        text-align: right;\n",
       "    }\n",
       "</style>\n",
       "<table border=\"1\" class=\"dataframe\">\n",
       "  <thead>\n",
       "    <tr style=\"text-align: right;\">\n",
       "      <th></th>\n",
       "      <th>Gender</th>\n",
       "      <th>Married</th>\n",
       "      <th>Dependents</th>\n",
       "      <th>Education</th>\n",
       "      <th>Self_Employed</th>\n",
       "      <th>ApplicantIncome</th>\n",
       "      <th>CoapplicantIncome</th>\n",
       "      <th>LoanAmount</th>\n",
       "      <th>Loan_Amount_Term</th>\n",
       "      <th>Credit_History</th>\n",
       "      <th>Property_Area</th>\n",
       "      <th>Loan_Status</th>\n",
       "    </tr>\n",
       "  </thead>\n",
       "  <tbody>\n",
       "    <tr>\n",
       "      <th>1</th>\n",
       "      <td>Male</td>\n",
       "      <td>Yes</td>\n",
       "      <td>1</td>\n",
       "      <td>Graduate</td>\n",
       "      <td>No</td>\n",
       "      <td>4583</td>\n",
       "      <td>1508.0</td>\n",
       "      <td>128.000000</td>\n",
       "      <td>360.0</td>\n",
       "      <td>1.0</td>\n",
       "      <td>Rural</td>\n",
       "      <td>N</td>\n",
       "    </tr>\n",
       "    <tr>\n",
       "      <th>2</th>\n",
       "      <td>Male</td>\n",
       "      <td>Yes</td>\n",
       "      <td>0</td>\n",
       "      <td>Graduate</td>\n",
       "      <td>Yes</td>\n",
       "      <td>3000</td>\n",
       "      <td>0.0</td>\n",
       "      <td>66.000000</td>\n",
       "      <td>360.0</td>\n",
       "      <td>1.0</td>\n",
       "      <td>Urban</td>\n",
       "      <td>Y</td>\n",
       "    </tr>\n",
       "    <tr>\n",
       "      <th>3</th>\n",
       "      <td>Male</td>\n",
       "      <td>Yes</td>\n",
       "      <td>0</td>\n",
       "      <td>Not Graduate</td>\n",
       "      <td>No</td>\n",
       "      <td>2583</td>\n",
       "      <td>2358.0</td>\n",
       "      <td>120.000000</td>\n",
       "      <td>360.0</td>\n",
       "      <td>1.0</td>\n",
       "      <td>Urban</td>\n",
       "      <td>Y</td>\n",
       "    </tr>\n",
       "    <tr>\n",
       "      <th>4</th>\n",
       "      <td>Male</td>\n",
       "      <td>No</td>\n",
       "      <td>0</td>\n",
       "      <td>Graduate</td>\n",
       "      <td>No</td>\n",
       "      <td>6000</td>\n",
       "      <td>0.0</td>\n",
       "      <td>141.000000</td>\n",
       "      <td>360.0</td>\n",
       "      <td>1.0</td>\n",
       "      <td>Urban</td>\n",
       "      <td>Y</td>\n",
       "    </tr>\n",
       "    <tr>\n",
       "      <th>5</th>\n",
       "      <td>Male</td>\n",
       "      <td>Yes</td>\n",
       "      <td>2</td>\n",
       "      <td>Graduate</td>\n",
       "      <td>Yes</td>\n",
       "      <td>5417</td>\n",
       "      <td>4196.0</td>\n",
       "      <td>267.000000</td>\n",
       "      <td>360.0</td>\n",
       "      <td>1.0</td>\n",
       "      <td>Urban</td>\n",
       "      <td>Y</td>\n",
       "    </tr>\n",
       "    <tr>\n",
       "      <th>...</th>\n",
       "      <td>...</td>\n",
       "      <td>...</td>\n",
       "      <td>...</td>\n",
       "      <td>...</td>\n",
       "      <td>...</td>\n",
       "      <td>...</td>\n",
       "      <td>...</td>\n",
       "      <td>...</td>\n",
       "      <td>...</td>\n",
       "      <td>...</td>\n",
       "      <td>...</td>\n",
       "      <td>...</td>\n",
       "    </tr>\n",
       "    <tr>\n",
       "      <th>551</th>\n",
       "      <td>Male</td>\n",
       "      <td>Yes</td>\n",
       "      <td>1</td>\n",
       "      <td>Not Graduate</td>\n",
       "      <td>No</td>\n",
       "      <td>2492</td>\n",
       "      <td>2375.0</td>\n",
       "      <td>92.694497</td>\n",
       "      <td>360.0</td>\n",
       "      <td>1.0</td>\n",
       "      <td>Rural</td>\n",
       "      <td>Y</td>\n",
       "    </tr>\n",
       "    <tr>\n",
       "      <th>605</th>\n",
       "      <td>Male</td>\n",
       "      <td>Yes</td>\n",
       "      <td>0</td>\n",
       "      <td>Not Graduate</td>\n",
       "      <td>No</td>\n",
       "      <td>2400</td>\n",
       "      <td>3800.0</td>\n",
       "      <td>90.696968</td>\n",
       "      <td>180.0</td>\n",
       "      <td>1.0</td>\n",
       "      <td>Urban</td>\n",
       "      <td>N</td>\n",
       "    </tr>\n",
       "    <tr>\n",
       "      <th>102</th>\n",
       "      <td>Male</td>\n",
       "      <td>Yes</td>\n",
       "      <td>0</td>\n",
       "      <td>Graduate</td>\n",
       "      <td>No</td>\n",
       "      <td>13650</td>\n",
       "      <td>0.0</td>\n",
       "      <td>248.194910</td>\n",
       "      <td>360.0</td>\n",
       "      <td>1.0</td>\n",
       "      <td>Urban</td>\n",
       "      <td>Y</td>\n",
       "    </tr>\n",
       "    <tr>\n",
       "      <th>435</th>\n",
       "      <td>Female</td>\n",
       "      <td>No</td>\n",
       "      <td>0</td>\n",
       "      <td>Graduate</td>\n",
       "      <td>No</td>\n",
       "      <td>10047</td>\n",
       "      <td>0.0</td>\n",
       "      <td>207.831995</td>\n",
       "      <td>240.0</td>\n",
       "      <td>1.0</td>\n",
       "      <td>Semiurban</td>\n",
       "      <td>Y</td>\n",
       "    </tr>\n",
       "    <tr>\n",
       "      <th>95</th>\n",
       "      <td>Male</td>\n",
       "      <td>No</td>\n",
       "      <td>0</td>\n",
       "      <td>Graduate</td>\n",
       "      <td>No</td>\n",
       "      <td>6782</td>\n",
       "      <td>0.0</td>\n",
       "      <td>165.526199</td>\n",
       "      <td>360.0</td>\n",
       "      <td>1.0</td>\n",
       "      <td>Urban</td>\n",
       "      <td>N</td>\n",
       "    </tr>\n",
       "  </tbody>\n",
       "</table>\n",
       "<p>614 rows × 12 columns</p>\n",
       "</div>"
      ],
      "text/plain": [
       "     Gender Married Dependents     Education Self_Employed  ApplicantIncome  \\\n",
       "1      Male     Yes          1      Graduate            No             4583   \n",
       "2      Male     Yes          0      Graduate           Yes             3000   \n",
       "3      Male     Yes          0  Not Graduate            No             2583   \n",
       "4      Male      No          0      Graduate            No             6000   \n",
       "5      Male     Yes          2      Graduate           Yes             5417   \n",
       "..      ...     ...        ...           ...           ...              ...   \n",
       "551    Male     Yes          1  Not Graduate            No             2492   \n",
       "605    Male     Yes          0  Not Graduate            No             2400   \n",
       "102    Male     Yes          0      Graduate            No            13650   \n",
       "435  Female      No          0      Graduate            No            10047   \n",
       "95     Male      No          0      Graduate            No             6782   \n",
       "\n",
       "     CoapplicantIncome  LoanAmount  Loan_Amount_Term  Credit_History  \\\n",
       "1               1508.0  128.000000             360.0             1.0   \n",
       "2                  0.0   66.000000             360.0             1.0   \n",
       "3               2358.0  120.000000             360.0             1.0   \n",
       "4                  0.0  141.000000             360.0             1.0   \n",
       "5               4196.0  267.000000             360.0             1.0   \n",
       "..                 ...         ...               ...             ...   \n",
       "551             2375.0   92.694497             360.0             1.0   \n",
       "605             3800.0   90.696968             180.0             1.0   \n",
       "102                0.0  248.194910             360.0             1.0   \n",
       "435                0.0  207.831995             240.0             1.0   \n",
       "95                 0.0  165.526199             360.0             1.0   \n",
       "\n",
       "    Property_Area Loan_Status  \n",
       "1           Rural           N  \n",
       "2           Urban           Y  \n",
       "3           Urban           Y  \n",
       "4           Urban           Y  \n",
       "5           Urban           Y  \n",
       "..            ...         ...  \n",
       "551         Rural           Y  \n",
       "605         Urban           N  \n",
       "102         Urban           Y  \n",
       "435     Semiurban           Y  \n",
       "95          Urban           N  \n",
       "\n",
       "[614 rows x 12 columns]"
      ]
     },
     "execution_count": 37,
     "metadata": {},
     "output_type": "execute_result"
    },
    {
     "data": {
      "image/png": "[encoded data removed]",
      "text/plain": [
       "<Figure size 864x864 with 4 Axes>"
      ]
     },
     "metadata": {
      "needs_background": "light"
     },
     "output_type": "display_data"
    }
   ],
   "source": [
    "# if I consider all of the features which seem to be significant:\n",
    "analysing_and_predicting_missing_num_values(no_null_copy_data, 'LoanAmount', temp_data)"
   ]
  },
  {
   "cell_type": "markdown",
   "metadata": {},
   "source": [
    "<h3>Observation of Model Constructed Considering all Significant Features:</h3>\n",
    "<p>\n",
    "<ol>\n",
    "    <li>R-squared and Adj-RSquared are really low i.e. around 0.36.</li>\n",
    "    <li>The assumptions do not seem to be verified except that of the 'AutoCorrelation'.</li>\n",
    "  </ol>\n",
    "</p>"
   ]
  },
  {
   "cell_type": "code",
   "execution_count": 41,
   "metadata": {},
   "outputs": [
    {
     "data": {
      "text/plain": [
       "Gender               0\n",
       "Married              0\n",
       "Dependents           0\n",
       "Education            0\n",
       "Self_Employed        0\n",
       "ApplicantIncome      0\n",
       "CoapplicantIncome    0\n",
       "LoanAmount           0\n",
       "Loan_Amount_Term     0\n",
       "Credit_History       0\n",
       "Property_Area        0\n",
       "Loan_Status          0\n",
       "dtype: int64"
      ]
     },
     "execution_count": 41,
     "metadata": {},
     "output_type": "execute_result"
    }
   ],
   "source": [
    "# no missing values for 'Loanamount'\n",
    "temp_data.isnull().sum()"
   ]
  },
  {
   "cell_type": "markdown",
   "metadata": {},
   "source": [
    "Now, no missing value is present and hence, we have finally dealt with all of the missing values."
   ]
  },
  {
   "cell_type": "code",
   "execution_count": 42,
   "metadata": {},
   "outputs": [],
   "source": [
    "# saving this data for future training purposes:\n",
    "temp_data.to_csv('Final_Loan_Data.csv')"
   ]
  },
  {
   "cell_type": "markdown",
   "metadata": {},
   "source": [
    "<h3>Observation:</h3>\n",
    "<p>\n",
    "<ol>\n",
    "    <li></li>\n",
    "    <li></li>\n",
    "    <li></li>\n",
    "    <li></li>\n",
    "    <li></li>\n",
    "    <li></li>\n",
    "    </ol>\n",
    "</p>"
   ]
  },
  {
   "cell_type": "code",
   "execution_count": null,
   "metadata": {},
   "outputs": [],
   "source": []
  }
 ],
 "metadata": {
  "kernelspec": {
   "display_name": "Python 3",
   "language": "python",
   "name": "python3"
  },
  "language_info": {
   "codemirror_mode": {
    "name": "ipython",
    "version": 3
   },
   "file_extension": ".py",
   "mimetype": "text/x-python",
   "name": "python",
   "nbconvert_exporter": "python",
   "pygments_lexer": "ipython3",
   "version": "3.7.7"
  }
 },
 "nbformat": 4,
 "nbformat_minor": 4
}
