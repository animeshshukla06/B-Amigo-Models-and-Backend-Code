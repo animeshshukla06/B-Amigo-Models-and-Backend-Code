{
 "cells": [
  {
   "cell_type": "markdown",
   "metadata": {},
   "source": [
    "<h2>Fraudulent Transaction Classification:</h2>\n",
    "<p>This feature would be extremely useful for the bank managers since they would be able to understand if a particular transaction was carried out by some fradulent means. Then, the bank manager can report complain against that account.</p>"
   ]
  },
  {
   "cell_type": "code",
   "execution_count": 1,
   "metadata": {},
   "outputs": [],
   "source": [
    "import numpy as np\n",
    "import pandas as pd\n",
    "import matplotlib.pyplot as plt\n",
    "import seaborn as sns\n",
    "\n",
    "# for handling the warnings:\n",
    "import sys\n",
    "import warnings\n",
    "\n",
    "if not sys.warnoptions:\n",
    "    warnings.simplefilter(\"ignore\")"
   ]
  },
  {
   "cell_type": "code",
   "execution_count": 2,
   "metadata": {},
   "outputs": [
    {
     "data": {
      "text/html": [
       "<div>\n",
       "<style scoped>\n",
       "    .dataframe tbody tr th:only-of-type {\n",
       "        vertical-align: middle;\n",
       "    }\n",
       "\n",
       "    .dataframe tbody tr th {\n",
       "        vertical-align: top;\n",
       "    }\n",
       "\n",
       "    .dataframe thead th {\n",
       "        text-align: right;\n",
       "    }\n",
       "</style>\n",
       "<table border=\"1\" class=\"dataframe\">\n",
       "  <thead>\n",
       "    <tr style=\"text-align: right;\">\n",
       "      <th></th>\n",
       "      <th>step</th>\n",
       "      <th>type</th>\n",
       "      <th>amount</th>\n",
       "      <th>nameOrig</th>\n",
       "      <th>oldbalanceOrg</th>\n",
       "      <th>newbalanceOrig</th>\n",
       "      <th>nameDest</th>\n",
       "      <th>oldbalanceDest</th>\n",
       "      <th>newbalanceDest</th>\n",
       "      <th>isFraud</th>\n",
       "      <th>isFlaggedFraud</th>\n",
       "    </tr>\n",
       "  </thead>\n",
       "  <tbody>\n",
       "    <tr>\n",
       "      <th>0</th>\n",
       "      <td>1</td>\n",
       "      <td>PAYMENT</td>\n",
       "      <td>9839.64</td>\n",
       "      <td>C1231006815</td>\n",
       "      <td>170136.0</td>\n",
       "      <td>160296.36</td>\n",
       "      <td>M1979787155</td>\n",
       "      <td>0.0</td>\n",
       "      <td>0.0</td>\n",
       "      <td>0</td>\n",
       "      <td>0</td>\n",
       "    </tr>\n",
       "    <tr>\n",
       "      <th>1</th>\n",
       "      <td>1</td>\n",
       "      <td>PAYMENT</td>\n",
       "      <td>1864.28</td>\n",
       "      <td>C1666544295</td>\n",
       "      <td>21249.0</td>\n",
       "      <td>19384.72</td>\n",
       "      <td>M2044282225</td>\n",
       "      <td>0.0</td>\n",
       "      <td>0.0</td>\n",
       "      <td>0</td>\n",
       "      <td>0</td>\n",
       "    </tr>\n",
       "    <tr>\n",
       "      <th>2</th>\n",
       "      <td>1</td>\n",
       "      <td>TRANSFER</td>\n",
       "      <td>181.00</td>\n",
       "      <td>C1305486145</td>\n",
       "      <td>181.0</td>\n",
       "      <td>0.00</td>\n",
       "      <td>C553264065</td>\n",
       "      <td>0.0</td>\n",
       "      <td>0.0</td>\n",
       "      <td>1</td>\n",
       "      <td>0</td>\n",
       "    </tr>\n",
       "    <tr>\n",
       "      <th>3</th>\n",
       "      <td>1</td>\n",
       "      <td>CASH_OUT</td>\n",
       "      <td>181.00</td>\n",
       "      <td>C840083671</td>\n",
       "      <td>181.0</td>\n",
       "      <td>0.00</td>\n",
       "      <td>C38997010</td>\n",
       "      <td>21182.0</td>\n",
       "      <td>0.0</td>\n",
       "      <td>1</td>\n",
       "      <td>0</td>\n",
       "    </tr>\n",
       "    <tr>\n",
       "      <th>4</th>\n",
       "      <td>1</td>\n",
       "      <td>PAYMENT</td>\n",
       "      <td>11668.14</td>\n",
       "      <td>C2048537720</td>\n",
       "      <td>41554.0</td>\n",
       "      <td>29885.86</td>\n",
       "      <td>M1230701703</td>\n",
       "      <td>0.0</td>\n",
       "      <td>0.0</td>\n",
       "      <td>0</td>\n",
       "      <td>0</td>\n",
       "    </tr>\n",
       "  </tbody>\n",
       "</table>\n",
       "</div>"
      ],
      "text/plain": [
       "   step      type    amount     nameOrig  oldbalanceOrg  newbalanceOrig  \\\n",
       "0     1   PAYMENT   9839.64  C1231006815       170136.0       160296.36   \n",
       "1     1   PAYMENT   1864.28  C1666544295        21249.0        19384.72   \n",
       "2     1  TRANSFER    181.00  C1305486145          181.0            0.00   \n",
       "3     1  CASH_OUT    181.00   C840083671          181.0            0.00   \n",
       "4     1   PAYMENT  11668.14  C2048537720        41554.0        29885.86   \n",
       "\n",
       "      nameDest  oldbalanceDest  newbalanceDest  isFraud  isFlaggedFraud  \n",
       "0  M1979787155             0.0             0.0        0               0  \n",
       "1  M2044282225             0.0             0.0        0               0  \n",
       "2   C553264065             0.0             0.0        1               0  \n",
       "3    C38997010         21182.0             0.0        1               0  \n",
       "4  M1230701703             0.0             0.0        0               0  "
      ]
     },
     "execution_count": 2,
     "metadata": {},
     "output_type": "execute_result"
    }
   ],
   "source": [
    "# loading the data (csv file) using pandas:\n",
    "orig_data = pd.read_csv(\"fraud_dataset_example.csv\")\n",
    "orig_data.head()"
   ]
  },
  {
   "cell_type": "code",
   "execution_count": 3,
   "metadata": {},
   "outputs": [
    {
     "name": "stdout",
     "output_type": "stream",
     "text": [
      "Number of Rows in data -->  101613\n",
      "Number of Features in Data --> 11\n"
     ]
    }
   ],
   "source": [
    "# creating a copy of the original data since it helps us to perform some new computations:\n",
    "orig_data_copy = orig_data.copy()\n",
    "print(\"Number of Rows in data --> \", orig_data_copy.shape[0])\n",
    "print(\"Number of Features in Data -->\", orig_data_copy.shape[1])"
   ]
  },
  {
   "cell_type": "markdown",
   "metadata": {},
   "source": [
    "<h3>Inspecting Missing Values in Data:</h3>"
   ]
  },
  {
   "cell_type": "code",
   "execution_count": 4,
   "metadata": {},
   "outputs": [
    {
     "data": {
      "text/plain": [
       "step              0\n",
       "type              0\n",
       "amount            0\n",
       "nameOrig          0\n",
       "oldbalanceOrg     0\n",
       "newbalanceOrig    0\n",
       "nameDest          0\n",
       "oldbalanceDest    0\n",
       "newbalanceDest    0\n",
       "isFraud           0\n",
       "isFlaggedFraud    0\n",
       "dtype: int64"
      ]
     },
     "execution_count": 4,
     "metadata": {},
     "output_type": "execute_result"
    }
   ],
   "source": [
    "# number of missing values wrt all the features:\n",
    "orig_data_copy.isnull().sum()"
   ]
  },
  {
   "cell_type": "markdown",
   "metadata": {},
   "source": [
    "<li>Insight: <strong> There doesn't seem to be any missing value in any of the features.</li>"
   ]
  },
  {
   "cell_type": "markdown",
   "metadata": {},
   "source": [
    "<h3>Categorical and Numerical Features:</h3>"
   ]
  },
  {
   "cell_type": "code",
   "execution_count": 5,
   "metadata": {},
   "outputs": [
    {
     "name": "stdout",
     "output_type": "stream",
     "text": [
      "Numerical Features -->  ['step', 'amount', 'oldbalanceOrg', 'newbalanceOrig', 'oldbalanceDest', 'newbalanceDest']\n",
      "Categorical Features with Less Categories-->  ['type', 'isFraud', 'isFlaggedFraud']\n",
      "Categorical Features with More Categories-->  ['nameOrig', 'nameDest']\n"
     ]
    }
   ],
   "source": [
    "# setting the type of \"isFraud\" and \"isFlaggedFraud\" as object:\n",
    "orig_data_copy[\"isFraud\"] = orig_data_copy[\"isFraud\"].astype(\"O\")\n",
    "orig_data_copy[\"isFlaggedFraud\"] = orig_data_copy[\"isFlaggedFraud\"].astype(\"O\")\n",
    "\n",
    "cat_feats = {\"less_categories\": [], \"more_categories\": []}\n",
    "num_feats = []\n",
    "inp_feats = list(orig_data_copy.columns)\n",
    "for feat in inp_feats:\n",
    "    if orig_data_copy[feat].dtype == \"O\":\n",
    "        # categorical feature:\n",
    "        if orig_data_copy[feat].nunique() > 1000:\n",
    "            # categorical feature with more categories:\n",
    "            cat_feats[\"more_categories\"].append(feat)\n",
    "            \n",
    "        else:\n",
    "            # categorical feature with less categories:\n",
    "            cat_feats[\"less_categories\"].append(feat)\n",
    "            \n",
    "    else:\n",
    "        # numerical feature:\n",
    "        num_feats.append(feat)\n",
    "        \n",
    "# Printing the numerical and categorical features:\n",
    "print(\"Numerical Features --> \", num_feats)\n",
    "print(\"Categorical Features with Less Categories--> \", cat_feats[\"less_categories\"])\n",
    "print(\"Categorical Features with More Categories--> \", cat_feats[\"more_categories\"])"
   ]
  },
  {
   "cell_type": "code",
   "execution_count": 6,
   "metadata": {
    "scrolled": false
   },
   "outputs": [
    {
     "data": {
      "image/png": "[encoded data removed]",
      "text/plain": [
       "<Figure size 1080x432 with 6 Axes>"
      ]
     },
     "metadata": {
      "needs_background": "light"
     },
     "output_type": "display_data"
    }
   ],
   "source": [
    "# Distribution of numerical Features:\n",
    "plt.figure(figsize=(15, 6))\n",
    "k = 1\n",
    "for idx in range(len(num_feats)):\n",
    "    plt.subplot(2, 3, k)\n",
    "    sns.distplot(orig_data_copy[num_feats[idx]], color='green')\n",
    "    plt.grid(True, alpha=0.3)\n",
    "    k +=1"
   ]
  },
  {
   "cell_type": "code",
   "execution_count": 7,
   "metadata": {},
   "outputs": [
    {
     "data": {
      "image/png": "[encoded data removed]",
      "text/plain": [
       "<Figure size 1080x432 with 6 Axes>"
      ]
     },
     "metadata": {
      "needs_background": "light"
     },
     "output_type": "display_data"
    }
   ],
   "source": [
    "# since the distribution of numerical features seems to be exponential distribution, thus we can try\n",
    "# taking its logarithm and see if the distribution becomes approximately Gaussian Distribution:\n",
    "\n",
    "\n",
    "# logarithm of numerical features:\n",
    "plt.figure(figsize=(15, 6))\n",
    "k = 1\n",
    "for idx in range(len(num_feats)):\n",
    "    plt.subplot(2, 3, k)\n",
    "    \n",
    "    if (idx != 0):\n",
    "        sns.distplot(np.log(orig_data_copy[num_feats[idx]]+1), color='darkred')\n",
    "        plt.grid(True, alpha=0.3)\n",
    "    else:\n",
    "        sns.distplot(orig_data_copy[num_feats[idx]], color='blue')\n",
    "        plt.grid(True, alpha=0.3)\n",
    "        \n",
    "    plt.grid(True, alpha=0.3)\n",
    "    k +=1"
   ]
  },
  {
   "cell_type": "markdown",
   "metadata": {},
   "source": [
    "<li>Insight: <strong> In most of the numerical features, we can observe a sharp peak at 0, which illustrates that most of the customers have their balance=0 before and after the transaction is completed for both the originator and destinator. </strong></li>\n",
    "<p></p>    \n",
    "<li>Insight: <strong> Since, the distribution of neither of the features are Guassian Distributed, thus we can resort to using Non-Parametric Statistical Tests for deriving important insights from the data. .</strong></li>"
   ]
  },
  {
   "cell_type": "markdown",
   "metadata": {},
   "source": [
    "<h2>Exploratory Data Analysis:</h2>"
   ]
  },
  {
   "cell_type": "markdown",
   "metadata": {},
   "source": [
    "<h3>1) Investigate if the Fraud Transaction involves same Originator/Designator multiple times or not?</h3>"
   ]
  },
  {
   "cell_type": "code",
   "execution_count": 8,
   "metadata": {},
   "outputs": [
    {
     "name": "stdout",
     "output_type": "stream",
     "text": [
      "Proportion of Fraudulent Data -->  0.11415862143623356 %\n"
     ]
    }
   ],
   "source": [
    "class_1_data = orig_data_copy[orig_data_copy[\"isFraud\"]==1]\n",
    "print(\"Proportion of Fraudulent Data --> \", (len(class_1_data)/len(orig_data_copy))*100, '%')"
   ]
  },
  {
   "cell_type": "code",
   "execution_count": 9,
   "metadata": {},
   "outputs": [
    {
     "name": "stdout",
     "output_type": "stream",
     "text": [
      "Length of Fraudulent Transactions 116\n"
     ]
    }
   ],
   "source": [
    "# total number of points corresponding to fraud transactions:\n",
    "print(\"Length of Fraudulent Transactions\", len(class_1_data))"
   ]
  },
  {
   "cell_type": "code",
   "execution_count": 10,
   "metadata": {},
   "outputs": [],
   "source": [
    "# storing the unique account names of Originators and Destinators:\n",
    "name_orig_fraud = list(class_1_data[\"nameOrig\"].unique())\n",
    "name_dest_fraud = list(class_1_data[\"nameDest\"].unique())"
   ]
  },
  {
   "cell_type": "code",
   "execution_count": 11,
   "metadata": {},
   "outputs": [
    {
     "name": "stdout",
     "output_type": "stream",
     "text": [
      "Length of Unique Originators Name in Data --> 101613\n"
     ]
    }
   ],
   "source": [
    "# check the length of unique Account Names for Originator:\n",
    "print(\"Length of Unique Originators Name in Data -->\", len(orig_data_copy[\"nameOrig\"].unique()))"
   ]
  },
  {
   "cell_type": "markdown",
   "metadata": {},
   "source": [
    "<li>Insight: <strong>All the transaction Originators are unique. Hence, no insight about the Trasaction Originators could be derived.</li>"
   ]
  },
  {
   "cell_type": "code",
   "execution_count": 12,
   "metadata": {},
   "outputs": [
    {
     "name": "stdout",
     "output_type": "stream",
     "text": [
      "Length of Unique Destinators Name in Data --> 52280\n"
     ]
    }
   ],
   "source": [
    "# check the length of unique Account Names for Destinator:\n",
    "print(\"Length of Unique Destinators Name in Data -->\", len(orig_data_copy[\"nameDest\"].unique()))"
   ]
  },
  {
   "cell_type": "markdown",
   "metadata": {},
   "source": [
    "<li>Insight: <strong> It seems some of the Transaction Recipients names are repeated. This could be useful to find the names of the transactors for which <code>\"isFraud\"==1</code>.</li>"
   ]
  },
  {
   "cell_type": "code",
   "execution_count": 13,
   "metadata": {
    "scrolled": true
   },
   "outputs": [
    {
     "data": {
      "text/plain": [
       "1"
      ]
     },
     "execution_count": 13,
     "metadata": {},
     "output_type": "execute_result"
    }
   ],
   "source": [
    "# counting the most often destinators for which isFraud==1:\n",
    "name_dest_orig = list(orig_data_copy[\"nameDest\"].unique())\n",
    "result = []\n",
    "\n",
    "for dest_name in name_dest_fraud:\n",
    "    cur_count = name_dest_orig.count(dest_name) # computing the count of each Destinator name \n",
    "    result.append((dest_name, cur_count))\n",
    "    \n",
    "dest_rep_data = pd.DataFrame(result, columns=['Dest Name', 'Count'])\n",
    "max(dest_rep_data['Count'])"
   ]
  },
  {
   "cell_type": "markdown",
   "metadata": {},
   "source": [
    "<li>Insight: <strong>The destinator/recepient's name does not occur more than once hence, there is no proof of making the fraud from similar account names. Thus, everytime a Fraud is being done, it is being carried out by a new Originator's name and a new Destinator's name. </strong></li>\n",
    "    \n",
    "<p></p>\n",
    "<li>Insight: <strong>Hence, we should resort to remove both the features i.e. <code>nameOrig and nameDest</code>.</li>\n"
   ]
  },
  {
   "cell_type": "code",
   "execution_count": 14,
   "metadata": {},
   "outputs": [],
   "source": [
    "# deleting the two features from the categorical features:\n",
    "del cat_feats[\"more_categories\"]"
   ]
  },
  {
   "cell_type": "code",
   "execution_count": 15,
   "metadata": {},
   "outputs": [
    {
     "data": {
      "text/plain": [
       "['type', 'isFraud', 'isFlaggedFraud']"
      ]
     },
     "execution_count": 15,
     "metadata": {},
     "output_type": "execute_result"
    }
   ],
   "source": [
    "# renaming cat_feats:\n",
    "cat_feats = cat_feats[\"less_categories\"]\n",
    "cat_feats"
   ]
  },
  {
   "cell_type": "markdown",
   "metadata": {},
   "source": [
    "<h3>2) What if all the values of numerical feature ==0 is dropped ?</h3>\n",
    "<p>The motivation of going ahead with this analysis is that we can clearly see that the distribution of numerical features have quite high proportion of values==0 and hence, it is distorting the distribution of Numerical Feature's Distribution (because if all the values==0 are dropped, then the distribution would be more close to Gaussian Distribution).</p>"
   ]
  },
  {
   "cell_type": "code",
   "execution_count": 16,
   "metadata": {},
   "outputs": [
    {
     "name": "stdout",
     "output_type": "stream",
     "text": [
      "Current Feature --> step\n",
      "Current Feature --> amount\n",
      "Current Feature --> oldbalanceOrg\n",
      "Current Feature --> newbalanceOrig\n",
      "Current Feature --> oldbalanceDest\n",
      "Current Feature --> newbalanceDest\n"
     ]
    },
    {
     "data": {
      "text/plain": [
       "82213"
      ]
     },
     "execution_count": 16,
     "metadata": {},
     "output_type": "execute_result"
    }
   ],
   "source": [
    "# keeping the indexes of numerical features values == 0 in a separate list:\n",
    "\n",
    "feat_index_0 = set()\n",
    "for feat in num_feats:\n",
    "    cur_feat_index = set(orig_data_copy[orig_data_copy[feat]==0.0].index)\n",
    "    print(\"Current Feature -->\", feat)\n",
    "    feat_index_0 = feat_index_0.union(cur_feat_index) \n",
    "    \n",
    "len(feat_index_0)"
   ]
  },
  {
   "cell_type": "code",
   "execution_count": 17,
   "metadata": {},
   "outputs": [
    {
     "data": {
      "text/plain": [
       "80.9079546908368"
      ]
     },
     "execution_count": 17,
     "metadata": {},
     "output_type": "execute_result"
    }
   ],
   "source": [
    "# percentage of data lost if values==0 are dropped:\n",
    "len(feat_index_0)/len(orig_data_copy)*100"
   ]
  },
  {
   "cell_type": "code",
   "execution_count": 18,
   "metadata": {},
   "outputs": [
    {
     "data": {
      "text/plain": [
       "19400"
      ]
     },
     "execution_count": 18,
     "metadata": {},
     "output_type": "execute_result"
    }
   ],
   "source": [
    "# number of data points for which none of the feature's value is 0:\n",
    "len(orig_data_copy)-len(feat_index_0)"
   ]
  },
  {
   "cell_type": "code",
   "execution_count": 19,
   "metadata": {
    "scrolled": true
   },
   "outputs": [
    {
     "name": "stdout",
     "output_type": "stream",
     "text": [
      "Indexes for which 'isFraud'==1 and none of the numerical feats have value==0 --> 115\n"
     ]
    }
   ],
   "source": [
    "# number of data points which have isFraud==1 and none of the numerical feature has value ==0.\n",
    "# We wanted as less data points for this as possible:\n",
    "\n",
    "class_1_index = set(class_1_data.index)\n",
    "common_index = feat_index_0.intersection(class_1_index)\n",
    "print(\"Indexes for which 'isFraud'==1 and none of the numerical feats have value==0 -->\", len(common_index))"
   ]
  },
  {
   "cell_type": "markdown",
   "metadata": {},
   "source": [
    "<li>Insight: <strong> We cannot drop all the numerical feature's index for which its value is 0 since 115 values are the ones for which <code>isFraud==1</code> and some or the other features have its value==1. Thus, it would be problematic to remove the indexes corresponding to 0 for all numerical features.</li>"
   ]
  },
  {
   "cell_type": "markdown",
   "metadata": {},
   "source": [
    "<h3>3) Creating a new feature --> <code>diff_orig_dest</code>:</h3>\n",
    "<p>This feature would correspond to: \n",
    "<ol>\n",
    "    <li><strong>1 --> if Difference in amount before and after the Originator's Account and Destinator's Account is the same </strong>. Since, it means whatever amount has been deducted from the Originator's Account is the same as that of amount added to Designator's Account.</li>\n",
    "    <li><strong>0 --> if Difference in amount before and after the Originator's Account and Destinator's Account is different.</li>\n",
    "    </ol>\n",
    "</p>"
   ]
  },
  {
   "cell_type": "code",
   "execution_count": 20,
   "metadata": {},
   "outputs": [],
   "source": [
    "# creating a new feature where the difference in Amount of Originator's should be the same as in \n",
    "# Destinator's after the transaction is processed:\n",
    "\n",
    "orig_data_copy[\"oldbalanceOrig\"] = orig_data_copy[\"oldbalanceOrg\"]\n",
    "orig_data_copy[\"diff_orig\"] = orig_data_copy[\"newbalanceOrig\"] - orig_data_copy[\"oldbalanceOrig\"]\n",
    "orig_data_copy[\"diff_dest\"] = orig_data_copy[\"newbalanceDest\"] - orig_data_copy[\"oldbalanceDest\"]\n",
    "orig_data_copy[\"diff_orig_dest\"] = np.where(orig_data_copy[\"diff_orig\"]==orig_data_copy[\"diff_dest\"], 1, 0)"
   ]
  },
  {
   "cell_type": "code",
   "execution_count": 21,
   "metadata": {},
   "outputs": [
    {
     "data": {
      "text/plain": [
       "11235"
      ]
     },
     "execution_count": 21,
     "metadata": {},
     "output_type": "execute_result"
    }
   ],
   "source": [
    "len(orig_data_copy[orig_data_copy[\"diff_orig_dest\"]==1])"
   ]
  },
  {
   "cell_type": "markdown",
   "metadata": {},
   "source": [
    "<li>Insight: <strong> For 11,235 transactions only, the difference in Originator's Account and difference in Destinator's Account is same. This means, the data reported might be different or there could be multiple transactions happening at the same time in the Recepient's Account. We would later explore if there is any dependence of the target feauture with that of <code>diff_orig_dest</code></li>"
   ]
  },
  {
   "cell_type": "code",
   "execution_count": 22,
   "metadata": {},
   "outputs": [
    {
     "name": "stdout",
     "output_type": "stream",
     "text": [
      "Numerical Features ---> ['step', 'amount', 'newbalanceOrig', 'oldbalanceDest', 'newbalanceDest', 'oldbalanceOrig', 'diff_orig', 'diff_dest']\n",
      "Categorical Features ---> ['type', 'isFraud', 'isFlaggedFraud', 'diff_orig_dest']\n"
     ]
    }
   ],
   "source": [
    "# adding the new columns to num_feats:\n",
    "num_feats.remove(\"oldbalanceOrg\") # removing since its name is mis-spelled\n",
    "num_feats.extend([\"oldbalanceOrig\", \"diff_orig\", \"diff_dest\"]) # adding some feats to numerical feats\n",
    "cat_feats.append(\"diff_orig_dest\") # adding some feats to categorical feats\n",
    "print(\"Numerical Features --->\", num_feats)\n",
    "print(\"Categorical Features --->\", cat_feats)"
   ]
  },
  {
   "cell_type": "code",
   "execution_count": 23,
   "metadata": {},
   "outputs": [
    {
     "data": {
      "text/plain": [
       "True"
      ]
     },
     "execution_count": 23,
     "metadata": {},
     "output_type": "execute_result"
    }
   ],
   "source": [
    "# testing whether for fraudulent transactions the value of diff_orig_dest==0:\n",
    "any(orig_data_copy[orig_data_copy[\"isFraud\"]==1][\"diff_orig_dest\"]==0)"
   ]
  },
  {
   "cell_type": "markdown",
   "metadata": {},
   "source": [
    "<li>Insight: <strong> It is found that for all the fraudulent transactions, the value for <code>diff_orig_dest==0.</code></li>"
   ]
  },
  {
   "cell_type": "markdown",
   "metadata": {},
   "source": [
    "<h2>Non-Parametric Tests:</h2>\n",
    "<p>The reason of applying Non-Parametric Tests on this data is because the distribution of numerical features seem to be non-gaussian and we also need to select the features which would prove to be the good predictors of Target feature.</p>"
   ]
  },
  {
   "cell_type": "markdown",
   "metadata": {},
   "source": [
    "<h3>1) Kruskal Wallis Test:</h3>\n",
    "<p>It is a non-parametric test which is used to determine if \"c\" groups come from same population or not. It works more like ANOVA where null hypothesis -> \"c\" groups are identical and alternate hypothesis -> \"c\" groups are not identical.</p>"
   ]
  },
  {
   "cell_type": "code",
   "execution_count": 24,
   "metadata": {},
   "outputs": [],
   "source": [
    "# importing the kruskal() from scipy.stats:\n",
    "from scipy.stats import kruskal"
   ]
  },
  {
   "cell_type": "code",
   "execution_count": 25,
   "metadata": {},
   "outputs": [],
   "source": [
    "def kruskal_wallis_num_feats(data, target_feat):\n",
    "    categories = list(orig_data_copy[target_feat].unique())\n",
    "    data_categories = []\n",
    "    result_kruskal = []\n",
    "\n",
    "    for category in categories:\n",
    "        data_categories.append(orig_data_copy[orig_data_copy[target_feat]==category])\n",
    "\n",
    "    for feat in num_feats:\n",
    "        data_categories_num_feat = []\n",
    "        data_categories_num_feat = [data_categories[idx][feat] for idx in range(len(data_categories))]\n",
    "        h_stats, p_val = kruskal(*data_categories_num_feat)\n",
    "\n",
    "        if p_val < 0.05:\n",
    "            result_kruskal.append((feat, p_val))\n",
    "        else:\n",
    "            continue\n",
    "\n",
    "    result_kruskal_df = pd.DataFrame(result_kruskal, columns=['Numerical Feature', 'P-Value'])\n",
    "    return result_kruskal_df"
   ]
  },
  {
   "cell_type": "code",
   "execution_count": 26,
   "metadata": {},
   "outputs": [
    {
     "data": {
      "text/html": [
       "<div>\n",
       "<style scoped>\n",
       "    .dataframe tbody tr th:only-of-type {\n",
       "        vertical-align: middle;\n",
       "    }\n",
       "\n",
       "    .dataframe tbody tr th {\n",
       "        vertical-align: top;\n",
       "    }\n",
       "\n",
       "    .dataframe thead th {\n",
       "        text-align: right;\n",
       "    }\n",
       "</style>\n",
       "<table border=\"1\" class=\"dataframe\">\n",
       "  <thead>\n",
       "    <tr style=\"text-align: right;\">\n",
       "      <th></th>\n",
       "      <th>Numerical Feature</th>\n",
       "      <th>P-Value</th>\n",
       "    </tr>\n",
       "  </thead>\n",
       "  <tbody>\n",
       "    <tr>\n",
       "      <th>0</th>\n",
       "      <td>step</td>\n",
       "      <td>5.703136e-32</td>\n",
       "    </tr>\n",
       "    <tr>\n",
       "      <th>1</th>\n",
       "      <td>newbalanceOrig</td>\n",
       "      <td>1.485443e-20</td>\n",
       "    </tr>\n",
       "    <tr>\n",
       "      <th>2</th>\n",
       "      <td>oldbalanceDest</td>\n",
       "      <td>2.801679e-09</td>\n",
       "    </tr>\n",
       "    <tr>\n",
       "      <th>3</th>\n",
       "      <td>newbalanceDest</td>\n",
       "      <td>7.516507e-03</td>\n",
       "    </tr>\n",
       "    <tr>\n",
       "      <th>4</th>\n",
       "      <td>oldbalanceOrig</td>\n",
       "      <td>1.266187e-04</td>\n",
       "    </tr>\n",
       "    <tr>\n",
       "      <th>5</th>\n",
       "      <td>diff_orig</td>\n",
       "      <td>3.018956e-41</td>\n",
       "    </tr>\n",
       "  </tbody>\n",
       "</table>\n",
       "</div>"
      ],
      "text/plain": [
       "  Numerical Feature       P-Value\n",
       "0              step  5.703136e-32\n",
       "1    newbalanceOrig  1.485443e-20\n",
       "2    oldbalanceDest  2.801679e-09\n",
       "3    newbalanceDest  7.516507e-03\n",
       "4    oldbalanceOrig  1.266187e-04\n",
       "5         diff_orig  3.018956e-41"
      ]
     },
     "execution_count": 26,
     "metadata": {},
     "output_type": "execute_result"
    }
   ],
   "source": [
    "# kruskal wallis test to derive whether the following num feats for fraud and normal transactions come\n",
    "# from the same distribution or not.\n",
    "kruskal_table = kruskal_wallis_num_feats(orig_data_copy, \"isFraud\")\n",
    "imp_feats_kruskal = list(kruskal_table[\"Numerical Feature\"])\n",
    "kruskal_table"
   ]
  },
  {
   "cell_type": "code",
   "execution_count": 27,
   "metadata": {},
   "outputs": [
    {
     "data": {
      "text/plain": [
       "['step',\n",
       " 'newbalanceOrig',\n",
       " 'oldbalanceDest',\n",
       " 'newbalanceDest',\n",
       " 'oldbalanceOrig',\n",
       " 'diff_orig']"
      ]
     },
     "execution_count": 27,
     "metadata": {},
     "output_type": "execute_result"
    }
   ],
   "source": [
    "# feats considered important by this test:\n",
    "imp_feats_kruskal"
   ]
  },
  {
   "cell_type": "code",
   "execution_count": 28,
   "metadata": {},
   "outputs": [
    {
     "data": {
      "text/plain": [
       "['step',\n",
       " 'amount',\n",
       " 'newbalanceOrig',\n",
       " 'oldbalanceDest',\n",
       " 'newbalanceDest',\n",
       " 'oldbalanceOrig',\n",
       " 'diff_orig',\n",
       " 'diff_dest']"
      ]
     },
     "execution_count": 28,
     "metadata": {},
     "output_type": "execute_result"
    }
   ],
   "source": [
    "# important feats:\n",
    "num_feats"
   ]
  },
  {
   "cell_type": "markdown",
   "metadata": {},
   "source": [
    "<li>Insight: <strong> It seems that apart from <code>amount</code>, rest all of the numerical features have P-Values is less than 0.05 i.e. these numerical features seems to explain the variance of the target feature -> <code>isFraud</code>. Thus, <code>amount</code> would not be a significant predictor of the target feature. </li>"
   ]
  },
  {
   "cell_type": "markdown",
   "metadata": {},
   "source": [
    "<h3>Chi-Square Test of Independence:</h3>\n",
    "<p>It computes for the dependece of a categorical feature with respect to another categorical feature. Hence, over here, we compute the dependence of categorical features with the target feature i.e. <code>isFraud</code>.</p>"
   ]
  },
  {
   "cell_type": "code",
   "execution_count": 29,
   "metadata": {},
   "outputs": [],
   "source": [
    "from scipy.stats import chi2_contingency\n",
    "# creating the contingency table:\n",
    "def contingency_table(data, cat_feat, target_feat=\"isFraud\"):\n",
    "    category_prob = []\n",
    "    for category in data[cat_feat].unique():\n",
    "        data_category = data[data[cat_feat]==category]\n",
    "        target_category_prob = []\n",
    "        for target_cat in data[target_feat].unique():\n",
    "            target_data_category = data_category[data_category[target_feat]==target_cat]\n",
    "            target_category_prob.append((len(target_data_category)))\n",
    "        category_prob.append(target_category_prob)\n",
    "\n",
    "    analysis_values = np.array(category_prob)\n",
    "    target_cols = data[target_feat].unique()\n",
    "    feat_cols = data[cat_feat].unique()\n",
    "    table = pd.DataFrame(analysis_values, columns=[target_cols], index=[feat_cols])\n",
    "    return table\n",
    "\n",
    "\n",
    "# performing the chi-square test of independence to compute the significant categorical features for the target feature:\n",
    "def chi2_test_of_indep(data, all_cat_feats, target_feat=\"isFraud\"):\n",
    "    results_ = []\n",
    "#     num_categories = data[target_feat].nunique()\n",
    "    print('Chi-square Test of Independence is computed for --> ', target_feat)\n",
    "    for categorical_feat in all_cat_feats:\n",
    "        cont_table = contingency_table(data, categorical_feat)\n",
    "#         print(cont_table)\n",
    "        p_value = chi2_contingency(cont_table)[1] # chi-square test of independence\n",
    "\n",
    "        # significant features dependence:\n",
    "        if p_value<=0.05:\n",
    "            results_.append((categorical_feat, p_value))\n",
    "    \n",
    "        \n",
    "    test_of_indep_df = pd.DataFrame(results_, columns=['Significant Features', 'P-Values'])\n",
    "    return test_of_indep_df"
   ]
  },
  {
   "cell_type": "code",
   "execution_count": 30,
   "metadata": {},
   "outputs": [
    {
     "name": "stdout",
     "output_type": "stream",
     "text": [
      "['type', 'diff_orig_dest']\n"
     ]
    }
   ],
   "source": [
    "# categorical feats for which the Chi-Square Test of Independence has to be carried out:\n",
    "for rem_feat in [\"isFraud\", \"isFlaggedFraud\"]:\n",
    "    cat_feats.remove(rem_feat)\n",
    "    \n",
    "# printing the cat_feats_test:\n",
    "print(cat_feats)"
   ]
  },
  {
   "cell_type": "code",
   "execution_count": 31,
   "metadata": {},
   "outputs": [
    {
     "name": "stdout",
     "output_type": "stream",
     "text": [
      "Chi-square Test of Independence is computed for -->  isFraud\n"
     ]
    },
    {
     "data": {
      "text/html": [
       "<div>\n",
       "<style scoped>\n",
       "    .dataframe tbody tr th:only-of-type {\n",
       "        vertical-align: middle;\n",
       "    }\n",
       "\n",
       "    .dataframe tbody tr th {\n",
       "        vertical-align: top;\n",
       "    }\n",
       "\n",
       "    .dataframe thead th {\n",
       "        text-align: right;\n",
       "    }\n",
       "</style>\n",
       "<table border=\"1\" class=\"dataframe\">\n",
       "  <thead>\n",
       "    <tr style=\"text-align: right;\">\n",
       "      <th></th>\n",
       "      <th>Significant Features</th>\n",
       "      <th>P-Values</th>\n",
       "    </tr>\n",
       "  </thead>\n",
       "  <tbody>\n",
       "    <tr>\n",
       "      <th>0</th>\n",
       "      <td>type</td>\n",
       "      <td>1.074350e-65</td>\n",
       "    </tr>\n",
       "    <tr>\n",
       "      <th>1</th>\n",
       "      <td>diff_orig_dest</td>\n",
       "      <td>2.607862e-04</td>\n",
       "    </tr>\n",
       "  </tbody>\n",
       "</table>\n",
       "</div>"
      ],
      "text/plain": [
       "  Significant Features      P-Values\n",
       "0                 type  1.074350e-65\n",
       "1       diff_orig_dest  2.607862e-04"
      ]
     },
     "execution_count": 31,
     "metadata": {},
     "output_type": "execute_result"
    }
   ],
   "source": [
    "chi2_table = chi2_test_of_indep(orig_data_copy, cat_feats)\n",
    "imp_feats_chi2 = list(chi2_table[\"Significant Features\"])\n",
    "chi2_table"
   ]
  },
  {
   "cell_type": "markdown",
   "metadata": {},
   "source": [
    "<li>Insight: <strong>Both the features seem to be significantly dependent on the target feature i.e. <code>isFraud</code>.</li>"
   ]
  },
  {
   "cell_type": "code",
   "execution_count": 32,
   "metadata": {},
   "outputs": [
    {
     "data": {
      "text/plain": [
       "['type', 'diff_orig_dest']"
      ]
     },
     "execution_count": 32,
     "metadata": {},
     "output_type": "execute_result"
    }
   ],
   "source": [
    "# significant features using chi_square test of independence:\n",
    "imp_feats_chi2"
   ]
  },
  {
   "cell_type": "code",
   "execution_count": 33,
   "metadata": {},
   "outputs": [
    {
     "data": {
      "text/plain": [
       "['step',\n",
       " 'newbalanceOrig',\n",
       " 'oldbalanceDest',\n",
       " 'newbalanceDest',\n",
       " 'oldbalanceOrig',\n",
       " 'diff_orig',\n",
       " 'type',\n",
       " 'diff_orig_dest']"
      ]
     },
     "execution_count": 33,
     "metadata": {},
     "output_type": "execute_result"
    }
   ],
   "source": [
    "# important features:\n",
    "imp_feats = []\n",
    "imp_feats.extend(imp_feats_kruskal)\n",
    "imp_feats.extend(imp_feats_chi2)\n",
    "\n",
    "# printing the numerical feats:\n",
    "imp_feats"
   ]
  },
  {
   "cell_type": "markdown",
   "metadata": {},
   "source": [
    "<h3>4) Relationship between Categorical Features and Target Feature:</h3>"
   ]
  },
  {
   "cell_type": "code",
   "execution_count": 34,
   "metadata": {},
   "outputs": [
    {
     "data": {
      "text/html": [
       "<div>\n",
       "<style scoped>\n",
       "    .dataframe tbody tr th:only-of-type {\n",
       "        vertical-align: middle;\n",
       "    }\n",
       "\n",
       "    .dataframe tbody tr th {\n",
       "        vertical-align: top;\n",
       "    }\n",
       "\n",
       "    .dataframe thead tr th {\n",
       "        text-align: left;\n",
       "    }\n",
       "</style>\n",
       "<table border=\"1\" class=\"dataframe\">\n",
       "  <thead>\n",
       "    <tr>\n",
       "      <th></th>\n",
       "      <th>0</th>\n",
       "      <th>1</th>\n",
       "    </tr>\n",
       "  </thead>\n",
       "  <tbody>\n",
       "    <tr>\n",
       "      <th>PAYMENT</th>\n",
       "      <td>40062</td>\n",
       "      <td>0</td>\n",
       "    </tr>\n",
       "    <tr>\n",
       "      <th>TRANSFER</th>\n",
       "      <td>8632</td>\n",
       "      <td>57</td>\n",
       "    </tr>\n",
       "    <tr>\n",
       "      <th>CASH_OUT</th>\n",
       "      <td>31251</td>\n",
       "      <td>59</td>\n",
       "    </tr>\n",
       "    <tr>\n",
       "      <th>DEBIT</th>\n",
       "      <td>1012</td>\n",
       "      <td>0</td>\n",
       "    </tr>\n",
       "    <tr>\n",
       "      <th>CASH_IN</th>\n",
       "      <td>20540</td>\n",
       "      <td>0</td>\n",
       "    </tr>\n",
       "  </tbody>\n",
       "</table>\n",
       "</div>"
      ],
      "text/plain": [
       "              0   1\n",
       "PAYMENT   40062   0\n",
       "TRANSFER   8632  57\n",
       "CASH_OUT  31251  59\n",
       "DEBIT      1012   0\n",
       "CASH_IN   20540   0"
      ]
     },
     "execution_count": 34,
     "metadata": {},
     "output_type": "execute_result"
    }
   ],
   "source": [
    "# Relationship between the target feature and each category of \"type\":\n",
    "contingency_table(orig_data_copy, \"type\")"
   ]
  },
  {
   "cell_type": "markdown",
   "metadata": {},
   "source": [
    "<li>Insight: <strong>The Fraudulent Transactions occur too less in numbers as compared to normal transactions and they seem to occur from only 2 modes of Transaction i.e. <code>PAYMENT and CASH_OUT</code>.</strong></li>"
   ]
  },
  {
   "cell_type": "code",
   "execution_count": 35,
   "metadata": {},
   "outputs": [
    {
     "data": {
      "text/plain": [
       "<matplotlib.axes._subplots.AxesSubplot at 0x1d1e34a0588>"
      ]
     },
     "execution_count": 35,
     "metadata": {},
     "output_type": "execute_result"
    },
    {
     "data": {
      "image/png": "[encoded data removed]",
      "text/plain": [
       "<Figure size 432x288 with 1 Axes>"
      ]
     },
     "metadata": {
      "needs_background": "light"
     },
     "output_type": "display_data"
    }
   ],
   "source": [
    "# plot to represent the above table:\n",
    "plt.grid(True, alpha=0.3)\n",
    "sns.countplot(x=\"type\", data=orig_data_copy, hue=\"isFraud\")"
   ]
  },
  {
   "cell_type": "markdown",
   "metadata": {},
   "source": [
    "<li>Insight: <strong>The proportion of Fraudulent Transactions is so less that the \"Orange\" bar is not even visible.</li>"
   ]
  },
  {
   "cell_type": "code",
   "execution_count": 36,
   "metadata": {},
   "outputs": [
    {
     "data": {
      "text/html": [
       "<div>\n",
       "<style scoped>\n",
       "    .dataframe tbody tr th:only-of-type {\n",
       "        vertical-align: middle;\n",
       "    }\n",
       "\n",
       "    .dataframe tbody tr th {\n",
       "        vertical-align: top;\n",
       "    }\n",
       "\n",
       "    .dataframe thead tr th {\n",
       "        text-align: left;\n",
       "    }\n",
       "</style>\n",
       "<table border=\"1\" class=\"dataframe\">\n",
       "  <thead>\n",
       "    <tr>\n",
       "      <th></th>\n",
       "      <th>0</th>\n",
       "      <th>1</th>\n",
       "    </tr>\n",
       "  </thead>\n",
       "  <tbody>\n",
       "    <tr>\n",
       "      <th>0</th>\n",
       "      <td>90262</td>\n",
       "      <td>116</td>\n",
       "    </tr>\n",
       "    <tr>\n",
       "      <th>1</th>\n",
       "      <td>11235</td>\n",
       "      <td>0</td>\n",
       "    </tr>\n",
       "  </tbody>\n",
       "</table>\n",
       "</div>"
      ],
      "text/plain": [
       "       0    1\n",
       "0  90262  116\n",
       "1  11235    0"
      ]
     },
     "execution_count": 36,
     "metadata": {},
     "output_type": "execute_result"
    }
   ],
   "source": [
    "# Relationship between the target feature and each category of \"diff_orig_dest\":\n",
    "contingency_table(orig_data_copy, \"diff_orig_dest\")"
   ]
  },
  {
   "cell_type": "markdown",
   "metadata": {},
   "source": [
    "<li>Insight: <strong>All of the Fraudulent Transactions have their <code>diff_orig_dest = 0</code> which means the amount deducted from the originator's account is different from the amount which got added to the designator's account.</li>"
   ]
  },
  {
   "cell_type": "code",
   "execution_count": 37,
   "metadata": {},
   "outputs": [
    {
     "data": {
      "text/plain": [
       "<matplotlib.axes._subplots.AxesSubplot at 0x1d1e16d5fc8>"
      ]
     },
     "execution_count": 37,
     "metadata": {},
     "output_type": "execute_result"
    },
    {
     "data": {
      "image/png": "[encoded data removed]",
      "text/plain": [
       "<Figure size 432x288 with 1 Axes>"
      ]
     },
     "metadata": {
      "needs_background": "light"
     },
     "output_type": "display_data"
    }
   ],
   "source": [
    "# plot to represent the above table:\n",
    "plt.grid(True, alpha=0.3)\n",
    "sns.countplot(x=\"diff_orig_dest\", data=orig_data_copy, hue=\"isFraud\")"
   ]
  },
  {
   "cell_type": "code",
   "execution_count": 38,
   "metadata": {},
   "outputs": [
    {
     "data": {
      "text/html": [
       "<div>\n",
       "<style scoped>\n",
       "    .dataframe tbody tr th:only-of-type {\n",
       "        vertical-align: middle;\n",
       "    }\n",
       "\n",
       "    .dataframe tbody tr th {\n",
       "        vertical-align: top;\n",
       "    }\n",
       "\n",
       "    .dataframe thead tr th {\n",
       "        text-align: left;\n",
       "    }\n",
       "</style>\n",
       "<table border=\"1\" class=\"dataframe\">\n",
       "  <thead>\n",
       "    <tr>\n",
       "      <th></th>\n",
       "      <th>0</th>\n",
       "      <th>1</th>\n",
       "    </tr>\n",
       "  </thead>\n",
       "  <tbody>\n",
       "    <tr>\n",
       "      <th>1</th>\n",
       "      <td>2692</td>\n",
       "      <td>16</td>\n",
       "    </tr>\n",
       "    <tr>\n",
       "      <th>2</th>\n",
       "      <td>1006</td>\n",
       "      <td>8</td>\n",
       "    </tr>\n",
       "    <tr>\n",
       "      <th>3</th>\n",
       "      <td>548</td>\n",
       "      <td>4</td>\n",
       "    </tr>\n",
       "    <tr>\n",
       "      <th>4</th>\n",
       "      <td>555</td>\n",
       "      <td>10</td>\n",
       "    </tr>\n",
       "    <tr>\n",
       "      <th>5</th>\n",
       "      <td>659</td>\n",
       "      <td>6</td>\n",
       "    </tr>\n",
       "    <tr>\n",
       "      <th>6</th>\n",
       "      <td>1638</td>\n",
       "      <td>22</td>\n",
       "    </tr>\n",
       "    <tr>\n",
       "      <th>7</th>\n",
       "      <td>6825</td>\n",
       "      <td>12</td>\n",
       "    </tr>\n",
       "    <tr>\n",
       "      <th>8</th>\n",
       "      <td>21085</td>\n",
       "      <td>12</td>\n",
       "    </tr>\n",
       "    <tr>\n",
       "      <th>9</th>\n",
       "      <td>37609</td>\n",
       "      <td>19</td>\n",
       "    </tr>\n",
       "    <tr>\n",
       "      <th>10</th>\n",
       "      <td>28880</td>\n",
       "      <td>7</td>\n",
       "    </tr>\n",
       "  </tbody>\n",
       "</table>\n",
       "</div>"
      ],
      "text/plain": [
       "        0   1\n",
       "1    2692  16\n",
       "2    1006   8\n",
       "3     548   4\n",
       "4     555  10\n",
       "5     659   6\n",
       "6    1638  22\n",
       "7    6825  12\n",
       "8   21085  12\n",
       "9   37609  19\n",
       "10  28880   7"
      ]
     },
     "execution_count": 38,
     "metadata": {},
     "output_type": "execute_result"
    }
   ],
   "source": [
    "# Relationship between the target feature and each category of \"step\":\n",
    "contingency_table(orig_data_copy, \"step\")"
   ]
  },
  {
   "cell_type": "markdown",
   "metadata": {},
   "source": [
    "<h3>5) Analyzing the Scatter Plots:</h3> \n",
    "<p>Now, we would be analyzing the scatter plots between each of the numerical feature. It would help us to see where the Fraudulent Points are present and what algorithms we can use to differentiate them from the normal data points.</p>"
   ]
  },
  {
   "cell_type": "code",
   "execution_count": 39,
   "metadata": {},
   "outputs": [
    {
     "data": {
      "text/plain": [
       "<seaborn.axisgrid.PairGrid at 0x26c151b8908>"
      ]
     },
     "execution_count": 39,
     "metadata": {},
     "output_type": "execute_result"
    },
    {
     "data": {
      "image/png": "[encoded data removed]",
      "text/plain": [
       "<Figure size 944.125x900 with 30 Axes>"
      ]
     },
     "metadata": {
      "needs_background": "light"
     },
     "output_type": "display_data"
    }
   ],
   "source": [
    "# creating a pairplot with multiple numerical features:\n",
    "sns.pairplot(orig_data_copy, hue=\"isFraud\", vars=[\"newbalanceOrig\", \"oldbalanceOrig\", \"newbalanceDest\", \"oldbalanceDest\", \"diff_orig_dest\"])"
   ]
  },
  {
   "cell_type": "markdown",
   "metadata": {},
   "source": [
    "<h3>Important Observations:</h3>\n",
    "<p>\n",
    "<li>The scatter plot between <code>newbalanceOrig and oldbalanceOrig</code> to a greater extent differentiates the Fraudulent Points from the denser region.</li>\n",
    "<li>The scatter plot between <code>newbalanceDest and oldbalanceDest</code> seems to overlap the data of 2 classes. However, the data of Fraudulent Transactions are located towards the extreme left portion of the graph i.e. they have very less values.</li>\n",
    "<li>Fraudulent transactions have <code>diff_orig_dest==0</code>.</li>\n",
    "</p>\n",
    "\n",
    "<h3>Algorithms:</h3>\n",
    "<p> The algorithms which could be applied to seperate the Fraudulent Transactions from the Normal Transactions are as follows:\n",
    "    <p>\n",
    "<li><strong>DBSCAN (Density Based) </strong> but it does not predict in real time whether a transaction would be fraudulent or not.</li>\n",
    "<li><strong>LOF (Relative Density)</li>\n",
    "<li><strong>Isolation Forest</li>\n",
    "    </p>\n",
    "    "
   ]
  },
  {
   "cell_type": "markdown",
   "metadata": {},
   "source": [
    "<h3>Encoding Data:</h3>\n",
    "<p>Here, we would like to:\n",
    "    <ol>\n",
    "        <li>Perform Min-Max Scaling on Numerical Features.</li>\n",
    "        <li>Perform One-Hot Encoding on Categorical Features.</li>\n",
    "    </ol>\n",
    "</p>"
   ]
  },
  {
   "cell_type": "code",
   "execution_count": 39,
   "metadata": {},
   "outputs": [],
   "source": [
    "# function for encoding data:\n",
    "def encoding_data(full_data, target_feature='isFraud'):\n",
    "    full_data_copy = full_data.copy()\n",
    "    target_y = full_data_copy[target_feature]\n",
    "    input_x = full_data_copy.drop([target_feature], axis=1)\n",
    "    \n",
    "    # iterating over each \n",
    "    for each_feat in list(input_x.columns):\n",
    "        if full_data[each_feat].nunique() >= 10:\n",
    "            # a numerical feature: Perform min-max scaling: \n",
    "            min_val = min(input_x[each_feat])\n",
    "            max_val = max(input_x[each_feat])\n",
    "            range_val = max_val - min_val\n",
    "            input_x[each_feat] = (input_x[each_feat]-min_val)/range_val \n",
    "            \n",
    "            # printing the max, min and range for each numerical feature for processing data in \n",
    "            # real-time while making predictions:\n",
    "            print(each_feat)\n",
    "            print('Minimum Value --> ', min_val)\n",
    "            print('Maximum Value --> ', max_val)\n",
    "            print('Range --> ', range_val)\n",
    "            print('============================== \\n\\n')\n",
    "            \n",
    "        else:\n",
    "            # a categorical feature:\n",
    "            if input_x[each_feat].nunique()>2:\n",
    "#                 print(each_feat)\n",
    "                # for multinomial categorical feature\n",
    "                for category in input_x[each_feat].unique(): # iterate over each category of the multi. categorical feature:\n",
    "                    input_x[each_feat + '_' + str(category)] = np.where(input_x[each_feat]==category, 1, 0)\n",
    "                \n",
    "                # removing the categorical feature once encoded:\n",
    "                input_x = input_x.drop([each_feat], axis=1)\n",
    "            else:\n",
    "                continue\n",
    "\n",
    "    return input_x, target_y"
   ]
  },
  {
   "cell_type": "code",
   "execution_count": 40,
   "metadata": {},
   "outputs": [
    {
     "name": "stdout",
     "output_type": "stream",
     "text": [
      "step\n",
      "Minimum Value -->  1\n",
      "Maximum Value -->  10\n",
      "Range -->  9\n",
      "============================== \n",
      "\n",
      "\n",
      "newbalanceOrig\n",
      "Minimum Value -->  0.0\n",
      "Maximum Value -->  38946233.02\n",
      "Range -->  38946233.02\n",
      "============================== \n",
      "\n",
      "\n",
      "oldbalanceDest\n",
      "Minimum Value -->  0.0\n",
      "Maximum Value -->  34008736.98\n",
      "Range -->  34008736.98\n",
      "============================== \n",
      "\n",
      "\n",
      "newbalanceDest\n",
      "Minimum Value -->  0.0\n",
      "Maximum Value -->  38946233.02\n",
      "Range -->  38946233.02\n",
      "============================== \n",
      "\n",
      "\n",
      "oldbalanceOrig\n",
      "Minimum Value -->  0.0\n",
      "Maximum Value -->  38939424.03\n",
      "Range -->  38939424.03\n",
      "============================== \n",
      "\n",
      "\n",
      "diff_orig\n",
      "Minimum Value -->  -10000000.0\n",
      "Maximum Value -->  1289407.9100000001\n",
      "Range -->  11289407.91\n",
      "============================== \n",
      "\n",
      "\n"
     ]
    }
   ],
   "source": [
    "imp_feats.append(\"isFraud\") # appending target feature in data\n",
    "\n",
    "# encoding data:\n",
    "imp_data = orig_data_copy[imp_feats]\n",
    "input_x, target_y = encoding_data(imp_data)"
   ]
  },
  {
   "cell_type": "code",
   "execution_count": 41,
   "metadata": {
    "scrolled": false
   },
   "outputs": [
    {
     "data": {
      "text/html": [
       "<div>\n",
       "<style scoped>\n",
       "    .dataframe tbody tr th:only-of-type {\n",
       "        vertical-align: middle;\n",
       "    }\n",
       "\n",
       "    .dataframe tbody tr th {\n",
       "        vertical-align: top;\n",
       "    }\n",
       "\n",
       "    .dataframe thead th {\n",
       "        text-align: right;\n",
       "    }\n",
       "</style>\n",
       "<table border=\"1\" class=\"dataframe\">\n",
       "  <thead>\n",
       "    <tr style=\"text-align: right;\">\n",
       "      <th></th>\n",
       "      <th>step</th>\n",
       "      <th>newbalanceOrig</th>\n",
       "      <th>oldbalanceDest</th>\n",
       "      <th>newbalanceDest</th>\n",
       "      <th>oldbalanceOrig</th>\n",
       "      <th>diff_orig</th>\n",
       "      <th>diff_orig_dest</th>\n",
       "      <th>type_PAYMENT</th>\n",
       "      <th>type_TRANSFER</th>\n",
       "      <th>type_CASH_OUT</th>\n",
       "      <th>type_DEBIT</th>\n",
       "      <th>type_CASH_IN</th>\n",
       "    </tr>\n",
       "  </thead>\n",
       "  <tbody>\n",
       "    <tr>\n",
       "      <th>0</th>\n",
       "      <td>0.0</td>\n",
       "      <td>0.004116</td>\n",
       "      <td>0.000000</td>\n",
       "      <td>0.000000</td>\n",
       "      <td>0.004369</td>\n",
       "      <td>0.884914</td>\n",
       "      <td>0</td>\n",
       "      <td>1</td>\n",
       "      <td>0</td>\n",
       "      <td>0</td>\n",
       "      <td>0</td>\n",
       "      <td>0</td>\n",
       "    </tr>\n",
       "    <tr>\n",
       "      <th>1</th>\n",
       "      <td>0.0</td>\n",
       "      <td>0.000498</td>\n",
       "      <td>0.000000</td>\n",
       "      <td>0.000000</td>\n",
       "      <td>0.000546</td>\n",
       "      <td>0.885621</td>\n",
       "      <td>0</td>\n",
       "      <td>1</td>\n",
       "      <td>0</td>\n",
       "      <td>0</td>\n",
       "      <td>0</td>\n",
       "      <td>0</td>\n",
       "    </tr>\n",
       "    <tr>\n",
       "      <th>2</th>\n",
       "      <td>0.0</td>\n",
       "      <td>0.000000</td>\n",
       "      <td>0.000000</td>\n",
       "      <td>0.000000</td>\n",
       "      <td>0.000005</td>\n",
       "      <td>0.885770</td>\n",
       "      <td>0</td>\n",
       "      <td>0</td>\n",
       "      <td>1</td>\n",
       "      <td>0</td>\n",
       "      <td>0</td>\n",
       "      <td>0</td>\n",
       "    </tr>\n",
       "    <tr>\n",
       "      <th>3</th>\n",
       "      <td>0.0</td>\n",
       "      <td>0.000000</td>\n",
       "      <td>0.000623</td>\n",
       "      <td>0.000000</td>\n",
       "      <td>0.000005</td>\n",
       "      <td>0.885770</td>\n",
       "      <td>0</td>\n",
       "      <td>0</td>\n",
       "      <td>0</td>\n",
       "      <td>1</td>\n",
       "      <td>0</td>\n",
       "      <td>0</td>\n",
       "    </tr>\n",
       "    <tr>\n",
       "      <th>4</th>\n",
       "      <td>0.0</td>\n",
       "      <td>0.000767</td>\n",
       "      <td>0.000000</td>\n",
       "      <td>0.000000</td>\n",
       "      <td>0.001067</td>\n",
       "      <td>0.884752</td>\n",
       "      <td>0</td>\n",
       "      <td>1</td>\n",
       "      <td>0</td>\n",
       "      <td>0</td>\n",
       "      <td>0</td>\n",
       "      <td>0</td>\n",
       "    </tr>\n",
       "    <tr>\n",
       "      <th>...</th>\n",
       "      <td>...</td>\n",
       "      <td>...</td>\n",
       "      <td>...</td>\n",
       "      <td>...</td>\n",
       "      <td>...</td>\n",
       "      <td>...</td>\n",
       "      <td>...</td>\n",
       "      <td>...</td>\n",
       "      <td>...</td>\n",
       "      <td>...</td>\n",
       "      <td>...</td>\n",
       "      <td>...</td>\n",
       "    </tr>\n",
       "    <tr>\n",
       "      <th>101608</th>\n",
       "      <td>1.0</td>\n",
       "      <td>0.000000</td>\n",
       "      <td>0.000000</td>\n",
       "      <td>0.000000</td>\n",
       "      <td>0.000020</td>\n",
       "      <td>0.885717</td>\n",
       "      <td>0</td>\n",
       "      <td>1</td>\n",
       "      <td>0</td>\n",
       "      <td>0</td>\n",
       "      <td>0</td>\n",
       "      <td>0</td>\n",
       "    </tr>\n",
       "    <tr>\n",
       "      <th>101609</th>\n",
       "      <td>1.0</td>\n",
       "      <td>0.000000</td>\n",
       "      <td>0.002798</td>\n",
       "      <td>0.002344</td>\n",
       "      <td>0.005659</td>\n",
       "      <td>0.866269</td>\n",
       "      <td>0</td>\n",
       "      <td>0</td>\n",
       "      <td>0</td>\n",
       "      <td>1</td>\n",
       "      <td>0</td>\n",
       "      <td>0</td>\n",
       "    </tr>\n",
       "    <tr>\n",
       "      <th>101610</th>\n",
       "      <td>1.0</td>\n",
       "      <td>0.000000</td>\n",
       "      <td>0.000000</td>\n",
       "      <td>0.000000</td>\n",
       "      <td>0.000000</td>\n",
       "      <td>0.885786</td>\n",
       "      <td>1</td>\n",
       "      <td>1</td>\n",
       "      <td>0</td>\n",
       "      <td>0</td>\n",
       "      <td>0</td>\n",
       "      <td>0</td>\n",
       "    </tr>\n",
       "    <tr>\n",
       "      <th>101611</th>\n",
       "      <td>1.0</td>\n",
       "      <td>0.000000</td>\n",
       "      <td>0.015926</td>\n",
       "      <td>0.056153</td>\n",
       "      <td>0.000041</td>\n",
       "      <td>0.885644</td>\n",
       "      <td>0</td>\n",
       "      <td>0</td>\n",
       "      <td>1</td>\n",
       "      <td>0</td>\n",
       "      <td>0</td>\n",
       "      <td>0</td>\n",
       "    </tr>\n",
       "    <tr>\n",
       "      <th>101612</th>\n",
       "      <td>1.0</td>\n",
       "      <td>0.000000</td>\n",
       "      <td>0.000000</td>\n",
       "      <td>0.012056</td>\n",
       "      <td>0.000800</td>\n",
       "      <td>0.883028</td>\n",
       "      <td>0</td>\n",
       "      <td>0</td>\n",
       "      <td>0</td>\n",
       "      <td>1</td>\n",
       "      <td>0</td>\n",
       "      <td>0</td>\n",
       "    </tr>\n",
       "  </tbody>\n",
       "</table>\n",
       "<p>101613 rows × 12 columns</p>\n",
       "</div>"
      ],
      "text/plain": [
       "        step  newbalanceOrig  oldbalanceDest  newbalanceDest  oldbalanceOrig  \\\n",
       "0        0.0        0.004116        0.000000        0.000000        0.004369   \n",
       "1        0.0        0.000498        0.000000        0.000000        0.000546   \n",
       "2        0.0        0.000000        0.000000        0.000000        0.000005   \n",
       "3        0.0        0.000000        0.000623        0.000000        0.000005   \n",
       "4        0.0        0.000767        0.000000        0.000000        0.001067   \n",
       "...      ...             ...             ...             ...             ...   \n",
       "101608   1.0        0.000000        0.000000        0.000000        0.000020   \n",
       "101609   1.0        0.000000        0.002798        0.002344        0.005659   \n",
       "101610   1.0        0.000000        0.000000        0.000000        0.000000   \n",
       "101611   1.0        0.000000        0.015926        0.056153        0.000041   \n",
       "101612   1.0        0.000000        0.000000        0.012056        0.000800   \n",
       "\n",
       "        diff_orig  diff_orig_dest  type_PAYMENT  type_TRANSFER  type_CASH_OUT  \\\n",
       "0        0.884914               0             1              0              0   \n",
       "1        0.885621               0             1              0              0   \n",
       "2        0.885770               0             0              1              0   \n",
       "3        0.885770               0             0              0              1   \n",
       "4        0.884752               0             1              0              0   \n",
       "...           ...             ...           ...            ...            ...   \n",
       "101608   0.885717               0             1              0              0   \n",
       "101609   0.866269               0             0              0              1   \n",
       "101610   0.885786               1             1              0              0   \n",
       "101611   0.885644               0             0              1              0   \n",
       "101612   0.883028               0             0              0              1   \n",
       "\n",
       "        type_DEBIT  type_CASH_IN  \n",
       "0                0             0  \n",
       "1                0             0  \n",
       "2                0             0  \n",
       "3                0             0  \n",
       "4                0             0  \n",
       "...            ...           ...  \n",
       "101608           0             0  \n",
       "101609           0             0  \n",
       "101610           0             0  \n",
       "101611           0             0  \n",
       "101612           0             0  \n",
       "\n",
       "[101613 rows x 12 columns]"
      ]
     },
     "execution_count": 41,
     "metadata": {},
     "output_type": "execute_result"
    }
   ],
   "source": [
    "# input data: \n",
    "input_x"
   ]
  },
  {
   "cell_type": "code",
   "execution_count": 42,
   "metadata": {},
   "outputs": [
    {
     "data": {
      "text/plain": [
       "0         0\n",
       "1         0\n",
       "2         1\n",
       "3         1\n",
       "4         0\n",
       "         ..\n",
       "101608    0\n",
       "101609    0\n",
       "101610    0\n",
       "101611    0\n",
       "101612    0\n",
       "Name: isFraud, Length: 101613, dtype: object"
      ]
     },
     "execution_count": 42,
     "metadata": {},
     "output_type": "execute_result"
    }
   ],
   "source": [
    "# target feature:\n",
    "target_y"
   ]
  },
  {
   "cell_type": "markdown",
   "metadata": {},
   "source": [
    "<h3>Principal Component Analysis for Visualization:</h3>\n",
    "<p>The reason of proceeding with PCA is to compress the data to 2-Dimensional since it can be plotted on 2-D graph and we can have a look at how the fraudulent transactions differ from the normal transactions, although we would be loosing some amount of variance in dropping the features.</p>"
   ]
  },
  {
   "cell_type": "code",
   "execution_count": 43,
   "metadata": {},
   "outputs": [],
   "source": [
    "# importing the PCA class from sklearn.decomposition:\n",
    "from sklearn.decomposition import PCA"
   ]
  },
  {
   "cell_type": "code",
   "execution_count": 44,
   "metadata": {},
   "outputs": [
    {
     "data": {
      "text/plain": [
       "PCA(n_components=2)"
      ]
     },
     "execution_count": 44,
     "metadata": {},
     "output_type": "execute_result"
    }
   ],
   "source": [
    "# fitting PCA to reduce the dimensionality of data so as to visualize data in 2-D Space:\n",
    "pca = PCA(n_components=2)\n",
    "pca.fit(input_x)"
   ]
  },
  {
   "cell_type": "code",
   "execution_count": 45,
   "metadata": {},
   "outputs": [
    {
     "data": {
      "text/plain": [
       "array([0.43335957, 0.27934754])"
      ]
     },
     "execution_count": 45,
     "metadata": {},
     "output_type": "execute_result"
    }
   ],
   "source": [
    "# 70% variance of the original data has been explained by the 2 Principal Components Vector:\n",
    "pca.explained_variance_ratio_"
   ]
  },
  {
   "cell_type": "code",
   "execution_count": 46,
   "metadata": {},
   "outputs": [
    {
     "data": {
      "text/plain": [
       "(101613, 12)"
      ]
     },
     "execution_count": 46,
     "metadata": {},
     "output_type": "execute_result"
    }
   ],
   "source": [
    "# Shape of Input Data:\n",
    "input_x.shape"
   ]
  },
  {
   "cell_type": "code",
   "execution_count": 47,
   "metadata": {},
   "outputs": [
    {
     "data": {
      "text/plain": [
       "(12, 2)"
      ]
     },
     "execution_count": 47,
     "metadata": {},
     "output_type": "execute_result"
    }
   ],
   "source": [
    "# Shape of Transformed Vector of 2 Principal Components which represents maximum variance of Data:\n",
    "pca_comp = pca.components_.T\n",
    "pca_comp.shape"
   ]
  },
  {
   "cell_type": "code",
   "execution_count": 48,
   "metadata": {},
   "outputs": [
    {
     "data": {
      "text/plain": [
       "(101613, 2)"
      ]
     },
     "execution_count": 48,
     "metadata": {},
     "output_type": "execute_result"
    }
   ],
   "source": [
    "# getting the compressed data by computing the dot product of the input with the transpose of the 2 principal vectors which \n",
    "# retain the highest variance:\n",
    "comp_data = np.dot(input_x, pca_comp)\n",
    "comp_data.shape"
   ]
  },
  {
   "cell_type": "code",
   "execution_count": 49,
   "metadata": {},
   "outputs": [
    {
     "data": {
      "text/plain": [
       "Text(0.5, 1.0, 'Visualizing Fraudulent Transactions')"
      ]
     },
     "execution_count": 49,
     "metadata": {},
     "output_type": "execute_result"
    },
    {
     "data": {
      "image/png": "[encoded data removed]",
      "text/plain": [
       "<Figure size 1008x576 with 1 Axes>"
      ]
     },
     "metadata": {
      "needs_background": "light"
     },
     "output_type": "display_data"
    }
   ],
   "source": [
    "plt.figure(figsize=(14, 8))\n",
    "plt.scatter(comp_data[:, 0], comp_data[:, 1], c=target_y, cmap='rainbow')\n",
    "plt.xlabel(\"Data Along 1st PC (explains 43% of variance)\", fontsize=14)\n",
    "plt.ylabel(\"Data Along 2nd PC (explains 28% of variance)\", fontsize=14)\n",
    "plt.grid(True, alpha=0.4)\n",
    "plt.title(\"Visualizing Fraudulent Transactions\", fontsize=16)"
   ]
  },
  {
   "cell_type": "markdown",
   "metadata": {},
   "source": [
    "<li>Insight: <strong>It can be observed that Fraudulent Transactions occur only in 2 cluster of data points and that to towards the region of low-density in each clusters i.e. towards the right-side of the cluster where there doesn't seem to be a lot of data points belonging to Normal Transactions.</strong></li>\n",
    "<p>\n",
    "    <li>Insight: <strong>Further, we can also use the same plot to see how our algorithms work and make predictions on test/validation data.</li>\n"
   ]
  },
  {
   "cell_type": "markdown",
   "metadata": {},
   "source": [
    "<h2>Splitting Data in Training and Validation:</h2>\n",
    "<p>Here, we want to split the original data into training and validation data.</p>"
   ]
  },
  {
   "cell_type": "code",
   "execution_count": 43,
   "metadata": {},
   "outputs": [],
   "source": [
    "# function which splits data: \n",
    "# our aim is to keep the data wrt \"fraud==0\" in training data and keep all the \"fraud==1\" along with some of \"fraud==0\" data together:\n",
    "def splitting_train_val(prop_target, full_data, target_feat_data):\n",
    "    \"\"\"We know that the target class is binary and the number of instances for both the class are equal, hence perform stratified Sampling\"\"\"\n",
    "    \n",
    "    # defining the proportion of training and validation data beforehand:\n",
    "    total_train_idx = int(len(full_data)*0.95)\n",
    "    total_val_idx = int(len(full_data)*0.05)\n",
    "    \n",
    "    # creating the new feature \"target\" in full_data and then separating data based upon target class:\n",
    "    full_data['target'] = target_feat_data\n",
    "    class_0_data = full_data[full_data['target']==0]\n",
    "    class_1_data = full_data[full_data['target']==1]\n",
    "    \n",
    "#   proportion of target data to be included in training data:\n",
    "    train_target_idx = int(prop_target*len(class_1_data)) \n",
    "    train_input_idx = total_train_idx - train_target_idx\n",
    "    \n",
    "    # creating train data:\n",
    "    train_0_data = class_0_data[:train_input_idx]\n",
    "    train_1_data = class_1_data[:train_target_idx]\n",
    "    full_train_data = pd.concat([train_0_data, train_1_data], axis=0).sample(frac=1) # shuffling the data as well\n",
    "    train_target = full_train_data['target'] \n",
    "    train_data = full_train_data.drop(['target'], axis=1)\n",
    "    \n",
    "    # creating val data:\n",
    "    val_0_data = class_0_data[train_input_idx:]\n",
    "    val_1_data = class_1_data[train_target_idx:]\n",
    "    full_val_data = pd.concat([val_0_data, val_1_data], axis=0).sample(frac=1) # shuffling the data as well\n",
    "    val_target = full_val_data['target']\n",
    "    val_data = full_val_data.drop(['target'], axis=1)\n",
    "    \n",
    "    return (train_data, train_target, val_data, val_target)"
   ]
  },
  {
   "cell_type": "code",
   "execution_count": 44,
   "metadata": {},
   "outputs": [
    {
     "name": "stdout",
     "output_type": "stream",
     "text": [
      "Shape of Input Training Data ---> (96532, 12)\n",
      "Shape of Target Training Data ---> (96532,)\n",
      "Class-1 Data in Training Data ---> 0\n",
      "Class-0 Data in Training Data ---> 96532\n",
      "===================================================\n",
      "Shape of Input Validation Data ---> (5081, 12)\n",
      "Shape of Target Validation Data ---> (5081,)\n",
      "Class-1 Data in Validation Data ---> 116\n",
      "Class-0 Data in Validation Data ---> 4965\n",
      "===================================================\n"
     ]
    }
   ],
   "source": [
    "# creating training and validation data:\n",
    "# Note, 90% of the total fraudulent examples are kept in training data:\n",
    "(x_train, y_train, x_val, y_val) = splitting_train_val(0.0, input_x, target_y)\n",
    "print(\"Shape of Input Training Data --->\", x_train.shape)\n",
    "print(\"Shape of Target Training Data --->\", y_train.shape)\n",
    "print(\"Class-1 Data in Training Data --->\", len(y_train[y_train==1]))\n",
    "print(\"Class-0 Data in Training Data --->\", len(y_train[y_train==0]))\n",
    "print(\"===================================================\")\n",
    "print(\"Shape of Input Validation Data --->\", x_val.shape)\n",
    "print(\"Shape of Target Validation Data --->\", y_val.shape)\n",
    "print(\"Class-1 Data in Validation Data --->\", len(y_val[y_val==1]))\n",
    "print(\"Class-0 Data in Validation Data --->\", len(y_val[y_val==0]))\n",
    "print(\"===================================================\")"
   ]
  },
  {
   "cell_type": "code",
   "execution_count": 45,
   "metadata": {},
   "outputs": [],
   "source": [
    "# setting the dtype of y_train and y_val:\n",
    "y_train = y_train.astype('int32')\n",
    "y_val = y_val.astype('int32')"
   ]
  },
  {
   "cell_type": "markdown",
   "metadata": {},
   "source": [
    "<h2>Evaluating Anomaly Detection Algorithms:</h2>"
   ]
  },
  {
   "cell_type": "code",
   "execution_count": 46,
   "metadata": {},
   "outputs": [],
   "source": [
    "# code for evaluating a Machine Learning Alogrithm:\n",
    "from sklearn.metrics import accuracy_score, precision_score, recall_score, f1_score, roc_auc_score, confusion_matrix\n",
    "\n",
    "# evaluation table returns the table comparision between the training and validation metrics:  \n",
    "def evaluation_table(y_train, y_train_pred, y_val, y_val_pred):\n",
    "    # training performance metrics:\n",
    "    accuracy_train = accuracy_score(y_train, y_train_pred)\n",
    "    prec_train = precision_score(y_train, y_train_pred)\n",
    "    recall_train = recall_score(y_train, y_train_pred)\n",
    "    f1_train = f1_score(y_train, y_train_pred)\n",
    "    roc_train = roc_auc_score(y_train, y_train_pred)\n",
    "    train_perf = [accuracy_train, prec_train, recall_train, f1_train, roc_train]\n",
    "    \n",
    "    # validation performance metrics:\n",
    "    accuracy_val = accuracy_score(y_val, y_val_pred)\n",
    "    prec_val = precision_score(y_val, y_val_pred)\n",
    "    recall_val = recall_score(y_val, y_val_pred)\n",
    "    f1_val = f1_score(y_val, y_val_pred)\n",
    "    roc_val = roc_auc_score(y_val, y_val_pred)\n",
    "    val_perf = [accuracy_val, prec_val, recall_val, f1_val, roc_val]\n",
    "    \n",
    "    # forming a table:\n",
    "    result = []\n",
    "    for train_p, val_p in zip(train_perf, val_perf):\n",
    "        result.append((train_p, val_p))\n",
    "        \n",
    "    result_table = pd.DataFrame(result, columns=['Training Metrics', 'Validation Metrics'], index=['Accuracy', 'Precision', 'Recall', 'F1-Score', 'AUC Score'])\n",
    "    return result_table\n",
    "\n",
    "# evaluation table only on validation data:\n",
    "def evaluation_table_val(y_val, y_val_pred):\n",
    "    # validation performance metrics:\n",
    "    accuracy_val = accuracy_score(y_val, y_val_pred)\n",
    "    prec_val = precision_score(y_val, y_val_pred)\n",
    "    recall_val = recall_score(y_val, y_val_pred)\n",
    "    f1_val = f1_score(y_val, y_val_pred)\n",
    "    roc_val = roc_auc_score(y_val, y_val_pred)\n",
    "    val_perf = [accuracy_val, prec_val, recall_val, f1_val, roc_val]\n",
    "    \n",
    "    # forming a table:\n",
    "    result = []\n",
    "    for val_p in val_perf:\n",
    "        result.append(val_p)\n",
    "        \n",
    "    result_table = pd.DataFrame(result, columns=['Validation Metrics'], index=['Accuracy', 'Precision', 'Recall', 'F1-Score', 'AUC Score'])\n",
    "    return result_table\n",
    "\n",
    "# make_predictions on both data:\n",
    "def make_predictions(best_model):\n",
    "    # predicting output for training data:\n",
    "    y_train_pred = best_model.predict(x_train)\n",
    "    y_train_pred = np.where(y_train_pred == -1, 1, 0) \n",
    "    \n",
    "    # predicting output for validation data:\n",
    "    y_val_pred = best_model.predict(x_val)\n",
    "    y_val_pred = np.where(y_val_pred == -1, 1, 0)\n",
    "    return y_train_pred, y_val_pred\n",
    "\n",
    "# make predictions only on val data:\n",
    "def make_predictions_val(best_model):\n",
    "    # predicting output for validation data:\n",
    "    y_val_pred = best_model.predict(x_val)\n",
    "    y_val_pred = np.where(y_val_pred == -1, 1, 0)\n",
    "    return y_val_pred\n",
    "\n",
    "\n",
    "# make predictions only on training data:\n",
    "def make_predictions_train(best_model):\n",
    "    # predicting output for training data:\n",
    "    y_train_pred = best_model.predict(x_train)\n",
    "    y_train_pred = np.where(y_train_pred == -1, 1, 0) \n",
    "    return y_train_pred\n",
    "\n",
    "\n",
    "# get the confusion matrix:\n",
    "def get_confusion_matrix(y_val, y_val_pred):\n",
    "    conf_matrix = confusion_matrix(y_val, y_val_pred)\n",
    "    conf_matrix_df = pd.DataFrame(conf_matrix, columns=[\"Pred-0\", \"Pred-1\"], index=[\"Actual-0\", \"Actual-1\"])\n",
    "    return conf_matrix_df\n",
    "    \n",
    "\n",
    "# printing the Confusion Matrix along with the evaluation table:\n",
    "def print_eval_metrics(best_model):\n",
    "    # make predictions:\n",
    "    y_train_pred, y_val_pred = make_predictions(best_model)\n",
    "    \n",
    "    # printing the Evaluation Table:\n",
    "    eval_result_table = evaluation_table(y_train, y_train_pred, y_val, y_val_pred)\n",
    "    print('Evaluation Table for '+title, end=\"\\n\")\n",
    "    print(eval_result_table, end=\"\\n\\n\\n\")\n",
    "    \n",
    "    # printing the confusion matrix:\n",
    "    conf_matrix = confusion_matrix(y_val, y_val_pred)\n",
    "    conf_matrix_df = pd.DataFrame(conf_matrix, columns=[\"Pred-0\", \"Pred-1\"], index=[\"Actual-0\", \"Actual-1\"])\n",
    "    print(\"Confusion Matrix for \"+ title, end=\"\\n\")\n",
    "    print(conf_matrix_df)\n",
    "    return True"
   ]
  },
  {
   "cell_type": "markdown",
   "metadata": {},
   "source": [
    "<h2>Anomaly Detection Modelling:</h2>\n",
    "<p>Here, I would be training the data on multiple anomaly detection algorithms and evaluate the performance of each of the algorithm using the Performance Metrics of Classifiers.</p>"
   ]
  },
  {
   "cell_type": "markdown",
   "metadata": {},
   "source": [
    "<h3>1) Local Outlier Factor (LOF):</h3>\n",
    "<p>The algorithm separates the normal data points from those of the outliers based upon the relative density approach where the k-nearest neighbours are chosen and then density of each data point is computed with respect to its neighbours and the points which seem to have low relative density are the ones which are raised as outliers.</p>"
   ]
  },
  {
   "cell_type": "code",
   "execution_count": 47,
   "metadata": {},
   "outputs": [],
   "source": [
    "# class for plotting evaluation metrics for LOF:\n",
    "from sklearn.neighbors import LocalOutlierFactor\n",
    "class PlotEvaluationMetricLOF:\n",
    "    def __init__(self, val_data):\n",
    "        self.y_val = val_data\n",
    "    \n",
    "    # plotting evaluation metrics of LOF based upon various values of contamination:\n",
    "    def plot_lof_metrics_cont(self, list_of_cont, n_neighbor):\n",
    "        accuracy_val = []\n",
    "        prec_val = []\n",
    "        recall_val = []\n",
    "        f1_score_val = []\n",
    "        auc_score_val =  []\n",
    "\n",
    "        # since proportion of outliers in data = 0.00114158, hence contamination=0.00114158: \n",
    "        for cur_cont in list_of_cont:\n",
    "            clf = LocalOutlierFactor(n_neighbors = n_neighbor, contamination=cur_cont, novelty=True)\n",
    "            clf.fit(x_train)\n",
    "            y_val_pred = make_predictions_val(clf)\n",
    "            eval_table = evaluation_table_val(self.y_val, y_val_pred)\n",
    "            val_metrics = list(eval_table[\"Validation Metrics\"])\n",
    "            print(\"Classifier with contamination=\"+str(cur_cont)+\" is done\")\n",
    "\n",
    "            # appending the value of each metric in its own list:\n",
    "            for array_list_metric, idx in zip([accuracy_val, prec_val, recall_val, f1_score_val, auc_score_val], list(range(5))):\n",
    "                array_list_metric.append(val_metrics[idx])\n",
    "\n",
    "        plt.figure(figsize=(20, 8))   \n",
    "        # plot-1:\n",
    "        plt.subplot(1, 2, 1);\n",
    "        plt.plot(list_of_cont, accuracy_val, 'r-o', label='Accuracy')\n",
    "        plt.plot(list_of_cont, prec_val, 'b-o', label='Precision')\n",
    "        plt.plot(list_of_cont, recall_val, 'g-o', label='Recall')\n",
    "        plt.plot(list_of_cont, f1_score_val, 'm-o', label='F1-Score')\n",
    "        plt.plot(list_of_cont, auc_score_val, 'k-o', label='AUC-Score')\n",
    "        plt.xlabel(\"Contamination Values\", fontsize=12)\n",
    "        plt.ylabel(\"Value of Eval. Metrics\", fontsize=12)\n",
    "        plt.title(\"Contamination LOF Plot\", fontsize=14)\n",
    "        plt.grid(True, alpha=0.4)\n",
    "        plt.legend()\n",
    "        \n",
    "        \n",
    "        # plot_2: plotting multiple bars of Precision, Recall, Accuracy and F1-Score:\n",
    "        plt.subplot(1, 2, 2);\n",
    "        x_axis = np.arange(len(list_of_cont))\n",
    "        plt.bar(x_axis-0.2, accuracy_val, 0.1, label=\"Accuracy\")\n",
    "        plt.bar(x_axis-0.1, prec_val, 0.1, label=\"Precision\")\n",
    "        plt.bar(x_axis+0.0, recall_val, 0.1, label=\"Recall\")\n",
    "        plt.bar(x_axis+0.1, f1_score_val, 0.1, label=\"F1_Score\")\n",
    "        plt.bar(x_axis+0.2, auc_score_val, 0.1, label=\"AUC Score\")\n",
    "        plt.xticks(x_axis, list_of_cont)\n",
    "        plt.grid(True, alpha=0.4)\n",
    "        plt.xlabel(\"Contamination Values\", fontsize=12)\n",
    "        plt.ylabel(\"Evaluation Metrics Values\", fontsize=12)\n",
    "        plt.title(\"Contamination LOF Plot\", fontsize=14)\n",
    "        plt.legend()\n",
    "        \n",
    "        result = {\"accuracy_list\": accuracy_val, \"precision_list\":prec_val, \"recall_list\":recall_val, \"f1_score_list\":f1_score_val, \"auc_score_list\":auc_score_val}\n",
    "        return result\n",
    "        \n",
    "    # plotting evaluation metrics of LOF based upon various values of nearest neighbors:\n",
    "    def plot_lof_metrics_neighbors(self, list_k_neighbors):\n",
    "        accuracy_val = []\n",
    "        prec_val = []\n",
    "        recall_val = []\n",
    "        f1_score_val = []\n",
    "        auc_score_val =  []\n",
    " \n",
    "        for k_neighbor in list_k_neighbors:\n",
    "            clf = LocalOutlierFactor(n_neighbors = k_neighbor, novelty=True)\n",
    "            clf.fit(x_train)\n",
    "            y_val_pred = make_predictions_val(clf)\n",
    "            eval_table = evaluation_table_val(self.y_val, y_val_pred)\n",
    "            val_metrics = list(eval_table[\"Validation Metrics\"])\n",
    "            print(\"Classifier with \"+str(k_neighbor)+\" is done\")\n",
    "\n",
    "            # appending the value of each metric in its own list:\n",
    "            for array_list_metric, idx in zip([accuracy_val, prec_val, recall_val, f1_score_val, auc_score_val], list(range(5))):\n",
    "                array_list_metric.append(val_metrics[idx])\n",
    "        \n",
    "        plt.figure(figsize=(20, 8))\n",
    "        # plot-1:\n",
    "        plt.subplot(1, 2, 1);\n",
    "        plt.plot(list_k_neighbors, accuracy_val, 'r-o', label='Accuracy')\n",
    "        plt.plot(list_k_neighbors, prec_val, 'b-o', label='Precision')\n",
    "        plt.plot(list_k_neighbors, recall_val, 'g-o', label='Recall')\n",
    "        plt.plot(list_k_neighbors, f1_score_val, 'm-o', label='F1-Score')\n",
    "        plt.plot(list_k_neighbors, auc_score_val, 'k-o', label='AUC-Score')\n",
    "        plt.xlabel(\"Neighbors Values\", fontsize=12)\n",
    "        plt.ylabel(\"Value of Eval. Metrics\", fontsize=12)\n",
    "        plt.title(\"K-Neighbors LOF Plot\", fontsize=14)\n",
    "        plt.legend()\n",
    "        plt.grid(True, alpha=0.4)\n",
    "        \n",
    "        # plot_2: plotting multiple bars of Precision, Recall, Accuracy and F1-Score:\n",
    "        plt.subplot(1, 2, 2);\n",
    "        x_axis = np.arange(len(list_k_neighbors))\n",
    "        plt.bar(x_axis-0.2, accuracy_val, 0.1, label=\"Accuracy\")\n",
    "        plt.bar(x_axis-0.1, prec_val, 0.1, label=\"Precision\")\n",
    "        plt.bar(x_axis+0.0, recall_val, 0.1, label=\"Recall\")\n",
    "        plt.bar(x_axis+0.1, f1_score_val, 0.1, label=\"F1_Score\")\n",
    "        plt.bar(x_axis+0.2, auc_score_val, 0.1, label=\"AUC Score\")\n",
    "        plt.xticks(x_axis, list_k_neighbors)\n",
    "        plt.grid(True, alpha=0.4)\n",
    "        plt.xlabel(\"Number of Neighbors\", fontsize=14)\n",
    "        plt.ylabel(\"Evaluation Metrics Values\", fontsize=14)\n",
    "        plt.title(\"K-Neighbors LOF Plot\", fontsize=14)\n",
    "        plt.legend()\n",
    "        result = {\"accuracy_list\": accuracy_val, \"precision_list\":prec_val, \"recall_list\":recall_val, \"f1_score_list\":f1_score_val, \"auc_score_list\":auc_score_val}\n",
    "        return result\n",
    "     \n",
    "    # printing confusion_matrix and eval_metrics_table for LOF based upon various values of contamination:\n",
    "    def get_conf_matrix_eval_metrics_cont(self, list_of_cont, n_neighbor):\n",
    "        # since proportion of outliers in data = 0.00114158, hence contamination=0.00114158:\n",
    "        print(\"Actual Number of Outliers Present --> \", len(y_val[y_val==1]), end=\"\\n\\n\")\n",
    "        for cur_cont in list_of_cont:\n",
    "            clf = LocalOutlierFactor(n_neighbors=n_neighbor, novelty=True, contamination = cur_cont)\n",
    "            clf.fit(x_train)\n",
    "            y_val_pred = make_predictions_val(clf)\n",
    "            print(\"Number of Outlier Points detected --> \", len(y_val_pred[y_val_pred==1]))\n",
    "            print(\"For Model with contamination=\" + str(cur_cont) + \", Confusion Matrix:\")\n",
    "            conf_mat_table = get_confusion_matrix(self.y_val, y_val_pred)\n",
    "            print(conf_mat_table, end=\"\\n\\n\")\n",
    "            eval_table = evaluation_table_val(self.y_val, y_val_pred)\n",
    "            print(\"Evaluation metrics for model with n_estimator=\"+str(cur_cont)+\" :\")\n",
    "            print(eval_table, end=\"\\n\\n\\n\")\n",
    "    \n",
    "    # printing confusion_matrix and eval_metrics_table for LOF based upon various values of nearest neighbors:\n",
    "    def get_conf_matrix_eval_metrics_neighbors(self, k_neighbors):\n",
    "        print(\"Actual Number of Outliers Present --> \", len(y_val[y_val==1]), end=\"\\n\\n\")\n",
    "        for neighbor in k_neighbors:\n",
    "            clf = LocalOutlierFactor(n_neighbors=neighbor, novelty=True)\n",
    "            clf.fit(x_train)\n",
    "            y_val_pred = make_predictions_val(clf)\n",
    "            print(\"Number of Outlier Points detected --> \", len(y_val_pred[y_val_pred==1]))\n",
    "            print(\"For Model with k_neighbors=\" + str(neighbor) + \", Confusion Matrix:\")\n",
    "            conf_mat_table = get_confusion_matrix(self.y_val, y_val_pred)\n",
    "            print(conf_mat_table, end=\"\\n\\n\")\n",
    "            eval_table = evaluation_table_val(self.y_val, y_val_pred)\n",
    "            print(\"Evaluation metrics for model with k_neighbors=\"+str(neighbor)+\" :\")\n",
    "            print(eval_table, end=\"\\n\\n\\n\")"
   ]
  },
  {
   "cell_type": "code",
   "execution_count": 48,
   "metadata": {},
   "outputs": [
    {
     "data": {
      "text/plain": [
       "<__main__.PlotEvaluationMetricLOF at 0x1d1e1744d48>"
      ]
     },
     "execution_count": 48,
     "metadata": {},
     "output_type": "execute_result"
    }
   ],
   "source": [
    "# creating instance of PlotEvaluationMetricLOF:\n",
    "lof = PlotEvaluationMetricLOF(y_val)\n",
    "lof # address where the object is created is visible in hexadecimal"
   ]
  },
  {
   "cell_type": "markdown",
   "metadata": {},
   "source": [
    "<h3>Choosing Best Value of <code>n_neighbors</code>:</h3>"
   ]
  },
  {
   "cell_type": "code",
   "execution_count": 97,
   "metadata": {},
   "outputs": [
    {
     "name": "stdout",
     "output_type": "stream",
     "text": [
      "Classifier with 20 is done\n",
      "Classifier with 30 is done\n",
      "Classifier with 50 is done\n",
      "Classifier with 80 is done\n"
     ]
    },
    {
     "data": {
      "image/png": "[encoded data removed]",
      "text/plain": [
       "<Figure size 1440x576 with 2 Axes>"
      ]
     },
     "metadata": {
      "needs_background": "light"
     },
     "output_type": "display_data"
    }
   ],
   "source": [
    "# possible values for neighbors:\n",
    "poss_val_neighbors = [20, 30, 50, 80]\n",
    "\n",
    "# plotting and comparing the LOF model on various values of Contamination:\n",
    "result = lof.plot_lof_metrics_neighbors(poss_val_neighbors)"
   ]
  },
  {
   "cell_type": "markdown",
   "metadata": {},
   "source": [
    "<li>Insight: <strong>It is clearly visible that for almost all of the above nearest neighbors values i.e. <code>20, 30, 50, and 80</code>, the evaluation metrics almost remains the same. Hence, we should go ahead and see how the confusion matrix is working and how many of the anomalies are correctly predicted, and then only we can decide which value should be considered for n_neighbors.</strong></li>"
   ]
  },
  {
   "cell_type": "code",
   "execution_count": 99,
   "metadata": {},
   "outputs": [
    {
     "name": "stdout",
     "output_type": "stream",
     "text": [
      "Actual Number of Outliers Present -->  116\n",
      "\n",
      "Number of Outlier Points detected -->  370\n",
      "For Model with k_neighbors=20, Confusion Matrix:\n",
      "          Pred-0  Pred-1\n",
      "Actual-0    4633     332\n",
      "Actual-1      78      38\n",
      "\n",
      "Evaluation metrics for model with k_neighbors=20 :\n",
      "           Validation Metrics\n",
      "Accuracy             0.919307\n",
      "Precision            0.102703\n",
      "Recall               0.327586\n",
      "F1-Score             0.156379\n",
      "AUC Score            0.630359\n",
      "\n",
      "\n",
      "Number of Outlier Points detected -->  421\n",
      "For Model with k_neighbors=30, Confusion Matrix:\n",
      "          Pred-0  Pred-1\n",
      "Actual-0    4583     382\n",
      "Actual-1      77      39\n",
      "\n",
      "Evaluation metrics for model with k_neighbors=30 :\n",
      "           Validation Metrics\n",
      "Accuracy             0.909663\n",
      "Precision            0.092637\n",
      "Recall               0.336207\n",
      "F1-Score             0.145251\n",
      "AUC Score            0.629634\n",
      "\n",
      "\n",
      "Number of Outlier Points detected -->  467\n",
      "For Model with k_neighbors=50, Confusion Matrix:\n",
      "          Pred-0  Pred-1\n",
      "Actual-0    4536     429\n",
      "Actual-1      78      38\n",
      "\n",
      "Evaluation metrics for model with k_neighbors=50 :\n",
      "           Validation Metrics\n",
      "Accuracy             0.900216\n",
      "Precision            0.081370\n",
      "Recall               0.327586\n",
      "F1-Score             0.130360\n",
      "AUC Score            0.620591\n",
      "\n",
      "\n",
      "Number of Outlier Points detected -->  443\n",
      "For Model with k_neighbors=80, Confusion Matrix:\n",
      "          Pred-0  Pred-1\n",
      "Actual-0    4560     405\n",
      "Actual-1      78      38\n",
      "\n",
      "Evaluation metrics for model with k_neighbors=80 :\n",
      "           Validation Metrics\n",
      "Accuracy             0.904940\n",
      "Precision            0.085779\n",
      "Recall               0.327586\n",
      "F1-Score             0.135957\n",
      "AUC Score            0.623008\n",
      "\n",
      "\n"
     ]
    }
   ],
   "source": [
    "# priting the eval metrics and confusion matrix based on neighbors:\n",
    "lof.get_conf_matrix_eval_metrics_neighbors(poss_val_neighbors)"
   ]
  },
  {
   "cell_type": "markdown",
   "metadata": {},
   "source": [
    "<li>Insight: <strong>Here, if we observe the number of <code>True Positives </code>, then they remain the same for all of the different values which are tested for n_neighbors. Hence, we should proceed with <code>n_neighbors=20</code>, since it would require the least computations and it is also the default value of n_neighbors assigned by the developers.</strong></li>"
   ]
  },
  {
   "cell_type": "markdown",
   "metadata": {},
   "source": [
    "<h3>Choosing Best Value of <code>contamination</code>:</h3>"
   ]
  },
  {
   "cell_type": "code",
   "execution_count": 105,
   "metadata": {},
   "outputs": [
    {
     "name": "stdout",
     "output_type": "stream",
     "text": [
      "Classifier with contamination=0.0011 is done\n",
      "Classifier with contamination=0.011 is done\n",
      "Classifier with contamination=0.023 is done\n",
      "Classifier with contamination=0.09 is done\n"
     ]
    },
    {
     "data": {
      "text/plain": [
       "{'accuracy_list': [0.9777602834087779,\n",
       "  0.9567014367250541,\n",
       "  0.9387915764613265,\n",
       "  0.8547530013776815],\n",
       " 'precision_list': [0.5714285714285714,\n",
       "  0.17088607594936708,\n",
       "  0.12355212355212356,\n",
       "  0.06805555555555555],\n",
       " 'recall_list': [0.10344827586206896,\n",
       "  0.23275862068965517,\n",
       "  0.27586206896551724,\n",
       "  0.4224137931034483],\n",
       " 'f1_score_list': [0.17518248175182483,\n",
       "  0.1970802919708029,\n",
       "  0.17066666666666666,\n",
       "  0.1172248803827751],\n",
       " 'auc_score_list': [0.5508177935201584,\n",
       "  0.6031869639198528,\n",
       "  0.6150710143417717,\n",
       "  0.6436338854741814]}"
      ]
     },
     "execution_count": 105,
     "metadata": {},
     "output_type": "execute_result"
    },
    {
     "data": {
      "image/png": "[encoded data removed]",
      "text/plain": [
       "<Figure size 1440x576 with 2 Axes>"
      ]
     },
     "metadata": {
      "needs_background": "light"
     },
     "output_type": "display_data"
    }
   ],
   "source": [
    "# possible values of contamination:\n",
    "lof = PlotEvaluationMetricLOF(y_val)\n",
    "poss_val_contamination = [0.0011, 0.011, 0.023, 0.09]\n",
    "\n",
    "# plotting and comparing the LOF model on various values of Contamination:\n",
    "# n_neighbor is the argument for both the \"cont functions\":\n",
    "result = lof.plot_lof_metrics_cont(poss_val_contamination, 20)"
   ]
  },
  {
   "cell_type": "markdown",
   "metadata": {},
   "source": [
    "<p>\n",
    "The observations are as follows:\n",
    "    <ol>\n",
    "        <li>As the contamination parameter increases, the number of outliers also increase.</li>\n",
    "         <li>Precision value reduces as contamination increases since the number of outliers do increase in large proportion but the the number of correctly predicted anomalies do not increases in that proprtion.</li>\n",
    "         <li>As precisione reduces, recall increases since there exists a trade-off between the both.</li>\n",
    "         <li>f1_score and auc_score is maximum for <code>contamination=0.011</code>. Hence, we should be choosing this value for final modelling.</li>\n",
    "        <li><strong>But, after evaluating the above model visually i.e. plotting the predicted and actual labels, there seems to be a lot of error and hence I resorted to finally keep the value of <code>contamination=0.001123 (which is nothing but the amount of anomalous data points in our actual data).</code> This seems to work really good and later down the notebook, we can have a look at the predicted and actual labels.</li>\n",
    "         </ol>\n",
    "</p>"
   ]
  },
  {
   "cell_type": "code",
   "execution_count": 106,
   "metadata": {
    "scrolled": false
   },
   "outputs": [
    {
     "name": "stdout",
     "output_type": "stream",
     "text": [
      "Actual Number of Outliers Present -->  116\n",
      "\n",
      "Number of Outlier Points detected -->  21\n",
      "For Model with contamination=0.0011, Confusion Matrix:\n",
      "          Pred-0  Pred-1\n",
      "Actual-0    4956       9\n",
      "Actual-1     104      12\n",
      "\n",
      "Evaluation metrics for model with n_estimator=0.0011 :\n",
      "           Validation Metrics\n",
      "Accuracy             0.977760\n",
      "Precision            0.571429\n",
      "Recall               0.103448\n",
      "F1-Score             0.175182\n",
      "AUC Score            0.550818\n",
      "\n",
      "\n",
      "Number of Outlier Points detected -->  158\n",
      "For Model with contamination=0.011, Confusion Matrix:\n",
      "          Pred-0  Pred-1\n",
      "Actual-0    4834     131\n",
      "Actual-1      89      27\n",
      "\n",
      "Evaluation metrics for model with n_estimator=0.011 :\n",
      "           Validation Metrics\n",
      "Accuracy             0.956701\n",
      "Precision            0.170886\n",
      "Recall               0.232759\n",
      "F1-Score             0.197080\n",
      "AUC Score            0.603187\n",
      "\n",
      "\n",
      "Number of Outlier Points detected -->  259\n",
      "For Model with contamination=0.023, Confusion Matrix:\n",
      "          Pred-0  Pred-1\n",
      "Actual-0    4738     227\n",
      "Actual-1      84      32\n",
      "\n",
      "Evaluation metrics for model with n_estimator=0.023 :\n",
      "           Validation Metrics\n",
      "Accuracy             0.938792\n",
      "Precision            0.123552\n",
      "Recall               0.275862\n",
      "F1-Score             0.170667\n",
      "AUC Score            0.615071\n",
      "\n",
      "\n",
      "Number of Outlier Points detected -->  720\n",
      "For Model with contamination=0.09, Confusion Matrix:\n",
      "          Pred-0  Pred-1\n",
      "Actual-0    4294     671\n",
      "Actual-1      67      49\n",
      "\n",
      "Evaluation metrics for model with n_estimator=0.09 :\n",
      "           Validation Metrics\n",
      "Accuracy             0.854753\n",
      "Precision            0.068056\n",
      "Recall               0.422414\n",
      "F1-Score             0.117225\n",
      "AUC Score            0.643634\n",
      "\n",
      "\n"
     ]
    }
   ],
   "source": [
    "# printing the evaluation metrics and confusion matrix:\n",
    "result = lof.get_conf_matrix_eval_metrics_cont(poss_val_contamination, 20)"
   ]
  },
  {
   "cell_type": "markdown",
   "metadata": {},
   "source": [
    "<li>Insight: <strong>Model LocalOutlierFactor with <code>n_neighbors=20 and contamination=0.0011</code></strong></li>"
   ]
  },
  {
   "cell_type": "code",
   "execution_count": 115,
   "metadata": {
    "scrolled": true
   },
   "outputs": [
    {
     "data": {
      "text/plain": [
       "LocalOutlierFactor(contamination=0.0011, novelty=True)"
      ]
     },
     "execution_count": 115,
     "metadata": {},
     "output_type": "execute_result"
    }
   ],
   "source": [
    "# final Lof model;\n",
    "final_lof_model = LocalOutlierFactor(n_neighbors=20, contamination=0.0011, novelty=True)\n",
    "final_lof_model"
   ]
  },
  {
   "cell_type": "markdown",
   "metadata": {},
   "source": [
    "<h3>2) Isolation Forest:</h3>\n",
    "<p>The algorithm now creates multiple Decision Trees where the feature to split the data and the threshold value of that feature is chosen randomly and the tree is created. Similarly a lot of Decision trees are created and since outliers/anomalies tend to have values quite different from most of the data points, hence, they are separated towards the beginning of the tree formation i.e. the tree depth of outliers is small and for inliers, it is large.</p>\n",
    "\n",
    "<p>From our exploration of data, we found:\n",
    "    <ol>\n",
    "        <li>Bank Balance for Originator or Designator is pretty low for Fraudulent Transactions.</li>\n",
    "        <li>Fraudulent Transactions are present for modes -> Transfer and Cash-out only.</li>\n",
    "        </ol>\n",
    "</p>\n",
    "\n",
    "<p>The very first point of analysis mentioned above might be of help and Isolation Forest might be the right algorithm to work with such a problem as ours..</p>"
   ]
  },
  {
   "cell_type": "code",
   "execution_count": 49,
   "metadata": {},
   "outputs": [],
   "source": [
    "# class for plotting evaluation metrics for LOF:\n",
    "from sklearn.ensemble import IsolationForest\n",
    "class PlotEvaluationMetricIsolationForest:\n",
    "    def __init__(self, val_data):\n",
    "        self.y_val = val_data\n",
    "    \n",
    "    # plotting evaluation metrics on graph based upon various values of contamination:\n",
    "    def plot_metrics_cont(self, list_of_cont, estimators):\n",
    "        accuracy_val = []\n",
    "        prec_val = []\n",
    "        recall_val = []\n",
    "        f1_score_val = []\n",
    "        auc_score_val =  []\n",
    "\n",
    "        # since proportion of outliers in data = 0.00114158, hence contamination=0.00114158: \n",
    "        for cur_cont in list_of_cont:\n",
    "            clf = IsolationForest(n_estimators = estimators, contamination=cur_cont, bootstrap=True)\n",
    "            clf.fit(x_train)\n",
    "            y_val_pred = make_predictions_val(clf)\n",
    "            eval_table = evaluation_table_val(self.y_val, y_val_pred)\n",
    "            val_metrics = list(eval_table[\"Validation Metrics\"])\n",
    "            print(\"Classifier with contamination=\"+str(cur_cont)+\" is done\")\n",
    "\n",
    "            # appending the value of each metric in its own list:\n",
    "            for array_list_metric, idx in zip([accuracy_val, prec_val, recall_val, f1_score_val, auc_score_val], list(range(5))):\n",
    "                array_list_metric.append(val_metrics[idx])\n",
    "\n",
    "        plt.figure(figsize=(20, 8))\n",
    "        # plot-1:\n",
    "        plt.subplot(1, 2, 1);\n",
    "        plt.plot(list_of_cont, accuracy_val, 'r-o', label='Accuracy')\n",
    "        plt.plot(list_of_cont, prec_val, 'b-o', label='Precision')\n",
    "        plt.plot(list_of_cont, recall_val, 'g-o', label='Recall')\n",
    "        plt.plot(list_of_cont, f1_score_val, 'm-o', label='F1-Score')\n",
    "        plt.plot(list_of_cont, auc_score_val, 'k-o', label='AUC-Score')\n",
    "        plt.xlabel(\"Contamination Values\", fontsize=12)\n",
    "        plt.ylabel(\"Value of Eval. Metrics\", fontsize=12)\n",
    "        plt.title(\"Contamination Isolation Forest Plot\", fontsize=14)\n",
    "        plt.legend()\n",
    "        plt.grid(True, alpha=0.4)\n",
    "        \n",
    "        # plot_2: plotting multiple bars of Precision, Recall, Accuracy and F1-Score:\n",
    "        plt.subplot(1, 2, 2);\n",
    "        x_axis = np.arange(len(list_of_cont))\n",
    "        plt.bar(x_axis-0.2, accuracy_val, 0.1, label=\"Accuracy\")\n",
    "        plt.bar(x_axis-0.1, prec_val, 0.1, label=\"Precision\")\n",
    "        plt.bar(x_axis+0.0, recall_val, 0.1, label=\"Recall\")\n",
    "        plt.bar(x_axis+0.1, f1_score_val, 0.1, label=\"F1_Score\")\n",
    "        plt.bar(x_axis+0.2, auc_score_val, 0.1, label=\"AUC Score\")\n",
    "        plt.xticks(x_axis, list_of_cont)\n",
    "        plt.grid(True, alpha=0.4)\n",
    "        plt.xlabel(\"Contamination Values\", fontsize=12)\n",
    "        plt.ylabel(\"Evaluation Metrics Values\", fontsize=12)\n",
    "        plt.title(\"Contamination Isolation Forest Plot\", fontsize=15)\n",
    "        plt.legend()\n",
    "        \n",
    "        result = {\"accuracy_list\": accuracy_val, \"precision_list\":prec_val, \"recall_list\":recall_val, \"f1_score_list\":f1_score_val, \"auc_score_list\":auc_score_val}\n",
    "        return result\n",
    "    \n",
    "    # plotting evaluation metrics on graph based upon various values of n_estimators:\n",
    "    def plot_metrics_estimators(self, list_of_estimators):\n",
    "        accuracy_val = []\n",
    "        prec_val = []\n",
    "        recall_val = []\n",
    "        f1_score_val = []\n",
    "        auc_score_val =  []\n",
    " \n",
    "        for cur_est in list_of_estimators:\n",
    "            clf = IsolationForest(n_estimators=cur_est, bootstrap=True)\n",
    "            clf.fit(x_train)\n",
    "            y_val_pred = make_predictions_val(clf)\n",
    "            eval_table = evaluation_table_val(self.y_val, y_val_pred)\n",
    "            val_metrics = list(eval_table[\"Validation Metrics\"])\n",
    "            print(\"Classifier with n_estimator=\"+str(cur_est)+\" is done\")\n",
    "\n",
    "            # appending the value of each metric in its own list:\n",
    "            for array_list_metric, idx in zip([accuracy_val, prec_val, recall_val, f1_score_val, auc_score_val], list(range(5))):\n",
    "                array_list_metric.append(val_metrics[idx])\n",
    "\n",
    "        plt.figure(figsize=(20, 8))\n",
    "        # plot-1:\n",
    "        plt.subplot(1, 2, 1)\n",
    "        plt.plot(list_of_estimators, accuracy_val, 'r-o', label='Accuracy')\n",
    "        plt.plot(list_of_estimators, prec_val, 'b-o', label='Precision')\n",
    "        plt.plot(list_of_estimators, recall_val, 'g-o', label='Recall')\n",
    "        plt.plot(list_of_estimators, f1_score_val, 'm-o', label='F1-Score')\n",
    "        plt.plot(list_of_estimators, auc_score_val, 'k-o', label='AUC-Score')\n",
    "        plt.xlabel(\"Number of Trees\", fontsize=12)\n",
    "        plt.ylabel(\"Value of Eval. Metrics\", fontsize=12)\n",
    "        plt.title(\"Number of Trees in Isolation Forest Plot\", fontsize=15)\n",
    "        plt.legend()\n",
    "        plt.grid(True, alpha=0.4)\n",
    "        \n",
    "        # plot_2: plotting multiple bars of Precision, Recall, Accuracy and F1-Score:\n",
    "        plt.subplot(1, 2, 2);\n",
    "        x_axis = np.arange(len(list_of_estimators))\n",
    "        plt.bar(x_axis-0.2, accuracy_val, 0.1, label=\"Accuracy\")\n",
    "        plt.bar(x_axis-0.1, prec_val, 0.1, label=\"Precision\")\n",
    "        plt.bar(x_axis+0.0, recall_val, 0.1, label=\"Recall\")\n",
    "        plt.bar(x_axis+0.1, f1_score_val, 0.1, label=\"F1_Score\")\n",
    "        plt.bar(x_axis+0.2, auc_score_val, 0.1, label=\"AUC Score\")\n",
    "        plt.xticks(x_axis, list_of_estimators)\n",
    "        plt.grid(True, alpha=0.4)\n",
    "        plt.xlabel(\"Contamination Values\", fontsize=12)\n",
    "        plt.ylabel(\"Evaluation Metrics Values\", fontsize=12)\n",
    "        plt.title(\"Number of Trees in Isolation Forest Plot\", fontsize=15)\n",
    "        plt.legend()\n",
    "        \n",
    "        result = {\"accuracy_list\": accuracy_val, \"precision_list\":prec_val, \"recall_list\":recall_val, \"f1_score_list\":f1_score_val, \"auc_score_list\":auc_score_val}\n",
    "        return result\n",
    "    \n",
    "    # printing confusion_matrix and evaluation_metrics_table for isolation forest based upon various values of contamination:\n",
    "    def get_conf_matrix_eval_metrics_cont(self, list_of_cont, estimators):\n",
    "        # since proportion of outliers in data = 0.00114158, hence contamination=0.00114158:\n",
    "        print(\"Actual Number of Outliers Present --> \", len(y_val[y_val==1]), end=\"\\n\\n\")\n",
    "        for cur_cont in list_of_cont:\n",
    "            clf = IsolationForest(n_estimators=estimators, bootstrap=True, contamination=cur_cont)\n",
    "            clf.fit(x_train)\n",
    "            y_val_pred = make_predictions_val(clf)\n",
    "            print(\"Number of Outlier Points detected --> \", len(y_val_pred[y_val_pred==1]))\n",
    "            print(\"For Model with contamination=\" + str(cur_cont) + \", Confusion Matrix:\")\n",
    "            conf_mat_table = get_confusion_matrix(y_val, y_val_pred)\n",
    "            print(conf_mat_table, end=\"\\n\\n\")\n",
    "            eval_table = evaluation_table_val(y_val, y_val_pred)\n",
    "            print(\"Evaluation metrics for model with contamination=\"+str(cur_cont)+\" :\")\n",
    "            print(eval_table, end=\"\\n\\n\\n\")\n",
    "    \n",
    "    # printing confusion_matrix and evaluation_metrics_table for isolation forest based upon various values of n_estimators:\n",
    "    def get_conf_matrix_eval_metrics_estimators(self, list_of_estimators):\n",
    "        # since proportion of outliers in data = 0.00114158, hence contamination=0.00114158:\n",
    "        print(\"Actual Number of Outliers Present --> \", len(y_val[y_val==1]), end=\"\\n\\n\")\n",
    "        for cur_est in list_of_estimators:\n",
    "            clf = IsolationForest(n_estimators=cur_est, bootstrap=True)\n",
    "            clf.fit(x_train)\n",
    "            y_val_pred = make_predictions_val(clf)\n",
    "            print(\"Number of Outlier Points detected --> \", len(y_val_pred[y_val_pred==1]))\n",
    "            print(\"For Model with n_estimator=\" + str(cur_est) + \", Confusion Matrix:\")\n",
    "            conf_mat_table = get_confusion_matrix(y_val, y_val_pred)\n",
    "            print(conf_mat_table, end=\"\\n\\n\")\n",
    "            eval_table = evaluation_table_val(y_val, y_val_pred)\n",
    "            print(\"Evaluation metrics for model with n_estimator=\"+str(cur_est)+\" :\")\n",
    "            print(eval_table, end=\"\\n\\n\\n\")"
   ]
  },
  {
   "cell_type": "markdown",
   "metadata": {},
   "source": [
    "<h3>Choosing Best value of <code>n_estimators</code>:</h3>"
   ]
  },
  {
   "cell_type": "code",
   "execution_count": 50,
   "metadata": {},
   "outputs": [
    {
     "data": {
      "text/plain": [
       "<__main__.PlotEvaluationMetricIsolationForest at 0x2cbefdcb9c8>"
      ]
     },
     "execution_count": 50,
     "metadata": {},
     "output_type": "execute_result"
    }
   ],
   "source": [
    "iso_forest_eval = PlotEvaluationMetricIsolationForest(y_val)\n",
    "iso_forest_eval"
   ]
  },
  {
   "cell_type": "code",
   "execution_count": 121,
   "metadata": {},
   "outputs": [
    {
     "data": {
      "text/plain": [
       "['__class__',\n",
       " '__delattr__',\n",
       " '__dict__',\n",
       " '__dir__',\n",
       " '__doc__',\n",
       " '__eq__',\n",
       " '__format__',\n",
       " '__ge__',\n",
       " '__getattribute__',\n",
       " '__gt__',\n",
       " '__hash__',\n",
       " '__init__',\n",
       " '__init_subclass__',\n",
       " '__le__',\n",
       " '__lt__',\n",
       " '__module__',\n",
       " '__ne__',\n",
       " '__new__',\n",
       " '__reduce__',\n",
       " '__reduce_ex__',\n",
       " '__repr__',\n",
       " '__setattr__',\n",
       " '__sizeof__',\n",
       " '__str__',\n",
       " '__subclasshook__',\n",
       " '__weakref__',\n",
       " 'get_conf_matrix_eval_metrics_cont',\n",
       " 'get_conf_matrix_eval_metrics_estimators',\n",
       " 'plot_metrics_cont',\n",
       " 'plot_metrics_estimators',\n",
       " 'y_val']"
      ]
     },
     "execution_count": 121,
     "metadata": {},
     "output_type": "execute_result"
    }
   ],
   "source": [
    "dir(iso_forest_eval)"
   ]
  },
  {
   "cell_type": "code",
   "execution_count": 122,
   "metadata": {},
   "outputs": [
    {
     "name": "stdout",
     "output_type": "stream",
     "text": [
      "Classifier with n_estimator100 is done\n",
      "Classifier with n_estimator400 is done\n",
      "Classifier with n_estimator800 is done\n",
      "Classifier with n_estimator1000 is done\n"
     ]
    },
    {
     "data": {
      "text/plain": [
       "{'accuracy_list': [0.8277898051564653,\n",
       "  0.8260185002952175,\n",
       "  0.8260185002952175,\n",
       "  0.8325132847864594],\n",
       " 'precision_list': [0.045508982035928146,\n",
       "  0.053488372093023255,\n",
       "  0.05244755244755245,\n",
       "  0.05562273276904474],\n",
       " 'recall_list': [0.3275862068965517,\n",
       "  0.39655172413793105,\n",
       "  0.3879310344827586,\n",
       "  0.39655172413793105],\n",
       " 'f1_score_list': [0.07991587802313355,\n",
       "  0.0942622950819672,\n",
       "  0.09240246406570843,\n",
       "  0.0975609756097561],\n",
       " 'auc_score_list': [0.5835312706184672,\n",
       "  0.6163020453519463,\n",
       "  0.612092405458902,\n",
       "  0.6196253081918256]}"
      ]
     },
     "execution_count": 122,
     "metadata": {},
     "output_type": "execute_result"
    },
    {
     "data": {
      "image/png": "[encoded data removed]",
      "text/plain": [
       "<Figure size 1440x576 with 2 Axes>"
      ]
     },
     "metadata": {
      "needs_background": "light"
     },
     "output_type": "display_data"
    }
   ],
   "source": [
    "# possible values of n_estimators\n",
    "poss_val_estimators = [100, 400, 800, 1000]\n",
    "result = iso_forest_eval.plot_metrics_estimators(poss_val_estimators)"
   ]
  },
  {
   "cell_type": "markdown",
   "metadata": {},
   "source": [
    "<h3>Observations</h3>\n",
    "<p>Observations are as follows:\n",
    "    <ol>\n",
    "        <li>For values of <code>n_estimators = [400, 800, 1000],</code>values of each of the evaluation parameters remains almost the same.</li>\n",
    "        <li>Thus, we can go ahead with <strong><code>n_estimators=400.</code></li>\n",
    "      </ol>\n",
    "</p>"
   ]
  },
  {
   "cell_type": "code",
   "execution_count": 124,
   "metadata": {},
   "outputs": [
    {
     "name": "stdout",
     "output_type": "stream",
     "text": [
      "Actual Number of Outliers Present -->  116\n",
      "\n",
      "Number of Outlier Points detected -->  737\n",
      "For Model with n_estimator=100, Confusion Matrix:\n",
      "          Pred-0  Pred-1\n",
      "Actual-0    4271     694\n",
      "Actual-1      73      43\n",
      "\n",
      "Evaluation metrics for model with n_estimator=100 :\n",
      "           Validation Metrics\n",
      "Accuracy             0.849045\n",
      "Precision            0.058345\n",
      "Recall               0.370690\n",
      "F1-Score             0.100821\n",
      "AUC Score            0.615456\n",
      "\n",
      "\n",
      "Number of Outlier Points detected -->  882\n",
      "For Model with n_estimator=400, Confusion Matrix:\n",
      "          Pred-0  Pred-1\n",
      "Actual-0    4132     833\n",
      "Actual-1      67      49\n",
      "\n",
      "Evaluation metrics for model with n_estimator=400 :\n",
      "           Validation Metrics\n",
      "Accuracy             0.822870\n",
      "Precision            0.055556\n",
      "Recall               0.422414\n",
      "F1-Score             0.098196\n",
      "AUC Score            0.627320\n",
      "\n",
      "\n",
      "Number of Outlier Points detected -->  792\n",
      "For Model with n_estimator=800, Confusion Matrix:\n",
      "          Pred-0  Pred-1\n",
      "Actual-0    4218     747\n",
      "Actual-1      71      45\n",
      "\n",
      "Evaluation metrics for model with n_estimator=800 :\n",
      "           Validation Metrics\n",
      "Accuracy             0.839008\n",
      "Precision            0.056818\n",
      "Recall               0.387931\n",
      "F1-Score             0.099119\n",
      "AUC Score            0.618739\n",
      "\n",
      "\n",
      "Number of Outlier Points detected -->  839\n",
      "For Model with n_estimator=1000, Confusion Matrix:\n",
      "          Pred-0  Pred-1\n",
      "Actual-0    4172     793\n",
      "Actual-1      70      46\n",
      "\n",
      "Evaluation metrics for model with n_estimator=1000 :\n",
      "           Validation Metrics\n",
      "Accuracy             0.830152\n",
      "Precision            0.054827\n",
      "Recall               0.396552\n",
      "F1-Score             0.096335\n",
      "AUC Score            0.618417\n",
      "\n",
      "\n"
     ]
    }
   ],
   "source": [
    "# printing the confusion matrix and evaluation metrics table:\n",
    "iso_forest_eval.get_conf_matrix_eval_metrics_estimators(poss_val_estimators)"
   ]
  },
  {
   "cell_type": "markdown",
   "metadata": {},
   "source": [
    "<li>Insight: <strong>The best value chosen for <code>n_estimators=400</code></li>"
   ]
  },
  {
   "cell_type": "markdown",
   "metadata": {},
   "source": [
    "<h3>Choosing Best Value of <code>contamination</code>:</h3>"
   ]
  },
  {
   "cell_type": "code",
   "execution_count": 126,
   "metadata": {},
   "outputs": [
    {
     "data": {
      "text/plain": [
       "<__main__.PlotEvaluationMetricIsolationForest at 0x26c24883a88>"
      ]
     },
     "execution_count": 126,
     "metadata": {},
     "output_type": "execute_result"
    }
   ],
   "source": [
    "iso_forest_eval = PlotEvaluationMetricIsolationForest(y_val)\n",
    "iso_forest_eval"
   ]
  },
  {
   "cell_type": "code",
   "execution_count": 127,
   "metadata": {},
   "outputs": [
    {
     "data": {
      "text/plain": [
       "['__class__',\n",
       " '__delattr__',\n",
       " '__dict__',\n",
       " '__dir__',\n",
       " '__doc__',\n",
       " '__eq__',\n",
       " '__format__',\n",
       " '__ge__',\n",
       " '__getattribute__',\n",
       " '__gt__',\n",
       " '__hash__',\n",
       " '__init__',\n",
       " '__init_subclass__',\n",
       " '__le__',\n",
       " '__lt__',\n",
       " '__module__',\n",
       " '__ne__',\n",
       " '__new__',\n",
       " '__reduce__',\n",
       " '__reduce_ex__',\n",
       " '__repr__',\n",
       " '__setattr__',\n",
       " '__sizeof__',\n",
       " '__str__',\n",
       " '__subclasshook__',\n",
       " '__weakref__',\n",
       " 'get_conf_matrix_eval_metrics_cont',\n",
       " 'get_conf_matrix_eval_metrics_estimators',\n",
       " 'plot_metrics_cont',\n",
       " 'plot_metrics_estimators',\n",
       " 'y_val']"
      ]
     },
     "execution_count": 127,
     "metadata": {},
     "output_type": "execute_result"
    }
   ],
   "source": [
    "dir(iso_forest_eval)"
   ]
  },
  {
   "cell_type": "code",
   "execution_count": 129,
   "metadata": {},
   "outputs": [
    {
     "name": "stdout",
     "output_type": "stream",
     "text": [
      "Classifier with contamination=0.001123 is done\n",
      "Classifier with contamination=0.0123 is done\n",
      "Classifier with contamination=0.054 is done\n",
      "Classifier with contamination=0.092 is done\n"
     ]
    },
    {
     "data": {
      "text/plain": [
       "{'accuracy_list': [0.9748081086400315,\n",
       "  0.9492225939775635,\n",
       "  0.9134028734501083,\n",
       "  0.8746309781539067],\n",
       " 'precision_list': [0.0,\n",
       "  0.03289473684210526,\n",
       "  0.052486187845303865,\n",
       "  0.057724957555178265],\n",
       " 'recall_list': [0.0,\n",
       "  0.04310344827586207,\n",
       "  0.16379310344827586,\n",
       "  0.29310344827586204],\n",
       " 'f1_score_list': [0.0,\n",
       "  0.0373134328358209,\n",
       "  0.07949790794979078,\n",
       "  0.09645390070921984],\n",
       " 'auc_score_list': [0.4987915407854985,\n",
       "  0.5067480987602876,\n",
       "  0.547354759176303,\n",
       "  0.5906604854672362]}"
      ]
     },
     "execution_count": 129,
     "metadata": {},
     "output_type": "execute_result"
    },
    {
     "data": {
      "image/png": "[encoded data removed]",
      "text/plain": [
       "<Figure size 1440x576 with 2 Axes>"
      ]
     },
     "metadata": {
      "needs_background": "light"
     },
     "output_type": "display_data"
    }
   ],
   "source": [
    "# possible values of contamination in order to find the best value of contamination:\n",
    "poss_val_contamination = [0.001123, 0.0123, 0.054, 0.092]\n",
    "result = iso_forest_eval.plot_metrics_cont(poss_val_contamination, 400)"
   ]
  },
  {
   "cell_type": "markdown",
   "metadata": {},
   "source": [
    "<h3>Observations</h3>\n",
    "<p>Observations are as follows:\n",
    "    <ol>\n",
    "        <li><strong>The performance of Isolation Forest Algorithm to isolate the outliers on fraudulent data does not seem to work as good as Local Outlier Factor seems to isolate the outliers.</strong></li>\n",
    "        <li>It could be found from the above analysis that even if after increasing the value of contamination, <strong>quite few of them were only correclty classified and most of them were misclassified.</strong> </li>\n",
    "        <li>Thus, we can <strong>finally choose LocalOutlierFactor to predict whether the transaction seems to be fraudulent or not.</strong></li>\n",
    "        </ol>\n",
    "</p>"
   ]
  },
  {
   "cell_type": "code",
   "execution_count": 131,
   "metadata": {},
   "outputs": [
    {
     "name": "stdout",
     "output_type": "stream",
     "text": [
      "Actual Number of Outliers Present -->  116\n",
      "\n",
      "Number of Outlier Points detected -->  11\n",
      "For Model with contamination=0.001123, Confusion Matrix:\n",
      "          Pred-0  Pred-1\n",
      "Actual-0    4954      11\n",
      "Actual-1     116       0\n",
      "\n",
      "Evaluation metrics for model with contamination=0.001123 :\n",
      "           Validation Metrics\n",
      "Accuracy             0.975005\n",
      "Precision            0.000000\n",
      "Recall               0.000000\n",
      "F1-Score             0.000000\n",
      "AUC Score            0.498892\n",
      "\n",
      "\n",
      "Number of Outlier Points detected -->  155\n",
      "For Model with contamination=0.0123, Confusion Matrix:\n",
      "          Pred-0  Pred-1\n",
      "Actual-0    4814     151\n",
      "Actual-1     112       4\n",
      "\n",
      "Evaluation metrics for model with contamination=0.0123 :\n",
      "           Validation Metrics\n",
      "Accuracy             0.948239\n",
      "Precision            0.025806\n",
      "Recall               0.034483\n",
      "F1-Score             0.029520\n",
      "AUC Score            0.502035\n",
      "\n",
      "\n",
      "Number of Outlier Points detected -->  355\n",
      "For Model with contamination=0.054, Confusion Matrix:\n",
      "          Pred-0  Pred-1\n",
      "Actual-0    4628     337\n",
      "Actual-1      98      18\n",
      "\n",
      "Evaluation metrics for model with contamination=0.054 :\n",
      "           Validation Metrics\n",
      "Accuracy             0.914387\n",
      "Precision            0.050704\n",
      "Recall               0.155172\n",
      "F1-Score             0.076433\n",
      "AUC Score            0.543649\n",
      "\n",
      "\n",
      "Number of Outlier Points detected -->  608\n",
      "For Model with contamination=0.092, Confusion Matrix:\n",
      "          Pred-0  Pred-1\n",
      "Actual-0    4389     576\n",
      "Actual-1      84      32\n",
      "\n",
      "Evaluation metrics for model with contamination=0.092 :\n",
      "           Validation Metrics\n",
      "Accuracy             0.870104\n",
      "Precision            0.052632\n",
      "Recall               0.275862\n",
      "F1-Score             0.088398\n",
      "AUC Score            0.579925\n",
      "\n",
      "\n"
     ]
    }
   ],
   "source": [
    "# printing the evaluation metrics table and confusion matrix:\n",
    "iso_forest_eval.get_conf_matrix_eval_metrics_cont(poss_val_contamination, 400)"
   ]
  },
  {
   "cell_type": "markdown",
   "metadata": {},
   "source": [
    "<li>Insight: <strong> The best model which we are getting from Isolation Forest is having the <code>f1_score=0.08</code>. Howeverm te best model with Local Outlier Factor has <code>f1_score=0.19</code></li>"
   ]
  },
  {
   "cell_type": "markdown",
   "metadata": {},
   "source": [
    "<h2>Visualizing Validation Data using PCA:</h2>"
   ]
  },
  {
   "cell_type": "code",
   "execution_count": 55,
   "metadata": {},
   "outputs": [],
   "source": [
    "# reducing dimensions of data using PCA an plotting the actual and predicted labels:\n",
    "from sklearn.decomposition import PCA\n",
    "def plotting_predicted_actual_labels(model, data, actual_labels, pred_labels):\n",
    "    \n",
    "    # fitting data whose dimensions are to be reduced:\n",
    "    pca = PCA(n_components=2)\n",
    "    pca.fit(data)\n",
    "    \n",
    "    # storing the explained variance ratio:\n",
    "    pc_1_variance, pc_2_variance = list(pca.explained_variance_ratio_)\n",
    "    print(\"Variance Explained by 1st Principal Component --> \", pc_1_variance, \"%\")\n",
    "    print(\"Variance Explained by 2nd Principal Component --> \", pc_2_variance, \"%\")\n",
    "    print(\"=======================================================================\", end=\"\\n\\n\")\n",
    "    \n",
    "    # getting the principal components:\n",
    "    princ_comp = pca.components_.T\n",
    "    \n",
    "    # getting the compressed data by computing the dot product of data and its principal components:\n",
    "    comp_data = np.dot(data, princ_comp)\n",
    "    \n",
    "    # plotting graphs:\n",
    "    plt.figure(figsize=(15, 6))\n",
    "\n",
    "    # first Plot: Represents Actual Labels:\n",
    "    plt.subplot(1, 2, 1);\n",
    "    plt.scatter(comp_data[:, 0], comp_data[:, 1], c=actual_labels, cmap='cool')\n",
    "    plt.title(\"Actual Labels of Validation Data\", fontsize=12)\n",
    "    plt.xlabel(\"Princ Comp 1\", fontsize=11)\n",
    "    plt.ylabel(\"Princ Comp 2\", fontsize=11)\n",
    "    plt.grid(True, alpha=0.3)\n",
    "\n",
    "    # first Plot: Represents Predicted labels:\n",
    "    plt.subplot(1, 2, 2);\n",
    "    plt.scatter(comp_data[:, 0], comp_data[:, 1], c=pred_labels, cmap='autumn')\n",
    "    plt.title(\"Predicted Labels of Validation Data\", fontsize=12)\n",
    "    plt.xlabel(\"Princ Comp 1\", fontsize=11)\n",
    "    plt.ylabel(\"Princ Comp 2\", fontsize=11)\n",
    "    plt.grid(True, alpha=0.3)"
   ]
  },
  {
   "cell_type": "code",
   "execution_count": 52,
   "metadata": {},
   "outputs": [],
   "source": [
    "# training and making predictions on validation data using the best evaluated model of lof:\n",
    "def make_val_pred_lof(model, x_train=x_train, x_val=x_val):\n",
    "    # fitting the training data:\n",
    "    model.fit(x_train)\n",
    "\n",
    "    # making predictions:\n",
    "    y_val_pred = model.predict(x_val) \n",
    "    return y_val_pred"
   ]
  },
  {
   "cell_type": "code",
   "execution_count": 53,
   "metadata": {},
   "outputs": [],
   "source": [
    "# creating a model of LOF and evaluating them visually by plotting its prediction and actual labels on graph: \n",
    "final_lof_model = LocalOutlierFactor(n_neighbors=20, novelty=True, contamination=0.01123)\n",
    "y_val_pred = make_val_pred_lof(final_lof_model)"
   ]
  },
  {
   "cell_type": "code",
   "execution_count": 56,
   "metadata": {},
   "outputs": [
    {
     "name": "stdout",
     "output_type": "stream",
     "text": [
      "Variance Explained by 1st Principal Component -->  0.4354774907478828 %\n",
      "Variance Explained by 2nd Principal Component -->  0.3045701097618125 %\n",
      "=======================================================================\n",
      "\n"
     ]
    },
    {
     "data": {
      "image/png": "[encoded data removed]",
      "text/plain": [
       "<Figure size 1080x432 with 2 Axes>"
      ]
     },
     "metadata": {
      "needs_background": "light"
     },
     "output_type": "display_data"
    }
   ],
   "source": [
    "# calling the function to print the predicted and actual labels:\n",
    "plotting_predicted_actual_labels(final_lof_model, x_val, y_val, y_val_pred)"
   ]
  },
  {
   "cell_type": "markdown",
   "metadata": {},
   "source": [
    "<h3>Observations</h3>\n",
    "<p>Observations are as follows:\n",
    "    <ol>\n",
    "        <li>The above plot represents the actual and predicted labels of the <strong> Local Outlier Factor Model whose f1_score and auc_score was maximum.</li>\n",
    "        <li>However, there seems to be a flaw in this model since the predicted labels are not that accurate.</li>\n",
    "        <li>The above point could be illustrated --> Actual Fraudulent Labels seems to be present only in 2 clusters where as Predicted Fraudelent Labels seems to be present almost in all of the clusters. </li>\n",
    "        <li>Thus, this model does not work as well we thought since the predicted fraud labels are too much</li>\n",
    "          </ol>\n",
    "</p>"
   ]
  },
  {
   "cell_type": "code",
   "execution_count": 58,
   "metadata": {},
   "outputs": [],
   "source": [
    "# thus we train another Local Outlier Factor keeping contamination=0.001123 i.e. the real proportion of fraudulent data: \n",
    "# creating a model of LOF and evaluating them visually by plotting its prediction and actual labels on graph: \n",
    "final_lof_model = LocalOutlierFactor(n_neighbors=20, novelty=True, contamination=0.001123)\n",
    "y_val_pred = make_val_pred_lof(final_lof_model)"
   ]
  },
  {
   "cell_type": "code",
   "execution_count": 59,
   "metadata": {
    "scrolled": false
   },
   "outputs": [
    {
     "name": "stdout",
     "output_type": "stream",
     "text": [
      "Variance Explained by 1st Principal Component -->  0.4354774907478828 %\n",
      "Variance Explained by 2nd Principal Component -->  0.30457010976181126 %\n",
      "=======================================================================\n",
      "\n"
     ]
    },
    {
     "data": {
      "image/png": "[encoded data removed]",
      "text/plain": [
       "<Figure size 1080x432 with 2 Axes>"
      ]
     },
     "metadata": {
      "needs_background": "light"
     },
     "output_type": "display_data"
    }
   ],
   "source": [
    "# calling the function to print the predicted and actual labels:\n",
    "plotting_predicted_actual_labels(final_lof_model, x_val, y_val, y_val_pred)"
   ]
  },
  {
   "cell_type": "markdown",
   "metadata": {},
   "source": [
    "<h3>Observations</h3>\n",
    "<p>Observations are as follows:\n",
    "    <ol>\n",
    "        <li>The model<strong> <code>LocalOutlierFactor(n_neighbors=20, contamination=0.0011, novelty=True)</code> seems to work really well as can be viewed from the above graph.</li>\n",
    "        <li>Most of the predictions seems to go correct although some of them are misclassified (the red data points in 2nd graph towards bottom-right part of the plot).</li>\n",
    "        <li>Thus, we can consider the above model as final and make realtime predictions on real-time data.</li>\n",
    "            </ol>\n",
    "</p>"
   ]
  },
  {
   "cell_type": "markdown",
   "metadata": {},
   "source": [
    "<h2>Saving the model in Disk:</h2>"
   ]
  },
  {
   "cell_type": "code",
   "execution_count": 49,
   "metadata": {},
   "outputs": [
    {
     "data": {
      "text/plain": [
       "LocalOutlierFactor(contamination=0.001123, novelty=True)"
      ]
     },
     "execution_count": 49,
     "metadata": {},
     "output_type": "execute_result"
    }
   ],
   "source": [
    "from sklearn.neighbors import LocalOutlierFactor\n",
    "final_lof_model = LocalOutlierFactor(n_neighbors=20, novelty=True, contamination=0.001123)\n",
    "final_lof_model.fit(x_train)"
   ]
  },
  {
   "cell_type": "code",
   "execution_count": 50,
   "metadata": {},
   "outputs": [
    {
     "data": {
      "text/plain": [
       "['joblib_local_outlier_factor_fd.pkl']"
      ]
     },
     "execution_count": 50,
     "metadata": {},
     "output_type": "execute_result"
    }
   ],
   "source": [
    "import joblib\n",
    "\n",
    "#saving the models file:\n",
    "joblib_file = \"joblib_local_outlier_factor_fd.pkl\"\n",
    "joblib.dump(final_lof_model, joblib_file)"
   ]
  },
  {
   "cell_type": "code",
   "execution_count": 51,
   "metadata": {},
   "outputs": [
    {
     "data": {
      "text/plain": [
       "LocalOutlierFactor(contamination=0.001123, novelty=True)"
      ]
     },
     "execution_count": 51,
     "metadata": {},
     "output_type": "execute_result"
    }
   ],
   "source": [
    "# reading from the saved file:\n",
    "fd_model = joblib.load(\"joblib_local_outlier_factor_fd.pkl\")\n",
    "fd_model"
   ]
  },
  {
   "cell_type": "code",
   "execution_count": 70,
   "metadata": {},
   "outputs": [
    {
     "data": {
      "text/plain": [
       "array([0, 0, 0, 0, 0, 0, 0, 0, 0, 0, 0, 0, 0, 0, 0, 0, 0, 0, 0, 0, 0, 0,\n",
       "       0, 0, 0, 0, 0, 0, 0, 0, 1, 0, 0, 0, 0, 0, 0, 0, 0, 0, 0, 0, 0, 0,\n",
       "       0, 0, 0, 0, 0, 0])"
      ]
     },
     "execution_count": 70,
     "metadata": {},
     "output_type": "execute_result"
    }
   ],
   "source": [
    "# anomalies are represented with -1, so we represent them using 1:\n",
    "result = lof_model.predict(x_val[-50:])\n",
    "result = np.where(result==-1, 1, 0)\n",
    "result"
   ]
  },
  {
   "cell_type": "markdown",
   "metadata": {},
   "source": []
  },
  {
   "cell_type": "code",
   "execution_count": 50,
   "metadata": {},
   "outputs": [
    {
     "data": {
      "text/plain": [
       "Index(['step', 'newbalanceOrig', 'oldbalanceDest', 'newbalanceDest',\n",
       "       'oldbalanceOrig', 'diff_orig', 'diff_orig_dest', 'type_PAYMENT',\n",
       "       'type_TRANSFER', 'type_CASH_OUT', 'type_DEBIT', 'type_CASH_IN'],\n",
       "      dtype='object')"
      ]
     },
     "execution_count": 50,
     "metadata": {},
     "output_type": "execute_result"
    }
   ],
   "source": [
    "x_train.columns"
   ]
  },
  {
   "cell_type": "code",
   "execution_count": 72,
   "metadata": {},
   "outputs": [
    {
     "data": {
      "text/plain": [
       "0         0\n",
       "1         0\n",
       "2         0\n",
       "3         0\n",
       "4         0\n",
       "         ..\n",
       "101608    0\n",
       "101609    0\n",
       "101610    1\n",
       "101611    0\n",
       "101612    0\n",
       "Name: diff_orig_dest, Length: 101613, dtype: int32"
      ]
     },
     "execution_count": 72,
     "metadata": {},
     "output_type": "execute_result"
    }
   ],
   "source": [
    "orig_data_copy[\"diff_orig_dest\"]"
   ]
  },
  {
   "cell_type": "code",
   "execution_count": 52,
   "metadata": {
    "scrolled": true
   },
   "outputs": [
    {
     "data": {
      "text/plain": [
       "12"
      ]
     },
     "execution_count": 52,
     "metadata": {},
     "output_type": "execute_result"
    }
   ],
   "source": [
    "len(['step', 'newbalanceOrig', 'oldbalanceDest', 'newbalanceDest',\n",
    "       'oldbalanceOrig', 'diff_orig', 'diff_orig_dest', 'type_PAYMENT',\n",
    "       'type_TRANSFER', 'type_CASH_OUT', 'type_DEBIT', 'type_CASH_IN'])"
   ]
  },
  {
   "cell_type": "code",
   "execution_count": 53,
   "metadata": {},
   "outputs": [],
   "source": [
    "num_feats = ['step', 'newbalanceOrig', 'oldbalanceDest', 'newbalanceDest', 'oldbalanceOrig', 'diff_orig']\n",
    "cat_feats = ['diff_orig_dest', 'type_PAYMENT', 'type_TRANSFER', 'type_CASH_OUT', 'type_DEBIT', 'type_CASH_IN']"
   ]
  },
  {
   "cell_type": "code",
   "execution_count": 58,
   "metadata": {},
   "outputs": [],
   "source": [
    "import numpy as np\n",
    "import joblib\n",
    "import pandas as pd\n",
    "\n",
    "class DetectFraudulentTransaction:\n",
    "\n",
    "    # engineering new features based upon the data entered by the Bank Manager:\n",
    "    def engineer_new_feats(self, data):\n",
    "        # engineering features in realtime:\n",
    "        data[\"diff_orig\"] = data[\"newbalanceOrig\"] - data[\"oldbalanceOrig\"]\n",
    "        data[\"diff_dest\"] = data[\"newbalanceDest\"] - data[\"oldbalanceDest\"]\n",
    "        \n",
    "        if (data[\"diff_orig\"]==data[\"diff_dest\"]):\n",
    "            data[\"diff_orig_dest\"] = 1.0\n",
    "        else:\n",
    "            data[\"diff_orig_dest\"] = 0.0\n",
    "            \n",
    "        return data\n",
    "\n",
    "    # we also need to preprocess the data based upon Min-Max Scaling so that all the features \n",
    "    # have same scale:\n",
    "    def scaling_num_data(self, data, imp_num_feats):\n",
    "        min_val_feats = [1.0, 0.0, 0.0, 0.0, 0.0, -10000000.00]\n",
    "        range_feats = [9.0, 38946233.02, 34008736.98, 38946233.02, 38939424.03, 11289407.91]\n",
    "        for idx in range(len(imp_num_feats)):\n",
    "            data[imp_num_feats[idx]] = (data[imp_num_feats[idx]] - min_val_feats[idx])/range_feats[idx]\n",
    "        return data\n",
    "\n",
    "\n",
    "    # preprocessing Categorical Features:\n",
    "    def encoding_cat_feats(self, data, imp_cat_feats):\n",
    "        feats_updated = []\n",
    "\n",
    "        # assigning values for purchase related categorical feats:\n",
    "        if (data['type'] == 'PAYMENT'):\n",
    "            data['type_PAYMENT'] = 1\n",
    "            feats_updated.append('type_PAYMENT')\n",
    "            \n",
    "        elif (data['type'] == 'TRANSFER'):\n",
    "            data['type_TRANSFER'] = 1\n",
    "            feats_updated.append('type_TRANSFER')\n",
    "            \n",
    "        elif (data['type'] == 'CASH_OUT'):\n",
    "            data['type_CASH_OUT'] = 1\n",
    "            feats_updated.append('type_CASH_OUT')\n",
    "            \n",
    "        elif (data['type'] == 'DEBIT'):\n",
    "            data['type_DEBIT'] = 1\n",
    "            feats_updated.append('type_DEBIT')\n",
    "            \n",
    "        elif (data['type'] == 'CASH_IN'):\n",
    "            data['type_CASH_IN'] = 1\n",
    "            feats_updated.append('type_CASH_IN')\n",
    "            \n",
    "        else:\n",
    "            pass\n",
    "        \n",
    "        # non-updated feats:\n",
    "        non_updated_feats = list(set(imp_cat_feats).symmetric_difference(set(feats_updated)))\n",
    "        \n",
    "        # assigning the non-updated feats to 0:\n",
    "        for feat in non_updated_feats:\n",
    "            data[feat] = 0.0\n",
    "            \n",
    "        return data\n",
    "\n",
    "    # bringing data to the format as we need to pass it through the trained model:\n",
    "    def final_data_to_pass(self, data):\n",
    "        final_data_pass = np.array([data['step'],\n",
    "                                data['newbalanceOrig'],\n",
    "                                data['oldbalanceDest'],\n",
    "                                data['newbalanceDest'],\n",
    "                                data['oldbalanceOrig'],\n",
    "                                data['diff_orig'],\n",
    "                                data['diff_orig_dest'],\n",
    "                                data['type_PAYMENT'],\n",
    "                                data['type_TRANSFER'],\n",
    "                                data['type_CASH_OUT'],\n",
    "                                data['type_DEBIT'],\n",
    "                                data['type_CASH_IN']]).reshape(1, 12)\n",
    "        return final_data_pass\n",
    "\n",
    "    # preprocessing data in one go:\n",
    "    def preprocess_at_one_go(self, data, imp_cat_feats, imp_num_feats):\n",
    "        new_data = self.engineer_new_feats(data)\n",
    "        num_scaled_data = self.scaling_num_data(new_data, imp_num_feats)\n",
    "        cat_scaled_data = self.encoding_cat_feats(num_scaled_data, imp_cat_feats)\n",
    "        final_data = self.final_data_to_pass(cat_scaled_data)\n",
    "        final_dataframe = pd.DataFrame(final_data, columns= ['step', 'newbalanceOrig', 'oldbalanceDest', 'newbalanceDest','oldbalanceOrig', 'diff_orig', 'diff_orig_dest', 'type_PAYMENT','type_TRANSFER', 'type_CASH_OUT', 'type_DEBIT', 'type_CASH_IN'])\n",
    "        # print(final_data)\n",
    "        print(final_dataframe)\n",
    "        return final_dataframe\n",
    "\n",
    "    # loading model:\n",
    "    def load_model(self):\n",
    "        fd_model = joblib.load(\"joblib_local_outlier_factor_fd.pkl\") \n",
    "        return fd_model\n",
    "\n",
    "    # encoding final result:\n",
    "    def encoding_result(self, result):\n",
    "        final_result = ''\n",
    "        if (result['predicted_class'] == -1):\n",
    "            final_result =  'Fraudulent Transaction'\n",
    "        else:\n",
    "            final_result =  'Normal Transaction'\n",
    "        return final_result\n",
    "\n",
    "    # making final predictions using the Voting Classifier:\n",
    "    def make_predictions(self, data_to_predict, imp_cat_feats, imp_num_feats):\n",
    "        preprocessed_data = self.preprocess_at_one_go(data_to_predict, imp_cat_feats, imp_num_feats)\n",
    "        model = self.load_model()\n",
    "        pred_class = model.predict(preprocessed_data)[0]\n",
    "        result = {'predicted_class' : pred_class}\n",
    "        final_result = self.encoding_result(result)\n",
    "        return final_result"
   ]
  },
  {
   "cell_type": "code",
   "execution_count": 59,
   "metadata": {},
   "outputs": [
    {
     "name": "stdout",
     "output_type": "stream",
     "text": [
      "       step  newbalanceOrig  oldbalanceDest  newbalanceDest  oldbalanceOrig  \\\n",
      "0  0.222222        0.054467        0.065666        0.088817        0.599247   \n",
      "\n",
      "   diff_orig  diff_orig_dest  type_PAYMENT  type_TRANSFER  type_CASH_OUT  \\\n",
      "0  -0.993237             0.0           0.0            1.0            0.0   \n",
      "\n",
      "   type_DEBIT  type_CASH_IN  \n",
      "0         0.0           0.0  \n",
      "Final Result-->  Fraudulent Transaction\n",
      "\n"
     ]
    }
   ],
   "source": [
    "# testing the above deployement code:\n",
    "\n",
    "# dummy data on which prediction needs to be done:\n",
    "# dummy data on which we are testing:\n",
    "test_data = {\"step\": 3.0,\n",
    "            \"newbalanceOrig\": 2121278.2,\n",
    "            \"oldbalanceDest\": 2233232.2,\n",
    "            \"newbalanceDest\": 3459090.2,\n",
    "            \"oldbalanceOrig\": 23334334.98,\n",
    "            \"type\": \"TRANSFER\"}\n",
    "\n",
    "# # # Range of Numerical Feats on which model is trained: \n",
    "# # # Range of step --> 1 to 10\n",
    "# # # Range of newbalanceOrig --> 0.0 to 38946233.02\n",
    "# # # Range of oldbalanceDest --> 0 to 34008736.98\n",
    "# # # Range of newbalanceDest --> 0 to 38946233.02\n",
    "# # # Range of oldbalanceOrig --> 0 to 38939424.03\n",
    "\n",
    "\n",
    "# # declaring imp_num_feats list:\n",
    "imp_num_feats = ['step', 'newbalanceOrig', 'oldbalanceDest', 'newbalanceDest', 'oldbalanceOrig', 'diff_orig']\n",
    "imp_cat_feats = ['diff_orig_dest', 'type_PAYMENT', 'type_TRANSFER', 'type_CASH_OUT', 'type_DEBIT', 'type_CASH_IN']\n",
    "\n",
    "# creating the instance of LoanRepayemntProcessing:\n",
    "det_fraud_transaction = DetectFraudulentTransaction()\n",
    "final_result = det_fraud_transaction.make_predictions(data_to_predict=test_data, imp_cat_feats=imp_cat_feats, imp_num_feats=imp_num_feats)\n",
    "print(\"Final Result--> \", final_result, end=\"\\n\\n\")"
   ]
  },
  {
   "cell_type": "code",
   "execution_count": 57,
   "metadata": {
    "scrolled": true
   },
   "outputs": [
    {
     "data": {
      "text/plain": [
       "Index(['step', 'newbalanceOrig', 'oldbalanceDest', 'newbalanceDest',\n",
       "       'oldbalanceOrig', 'diff_orig', 'diff_orig_dest', 'type_PAYMENT',\n",
       "       'type_TRANSFER', 'type_CASH_OUT', 'type_DEBIT', 'type_CASH_IN'],\n",
       "      dtype='object')"
      ]
     },
     "execution_count": 57,
     "metadata": {},
     "output_type": "execute_result"
    }
   ],
   "source": [
    "x_train.columns"
   ]
  },
  {
   "cell_type": "code",
   "execution_count": null,
   "metadata": {},
   "outputs": [],
   "source": [
    "# for backup:\n",
    "# engineering features in realtime:\n",
    "        data[\"diff_orig\"] = data[\"newbalanceOrig\"] - data[\"oldbalanceOrig\"]\n",
    "        data[\"diff_dest\"] = data[\"newbalanceDest\"] - data[\"oldbalanceDest\"]\n",
    "        data[\"diff_orig_dest\"] = np.where(data[\"diff_orig\"]==data[\"diff_dest\"], 1, 0)\n",
    "        return data\n",
    "\n",
    "\n",
    "min_val_feats = [1.0, 0.0, 0.0, 0.0, 0.0, -10000000.00]\n",
    "range_feats = [9.0, 38946233.02, 34008736.98, 38946233.02, 38939424.03, 11289407.91]\n",
    "\n",
    "\n",
    "if (data['type'] == 'PAYMENT'):\n",
    "            data['type_PAYMENT'] = 1\n",
    "            feats_updated.append('type_PAYMENT')\n",
    "            \n",
    "        elif (data['type'] == 'TRANSFER'):\n",
    "            data['type_TRANSFER'] = 1\n",
    "            feats_updated.append('type_TRANSFER')\n",
    "            \n",
    "        elif (data['type'] == 'CASH_OUT'):\n",
    "            data['type_CASH_OUT'] = 1\n",
    "            feats_updated.append('type_CASH_OUT')\n",
    "            \n",
    "        elif (data['type'] == 'DEBIT'):\n",
    "            data['type_DEBIT'] = 1\n",
    "            feats_updated.append('type_DEBIT')\n",
    "            \n",
    "        elif (data['type'] == 'CASH_IN'):\n",
    "            data['type_CASH_IN'] = 1\n",
    "            feats_updated.append('type_CASH_IN')\n",
    "            \n",
    "            \n",
    "            \n",
    "final_data_pass = np.array([data['step'],\n",
    "                                data['newbalanceOrig'],\n",
    "                                data['oldbalanceDest'],\n",
    "                                data['newbalanceDest'],\n",
    "                                data['oldbalanceOrig'],\n",
    "                                data['diff_orig'],\n",
    "                                data['diff_orig_dest'],\n",
    "                                data['type_PAYMENT'],\n",
    "                                data['type_TRANSFER'],\n",
    "                                data['type_CASH_OUT'],\n",
    "                                data['type_DEBIT'],\n",
    "                                data['type_CASH_IN']])"
   ]
  },
  {
   "cell_type": "code",
   "execution_count": 67,
   "metadata": {},
   "outputs": [
    {
     "data": {
      "text/html": [
       "<div>\n",
       "<style scoped>\n",
       "    .dataframe tbody tr th:only-of-type {\n",
       "        vertical-align: middle;\n",
       "    }\n",
       "\n",
       "    .dataframe tbody tr th {\n",
       "        vertical-align: top;\n",
       "    }\n",
       "\n",
       "    .dataframe thead th {\n",
       "        text-align: right;\n",
       "    }\n",
       "</style>\n",
       "<table border=\"1\" class=\"dataframe\">\n",
       "  <thead>\n",
       "    <tr style=\"text-align: right;\">\n",
       "      <th></th>\n",
       "      <th>step</th>\n",
       "      <th>newbalanceOrig</th>\n",
       "      <th>oldbalanceDest</th>\n",
       "      <th>newbalanceDest</th>\n",
       "      <th>oldbalanceOrig</th>\n",
       "      <th>diff_orig</th>\n",
       "      <th>diff_orig_dest</th>\n",
       "      <th>type_PAYMENT</th>\n",
       "      <th>type_TRANSFER</th>\n",
       "      <th>type_CASH_OUT</th>\n",
       "      <th>type_DEBIT</th>\n",
       "      <th>type_CASH_IN</th>\n",
       "    </tr>\n",
       "  </thead>\n",
       "  <tbody>\n",
       "    <tr>\n",
       "      <th>45162</th>\n",
       "      <td>0.888889</td>\n",
       "      <td>0.0</td>\n",
       "      <td>0.0</td>\n",
       "      <td>0.009542</td>\n",
       "      <td>0.008826</td>\n",
       "      <td>0.855343</td>\n",
       "      <td>0</td>\n",
       "      <td>0</td>\n",
       "      <td>0</td>\n",
       "      <td>1</td>\n",
       "      <td>0</td>\n",
       "      <td>0</td>\n",
       "    </tr>\n",
       "    <tr>\n",
       "      <th>22751</th>\n",
       "      <td>0.777778</td>\n",
       "      <td>0.0</td>\n",
       "      <td>0.0</td>\n",
       "      <td>0.000000</td>\n",
       "      <td>0.000000</td>\n",
       "      <td>0.885786</td>\n",
       "      <td>1</td>\n",
       "      <td>1</td>\n",
       "      <td>0</td>\n",
       "      <td>0</td>\n",
       "      <td>0</td>\n",
       "      <td>0</td>\n",
       "    </tr>\n",
       "  </tbody>\n",
       "</table>\n",
       "</div>"
      ],
      "text/plain": [
       "           step  newbalanceOrig  oldbalanceDest  newbalanceDest  \\\n",
       "45162  0.888889             0.0             0.0        0.009542   \n",
       "22751  0.777778             0.0             0.0        0.000000   \n",
       "\n",
       "       oldbalanceOrig  diff_orig  diff_orig_dest  type_PAYMENT  type_TRANSFER  \\\n",
       "45162        0.008826   0.855343               0             0              0   \n",
       "22751        0.000000   0.885786               1             1              0   \n",
       "\n",
       "       type_CASH_OUT  type_DEBIT  type_CASH_IN  \n",
       "45162              1           0             0  \n",
       "22751              0           0             0  "
      ]
     },
     "execution_count": 67,
     "metadata": {},
     "output_type": "execute_result"
    }
   ],
   "source": [
    "x_train.iloc[:2, :]"
   ]
  },
  {
   "cell_type": "code",
   "execution_count": null,
   "metadata": {},
   "outputs": [],
   "source": []
  },
  {
   "cell_type": "code",
   "execution_count": null,
   "metadata": {},
   "outputs": [],
   "source": []
  },
  {
   "cell_type": "code",
   "execution_count": null,
   "metadata": {},
   "outputs": [],
   "source": []
  },
  {
   "cell_type": "markdown",
   "metadata": {},
   "source": [
    "<h3>Observations</h3>\n",
    "<p>Observations are as follows:\n",
    "    <ol>\n",
    "        <li></li>\n",
    "        <li></li>\n",
    "        <li></li>\n",
    "        <li></li>\n",
    "        <li></li>\n",
    "        <li></li>\n",
    "        <li></li>\n",
    "        <li></li>\n",
    "        <li></li>\n",
    "        </ol>\n",
    "</p>"
   ]
  },
  {
   "cell_type": "code",
   "execution_count": null,
   "metadata": {},
   "outputs": [],
   "source": []
  }
 ],
 "metadata": {
  "kernelspec": {
   "display_name": "Python 3",
   "language": "python",
   "name": "python3"
  },
  "language_info": {
   "codemirror_mode": {
    "name": "ipython",
    "version": 3
   },
   "file_extension": ".py",
   "mimetype": "text/x-python",
   "name": "python",
   "nbconvert_exporter": "python",
   "pygments_lexer": "ipython3",
   "version": "3.7.7"
  }
 },
 "nbformat": 4,
 "nbformat_minor": 4
}
